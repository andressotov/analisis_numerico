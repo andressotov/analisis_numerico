{
 "cells": [
  {
   "cell_type": "markdown",
   "id": "c524e205",
   "metadata": {},
   "source": [
    "# <center>Derivación Numérica</center> #"
   ]
  },
  {
   "cell_type": "markdown",
   "id": "79710577",
   "metadata": {},
   "source": [
    "En los primeros cursos de cálculo aprendemos a derivar prácticamente cualquier función escrita utilizando las reglas de la suma, el producto, el cociente, la regla de la cadena y la regla de la derivada de la función inversa. Sin embargo, hay situaciones en las que este procedimiento no se puede aplicar como por ejemplo:\n",
    "\n",
    "* La función a derivar tiene una fórmula muy complicada y solo queremos obtener la derivada en un punto y no una fórmula general.\n",
    "\n",
    "* No disponemos de expresión matemática de la función a derivar, si no que solo tenemos puntos de la misma.\n",
    "\n",
    "La derivación y la integración son dos conceptos del cálculo infinitesimal que se definen por un proceso de paso al límite. Como este proceso no se puede reproducir en un ordenador, debemos desarrollar técnicas que nos permitan aproximarlo.\n"
   ]
  },
  {
   "cell_type": "markdown",
   "id": "166ca317",
   "metadata": {},
   "source": [
    "La mayoría de estas técnicas se basan en la siguiente propiedad:\n",
    "\n",
    "> Sea $L(f)$ un funcional lineal (que aplica a cada función un número real), tal como la derivada en un punto $a, L(f) = f^´(a)$. Si aproximamos $f$ por otra función $p$ más fácil de calcular, entonces se tiene que:\n",
    "    \n",
    "$$ L(f) = L(p) + L(e) ,$$"
   ]
  },
  {
   "cell_type": "markdown",
   "id": "15ed6f8a",
   "metadata": {},
   "source": [
    "donde $e$ es el error que se comete al aproximar $f$ por $p$, $e(x) = f(x) − p(x)$. Para el caso de la derivación se tiene que: $f^´(a) = p^´(a) + e^´(a)$."
   ]
  },
  {
   "cell_type": "markdown",
   "id": "abb524cd",
   "metadata": {},
   "source": [
    "De acuerdo con lo anterior, podemos aproximar $f$ por un polinomio $p_n$ de grado $n$ en $n + 1$ puntos previamente seleccionados, utilizando la expresión del polinomio de Lagrange, \n",
    "\n",
    "$$p_n(x) = \\sum_{i=0}^n f(x_i)\\mathcal{L}_i(x) $$\n",
    "\n",
    "para obtener el valor aproximado de $L(f)$:"
   ]
  },
  {
   "cell_type": "markdown",
   "id": "9362a992",
   "metadata": {},
   "source": [
    "$$ L(f) \\approx \\mathcal{L}(f) = L(p_n) = \\sum_{i=0}^n f(x_i) L(\\mathcal{L}_i(x)) = \\sum_{i=0}^n A_i f(x_i)$$\n",
    "\n",
    "La expresión obtenida es muy sencilla y solo requiere calcular los\n",
    "coeficientes $A_i = L(\\mathcal{L}_i(x))$ utilizando los polinomios de Lagrange.\n",
    "\n",
    "En la práctica no se utilizan los polinomios de Lagrange para calcular los coeficientes $A_i$, sino que se utiliza la forma de Newton, u otros métodos como desarrollos de Taylor."
   ]
  },
  {
   "cell_type": "markdown",
   "id": "c14e5bca",
   "metadata": {},
   "source": [
    "### <center>Formulación mediante diferencias finitas</center> ###"
   ]
  },
  {
   "cell_type": "markdown",
   "id": "e3afc399",
   "metadata": {},
   "source": [
    "Teniendo en cuenta que la derivada de una función se define como:\n",
    "\n",
    "$${\\displaystyle f^{\\prime }(x)=\\lim _{h\\to 0}{\\frac {f(x+h)-f(x)}{h}}}$$"
   ]
  },
  {
   "cell_type": "markdown",
   "id": "cfb4bea0",
   "metadata": {},
   "source": [
    "El método más simple para aproximar la derivada de una función en un punto es mediante diferencias finitas.\n",
    "\n",
    "Una estimación sencilla basada en dos puntos consiste en calcular la pendiente de la secante que pasa a través de los puntos $(x, f(x))$ y $(x + h, f(x + h))$. Eligiendo un valor pequeño para $h, h > 0$, este representa un pequeño cambio en $x$. La pendiente de esta recta es:\n",
    "\n",
    "$$ {\\displaystyle f^{\\prime }(x)\\approx {\\frac {f(x+h)-f(x)}{h}}.}$$\n",
    "\n",
    "Esta expresión se conoce como el cociente de diferencias de Newton y como diferencia dividida de primer orden. También se conoce como diferencias hacia adelante."
   ]
  },
  {
   "cell_type": "markdown",
   "id": "994c9dd3",
   "metadata": {},
   "source": [
    "De forma equivalente, se puede plantear la expresión siguiente:\n",
    "\n",
    "$$ {\\displaystyle f^{\\prime }(x)\\approx {\\frac {f(x)-f(x-h)}{h}}}$$\n",
    "\n",
    "la cual se denomina diferencias hacia atrás."
   ]
  },
  {
   "cell_type": "markdown",
   "id": "eb526682",
   "metadata": {},
   "source": [
    "La pendiente de la recta secante difiere de la pendiente de la recta tangente en un valor proporcional a $h$. A medida que $h$ se acerca a cero, la pendiente de la secante se acerca a la pendiente de la tangente. Por lo tanto, la verdadera derivada de $f$ en $x$ es el límite del valor del cociente de diferencias de Newton a medida que las secantes se acercan cada vez más a la tangente."
   ]
  },
  {
   "cell_type": "markdown",
   "id": "8b45a3a5",
   "metadata": {},
   "source": [
    "Otra fórmula de dos puntos es calcular la pendiente de una línea secante cercana a través de los puntos $(x - h, f(x - h))$ y $(x + h, f(x + h))$. La pendiente de esta recta es:\n",
    "\n",
    "$$ {\\displaystyle {\\frac {f(x+h)-f(x-h)}{2h}}.}$$\n",
    "\n",
    "Esta fórmula se conoce como el cociente de diferencias centrales o simétricas. \n",
    "\n",
    "En este caso, los errores de primer orden se anulan, por lo que la diferencia de la pendiente de esta secante con respecto a la tangente es proporcional a $h^{2}$. Por lo tanto, para valores pequeños de $h$, esta es una aproximación más precisa a la línea tangente que las estimaciones previas. Observe que, aunque la pendiente se calcula en $x$, el valor de la función en $x$ no se utiliza."
   ]
  },
  {
   "cell_type": "markdown",
   "id": "cc5a6479",
   "metadata": {},
   "source": [
    "El error de la estimación viene dado por \n",
    "\n",
    "$${\\displaystyle R={\\frac {-f^{(3)}(c)}{6}}h^{2}},$$\n",
    "\n",
    "donde $c$ es un punto entre $x-h$ y $x+h$. Dicho error no incluye el error por redondeo debido a la precision limitada de los ordenadores. \n",
    "\n",
    "El método de diferencias centrales se emplea por muchos de las calculadoras modernas para aproximar la derivada en un punto. "
   ]
  },
  {
   "cell_type": "markdown",
   "id": "fb31c9c4",
   "metadata": {},
   "source": [
    "### <center>Derivadas de Orden Superior</center> ###\n",
    "\n",
    "De forma análoga se pueden obtener expresiones para derivadas de orden superior, aunque se requiere que $n$ sea igual o superior al grado de la\n",
    "derivada. Por ejemplo, para la derivada segunda, con una fórmula de tres puntos centrada ($x0 = a − h, x1 = a, x2 = a + h$) se tiene:\n",
    "\n",
    "$$ f^{´´}(x) \\approx p^{´´}_2(x) = \\frac{f(x-h) -2f(x) +f(x+h)}{h^2}$$\n",
    "\n",
    "\n",
    "con error $e^{´´}_2(x) = − \\frac{1}{12}h^2f^{(4)}(\\xi)$."
   ]
  },
  {
   "cell_type": "markdown",
   "id": "55a3a395",
   "metadata": {},
   "source": [
    "Utilizando el cociente de diferencias de Newton se puede demostrar para $n>0$:\n",
    "\n",
    "$$ {\\displaystyle f^{(n)}(x)=\\lim _{h\\to 0}{\\frac {1}{h^{n}}}\\sum _{k=0}^{n}(-1)^{k+n}{\\binom {n}{k}}f(x+kh)}$$"
   ]
  },
  {
   "cell_type": "markdown",
   "id": "1f63885a",
   "metadata": {},
   "source": [
    "### <center>Bibliografía</center> ###\n",
    "\n",
    "* [Derivación numérica](https://es.wikipedia.org/wiki/Derivaci%C3%B3n_num%C3%A9rica)\n",
    "\n",
    "* [Numerical differentiation](https://en.wikipedia.org/wiki/Numerical_differentiation)\n",
    "\n",
    "* [Derivacion e Integracion Numericas](https://www.um.es/documents/4874468/11148435/derivacion-integracion.pdf/3f8d7392-88a8-4df9-9478-2a04c06caa49)\n",
    "\n",
    "* [Derivación e Iintegración Numérica Aproximada de Funciones](https://ocw.unican.es/pluginfile.php/1789/course/section/1349/Capitulo3.pdf)\n"
   ]
  }
 ],
 "metadata": {
  "kernelspec": {
   "display_name": "Python 3 (ipykernel)",
   "language": "python",
   "name": "python3"
  },
  "language_info": {
   "codemirror_mode": {
    "name": "ipython",
    "version": 3
   },
   "file_extension": ".py",
   "mimetype": "text/x-python",
   "name": "python",
   "nbconvert_exporter": "python",
   "pygments_lexer": "ipython3",
   "version": "3.10.11"
  }
 },
 "nbformat": 4,
 "nbformat_minor": 5
}
