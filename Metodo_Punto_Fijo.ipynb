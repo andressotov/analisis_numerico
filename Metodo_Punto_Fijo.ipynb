{
 "cells": [
  {
   "cell_type": "markdown",
   "id": "398dac29",
   "metadata": {},
   "source": [
    "<center> <h1>Método de Punto Fijo</h1> </center>"
   ]
  },
  {
   "cell_type": "markdown",
   "id": "1d73fc30",
   "metadata": {},
   "source": [
    "En análisis numérico, el método de punto fijo es un método que basado en el concepto de punto fijo, permite obtener una sucesión aplicando la fórmula siguiente:\n",
    "\n",
    "$${\\displaystyle x_{n+1}=f(x_{n}),\\,n=0,1,2,\\dots }$$\n",
    "\n",
    "donde $f$ es una función definida en los números reales con valores reales y $x_{0}$ es un punto en el dominio de $f$.  \n",
    "\n",
    "En matemáticas, un punto fijo de una función es un elemento que la función asigna a sí mismo $f(x)=x$. Por ejemplo, si $f$ es una función definida en los números reales como $f(x)=x^{2}-3x+4$, entonces $2$ es un punto fijo de $f$, porque $f(2) = 2$."
   ]
  },
  {
   "cell_type": "markdown",
   "id": "d4e4aa20",
   "metadata": {},
   "source": [
    "No todas las funciones tienen puntos fijos: por ejemplo, $f(x) = x + 1$, no tiene puntos fijos, ya que $x$ nunca es igual a $x + 1$ para ningún número real. \n",
    "\n",
    "En términos gráficos, un punto fijo $x$ significa que el punto $(x, f(x))$ forma parte de la recta $y = x$. Dicho en otras palabras, la gráfica de $f$ tiene un punto en común con dicha recta."
   ]
  },
  {
   "cell_type": "markdown",
   "id": "39f46f2c",
   "metadata": {},
   "source": [
    "La sucesión de punto fijo $x_{0},x_{1},x_{2} \\dots$ se espera que converja a un punto $x_{fix}$. Si $f$ es continua, entonces se puede probar que el punto $x_{fix}$ obtenido es un punto fijo de $f$, es decir, $f(x_{fix})=x_{fix}$.\n",
    "Más generalmente, la función $f$ se puede definir en cualquier espacio métrico con valores en ese mismo espacio."
   ]
  },
  {
   "cell_type": "code",
   "execution_count": null,
   "id": "720be455",
   "metadata": {},
   "outputs": [],
   "source": []
  }
 ],
 "metadata": {
  "kernelspec": {
   "display_name": "Python 3 (ipykernel)",
   "language": "python",
   "name": "python3"
  },
  "language_info": {
   "codemirror_mode": {
    "name": "ipython",
    "version": 3
   },
   "file_extension": ".py",
   "mimetype": "text/x-python",
   "name": "python",
   "nbconvert_exporter": "python",
   "pygments_lexer": "ipython3",
   "version": "3.10.8"
  }
 },
 "nbformat": 4,
 "nbformat_minor": 5
}
