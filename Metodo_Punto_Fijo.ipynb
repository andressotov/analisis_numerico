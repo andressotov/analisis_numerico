{
 "cells": [
  {
   "cell_type": "markdown",
   "id": "398dac29",
   "metadata": {},
   "source": [
    "<center> <h1>Método de Punto Fijo</h1> </center>"
   ]
  },
  {
   "cell_type": "markdown",
   "id": "b0905ae5",
   "metadata": {},
   "source": [
    "Al igual que otros métodos numéricos para encontrar las raíces de una ecuación, el método de punto fijo es un método iterativo: parte de una solución inicial, obtenida de alguna manera, y mediante una sucesión de valores calculados de forma recurrente, los cuales, con suerte, convergen hacia la raíz. "
   ]
  },
  {
   "cell_type": "markdown",
   "id": "1d73fc30",
   "metadata": {},
   "source": [
    "En análisis numérico, el método de punto fijo es un método que basado en el concepto de punto fijo, permite obtener una sucesión aplicando la fórmula siguiente:\n",
    "\n",
    "$${\\displaystyle x_{n+1}=f(x_{n}),\\,n=0,1,2,\\dots }$$\n",
    "\n",
    "donde $f$ es una función definida en los números reales con valores reales y $x_{0}$ es un punto en el dominio de $f$.  \n",
    "\n",
    "Específicamente, en matemáticas, un punto fijo de una función es un valor que la función asocia a sí mismo. Formalmente, $c$ es un punto fijo de una función $f$ si $c$ pertenece tanto al dominio como al codominio de $f$, y $f(c) = c$. Un punto fijo, también conocido como punto invariante, es un valor que no cambia bajo una transformación dada.\n"
   ]
  },
  {
   "cell_type": "markdown",
   "id": "0e04dcb4",
   "metadata": {},
   "source": [
    "Por ejemplo, si $f$ es una función definida en los números reales como $f(x)=x^{2}-3x+4$, entonces $2$ es un punto fijo de $f$, porque $f(2) = 2$."
   ]
  },
  {
   "cell_type": "markdown",
   "id": "d4e4aa20",
   "metadata": {},
   "source": [
    "No todas las funciones tienen puntos fijos: por ejemplo, $f(x) = x + 1$, no tiene puntos fijos, ya que $x$ nunca es igual a $x + 1$ para ningún número real. \n",
    "\n",
    "Para aplicar el método de punto fijo a una función $f(x)$, podemos definir una nueva función $g(x)$ tal que $g(x) = x - f(x)$. Si podemos demostrar que $g(x) \\neq 0$ para todo valor de $x$, entonces no podemos utilizar este método. \n",
    "\n",
    "En el ejemplo $f(x) = x + 1$, la función \n",
    "\n",
    "$$g(x) = x - f(x) = x - (x + 1) = 1$$\n",
    "\n",
    "con lo cual sabemos que $g(x) \\neq 0$ para todo valor de $x$ y, por tanto, nunc se cumple que $x = f(x)$ que es la condición de punto fijo."
   ]
  },
  {
   "cell_type": "markdown",
   "id": "1e27ef3a",
   "metadata": {},
   "source": [
    "Si tomamos la función $f(x)=x^{2}-3x+4$, tendríamos que:\n",
    "\n",
    "$$ g(x) = f(x) - x = x^{2}-3x+4 - x = x^{2}-4x+4$$\n",
    "\n",
    "utilizando la ecuación para obtener las raíces de una ecuación de segundo grado\n",
    "\n",
    "$$x = \\frac{-b \\pm \\sqrt {b^2-4ac}}{2a}$$\n",
    "\n",
    "como \n",
    "\n",
    "$$b^2-4ac = (-4)^2 - (4\\times1\\times4) = 16 - 16 = 0$$\n",
    "\n",
    "\n",
    "\n"
   ]
  },
  {
   "cell_type": "markdown",
   "id": "b37e2484",
   "metadata": {},
   "source": [
    "Luego, si el término subradical se anula, estamos en presencia de una ecuación de segundo grado con raíz multiple \n",
    "\n",
    "$$x = \\frac{-(-4)}{2\\times1} = 2$$\n",
    "\n",
    "que es el punto fijo."
   ]
  },
  {
   "cell_type": "markdown",
   "id": "f65bdeaf",
   "metadata": {},
   "source": [
    "En términos gráficos, un punto fijo $x$ significa que el punto $(x, f(x))$ forma parte de la recta $y = x$. Dicho en otras palabras, la gráfica de $f$ tiene un punto en común con dicha recta."
   ]
  },
  {
   "cell_type": "markdown",
   "id": "c9720d5e",
   "metadata": {},
   "source": [
    "<img src=\"./images/Fixed_point_example.png\">"
   ]
  },
  {
   "cell_type": "markdown",
   "id": "39f46f2c",
   "metadata": {},
   "source": [
    "La sucesión de punto fijo $x_{0},x_{1},x_{2} \\dots$ se espera que converja a un punto $x_{fix}$. Si $f$ es continua, entonces se puede probar que el punto $x_{fix}$ obtenido es un punto fijo de $f$, es decir, $f(x_{fix})=x_{fix}$.\n",
    "Más generalmente, la función $f$ se puede definir en cualquier espacio métrico con valores en ese mismo espacio."
   ]
  },
  {
   "cell_type": "markdown",
   "id": "e9f9288e",
   "metadata": {},
   "source": [
    "**Algoritmo**\n",
    "\n",
    "Dada una ecuación $f(x)$, queremos encontrar un valor $x\\mid f(x) = 0$, i.e., que sea raíz de la función $f$. Entonces, definimos $g(x) = f(x) - x$. Conviene comprobar que $g(x)$ tiene al menos un punto fijo. "
   ]
  },
  {
   "cell_type": "markdown",
   "id": "2367a4be",
   "metadata": {},
   "source": [
    "Aplicando los criterios de convergencia:\n",
    "\n",
    "* C1. El número de iteraciones $n$ no debe sobrepasar el valor $N$.\n",
    "    \n",
    "* C2. la condición $|x_{i+1}-g(x_i)| < \\epsilon $ (donde i es el número de iteración) y $\\epsilon$ representa tolerancia del error al considerar $x_{i+1}$ como punto fijo de $g$."
   ]
  },
  {
   "cell_type": "markdown",
   "id": "1ebacd55",
   "metadata": {},
   "source": [
    "A partir de una suposición inicial $x_0$\n",
    "\n",
    "While not(C1 and C2):\n",
    "\n",
    "&emsp;$x_{i+1}=g(x_i)$\n",
    "        \n",
    "&emsp;$i++$\n",
    "\n"
   ]
  },
  {
   "cell_type": "markdown",
   "id": "401c9f54",
   "metadata": {},
   "source": [
    "Ejemplo: se desea calcular una raíz de $f(x) = 0.5sin(x) − x +1$. Por tanto, $g(x) = 0.5sin(x)+1$"
   ]
  },
  {
   "cell_type": "code",
   "execution_count": 14,
   "id": "90e99895",
   "metadata": {},
   "outputs": [],
   "source": [
    "%matplotlib inline\n",
    "\n",
    "import matplotlib.pyplot as plt\n",
    "import numpy as np\n",
    "import math\n",
    "from math import sin"
   ]
  },
  {
   "cell_type": "code",
   "execution_count": 20,
   "id": "661fb4bc",
   "metadata": {},
   "outputs": [],
   "source": [
    "def g(x):\n",
    "    return 0.5*sin(x)+1\n",
    "\n",
    "def f(x):\n",
    "    return 0.5*sin(x)-x+1"
   ]
  },
  {
   "cell_type": "code",
   "execution_count": 21,
   "id": "2b006b9f",
   "metadata": {},
   "outputs": [
    {
     "data": {
      "image/png": "[encoded data removed]",
      "text/plain": [
       "<Figure size 432x288 with 1 Axes>"
      ]
     },
     "metadata": {
      "needs_background": "light"
     },
     "output_type": "display_data"
    }
   ],
   "source": [
    "x_low = -5\n",
    "x_high = 5\n",
    "\n",
    "def graf0():\n",
    "    x = np.linspace(x_low, x_high, num = 100)\n",
    "    f_x = [f(x[i]) for i in range(len(x))]\n",
    "\n",
    "    plt.plot(x, f_x)\n",
    "    plt.grid()\n",
    "    plt.axvline(x_low, color = 'r')\n",
    "    plt.axvline(x_high, color = 'r')\n",
    "    plt.axhline(color = 'k')\n",
    "    \n",
    "graf0()\n",
    "plt.show()"
   ]
  },
  {
   "cell_type": "code",
   "execution_count": 23,
   "id": "6d287b91",
   "metadata": {},
   "outputs": [
    {
     "name": "stdout",
     "output_type": "stream",
     "text": [
      "g(x0)= 1.0\n",
      "Iteración\tAproximación\tf(x)\n",
      "\t 0 \t 0.0 \t 1.0\n",
      "\t 1 \t 1.0 \t 0.42073549240394825\n",
      "\t 2 \t 1.4207354924039484 \t 0.07364550016037219\n",
      "\t 3 \t 1.4943809925643206 \t 0.004159891834847995\n",
      "\t 4 \t 1.4985408843991685 \t 0.00015447112272926056\n",
      "\t 5 \t 1.4986953555218978 \t 5.569885144218745e-06\n",
      "\t 6 \t 1.498700925407042 \t 2.006153981826131e-07\n",
      "\t 7 \t 1.49870112602244 \t 7.2254506822133635e-09\n",
      "\t 8 \t 1.4987011332478908 \t 2.602347226599022e-10\n"
     ]
    },
    {
     "data": {
      "image/png": "[encoded data removed]",
      "text/plain": [
       "<Figure size 432x288 with 1 Axes>"
      ]
     },
     "metadata": {
      "needs_background": "light"
     },
     "output_type": "display_data"
    }
   ],
   "source": [
    "x0 = 0.0\n",
    "n = 40\n",
    "eps = 0.000000001\n",
    "print('g(x0)=', g(x0))\n",
    "\n",
    "def pto_fijo():\n",
    "    global x0\n",
    "    print('Iteración\\tAproximación\\tf(x)')\n",
    "    for i in range(n):\n",
    "        print('\\t', i, '\\t', x0, '\\t', f(x0))        \n",
    "        x1 = g(x0) \n",
    "        plt.plot(x1, f(x1), 'mo')\n",
    "        if abs(x1-x0)<eps:\n",
    "            return x1\n",
    "        x0 = x1      \n",
    "    return x1\n",
    "\n",
    "graf0()\n",
    "plt.plot(x0, f(x0), 'mo')\n",
    "pto_fijo()\n",
    "plt.show()"
   ]
  },
  {
   "cell_type": "markdown",
   "id": "c4ee837e",
   "metadata": {},
   "source": [
    "¿Y qué pasa si, en lugar de medir la diferencia entre dos puntos sucesivos de la sucesión, medimos qué tan cerca se encuentra $f(x)$ de cero?"
   ]
  },
  {
   "cell_type": "code",
   "execution_count": 24,
   "id": "76fe032a",
   "metadata": {},
   "outputs": [
    {
     "name": "stdout",
     "output_type": "stream",
     "text": [
      "g(x0)= 1.0\n",
      "Iteración\tAproximación\tf(x)\n",
      "\t 0 \t 0.0 \t 1.0\n",
      "\t 1 \t 1.0 \t 0.42073549240394825\n",
      "\t 2 \t 1.4207354924039484 \t 0.07364550016037219\n",
      "\t 3 \t 1.4943809925643206 \t 0.004159891834847995\n",
      "\t 4 \t 1.4985408843991685 \t 0.00015447112272926056\n",
      "\t 5 \t 1.4986953555218978 \t 5.569885144218745e-06\n",
      "\t 6 \t 1.498700925407042 \t 2.006153981826131e-07\n",
      "\t 7 \t 1.49870112602244 \t 7.2254506822133635e-09\n"
     ]
    },
    {
     "data": {
      "image/png": "[encoded data removed]",
      "text/plain": [
       "<Figure size 432x288 with 1 Axes>"
      ]
     },
     "metadata": {
      "needs_background": "light"
     },
     "output_type": "display_data"
    }
   ],
   "source": [
    "x0 = 0.0\n",
    "n = 40\n",
    "eps = 0.000000001\n",
    "print('g(x0)=', g(x0))\n",
    "\n",
    "def pto_fijo():\n",
    "    global x0\n",
    "    print('Iteración\\tAproximación\\tf(x)')\n",
    "    for i in range(n):\n",
    "        print('\\t', i, '\\t', x0, '\\t', f(x0))        \n",
    "        x1 = g(x0) \n",
    "        plt.plot(x1, f(x1), 'mo')\n",
    "        if abs(f(x1))<eps:\n",
    "            return x1\n",
    "        x0 = x1      \n",
    "    return x1\n",
    "\n",
    "graf0()\n",
    "plt.plot(x0, f(x0), 'mo')\n",
    "pto_fijo()\n",
    "plt.show()"
   ]
  },
  {
   "cell_type": "markdown",
   "id": "2a860e63",
   "metadata": {},
   "source": [
    "Como vemos, los reultados son equivalentes, teniendo en cuenta que si \n",
    "\n",
    "$$abs(x1-x0)<eps \\implies abs(g(x0)-x0)<eps \\implies $$\n",
    "\n",
    "$$ abs(f(x0) - x0 -x0)<eps \\implies abs(f(x0))<eps $$\n",
    "\n",
    "ya que $x1 = g(x0) = f(x0) - x0$."
   ]
  },
  {
   "cell_type": "markdown",
   "id": "e012c388",
   "metadata": {},
   "source": [
    "<center> <h3>Bibliografía</h3> </center>\n",
    "\n",
    "* [Fixed-point iteration](https://en.wikipedia.org/wiki/Fixed-point_iteration)\n",
    "\n",
    "* [Chapter 1 Numerical Methods for the Root Finding Problem](https://uomustansiriyah.edu.iq/media/lectures/9/9_2018_12_28!10_26_35_PM.pdf)\n",
    "\n",
    "* [FIXED POINT ITERATION METHOD](https://math.iitm.ac.in/public_html/sryedida/caimna/transcendental/iteration%20methods/fixed-point/iteration.html)\n",
    "\n",
    "* [Fixed point (mathematics)](https://en.wikipedia.org/wiki/Fixed_point_(mathematics))\n",
    "\n",
    "* [Métodos Numéricos](https://www.uv.mx/anmarin/slides/MetNum2.2.pdf)"
   ]
  }
 ],
 "metadata": {
  "kernelspec": {
   "display_name": "Python 3 (ipykernel)",
   "language": "python",
   "name": "python3"
  },
  "language_info": {
   "codemirror_mode": {
    "name": "ipython",
    "version": 3
   },
   "file_extension": ".py",
   "mimetype": "text/x-python",
   "name": "python",
   "nbconvert_exporter": "python",
   "pygments_lexer": "ipython3",
   "version": "3.10.8"
  }
 },
 "nbformat": 4,
 "nbformat_minor": 5
}
