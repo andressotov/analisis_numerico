{
 "cells": [
  {
   "cell_type": "markdown",
   "id": "d2ee9e35",
   "metadata": {},
   "source": [
    "<center> <h1>Método de Bisección</h1> </center>\n",
    "\n",
    "El algoritmo de búsqueda de raíces más sencillo es el método de bisección, el cual aplica el [teorema del valor intermedio (TVI)](https://es.wikipedia.org/wiki/Teorema_del_valor_intermedio). Dicho teorema  establece que toda función continua $f$ en un intervalo cerrado $[a,b]$ toma todos los valores que se hallan entre $f(a)$ y $f(b)$. En caso de que $f(a)$ y $f(b)$ tengan signos opuestos, el valor cero sería un valor intermedio entre $f(a)$ y $f(b)$, por lo que con certeza existe un punto en el intervalo $[a,b]$ donde se anula la función.\n",
    "\n",
    "Sea $f$ una función continua sobre un intervalo $[a, b]$ tal que $f(a).f(b)<0$, o sea que $f(a)$ y $f(b)$ tienen signos opuestos. Sea $c = (a+b)/2$, el punto medio del intervalo. Si $f(c)=0$, entonces $c$ puede tomarse como la solución y el proceso se detiene.\n",
    "\n",
    "Si $f(c) \\neq 0$, entonces se cumple que, dados los sub-intervalos $[a,c]$ y $[c,b]$, la función debe cambiar de signo en alguno de ellos, es decir que $f(a).f(c)<0$ o $f(c).f(b)<0$, por lo que, o bien $f(a), f(c)$ tienen signos opuestos o bien $f(c), f(b)$ tienen signos opuestos. De esta manera, eligiendo el sub-intervalo adecuado, hemos dividido por dos el tamaño del intervalo original. Repitiendo este proceso sucesivamente se va estrechando el intervalo cada vez más, lo que aumenta la precisión de la raíz aproximada. \n",
    "\n",
    "Aunque el método de bisección es robusto, hay otros métodos que, bajo condiciones apropiadas, pueden ganar precisión más rápidamente."
   ]
  },
  {
   "cell_type": "markdown",
   "id": "afe69c23",
   "metadata": {},
   "source": [
    "**Algoritmo**\n",
    "\n",
    "entrada: \n",
    "\n",
    "    función f, \n",
    "    \n",
    "    extremos del intervalo a, b, \n",
    "    \n",
    "    tolerancia TOL, \n",
    "    \n",
    "    número máximo de iteraciones NMAX\n",
    "    \n",
    "condiciones: \n",
    "\n",
    "    a < b, (f(a) < 0 y f(b) > 0) o (f(a) > 0 y f(b) < 0)\n",
    "             \n",
    "salida: \n",
    "\n",
    "    un valor x tal que |f(x)| < TOL\n",
    "\n",
    "N ← 1\n",
    "\n",
    "while N ≤ NMAX do // límite de las iteraciones para evitar bucles infinitos\n",
    "\n",
    "    c ← (a + b)/2 // nuevo punto medio\n",
    "    \n",
    "    if f(c) = 0 or (b – a)/2 < TOL then // solución encontrada\n",
    "    \n",
    "        Output(c)\n",
    "        \n",
    "        Stop\n",
    "        \n",
    "    end if\n",
    "    \n",
    "    N ← N + 1 // incrementar el contador de iteraciones\n",
    "    \n",
    "    if sign(f(c)) = sign(f(a)) then a ← c else b ← c // nuevo intervalo\n",
    "    \n",
    "end while\n",
    "\n",
    "Output(\"Method failed.\") // se excedió el número máximo de iteraciones "
   ]
  },
  {
   "cell_type": "markdown",
   "id": "41a04301",
   "metadata": {},
   "source": [
    "Ejemplo Suponga que se usa el método de bisección para encontrar una raíz del polinomio $f(x)=x^{3}-x-2$. Primero, debemos encontrar dos números a y b tales que la función tenga signos opuestos en dichos puntos, es decir que $f(a).f(b)<0$. Si tomamos $a=1$ y $b=2$ se tiene que:\n",
    "\n",
    "$$f(1)=(1)^{3}-(1)-2=-2$$\n",
    "\n",
    "y \n",
    "\n",
    "$$f(2)=(2)^{3}-(2)-2=+4$$.\n",
    "\n",
    "Como es una función continua, debe existir al menos una raíz en el intervalo $[1, 2]$. A continuación se muestra una tabla con los resultados obtenidos durante 15 iteraciones del método."
   ]
  },
  {
   "cell_type": "markdown",
   "id": "208d8d42",
   "metadata": {},
   "source": [
    "Iteración\t| $a_{n}$ | $b_{n}$ | $c_{n}$ | $f(c_{n})$ \n",
    "--------------|-------|---------|---------|----------\n",
    "1\t| 1\t        | 2\t       | 1.5\t   | −0.125\n",
    "2\t| 1.5\t    |2\t       |1.75\t   |1.6093750\n",
    "3\t|1.5\t    |1.75\t   |1.625\t    |0.6660156\n",
    "4\t|1.5\t    |1.625\t   |1.5625\t    |0.2521973\n",
    "5\t|1.5\t    |1.5625\t   |1.5312500\t|0.0591125\n",
    "6\t|1.5\t    |1.5312500 |1.5156250\t|−0.0340538\n",
    "7\t|1.5156250\t|1.5312500\t|1.5234375\t|0.0122504\n",
    "8\t|1.5156250\t|1.5234375\t|1.5195313\t|−0.0109712\n",
    "9\t|1.5195313\t|1.5234375\t|1.5214844\t|0.0006222\n",
    "10\t|1.5195313\t|1.5214844\t|1.5205078\t|−0.0051789\n",
    "11\t|1.5205078\t|1.5214844\t|1.5209961\t|−0.0022794\n",
    "12\t|1.5209961\t|1.5214844\t|1.5212402\t|−0.0008289\n",
    "13\t|1.5212402\t|1.5214844\t|1.5213623\t|−0.0001034\n",
    "14\t|1.5213623\t|1.5214844\t|1.5214233\t|0.0002594\n",
    "15\t|1.5213623\t|1.5214233\t|1.5213928\t|0.0000780\n",
    "\n",
    "\n",
    "Después de 13 iteraciones, se observa que el método converge a un valor alrededor de 1.5213623, el cual se puede considerar una raíz del polinomio."
   ]
  },
  {
   "cell_type": "code",
   "execution_count": 2,
   "id": "6c97b6c6",
   "metadata": {},
   "outputs": [
    {
     "data": {
      "text/plain": [
       "-0.00010346098427738148"
      ]
     },
     "execution_count": 2,
     "metadata": {},
     "output_type": "execute_result"
    }
   ],
   "source": [
    "x = 1.5213623\n",
    "x**3 - x - 2"
   ]
  },
  {
   "cell_type": "markdown",
   "id": "7cca2217",
   "metadata": {},
   "source": [
    "El número de iteraciones $n$ necesario para alcanzar una tolerancia $\\epsilon$ (es decir, garantizar que el error sea menor que $\\epsilon$) viene dado por \n",
    "\n",
    "$${\\displaystyle n\\leq \\left\\lceil \\log _{2}\\left({\\frac {\\epsilon _{0}}{\\epsilon }}\\right)\\right\\rceil ,}$$\n",
    "\n",
    "donde ${\\displaystyle \\epsilon _{0}=|b-a|}$ y ${\\displaystyle \\epsilon \\leq \\epsilon _{0}.}$"
   ]
  },
  {
   "cell_type": "markdown",
   "id": "dd2ca054",
   "metadata": {},
   "source": [
    "<center> <h3>Bibliografía</h3> </center>\n",
    "\n",
    "* [Método de bisección](https://es.wikipedia.org/wiki/M%C3%A9todo_de_bisecci%C3%B3n)\n",
    "\n",
    "* [Bisection method](https://en.wikipedia.org/wiki/Bisection_method)"
   ]
  },
  {
   "cell_type": "code",
   "execution_count": null,
   "id": "3cf7910b",
   "metadata": {},
   "outputs": [],
   "source": []
  }
 ],
 "metadata": {
  "kernelspec": {
   "display_name": "Python 3 (ipykernel)",
   "language": "python",
   "name": "python3"
  },
  "language_info": {
   "codemirror_mode": {
    "name": "ipython",
    "version": 3
   },
   "file_extension": ".py",
   "mimetype": "text/x-python",
   "name": "python",
   "nbconvert_exporter": "python",
   "pygments_lexer": "ipython3",
   "version": "3.10.8"
  }
 },
 "nbformat": 4,
 "nbformat_minor": 5
}
