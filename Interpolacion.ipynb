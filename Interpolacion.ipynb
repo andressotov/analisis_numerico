{
 "cells": [
  {
   "cell_type": "markdown",
   "id": "2dc7e90b",
   "metadata": {},
   "source": [
    "# <center>Interpolación</center>"
   ]
  },
  {
   "cell_type": "markdown",
   "id": "59d31897",
   "metadata": {},
   "source": [
    "En análisis numérico, la interpolación es un método para estimar (construir, encontrar) nuevos puntos de datos basados en un conjunto de puntos conocidos. A menudo se tiene una cantidad de datos, obtenidos mediante muestreo o experimentación, que representan los valores de una función. A menudo se requiere estimar (i.e., interpolar) el valor de esa función para un punto intermedio de la variable independiente.\n",
    "\n",
    "Un problema relacionado con este es la aproximación de una función complicada por una función simple. Supongamos que se conoce la fórmula de alguna función dada, pero es demasiado complicada para evaluarla de manera eficiente. Se pueden interpolar algunos puntos de la función original para producir una función más simple que aún así se acerque lo suficiente a la original. La ganancia resultante en simplicidad puede compensar la pérdida por error de interpolación y brindar un mejor rendimiento en el proceso de cálculo."
   ]
  },
  {
   "cell_type": "markdown",
   "id": "313718d9",
   "metadata": {},
   "source": [
    "El método de interpolación más simple es utilizar el punto más cercano como sustituto del valor deseado. En problemas simples, es poco probable que se use este método, ya que la interpolación lineal, que veremos a continuación, es casi tan fácil, pero en problemas de interpolación multidimensionales, esta puede ser una opción conveniente por su velocidad y simplicidad.\n",
    "\n",
    "### <center>Interpolación lineal</center>\n",
    "\n",
    "La interpolación lineal es uno de los métodos más simples. Por ejemplo, considere que se conoce el valor de la función $f$ en dos puntos, $f(2) = 0,9093$ y $f(3) = 0,1411$ y queremos saber el valor de la misma en el punto $2.5$\n",
    "\n",
    "En general, la interpolación lineal toma dos puntos de datos, digamos $(x_a,y_a)$ y $(x_b,y_b)$, entonces:\n",
    "\n",
    "$${\\frac {y-y_{a}}{y_{b}-y_{a}}}={\\frac {x-x_{a}}{x_{b}-x_{a}}}$$\n",
    "\n",
    "$$ {\\frac {y-y_{a}}{x-x_{a}}}={\\frac {y_{b}-y_{a}}{x_{b}-x_{a}}}$$\n",
    "\n",
    "y el punto $(x,y)$ de interpolación viene dado por:\n",
    "\n",
    "$$ y=y_{a}+\\left(y_{b}-y_{a}\\right){\\frac {x-x_{a}}{x_{b}-x_{a}}}$$\n"
   ]
  },
  {
   "cell_type": "code",
   "execution_count": 2,
   "id": "03b2bc22",
   "metadata": {},
   "outputs": [
    {
     "data": {
      "text/plain": [
       "0.5252"
      ]
     },
     "execution_count": 2,
     "metadata": {},
     "output_type": "execute_result"
    }
   ],
   "source": [
    "xa = 2\n",
    "ya = 0.9093\n",
    "xb = 3\n",
    "yb = 0.1411\n",
    "x = 2.5\n",
    "\n",
    "y = ya + (yb-ya)*(x-xa)/(xb-xa)\n",
    "y"
   ]
  },
  {
   "cell_type": "markdown",
   "id": "699f44fa",
   "metadata": {},
   "source": [
    "La ecuación anterior establece que la pendiente de la nueva línea entre $(x_{a},y_{a})$ y $(x,y)$ es la misma que la pendiente de la línea entre $(x_{a},y_{a})$ y $(x_{b},y_{b})$."
   ]
  },
  {
   "cell_type": "markdown",
   "id": "42c106f4",
   "metadata": {},
   "source": [
    "La interpolación lineal es rápida y fácil, pero no es muy precisa. Otra desventaja es que el interpolante no es diferenciable en el punto $x_k$.\n",
    "\n",
    "Denotemos la función que queremos interpolar por $g$, y supongamos que $x$ se encuentra entre $x_a$ y $x_b$ y que $g$ es dos veces continuamente diferenciable. Entonces el error de interpolación lineal es:\n",
    "\n",
    "$$|f(x)-g(x)|\\leq C(x_{b}-x_{a})^{2} $$\n",
    "\n",
    "donde\n",
    "\n",
    "$$ C={\\frac {1}{8}}\\max _{r\\in [x_{a},x_{b}]}|g''(r)|.$$\n",
    "\n",
    "Por lo cual, el error es proporcional al cuadrado de la distancia entre los puntos."
   ]
  },
  {
   "cell_type": "markdown",
   "id": "1efb44ec",
   "metadata": {},
   "source": [
    "### <center>Interpolación Polinomial</center>\n",
    "\n",
    "La interpolación polinomial es una generalización de la interpolación lineal, en la cual en lugar de aproximar los datos mediante una línea recta utilizamos un polinomio de mayor grado.\n",
    "\n",
    "La siguiente tabla muestra algunos valores de una función $f(x)$ desconocida \n",
    "\n",
    "| x\t| f(x)|\n",
    "|---|-----|\n",
    "|0\t| 0 |\n",
    "|1\t| 0.8415 |\n",
    "|2\t| 0.9093 |\n",
    "|3  | 0.1411 |\n",
    "|4\t| −0.7568 |\n",
    "|5\t| −0.9589 |\n",
    "|6\t| −0.2794 |\n",
    "\n",
    "\n",
    "los cuales se muestran en la siguiente imagen:"
   ]
  },
  {
   "cell_type": "markdown",
   "id": "d84bfc7a",
   "metadata": {},
   "source": [
    "<img src=\"./images/Interpolation_Data.png\">"
   ]
  },
  {
   "cell_type": "markdown",
   "id": "b3bc579d",
   "metadata": {},
   "source": [
    "El polinomio de sexto grado siguiente pasa por los siete puntos:\n",
    "\n",
    "$$f(x)=-0.0001521x^{6}-0.003130x^{5}+0.07321x^{4}-0.3577x^{3}+0.2255x^{2}+0.9038x.$$\n",
    "\n",
    "Sustituyendo $x = 2.5$, obtenemos que $f(2.5) = ~0.59678.$"
   ]
  },
  {
   "cell_type": "markdown",
   "id": "ca5f06d8",
   "metadata": {},
   "source": [
    "Generalmente, si tenemos $n$ puntos, hay exactamente un polinomio de grado a lo sumo $n−1$ que pasa por todos los puntos de datos. El error de interpolación es proporcional a la distancia entre los puntos de datos a la potencia $n$. Además, el interpolante es un polinomio y, por tanto, infinitamente diferenciable. Entonces, vemos que la interpolación polinomial supera la mayoría de los problemas de la interpolación lineal.\n",
    "\n",
    "Sin embargo, la interpolación polinomial también tiene algunas desventajas. Calcular el polinomio de interpolación es computacionalmente costoso en comparación con la interpolación lineal. Además, la interpolación polinomial puede exhibir comportamientos oscilatorios irregulares o inadecuados, especialmente en los puntos finales.\n",
    "\n",
    "Además, la interpolación polinomial puede estimar máximos y mínimos locales que están fuera del rango de las muestras, a diferencia de la interpolación lineal."
   ]
  },
  {
   "cell_type": "markdown",
   "id": "8b4daa0f",
   "metadata": {},
   "source": [
    "### <center>Bibliografía</center>\n",
    "\n",
    "* [Interpolación](https://es.wikipedia.org/wiki/Interpolaci%C3%B3n)\n",
    "\n",
    "* [Interpolation](https://en.wikipedia.org/wiki/Interpolation)"
   ]
  }
 ],
 "metadata": {
  "kernelspec": {
   "display_name": "Python 3 (ipykernel)",
   "language": "python",
   "name": "python3"
  },
  "language_info": {
   "codemirror_mode": {
    "name": "ipython",
    "version": 3
   },
   "file_extension": ".py",
   "mimetype": "text/x-python",
   "name": "python",
   "nbconvert_exporter": "python",
   "pygments_lexer": "ipython3",
   "version": "3.10.11"
  }
 },
 "nbformat": 4,
 "nbformat_minor": 5
}
