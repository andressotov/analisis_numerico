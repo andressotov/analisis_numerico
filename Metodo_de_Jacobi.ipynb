{
 "cells": [
  {
   "cell_type": "markdown",
   "id": "e993523f",
   "metadata": {},
   "source": [
    "<center> <h1>Método de Jacobi</h1> </center>\n",
    "\n",
    "Los métodos directos son variantes de la eliminación gaussiana. Estos métodos utilizan los elementos de matriz individuales directamente, a través de operaciones matriciales. Los mismos permiten resolver ecuaciones lineales con un alto nivel de precisión, pero pueden ser lentos cuando operan sobre matrices dispersas grandes. La velocidad de resolución de un sistema lineal con un método directo depende en gran medida de la densidad y el tamaño de la matriz de coeficientes."
   ]
  },
  {
   "cell_type": "markdown",
   "id": "db88070c",
   "metadata": {},
   "source": [
    "Los métodos iterativos producen una solución aproximada al sistema lineal después de un número finito de pasos. Estos métodos son útiles para grandes sistemas de ecuaciones en los que es razonable sacrificar la precisión por un tiempo de ejecución más corto. Los métodos iterativos utilizan la matriz de coeficientes solo indirectamente, a través de un producto matriz-vector o un operador lineal abstracto. \n",
    "\n",
    "Los métodos iterativos se pueden usar con cualquier matriz, pero normalmente se aplican a matrices dispersas grandes para las que las soluciones directas son lentas. La velocidad de resolución de un sistema lineal con un método indirecto no depende tanto de la densidad de coeficientes en la matriz como con el método directo. Sin embargo, el uso de un método iterativo normalmente requiere ajustar los parámetros para cada problema específico."
   ]
  },
  {
   "cell_type": "markdown",
   "id": "d0e7cc46",
   "metadata": {},
   "source": [
    "La mayoría de los algoritmos iterativos que resuelven ecuaciones lineales siguen un proceso similar:\n",
    "\n",
    "1. Comienzar con una estimación inicial del vector solución $x_0$, el cual suele ser un vector de ceros, a menos que se tenga una estimación mejor.\n",
    "\n",
    "2. Calcular la norma residual $res = norm(b-Ax_0)$.\n",
    "\n",
    "3. Comparar el residuo con la tolerancia especificada. Si $res \\leq tol$, finaliza el cálculo y devuelve la respuesta calculada para $x_0$.\n",
    "\n",
    "4. Aplicar $Ax_0$ y actualizar la magnitud y la dirección del vector $x_0$ según el valor del residual y otras cantidades calculadas. Este es el paso donde se realiza la mayor parte del cálculo.\n",
    "\n",
    "5. Repita los pasos 2 a 4 hasta que el valor de $x_0$ sea lo suficientemente bueno para satisfacer la tolerancia.\n",
    "\n",
    "Los métodos iterativos difieren en la forma en que actualizan la magnitud y la dirección de $x_0$ en el Paso 4, y algunos tienen criterios de convergencia ligeramente diferentes en los Pasos 2 y 3, pero la descripción anterior captura el proceso básico que siguen todos los solucionadores iterativos."
   ]
  },
  {
   "cell_type": "markdown",
   "id": "f21416d8",
   "metadata": {},
   "source": [
    "El método de Jacobi es un método iterativo, usado para resolver sistemas de ecuaciones lineales del tipo ${\\displaystyle A\\mathbf {x} =\\mathbf {b} }$. El método permite determinar las soluciones de sistemas de ecuaciones lineales con diagonal estrictamente dominante. Cada elemento de la diagonal se resuelve y se introduce un valor aproximado. Luego, el proceso se itera hasta que converge. \n",
    "\n",
    "Este algoritmo es una versión simplificada del algoritmo de valores propios de Jacobi, un método iterativo para el cálculo de los valores y vectores propios de una matriz simétrica real (un proceso conocido como diagonalización)."
   ]
  },
  {
   "cell_type": "markdown",
   "id": "1e0488b5",
   "metadata": {},
   "source": [
    "La base del método consiste en construir una sucesión convergente definida iterativamente. El límite de esta sucesión es precisamente la solución del sistema. A efectos prácticos si el algoritmo se detiene después de un número finito de pasos se llega a una aproximación al valor de x de la solución del sistema.\n",
    "\n",
    "La sucesión se construye descomponiendo la matriz del sistema ${\\displaystyle {\\mathit {A}}}$ en la forma siguiente:\n",
    "\n",
    "$$A = D + L + U = D + R$$\n",
    "\n",
    "donde $D$, es una matriz diagonal, $L$ es una matriz triangular inferior y $U$ es una matriz triangular superior, y $R = L + U$."
   ]
  },
  {
   "cell_type": "markdown",
   "id": "e2d4d2f7",
   "metadata": {},
   "source": [
    "Partiendo de ${\\displaystyle A\\mathbf {x} =\\mathbf {b} }$, podemos reescribir dicha ecuación como:\n",
    "\n",
    "$${\\displaystyle {\\mathit {D}}\\mathbf {x} +{\\mathit {R}}\\mathbf {x} =\\mathbf {b} }$$\n",
    "\n",
    "Luego,\n",
    "\n",
    "$${\\displaystyle \\mathbf {x} ={\\mathit {D}}^{-1}\\left(\\mathbf {b} -{\\mathit {R}}\\mathbf {x} \\right)}$$"
   ]
  },
  {
   "cell_type": "markdown",
   "id": "37015a06",
   "metadata": {},
   "source": [
    "Si $a_{ii} \\neq 0$ para todo $i$, por la regla iterativa, el Método de Jacobi se puede expresar de la forma:\n",
    "\n",
    "$${\\displaystyle \\mathbf {x} ^{\\left(k+1\\right)}={\\mathit {D}}^{-1}\\left(\\mathbf {b} -{\\mathit {R}}\\mathbf {x} ^{(k)}\\right)}$$\n",
    "\n",
    "donde $k$ es el contador de iteración. Finalmente tenemos:\n",
    "\n",
    "$${\\displaystyle x_{i}^{\\left(k+1\\right)}={\\frac {1}{a_{ii}}}\\left(b_{i}-\\sum \\limits _{j\\neq i}{a_{ij}x_{j}^{\\left(k\\right)}}\\right),i=1,2,3,...}$$"
   ]
  },
  {
   "cell_type": "markdown",
   "id": "914969bd",
   "metadata": {},
   "source": [
    "El método de Jacobi siempre converge si la matriz A es de diagonal estrictamente dominante.\n",
    "\n",
    "Se dice que una matriz cuadrada es de diagonal estrictamente dominante si, para cada fila de la matriz, la magnitud del coeficiente de la diagonal es mayor a la suma de las magnitudes de todos los demás coeficientes (no diagonales) en dicha fila.\n",
    "\n",
    "$${\\displaystyle |a_{ii}|\\gt \\sum _{j\\neq i}|a_{ij}|\\quad {\\text{for all }}i\\,}$$\n",
    "\n",
    "donde $a_{ij}$ denota el coeficiente correspondiente a la fila $i$, columna $j$.  \n",
    "\n",
    "Para verificar la convergencia del método se calcula el radio espectral ($\\rho$):\n",
    "\n",
    "\n",
    "$${\\displaystyle \\rho (D^{-1}R)<1.}$$\n",
    "\n"
   ]
  },
  {
   "cell_type": "markdown",
   "id": "fe154290",
   "metadata": {},
   "source": [
    "El método puede converger incluso si esta condición no se satisface"
   ]
  },
  {
   "cell_type": "markdown",
   "id": "6faecd3d",
   "metadata": {},
   "source": [
    "**Algoritmo Método de Jacobi**\n",
    "\n",
    "While  $\\frac{\\|x_k − x_{k−1}\\|_{L\\infty}}{\\|x\\|_{L\\infty}}>tolerance$ &nbsp; :\n",
    "\n",
    "&emsp; For  $i=1,2,\\cdots,n$ &nbsp; :\n",
    "\n",
    "&emsp;&emsp; $x^k_i = −\\frac{1}{a_{ii}} \\left( \\displaystyle\\sum_{j=1\\\\i≠j}^{n} a_{ij}x^k_j+b_i \\right)$"
   ]
  },
  {
   "cell_type": "code",
   "execution_count": 2,
   "id": "e1f6c3c1",
   "metadata": {},
   "outputs": [],
   "source": [
    "import numpy as np\n",
    "\n",
    "def jacobi(A, b, tolerance=1e-10, max_iterations=10000):\n",
    "    \n",
    "    x = np.zeros_like(b, dtype=np.double)\n",
    "    \n",
    "    T = A - np.diag(np.diagonal(A))\n",
    "    \n",
    "    for k in range(max_iterations):\n",
    "        print('iteration:', k)\n",
    "        \n",
    "        x_old  = x.copy()\n",
    "        \n",
    "        x[:] = (b - np.dot(T, x)) / np.diagonal(A)\n",
    "        \n",
    "        if np.linalg.norm(x - x_old, ord=np.inf) / np.linalg.norm(x, ord=np.inf) < tolerance:\n",
    "            break\n",
    "            \n",
    "    return x"
   ]
  },
  {
   "cell_type": "code",
   "execution_count": 3,
   "id": "bc15e11e",
   "metadata": {
    "scrolled": true
   },
   "outputs": [
    {
     "name": "stdout",
     "output_type": "stream",
     "text": [
      "iteration: 0\n",
      "iteration: 1\n",
      "iteration: 2\n",
      "iteration: 3\n",
      "iteration: 4\n",
      "iteration: 5\n",
      "x estimada [ 6.78717201 -3.07543732]\n"
     ]
    }
   ],
   "source": [
    "A = np.array([[2,1],[5,7]])\n",
    "b = np.array([11,13])\n",
    "xest = jacobi(A,b,tolerance=0.1,max_iterations=10)\n",
    "print('x estimada', xest)"
   ]
  },
  {
   "cell_type": "code",
   "execution_count": 4,
   "id": "948dfe35",
   "metadata": {},
   "outputs": [
    {
     "name": "stdout",
     "output_type": "stream",
     "text": [
      "iteration: 0\n",
      "iteration: 1\n",
      "iteration: 2\n",
      "iteration: 3\n",
      "iteration: 4\n",
      "iteration: 5\n",
      "iteration: 6\n",
      "iteration: 7\n",
      "iteration: 8\n",
      "iteration: 9\n",
      "x estimada [ 7.06979235 -3.20349966]\n"
     ]
    }
   ],
   "source": [
    "A = np.array([[2,1],[5,7]])\n",
    "b = np.array([11,13])\n",
    "xest = jacobi(A,b,tolerance=0.01,max_iterations=20)\n",
    "print('x estimada', xest)"
   ]
  },
  {
   "cell_type": "code",
   "execution_count": 5,
   "id": "e862a42e",
   "metadata": {},
   "outputs": [
    {
     "name": "stdout",
     "output_type": "stream",
     "text": [
      "iteration: 0\n",
      "iteration: 1\n",
      "iteration: 2\n",
      "iteration: 3\n",
      "iteration: 4\n",
      "iteration: 5\n",
      "iteration: 6\n",
      "iteration: 7\n",
      "iteration: 8\n",
      "iteration: 9\n",
      "iteration: 10\n",
      "iteration: 11\n",
      "iteration: 12\n",
      "iteration: 13\n",
      "iteration: 14\n",
      "x estimada [ 7.10991707 -3.21845776]\n"
     ]
    }
   ],
   "source": [
    "A = np.array([[2,1],[5,7]])\n",
    "b = np.array([11,13])\n",
    "xest = jacobi(A,b,tolerance=0.001,max_iterations=20)\n",
    "print('x estimada', xest)"
   ]
  },
  {
   "cell_type": "code",
   "execution_count": 6,
   "id": "538c44ca",
   "metadata": {
    "scrolled": true
   },
   "outputs": [
    {
     "name": "stdout",
     "output_type": "stream",
     "text": [
      "iteration: 0\n",
      "iteration: 1\n",
      "iteration: 2\n",
      "iteration: 3\n",
      "iteration: 4\n",
      "iteration: 5\n",
      "iteration: 6\n",
      "iteration: 7\n",
      "iteration: 8\n",
      "iteration: 9\n",
      "iteration: 10\n",
      "iteration: 11\n",
      "iteration: 12\n",
      "iteration: 13\n",
      "iteration: 14\n",
      "iteration: 15\n",
      "iteration: 16\n",
      "iteration: 17\n",
      "iteration: 18\n",
      "x estimada [ 7.11095881 -3.22174206]\n"
     ]
    }
   ],
   "source": [
    "A = np.array([[2,1],[5,7]])\n",
    "b = np.array([11,13])\n",
    "xest = jacobi(A,b,tolerance=0.0001,max_iterations=100)\n",
    "print('x estimada', xest)"
   ]
  },
  {
   "cell_type": "markdown",
   "id": "5e483e5d",
   "metadata": {},
   "source": [
    "| tolerance | max_iterations | # iterations | results |\n",
    "| --------- | -------------- | ------------ | ------- |\n",
    "| 0.1 | 10 | 5\t| [ 6.78717201 -3.07543732] |\n",
    "| 0.01 | 20 | 9 |\t\t[ 7.06979235 -3.20349966] |\n",
    "| 0.001 | 20 | 14 | [ 7.10991707 -3.21845776] |\n",
    "| 0.0001 | 100 | 18 | [ 7.11095881 -3.22174206] |"
   ]
  },
  {
   "cell_type": "code",
   "execution_count": 7,
   "id": "b3fbbce5",
   "metadata": {},
   "outputs": [
    {
     "data": {
      "text/plain": [
       "array([0.00017556, 0.00259962])"
      ]
     },
     "execution_count": 7,
     "metadata": {},
     "output_type": "execute_result"
    }
   ],
   "source": [
    "np.matmul(A,xest)-b"
   ]
  },
  {
   "cell_type": "markdown",
   "id": "9d3255ec",
   "metadata": {},
   "source": [
    "Como vemos, el primer coeficiente tiene los 3 primeros dígitos iguales a cero, mientras que el segundo coeficiente solo tiene 2 hasta el momento, aunque solo hemos necesitado 18 iteraciones. "
   ]
  },
  {
   "cell_type": "markdown",
   "id": "36e82bfc",
   "metadata": {},
   "source": [
    "<center> <h3>Bibliografía</h3> </center>\n",
    "\n",
    "* [Iterative Methods for Linear Systems](https://es.mathworks.com/help/matlab/math/iterative-methods-for-linear-systems.html) \n",
    "\n",
    "* [Jacobi method](https://en.wikipedia.org/wiki/Jacobi_method)\n",
    "\n",
    "* [Método de Jacobi](https://es.wikipedia.org/wiki/M%C3%A9todo_de_Jacobi)\n",
    "\n",
    "* [Jacobi eigenvalue algorithm](https://en.wikipedia.org/wiki/Jacobi_eigenvalue_algorithm)\n",
    "\n",
    "* [Matriz de diagonal estrictamente dominante](https://es.wikipedia.org/wiki/Matriz_de_diagonal_estrictamente_dominante)\n",
    "\n",
    "* [Iterative Methods for SolvingLinear Systems of Equations](https://johnfoster.pge.utexas.edu/numerical-methods-book/LinearAlgebra_IterativeSolvers.html)\n"
   ]
  },
  {
   "cell_type": "code",
   "execution_count": null,
   "id": "09ddde55",
   "metadata": {},
   "outputs": [],
   "source": []
  }
 ],
 "metadata": {
  "kernelspec": {
   "display_name": "Python 3 (ipykernel)",
   "language": "python",
   "name": "python3"
  },
  "language_info": {
   "codemirror_mode": {
    "name": "ipython",
    "version": 3
   },
   "file_extension": ".py",
   "mimetype": "text/x-python",
   "name": "python",
   "nbconvert_exporter": "python",
   "pygments_lexer": "ipython3",
   "version": "3.10.8"
  }
 },
 "nbformat": 4,
 "nbformat_minor": 5
}
