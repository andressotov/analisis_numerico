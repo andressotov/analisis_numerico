{
 "cells": [
  {
   "cell_type": "markdown",
   "id": "db17947b",
   "metadata": {},
   "source": [
    "<center> <h1>Errores Numéricos</h1> </center>\n",
    "\n",
    "<center> <h3>Representación de números</h3> </center>\n",
    "\n",
    "Los sistemas de numéración han progresado desde el uso de dedos y marcas de conteo, quizás hace más de 40.000 años, hasta el uso de conjuntos de glifos o pictogramas capaces de representar cualquier número concebible de manera eficiente. Las notaciones inequívocas más antiguas conocidas para números surgieron en Mesopotamia hace unos 5000 o 6000 años.\n",
    "\n",
    "La escritura más antigua conocida para el mantenimiento de registros surgió de un sistema de contabilidad que usaba pequeñas fichas de arcilla. Los primeros artefactos son de Tell Abu Hureyra, un sitio en el valle del Alto Éufrates en Siria que data del décimo milenio a. C., y Ganj-i-Dareh Tepe, un sitio en la región de Zagros en Irán que data de el noveno milenio a. C.\n",
    "\n",
    "Para crear un registro que representaba \"dos ovejas\", se usaron dos fichas, cada una de las cuales representaba una unidad. Los diferentes tipos de objetos también se contaron de manera diferente. Dentro del sistema de conteo utilizado con la mayoría de los objetos discretos (incluidos los animales como las ovejas), había una ficha para un elemento (unidades), una ficha diferente para diez elementos (decenas), una ficha diferente para seis decenas (sesenta), etc.\n",
    "\n",
    "A mediados y finales del cuarto milenio a. C., las impresiones numéricas utilizadas previamente fueron reemplazadas por tablillas numéricas con números proto-cuneiformes impresos en arcilla con un estilete redondo sostenido en diferentes ángulos para producir las diversas formas utilizadas para los signos numéricos. Cada signo numérico representaba tanto la mercancía que se contaba como la cantidad o volumen de esa mercancía. Estos números pronto fueron acompañados por pequeñas imágenes que identificaban el producto enumerado.\n",
    "\n",
    "Alrededor de 2100 a. C., se desarrolló un sistema numérico sexagesimal común con valor posicional y se usó para ayudar a las conversiones entre sistemas de conteo especificados por objetos.\n",
    "\n",
    "Los números sexagesimales constituían un sistema de base mixto con bases alternas de 10 y 6 que caracterizaban las fichas, las impresiones numéricas y los signos numéricos protocuneiformes. Los números sexagesimales se usaban en el comercio, así como para cálculos astronómicos y de otro tipo. En números arábigos, la numeración sexagesimal todavía se usa hoy para contar el tiempo (segundo por minuto; minutos por hora) y ángulos (grados).\n",
    "\n",
    "El sistema numérico hindú-árabe es un sistema numérico de valor posicional decimal que utiliza un glifo cero como en \"205\". Sus glifos descienden de los números indios Brahmi. \n",
    "\n",
    "![Evolution of Brahmi numerals](./images/Evolution_of_Brahmi_numerals.jpg \"Evolution of Brahmi numerals\")\n",
    "\n",
    "El sistema completo surgió entre los siglos VIII y IX, y se describe por primera vez fuera de la India en On the Calculation with Hindu Numerals de Al-Khwarizmi (ca. 825), y en el segundo trabajo de cuatro volúmenes de Al-Kindi On the Use of the Indian Numerals ( ca. 830)."
   ]
  },
  {
   "cell_type": "markdown",
   "id": "b6eaf5be",
   "metadata": {},
   "source": [
    "Los números romanos se desarrollaron a partir de símbolos etruscos a mediados del primer milenio a. C. En el sistema etrusco, el símbolo 1 era una única marca vertical, el símbolo 10 eran dos marcas de conteo cruzadas perpendicularmente y el símbolo 100 eran tres marcas de conteo cruzadas (de forma similar a un asterisco moderno *). El 5 (en forma de V invertida) y el 50 (una V invertida dividida por una sola marca vertical) tal vez se derivaron de las mitades inferiores de los signos de 10 y 100. No hay una explicación convincente de cómo el símbolo romano de 100, C, se derivó de su antecedente etrusco en forma de asterisco."
   ]
  },
  {
   "cell_type": "markdown",
   "id": "9ea5d73f",
   "metadata": {},
   "source": [
    "La notación posicional es un sistema de numeración en el cual cada dígito posee un valor que depende de su posición relativa, la cual está determinada por la base, que es el número de dígitos necesarios para escribir cualquier número. \n",
    "\n",
    "Un ejemplo de numeración posicional es el sistema decimal (base 10), que utiliza diez dígitos diferentes constituidos por un símbolo (grafema), cuyo valor en orden creciente es: 0, 1, 2, 3, 4, 5, 6, 7, 8, 9. Utilizando la notación posicional, el mismo dígito 5 toma diferente valor en los números 5, 50 y 500.\n",
    "\n",
    "Por convenio, los dígitos en esta notación se escriben de izquierda a derecha (incluso en idiomas que normalmente escriben de derecha a izquierda), empezando por los órdenes superiores y acabando en la unidad como tal, marcando la carencia de unidades con un 0 (cero). Así, en sistema decimal:\n",
    "\n",
    "$${\\displaystyle 505=5\\cdot 10^{2}+0\\cdot 10^{1}+5\\cdot 10^{0}}$$\n",
    "\n",
    "Si existen órdenes menores que la unidad, se escribe una coma (',') o un punto ('.') según el idioma, para separarlos de las unidades, y se continúa escribiendo de mayor a menor, acabando con las unidades de menor orden."
   ]
  },
  {
   "cell_type": "markdown",
   "id": "c682f4fc",
   "metadata": {},
   "source": [
    "<center> <h3>Otros Sistemas de Numeración</h3> </center>\n",
    "\n",
    "**Sistema binario**\n",
    "\n",
    "El sistema binario es un sistema de numeración en el que los números son representados utilizando únicamente dos cifras: 0 (cero) y 1 (uno). Es uno de los sistemas que se utilizan en las computadoras, debido a que estas trabajan internamente con dos niveles de voltaje, por lo cual su sistema de numeración natural es el sistema binario. Un número binario puede ser representado por cualquier secuencia de bits (<u>bi</u>nary <u>d</u>igit).\n",
    "\n",
    "Los números binarios se escriben a menudo con subíndices, prefijos o sufijos para indicar su base. Las notaciones siguientes son equivalentes:\n",
    "\n",
    "* 100101 binario (declaración explícita de formato)\n",
    "\n",
    "* 100101b (un sufijo que indica formato binario)\n",
    "\n",
    "* $100101_2$ (un subíndice que indica base 2, notación binaria)\n",
    "\n",
    "entre otros. "
   ]
  },
  {
   "cell_type": "markdown",
   "id": "ccb645b0",
   "metadata": {},
   "source": [
    "**Conversión entre binario y decimal**\n",
    "\n",
    "**Conversión de decimal a binario**\n",
    "\n",
    "Supongamos que se quiere convertir el valor $X$ que corresponde a un número del sistema decimal a sistema binario. Para ello se divide $X$ entre 2, obteniendo un cociente $c_1$ y un residuo $r_1$. Si el cociente $c_1$ es mayor que 2, se divide este por 2, obteniendo así un nuevo cociente $c_2$ y un residuo $r_2$. Este proceso se repite hasta que el cociente obtenido $c_i$ sea menor que 2. \n",
    "\n",
    "A continuación se ordena desde el último cociente hasta el primer resto, simplemente se colocan en orden inverso a como aparecen en la división. Este será el número binario que buscamos.\n",
    "\n",
    "Ejemplo: Transformar el número decimal $131_{10}$ en binario. \n",
    "\n",
    "131 dividido entre 2 da cociente=65 con residuo igual a 1\n",
    "\n",
    " 65 dividido entre 2 da cociente=32 con residuo igual a 1\n",
    " \n",
    " 32 dividido entre 2 da cociente=16 con residuo igual a 0\n",
    " \n",
    " 16 dividido entre 2 da cociente=8 con residuo igual a 0\n",
    " \n",
    "  8 dividido entre 2 da cociente=4 con residuo igual a 0\n",
    "  \n",
    "  4 dividido entre 2 da cociente=2 con residuo igual a 0\n",
    "  \n",
    "  2 dividido entre 2 da cociente=1 con residuo igual a 0\n",
    "  \n",
    "                          el último cociente es 1\n",
    "                          \n",
    "$\\Rightarrow$ Ordenamos los residuos, del último al primero: 10000011 En sistema binario, $131_{10}$ se escribe $10000011_2$."
   ]
  },
  {
   "cell_type": "markdown",
   "id": "f18b2833",
   "metadata": {},
   "source": [
    "**¿Y qué hacemos si es un número decimal con parte fraccionaria?**\n",
    "\n",
    "Se convierten de forma independiente la parte entera y la parte fraccionaria. La parte entera se convierte como habíamos visto anteriormente. Luego, se sigue con la parte fraccionaria. \n",
    "\n",
    "Para la parte fraccionaria, en lugar de dividir por dos como hicimos con la parte entera, lo que se hace es multiplicar por dos la parte fraccionaria. Como resultado de la multiplicación, pueden ocurrir dos cosas: \n",
    "\n",
    "    a)el resultado obtenido es mayor o igual a 1\n",
    "\n",
    "    b)el resultado obtenido es menor que 1\n",
    "\n",
    "Si el resultado obtenido es mayor o igual a 1, se anota como un uno (1) binario. Si es menor que 1 se anota como un 0 binario. Por ejemplo, al multiplicar 0.6 por 2 obtenemos como resultado 1.2, lo cual indica que nuestro resultado es un uno (1) en binario, solo se toma la parte entera del resultado.\n",
    "\n",
    "A continuación, tomamos nuevamente la parte fraccionaria de la multiplicación obtenida y se vuelve a multiplicar por 2, repitiendo el proceso mientras la parte fraccionaria no se anule (i.e. no se haga cero) o que consideremos que tenemos suficientes dígitos calculados. \n",
    "\n",
    "**NOTA** algunos valores fraccionarios no tienen una representación exacta al convertirlos a binario, por lo cual tienen una representación donde uno o más dígitos se repiten periodicamente, como por ejemplo, el 0.1.\n",
    "\n",
    "Después de concluir las multiplicaciones, se colocan los números en el mismo orden de su obtención.\n",
    "\n",
    "Ejemplo: supongamos que se quiere convertir el número $0,3125_10$ a binario\n",
    "\n",
    "Proceso:\n",
    "\n",
    "&ensp; 0,3125 * 2 = 0,625 $\\Rightarrow$ 0\n",
    "\n",
    "&ensp; 0,625  * 2 = 1,25  $\\Rightarrow$ 1\n",
    "\n",
    "&ensp; 0,25   * 2 = 0,5   $\\Rightarrow$ 0\n",
    "\n",
    "&ensp; 0,5    * 2 = 1     $\\Rightarrow$ 1 \n",
    "\n",
    "En orden de su obtención: 0101 $\\Rightarrow 0,0101_2$\n",
    "\n",
    "Otro ejemplo: se quiere convertir el número $0,1_10$ a binario\n",
    "\n",
    "Proceso: \n",
    "\n",
    "&ensp; 0,1 * 2 = 0,2 $\\Rightarrow$ 0\n",
    "\n",
    "&ensp; 0,2 * 2 = 0,4 $\\Rightarrow$ 0\n",
    "\n",
    "&ensp; 0,4 * 2 = 0,8 $\\Rightarrow$ 0\n",
    "\n",
    "&ensp; 0,8 * 2 = 1,6 $\\Rightarrow$ 1\n",
    "\n",
    "&ensp; 0,6 * 2 = 1,2 $\\Rightarrow$ 1\n",
    "\n",
    "&ensp; 0,2 * 2 = 0,4 $\\Rightarrow$ 0  $\\leftarrow$ se repiten las últimas cuatro cifras, periódicamente\n",
    "\n",
    "&ensp; 0,4 * 2 = 0,8 $\\Rightarrow$ 0  $\\leftarrow$\n",
    "\n",
    "&ensp; 0,8 * 2 = 1,6 $\\Rightarrow$ 1  $\\leftarrow$\n",
    "\n",
    "&ensp; 0,6 * 2 = 1,2 $\\Rightarrow$ 1  $\\leftarrow ...$\n",
    "\n",
    "En orden de su obtención: 0 0011 0011 $... \\Rightarrow 0,0 0011 0011 ..._2$"
   ]
  },
  {
   "cell_type": "markdown",
   "id": "5aee1739",
   "metadata": {},
   "source": [
    "**Conversión de binario a decimal**\n",
    "\n",
    "Al igual que la conversión de decimal a binario, la conversión de binario a decimal se subdivide en dos partes: \n",
    "\n",
    "    1.Conversión de la parte entera del número\n",
    "    \n",
    "    2.Conversión de la parte fraccionaria\n",
    "    \n",
    "Para realizar la conversión de binario a decimal de la parte entera del número, realice lo siguiente:\n",
    "\n",
    "* Comience por el lado derecho del número en binario. Considere que el dígito del extremo derecho ocupa la posición 0 correspondiente a las unidades, el dígito siguiente (siempre de derecha a izquierda) ocupa la posición 1 (que correspondería a las decenas si fuera en decimal), el siguiente por la izquierda la posición 2 y así sucesivamente. \n",
    "\n",
    "* Multiplique cada dígito por 2 elevado a la potencia correspondiente a la posición que ocupa el dígito. De esta forma, el dígito en la posición $i$-ésima se multiplica por $2^i$\n",
    "\n",
    "* Después de realizar cada una de las multiplicaciones, súmelas todas y el número resultante será el equivalente en sistema decimal.\n",
    "\n"
   ]
  },
  {
   "cell_type": "markdown",
   "id": "78a99e70",
   "metadata": {},
   "source": [
    "Ejemplo convertir el número $110101_2$ a decimal\n",
    "\n",
    "$$110101_2 = 1\\times2^5 + 1\\times2^4 + 0\\times2^3 + 1\\times2^2 + 0\\times2^1 + 1\\times2^0 = 53$$"
   ]
  },
  {
   "cell_type": "markdown",
   "id": "5308b600",
   "metadata": {},
   "source": [
    "La conversión de binario a decimal de la parte fraccionaria del número se realiza de forma similar:\n",
    "\n",
    "* Comenzando por posición adjunta a la coma (o punto) decimal, numere las posiciones igual que hicimos anteriormente, pero de izquierda a derecha en este caso. Así, la posición adjunta a coma (o punto) decimal sería la posición 1, La siguiente posición de izquierda a derecha sería la 2 y así sucesivamente.\n",
    "\n",
    "* Multiplique cada dígito por 2 elevado a la potencia negativa correspondiente a la posición que ocupa el dígito. De esta forma, el dígito en la posición $i$-ésima se multiplica por $2^{-i}$\n",
    "\n",
    "* Después de realizar cada una de las multiplicaciones, súmelas todas y el número resultante será el número correspondiente en sistema decimal."
   ]
  },
  {
   "cell_type": "markdown",
   "id": "3de14ea9",
   "metadata": {},
   "source": [
    "Ejemplo convertir el número $0.101_2$ a decimal\n",
    "\n",
    "$$ 0.101_2 = 1\\times2^{-1} + 0\\times2^{-2} + 1\\times2^{-3} = 1\\times0.5 + 0\\times0.25 + 1\\times0.125 = 0.625$$"
   ]
  },
  {
   "cell_type": "markdown",
   "id": "976e95d9",
   "metadata": {},
   "source": [
    "**Sistema octal**\n",
    "\n",
    "El sistema octal es el sistema de numeración posicional cuya base es igual 8, utilizando los dígitos indo-arábigos: 0, 1, 2, 3, 4, 5, 6, 7, donde cada dígito tiene el mismo valor que en el sistema de numeración decimal. Como 8 es una potencia de 2, la conversión a binario o viceversa sea bastante simple. El sistema octal es utilizado como una forma abreviada de representar números binarios. Por otra parte, los cálculos para convertir de decimal a octal y viceversa se reducen con relación a los requeridos ra convertir entre decimal y binario.  \n",
    "\n",
    "A continuación, presentamos una tabla con la conversión de decimal a binario y octal. Observe que cada dígito octal se representa mediante exactamente 3 dígitos binarios.\n",
    "\n",
    "| Decimal | Binario | Octal | \n",
    "| ------- | ------- | ----- | \n",
    "| 0\t| 000000\t| 0\n",
    "| 1\t| 000001\t| 1\n",
    "| 2\t| 000010\t| 2\n",
    "| 3\t| 000011\t| 3\n",
    "| 4\t| 000100\t| 4\n",
    "| 5\t| 000101\t| 5\n",
    "| 6\t| 000110\t| 6\n",
    "| 7\t| 000111\t| 7\n",
    "| 8\t| 001000\t| 10\n",
    "| 9\t| 001001\t| 11\n",
    "| 10 | 001010\t| 12\n",
    "| 11 | 001011\t| 13\n",
    "| 12 | 001100\t| 14\n",
    "| 13 | 001101\t| 15\n",
    "| 14 | 001110\t| 16\n",
    "| 15 | 001111\t| 17\n",
    "| 16 | \t010000\t| 20\n",
    "\n",
    "Para pasar de binario a octal, solo hay que agrupar de 3 en 3 los dígitos binarios comenzando a partir del extremo derecho. Así, el número $1001010_2$ ($74_{10}$), se agrupa como $(1)(001)(010)$. Dado que, en la posición más significativa solo tenemos un dígito, se completa con ceros a la izquierda para completar el trío, de modo que quedaría: $(001) (001) (010)$, lo cual equivale al número octal $112_8$.\n",
    "De la misma manera, el número octal $357_8$ se convierte en binario como $011101111_2$"
   ]
  },
  {
   "cell_type": "markdown",
   "id": "010ee8f6",
   "metadata": {},
   "source": [
    "**Sistema hexadecimal**\n",
    "\n",
    "El sistema hexadecimal es el sistema de numeración posicional que tiene como base el valor 16. Se emplea fundamentalmente porque las operaciones de la CPU Central Processing Unit) suelen usar el byte u octeto como unidad básica de memoria. Un byte representa $2^{8}$ valores posibles, que puede representarse como dos dígitos hexadecimales.\n",
    "\n",
    "$$2^{8} = 2^{4} \\cdot 2^{4} = 16 \\cdot 16$$"
   ]
  },
  {
   "cell_type": "markdown",
   "id": "017e4a30",
   "metadata": {},
   "source": [
    "Por otra parte, utilizar el sistema hexadecimal ayuda a reducir la cantidad de dígitos a emplear para expresar una cantidad determinada. Por ejemplo,\n",
    "\n",
    "$$ 2^{8} = 256_{10} = 1⋅16^2+0⋅16^1+0⋅16^0\n",
    "1 \\cdot 16^{2}+0 \\cdot 16^{1}+0 \\cdot 16^{0} = 100_{16}$$, "
   ]
  },
  {
   "cell_type": "markdown",
   "id": "7a2aa7f5",
   "metadata": {},
   "source": [
    "Dado que el sistema de numeración usual es de base decimal y solo se disponía de diez dígitos, se adoptó la convención de usar las seis primeras letras del alfabeto latino para suplir los dígitos que faltaban. El conjunto de símbolos es el siguiente:\n",
    "\n",
    "$$S = \\{ 0,1,2,3,4,5,6,7,8,9,A,B,C,D,E,F \\}$$,\n",
    "\n",
    "donde las letras de la A a la F corresponden a los siguientes valores numéricos decimales: $A = 10, B = 11, C = 12, D = 13, E = 14$ y $F = 15$."
   ]
  },
  {
   "cell_type": "markdown",
   "id": "982e4055",
   "metadata": {},
   "source": [
    "Como en cualquier sistema de numeración posicional, el valor numérico de cada dígito es alterado dependiendo de su posición en la cadena de dígitos, quedando multiplicado por una cierta potencia de la base del sistema, que en este caso es 16. Por ejemplo: \n",
    "\n",
    "$$3E0A_{16} = 3 \\times 16^3 + E \\times 16^2 + 0 \\times 16^1 + A \\times 16^0$$ \n",
    "\n",
    "$$= 3 \\times 4096 + 14 \\times 256 + 0 \\times 16 + 10 \\times 1 = 15882_{10}$$."
   ]
  },
  {
   "cell_type": "markdown",
   "id": "623fc368",
   "metadata": {},
   "source": [
    "A continuación, presentamos una tabla con la conversión de decimal a binario, hexadecimal y octal. "
   ]
  },
  {
   "cell_type": "markdown",
   "id": "b7bd215d",
   "metadata": {},
   "source": [
    "  |  Decimal  |  Binario  |  Hexadecimal  |  octal  |  \n",
    "  | ------- | ------- | ----- | ----- | \n",
    "  |  0  |  000000 | 0 | 00 | \n",
    " | 1 | 000001 | 1 | 01 | \n",
    " | 2 | 000010 | 2 | 02 | \n",
    " | 3 | 000011 | 3 | 03 | \n",
    " | 4 | 000100 | 4 | 04 | \n",
    " | 5 | 000101 | 5 | 05 | \n",
    " | 6 | 000110 | 6 | 06 | \n",
    " | 7 | 000111 | 7 | 07 | \n",
    " | 8 | 001000 | 8 | 10 | \n",
    " | 9 | 001001 | 9 | 11 | \n",
    " | 10 | 001010 | A | 12 | \n",
    " | 11 | 001011 | B | 13 | \n",
    " | 12 | 001100 | C | 14 | \n",
    " | 13 | 001101 | D | 15 | \n",
    " | 14 | 001110 | E | 16 | \n",
    " | 15 | 001111 | F | 17 | \n",
    " | 16 | 010000 | 10 | 20 | \n",
    " | 17 | 010001 | 11 | 21 | \n",
    " | 18 | 010010 | 12 | 22 | \n",
    " | 19 | 010011 | 13 | 23 | \n",
    " | 20 | 010100 | 14 | 24 | \n",
    " | 21 | 010101 | 15 | 25 | \n",
    " | 22 | 010110 | 16 | 26 | \n",
    " | 23 | 010111 | 17 | 27 | \n",
    " | 24 | 011000 | 18 | 30 | \n",
    " | 25 | 011001 | 19 | 31 | \n",
    " | 26 | 011010 | 1A | 32 | \n",
    " | 27 | 011011 | 1B | 33 | \n",
    " | 28 | 011100 | 1C | 34 | \n",
    " | 29 | 011101 | 1D | 35 | \n",
    " | 30 | 011110 | 1E | 36 | \n",
    " | 31 | 011111 | 1F | 37 | \n",
    " | 32 | 100000 | 20 | 40 | \n",
    " | 33 | 100001 | 21 | 41 | \n",
    " "
   ]
  },
  {
   "cell_type": "markdown",
   "id": "016ef24d",
   "metadata": {},
   "source": [
    "El sistema hexadecimal fue introducido en el ámbito de la computación por primera vez por IBM en 1963. "
   ]
  },
  {
   "cell_type": "markdown",
   "id": "ac56f6c0",
   "metadata": {},
   "source": [
    "**¿Cómo se almacenan los números en el ordenador?**\n",
    "\n",
    "Ya sabemos que los números se almacenan utilizando el sistema binario, pero ¿en dónde se guardan? En la memoria del ordenador, la cual se subdivide en una gran cantidad de celdas denominadas localizaciones. Dichas localizaciones tienen un tamaño fijo determinado por el fabricante del ordenador. Por lo cual, cada localización puede contener un número fijo de bits, i.e., digitos binarios. Por lo cual, una localización de memoria solo puede contener números en un determinado rango de valores. Al contenido de una localización se le denomina palabra y muchas veces se usan ambos términos de forma indiferenciada.\n",
    "\n",
    "**¿Cómo se almacena el signo del número**\n",
    "\n",
    "En la vida cotidiana, los números negativos se representan con un signo menos ('-') delante del número. Pero, en el ordenador esto no es posible. Para representarlo, existen diferentes formas como signo y magnitud, complemento a uno, complemento a dos y exceso $K$, donde normalmente $K$ equivale a $b^{n-1} - 1$. Para la mayoría de usos, las computadoras modernas utilizan típicamente la representación en complemento a dos.\n",
    "\n",
    "El complemento a dos de un número $N$ , expresado en el sistema binario con $n$ dígitos, se define como:\n",
    "\n",
    "$${\\displaystyle C_{2}(N)=2^{n}-N}$$\n",
    "\n",
    "donde total de números positivos será $2^{{n-1}}-1$ y el de negativos $2^{n-1}$, siendo $n$ el número de bits. El 0 contaría como positivo, ya que los positivos son los que empiezan por 0 y los negativos los que empiezan por 1 .\n",
    "\n",
    "Veamos un ejemplo:\n",
    "\n",
    "tomemos el número $N=45$ expresado en binario es $N=101101_{2}$, con 6 dígitos, y calculemos su complemento a dos:\n",
    "\n",
    "$$ N=45, n=6 \\Rightarrow {\\displaystyle C_{2}(N)=2^{n}-N} = {\\displaystyle 2^{6}-45} = {\\displaystyle 64-45=19=010011_{2}}$$\n",
    "\n",
    "Al representarlo con 6 dígitos el bit más significativo es 0. Este proceso puede parecer muy complicado, pero es muy fácil obtener el complemento a dos de un número a partir de su complemento a uno, porque el complemento a dos de un número binario es igual a su complemento a uno más uno, es decir:\n",
    "\n",
    "$${\\displaystyle C_{2}^{N}=C_{1}^{N}+1}$$\n",
    "\n",
    "El complemento a uno de un número binario se define como el valor obtenido al invertir todos los bits en la representación binaria del número (intercambiando los 0 por 1 y los 1 por 0). Calcular el complemento a uno de un número binario es una operación muy sencilla en cualquier ordenador.\n",
    "\n",
    "De donde:\n",
    "\n",
    "$$C_{1}(101101) = 010010 \\Rightarrow {\\displaystyle C_{2}(45)=C_{1}(101101)+1=010010+000001=010011_{2}}$$\n"
   ]
  },
  {
   "cell_type": "markdown",
   "id": "0ab3fcbb",
   "metadata": {},
   "source": [
    "En este punto conviene introducir el concepto de desbordamiento (overflow) en aritmética entera. Un desbordamiento de enteros ocurre cuando una operación aritmética intenta crear un valor numérico que está fuera del rango que se puede representar con un número determinado de dígitos, ya sea mayor que el valor máximo o menor que el valor mínimo representable. El resultado más común de un desbordamiento es que solo se almacenen los dígitos menos significativos del resultado. Normalmente, esta es una situación que debe ser detectada mediante el hardware y el software del equipo y tratada apropiadamente indicando un error."
   ]
  },
  {
   "cell_type": "markdown",
   "id": "1ee950d0",
   "metadata": {},
   "source": [
    "<center> <h3>Estándar IEEE 754</h3> </center>\n",
    "\n",
    "La representación de coma (o punto) flotante (floating point) es una forma de notación científica usada en las computadoras con la cual se pueden representar números reales extremadamente grandes y pequeños de una manera muy eficiente y compacta y con la que se pueden realizar operaciones aritméticas. La notación científica, también denominada notación exponencial, es una forma de organizar o escribir los números basada en potencias de 10.\n",
    "\n",
    "* masa del electrón \n",
    "\n",
    "$$0.000 000 000 000 000 000 000 000 000 000 911 kg = 9.11 \\times 10^{-31} kg$$\n",
    "\n",
    "* mayor distancia observable del universo: \n",
    "\n",
    "$$740 000 000 000 000 000 000 000 000 m = 7.4 × 10^{26} m$$\n",
    "\n",
    "El estándar actual para la representación en coma flotante es el IEEE 754, un estándar técnico para la aritmética de coma flotante establecido en 1985 por el Instituto de Ingenieros Eléctricos y Electrónicos (IEEE). El estándar abordó muchos de los problemas encontrados en su momento en las diversas implementaciones de punto flotante. Muchas unidades de punto flotante de hardware utilizan el estándar IEEE 754. La versión actual, IEEE 754-2019, se publicó en julio de 2019. Es una revisión menor de la versión anterior, que incorpora principalmente aclaraciones, correcciones de defectos y nuevas operaciones recomendadas."
   ]
  },
  {
   "cell_type": "markdown",
   "id": "268a4350",
   "metadata": {},
   "source": [
    "El estándar IEEE 754 define:\n",
    "\n",
    "* formatos aritméticos: conjuntos de datos binarios y decimales de coma flotante, que consisten en números finitos (incluidos ceros con signo y números subnormales), infinitos y valores especiales (NaN: Not a Number)\n",
    "\n",
    "* reglas de redondeo: propiedades que deben cumplirse al redondear números durante la aritmética y las conversiones\n",
    "\n",
    "* operaciones: aritmética y otras operaciones (como funciones trigonométricas) en formatos aritméticos\n",
    "\n",
    "* manejo de excepciones: indicaciones de condiciones excepcionales (como división por cero, desbordamiento, etc.)\n"
   ]
  },
  {
   "cell_type": "markdown",
   "id": "677983a2",
   "metadata": {},
   "source": [
    "Un formato de coma flotante se especifica mediante\n",
    "\n",
    "* una base (también llamada raíz) b, que es 2 (binario) o 10 (decimal) en IEEE 754;\n",
    "\n",
    "* una precisión p;\n",
    "\n",
    "* un rango de exponente de emin a emax, con emin = 1 − emax para todos los formatos IEEE 754."
   ]
  },
  {
   "cell_type": "markdown",
   "id": "869730de",
   "metadata": {},
   "source": [
    "Un formato comprende\n",
    "\n",
    "* Números finitos, que pueden describirse mediante tres números enteros: \n",
    "\n",
    "    * $s=$ un signo (cero o uno), \n",
    "    \n",
    "    * $c=$ una mantisa (o coeficiente) que no tiene más de $p$ dígitos cuando se escribe en base $b$ (es decir, un número entero en el rango hasta 0 a $b^p − 1$), y \n",
    "    \n",
    "    * $q=$ un exponente tal que $e_{min} ≤ q + p − 1 ≤ e_{max}$. \n",
    "    \n",
    "&ensp;&ensp; El valor numérico de dicho número finito es $(−1)^s × c × b^q$. "
   ]
  },
  {
   "cell_type": "markdown",
   "id": "5adda04e",
   "metadata": {},
   "source": [
    "Además, hay \n",
    "\n",
    "* dos valores cero, llamados ceros con signo: el bit de signo especifica si un cero es +0 (cero positivo) o − 0 (cero negativo).\n",
    "\n",
    "* dos infinitos: +∞ y −∞.\n",
    "\n",
    "* dos tipos de NaN: un NaN silencioso (qNaN) y un NaN de señalización (sNaN)."
   ]
  },
  {
   "cell_type": "markdown",
   "id": "c9637b38",
   "metadata": {},
   "source": [
    "Por ejemplo, si $b = 10$, $p = 7$ y $e_{max} = 96$, entonces $e_{min} = −95$, la mantisa satisface $0 ≤ c ≤ 9999999$ y el exponente satisface $−101 ≤ q ≤ 90$. \n",
    "\n",
    "\n",
    "\n"
   ]
  },
  {
   "cell_type": "markdown",
   "id": "d2fda3d9",
   "metadata": {},
   "source": [
    "En consecuencia, el menor número positivo distinto de cero que se puede representar es $1 \\times 10^{−101}$, y el mayor es $9999999 \\times 10^{90} (9,999999 \\times 10^{96})$, por lo que el rango completo de números es $−9,999999\\times10^{96}$ a $9,999999 \\times 10^{96}$. "
   ]
  },
  {
   "cell_type": "markdown",
   "id": "ee8bba6a",
   "metadata": {},
   "source": [
    "Los números $−b^{1−e_{max}}$ y $b^{1−e_{max}}$ (aquí, $−1 \\times 10^{−95}$ y $1 \\times 10^{−95}$) son los números normales más pequeños (en magnitud). Los números distintos de cero entre estos números más pequeños se denominan números subnormales."
   ]
  },
  {
   "cell_type": "markdown",
   "id": "cb50000a",
   "metadata": {},
   "source": [
    "Los números pueden tener diversas representaciones posibles en formato exponencial. Por ejemplo, si $b = 10$ y $p = 7$, entonces $−12,345$ se puede representar mediante $−12345 \\times 10^{−3}$, $−123450 \\times 10^{−4}$ y $−1234500 \\times 10^{−5}$.\n",
    "\n",
    "Para los números binarios, se utiliza una única representación, en la cual se elige el exponente más pequeño. Para los números con un exponente en el rango normal (no todos unos o todos ceros), el bit inicial del significando siempre será 1. En consecuencia, el bit 1 principal puede ser implícito en lugar de estar explícitamente presente en la codificación de la memoria. Esta regla se denomina convención de bit principal, o también convención de bits implícita o convención de bits ocultos. La regla permite que el formato de memoria tenga un poco más de precisión. La convención de bit principal no se utiliza para los números subnormales ya que tienen un exponente fuera del rango del exponente normal.\n",
    "\n",
    "El estándar IEEE 754 define cinco formatos básicos que se denominan por su base numérica y el número de bits utilizados en su codificación de intercambio. Existen tres formatos básicos binarios de punto flotante (codificados con 32, 64 o 128 bits) y dos formatos básicos de punto flotante decimal (codificados con 64 o 128 bits). Los formatos binary32 y binary64 son los formatos simple y doble del estándar original IEEE 754-1985. Una implementación conforme debe implementar completamente al menos uno de los formatos básicos.\n",
    "\n",
    "![Formato float simple precision](./images/formato_float_simple.png \"Formato float simple precision\")"
   ]
  },
  {
   "cell_type": "markdown",
   "id": "82d3fb92",
   "metadata": {},
   "source": [
    "El formato en coma flotante de simple precisión es un formato de número de computador u ordenador que ocupa 4 bytes (32 bits) en su memoria y representa un amplio rango dinámico de valores mediante el uso de la coma flotante. En la norma o estándar IEEE 754-2008, el formato de 32 bits de base 2 se conoce oficialmente como binary32.\n",
    "\n",
    "El estándar IEEE 754 especifica que un formato binary32 consta de:4​\n",
    "\n",
    "* Bits de signo (S): 1 bit.\n",
    "\n",
    "* Exponente desplazado (E): 8 bits.\n",
    "\n",
    "* Significando o Mantisa (T): 24 bits (23 almacenados explícitamente).\n",
    "\n",
    "Este formato proporciona una precisión de 6 a 9 dígitos decimales significativos. Si una cadena decimal de hasta 6 dígitos decimales significativos se convierte en formato IEEE 754 de precisión simple y luego se convierte de nuevo al mismo número de dígitos decimales significativos, la cadena final debe coincidir con el original y si un número de precisión simple IEEE 754 se convierte en una cadena decimal con al menos 9 dígitos decimales significativos y luego se convierte de nuevo a un número de precisión simple, entonces el número final debe coincidir con el original.\n",
    "\n",
    "El bit de signo ($S$) determina el signo del número, que también es el signo de la mantisa o significando. El exponente ($E$) es, tanto un número entero de 8 bits con signo en el rango de -126 a 127 (expresado en la forma de complemento a 2) como un entero sin signo ($e$) de 8 bits comprendido de 0 a 255 que es la forma sesgada aceptada en la definición del formato binary32 de IEEE 754. Si se utiliza el formato de número entero sin signo, el valor del exponente utilizado en la aritmética es el exponente desplazado por un sesgo ($E$). \n",
    "\n",
    "Para el caso del formato binary32, un valor de exponente desplazado de 127 representa el cero real (es decir, para que $2^{e-127}$ sea uno, $e$ debe valer 127). El exponente desplazado $(E=e-127)$ abarca desde −126 hasta +127 ya que los valores de −127 (todos ceros) y 128 (todos unos) son reservados para números especiales.\n",
    "\n",
    "La mantisa real del formato incluye 23 bits de la fracción a la derecha de la coma binaria y un bit de encabezado implícito (a la izquierda de la coma binaria) con valor de \"1\" a menos que el exponente se almacene con sus bits en cero. Por lo tanto sólo 23 bits de la mantisa aparecen en el formato de la memoria, pero la precisión total es de 24 bits (equivalente a $log_{10} (2^{24})$ dígitos ≈ 7225 decimales). "
   ]
  },
  {
   "cell_type": "markdown",
   "id": "52ab16b8",
   "metadata": {},
   "source": [
    "<center> <h3>Errores numéricos</h3> </center>\n",
    "\n",
    "El concepto de error es intrínseco al cálculo numérico. En todos los problemas es fundamental poder determinar y cuantificar los errores cometidos, a fin de poder estimar el grado de aproximación de la solución que se obtiene.\n",
    "\n",
    "Los errores asociados a los cálculos numéricos tienen su origen en dos grandes factores:\n",
    "\n",
    "* Aquellos que son inherentes a la formulación del problema.\n",
    "\n",
    "* Los que son consecuencia del método empleado para encontrar la solución del problema.\n",
    "\n",
    "Dentro del grupo de los primeros, se incluyen aquellos en los que la definición matemática del problema es sólo una aproximación a la situación física real. Estos errores son normalmente despreciables; por ejemplo, el que se comete al obviar los efectos relativistas en la solución de un problema de mecánica clásica. En aquellos casos en que estos errores no son realmente despreciables, nuestra solución será poco precisa independientemente de la precisión empleada para encontrar las soluciones numéricas.\n",
    "Otra fuente de este tipo de errores tiene su origen en la imprecisión de los datos físicos: constantes físicas y datos empíricos. En el caso de errores en la medida de los datos empíricos y teniendo en cuenta su carácter generalmente aleatorio, su tratamiento analítico es especialmente complejo pero imprescindible para contrastar el resultado obtenido computacionalmente.\n",
    "\n",
    "En lo que se refiere al segundo tipo de error (error computacional), existen tres fuentes principales:\n",
    "\n",
    "1. Equivocaciones en la realización de las operaciones. Esta fuente de error es bien conocida por cualquiera que haya realizado cálculos manualmente o empleado una calculadora. El empleo de ordenadores ha reducido enormemente la frecuencia de estos errores. Sin embargo, no es despreciable la probabilidad de que el programador cometa uno de estos errores (calculando correctamente el resultado erróneo). Más aún, la presencia de bugs no detectados en el compilador o en el software del sistema no es inusual. Cuando no resulta posible verificar que la solución calculada es razonablemente correcta, la probabilidad de que se haya cometido un error de estos no puede ser ignorada. Sin embargo, no es esta la fuente de error que más nos preocupa en estos momentos.\n",
    "\n",
    "2. El error causado por el uso de algún tipo de aproximación para resolver el problema debido a la sustitución de un proceso infinito (sumatoria o integración) o un infinitesimal (diferenciación) por una aproximación finita. Algunos ejemplos son:\n",
    "\n",
    "    El cálculo de una función elemental (por ejemplo, $Seno(x)$) empleando sólo $n$ términos de los infinitos que constituyen la expansión en serie de Taylor.\n",
    "    \n",
    "    Aproximación de la integral de una función por una suma finita de los valores de la función, como la empleada en la regla de los trapecios.\n",
    "\n",
    "    Resolución de una ecuación diferencial reemplazando las derivadas por una aproximación (diferencias finitas).\n",
    "\n",
    "    Solución de la ecuación $f(x) = 0$ por un proceso iterativo que, en general, converge sólo cuando el número de iteraciones tiende a infinito como el método de Newton-Raphson.\n",
    "\n",
    "    Este tipo de error se denomina error por truncamiento, ya que resulta de truncar un proceso infinito utilizando en su lugar un proceso finito. Obviamente, es importante poder estimar y/o acotar, este tipo de error en los  procedimientos numéricos.\n",
    "\n",
    "3. La otra fuente de error de importancia ocurre como producto de que los cálculos aritméticos no pueden realizarse con precisión ilimitada. Muchos números requieren infinitos dígitos (i.e., números periódicos) para su representación, sin embargo, en la práctica no se puede operar con todos ellos, especialmente por el uso de los ordenadores y su capacidad de almacenamiento finita. Por ello, es necesario redondearlos o truncarlos. \n",
    "\n",
    "    Incluso en el caso en que un número pueda representarse de manera exacta, al realizar cálculos con el mismo puede dar lugar a otros números que no tengan representación exacta provocando la aparición de errores. Por ejemplo, las divisiones pueden producir números que deben ser redondeados y las multiplicaciones pueden dar lugar a más dígitos de los que se pueden almacenar. El error que se introduce al redondear un número se denomina error de redondeo.\n",
    "    \n",
    "Veamos algunas definiciones. Generalmente, no conocemos el valor de una cierta magnitud $\\bar{x}$ y hemos de conformarnos con un valor aproximado x. Para estimar la magnitud de este error necesitamos dos definiciones básicas:\n",
    "\n",
    "**Error absoluto** de $x$ viene dado por el valor absoluto de la diferencia entre el valor real y el valor aproximado: \n",
    "\n",
    "$$e_{a}(x) = |x - \\bar{x}|$$\n",
    "\n",
    "**Error relativo** de $x$ (si $x$ es diferente de cero):\n",
    "\n",
    "$$\\displaystyle e_{r}(x) = \\frac{e_{a}(x)}{\\bar{x}}; \\textstyle (\\bar{x} \\neq 0)$$\n",
    "\n",
    "En la práctica, se emplea la expresión:\n",
    "\n",
    "$$\\displaystyle e_{r}(x) = \\frac{e_{a}(x)}{x}; \\textstyle (x \\neq 0)$$\n"
   ]
  },
  {
   "cell_type": "markdown",
   "id": "f33f69f2",
   "metadata": {},
   "source": [
    "En general, no conocemos el valor de este error, ya que no es habitual disponer del valor exacto de la magnitud, sino sólo de una acotación de su valor, esto es, un número $\\varepsilon(x)$, tal que:\n",
    "\n",
    "$$ \\vert e_{a}(x)\\vert \\leq \\varepsilon_{a}(x) $$\n",
    "\n",
    "o bien:\n",
    "\n",
    "$$\\vert e_{r}(x)\\vert \\leq \\varepsilon_{r}(x)$$\n",
    "\n",
    "De acuerdo con lo anterior, un numero se representará del siguiente modo:\n",
    "\n",
    "$$\\displaystyle \\bar{x}\t=\t\\displaystyle x \\pm \\varepsilon_{a}(x)$$\n",
    "\n",
    "$$\\displaystyle \\bar{x}\t=\t\\displaystyle x (1 \\pm \\varepsilon_{r}(x))$$"
   ]
  },
  {
   "cell_type": "markdown",
   "id": "383b572b",
   "metadata": {},
   "source": [
    "Sea $x$ un número real con una representación periódica. Diremos que $x$ está adecuadamente redondeado a un número $x_d$ con $d$ decimales, si el error de redondeo, $\\varepsilon$ es tal que:\n",
    "\n",
    "$$\\vert\\varepsilon\\vert = \\vert x - x_{d}\\vert \\leq \\frac{1}{2}\\cdot10^{-d} $$\n",
    "\n",
    "Ejemplo: sea $x = 3,141592, x_d = 3,14, d = 2$ entonces \n",
    "\n",
    "$$\\vert x - x_{d}\\vert = 0,001592 < \\frac{1}{2}\\cdot10^{-2} = 0,005$$"
   ]
  },
  {
   "cell_type": "markdown",
   "id": "819a3095",
   "metadata": {},
   "source": [
    "Otra forma de acotar el número de cifras significativas es eliminando los dígitos de orden inferior. El error en est caso se denomina error de truncamiento y se puede medir mediante la siguiente fórmula:\n",
    "\n",
    "$$\\vert\\varepsilon\\vert = \\vert x - x_{d}\\vert \\leq 1\\cdot10^{-d}$$\n",
    "\n",
    "Este método produce, por tanto, peores resultados que el método anterior."
   ]
  },
  {
   "cell_type": "markdown",
   "id": "956944b6",
   "metadata": {},
   "source": [
    "**Error de propagación.**\n",
    "\n",
    "El error de representación o de redondeo afecta a las operaciones aritméticas que se realicen con el ordenador. El resultado de cada operación se redondea de acuerdo con el número máximo de dígitos que puede representar el ordenador. De esta forma, en una sucesión de operaciones se pueden ir produciendo sucesivos errores, que se van arrastrando (propagando), lo que ocasiona una pérdida general de exactitud, puesto que se van perdiendo las cifras desechadas en cada paso.\n",
    "\n",
    "Ejemplo: calcular la expresión $((1+10^{−20}−1)⋅10^{20})$. Esta expresión, operada en el orden que se indica, da en la mayoría de los ordenadores como resultado 0, en contraste con su resultado correcto que es 1."
   ]
  },
  {
   "cell_type": "code",
   "execution_count": 1,
   "id": "79640cfa",
   "metadata": {},
   "outputs": [
    {
     "data": {
      "text/plain": [
       "0.0"
      ]
     },
     "execution_count": 1,
     "metadata": {},
     "output_type": "execute_result"
    }
   ],
   "source": [
    "x = ((1 + 1e-20 - 1) * 1e20)\n",
    "x"
   ]
  },
  {
   "cell_type": "code",
   "execution_count": 2,
   "id": "bb9dcf61",
   "metadata": {},
   "outputs": [
    {
     "data": {
      "text/plain": [
       "sys.float_info(max=1.7976931348623157e+308, max_exp=1024, max_10_exp=308, min=2.2250738585072014e-308, min_exp=-1021, min_10_exp=-307, dig=15, mant_dig=53, epsilon=2.220446049250313e-16, radix=2, rounds=1)"
      ]
     },
     "execution_count": 2,
     "metadata": {},
     "output_type": "execute_result"
    }
   ],
   "source": [
    "# Las características del tipo float en nuestra ordenador se obtienen con:\n",
    "import sys\n",
    "\n",
    "sys.float_info\n"
   ]
  },
  {
   "cell_type": "markdown",
   "id": "60ddcf1a",
   "metadata": {},
   "source": [
    "donde:\n",
    "\n",
    "* epsilon: diferencia entre 1.0 y el menor valor mayor que 1.0 que es representable como flotante.\n",
    "\n",
    "* dig: número máximo de dígitos decimales que se pueden representar fielmente en un flotante.\n",
    "\n",
    "* mant_dig: precisión de flotantes: el número de dígitos base-radix en el significando de un flotante.\n",
    "\n",
    "* max: máximo punto flotante positivo representable.\n",
    "\n",
    "* max_exp: entero máximo e tal que radix**(e-1) es un flotante finito representable.\n",
    "\n",
    "* max_10_exp: entero máximo e tal que 10**e está en el rango de flotantes finitos representables.\n",
    "\n",
    "* min: flotante normalizado mínimo representable positivo.\n",
    "\n",
    "* min_exp: entero mínimo e tal que radix**(e-1) es un flotante normalizado.\n",
    "\n",
    "* min_10_exp: entero mínimo e tal que 10**e es un valor flotante normalizado.\n",
    "\n",
    "* radix: base de representación de exponente.\n",
    "\n",
    "* rounds: entero que representa el modo de redondeo para la aritmética de coma flotante. \n",
    "\n"
   ]
  },
  {
   "cell_type": "markdown",
   "id": "3e863b2c",
   "metadata": {},
   "source": [
    "<center> <h3>Análisis numérico</h3> </center>\n",
    "\n",
    "La ciencia y la tecnología describen los fenómenos reales mediante modelos matemáticos. El estudio de estos modelos permite un conocimiento más profundo del fenómeno, así como de su evolución. La matemática aplicada es la rama de las matemáticas que se dedica a buscar y aplicar las herramientas más adecuadas a los problemas basados en estos modelos. Desafortunadamente, no siempre es posible aplicar métodos analíticos clásicos por diferentes razones:\n",
    "\n",
    "* No se adecúan al modelo concreto.\n",
    "\n",
    "* Su aplicación resulta excesivamente compleja.\n",
    "\n",
    "* La solución formal es tan complicada que hace imposible cualquier interpretación posterior.\n",
    "\n",
    "* Simplemente no existen métodos analíticos capaces de proporcionar soluciones al problema.\n",
    "\n",
    "En estos casos son útiles las técnicas numéricas, que mediante una labor de cálculo más o menos intensa, conducen a soluciones aproximadas que son siempre numéricas. El importante esfuerzo de cálculo que implica la mayoría de estos métodos hace que su uso esté íntimamente ligado al empleo de ordenadores. De hecho, sin el desarrollo que se ha producido en el campo de la informática resultaría difícilmente imaginable el nivel actual de utilización de las técnicas numéricas en ámbitos cada día más diversos.\n",
    "\n",
    "Los métodos numéricos son procedimientos matemáticos cuyo objetivo es la resolución numérica de problemas que carecen de expresión analítica para su resolución exacta. Estos procedimientos se expresan, en general, mediante algoritmos que especifican la secuencia de operaciones lógicas y aritméticas que conducen a la solución (normalmente aproximada) del problema planteado.\n",
    "\n",
    "Los métodos numéricos se implementan usualmente mediante lenguajes de programación para su ejecución en un sistema computacional. Este sistema puede estar formado por un único ordenador, o por múltiples ordenadores conectados en red. Cualquiera que sea el caso, los sistemas computacionales tienen limitaciones inherentes que deben ser tenidas en cuenta en el diseño de los algoritmos.\n",
    "\n",
    "Por ejemplo, los números irracionales como $\\sqrt{2}, \\pi, e$, etc., tienen un desarrollo de infinitas cifras decimales, por lo que no pueden representarse exactamente en la memoria de un ordenador."
   ]
  },
  {
   "cell_type": "markdown",
   "id": "c4ec46e9",
   "metadata": {},
   "source": [
    "<center> <h3>Bibliografía</h3> </center>\n",
    "\n",
    "* <a href=\"https://en.wikipedia.org/wiki/History_of_ancient_numeral_systems\" target=\"_blank\">History of ancient numeral systems</a>\n",
    "\n",
    "* <a href=\"https://en.wikipedia.org/wiki/History_of_the_Hindu%E2%80%93Arabic_numeral_system\" target=\"_blank\">History of the Hindu–Arabic numeral system</a>\n",
    "\n",
    "* <a href=\"https://ciencia.unam.mx/leer/38/Las_representaciones_de_los_numeros_Un_acercamiento_antropologico\" target=\"_blank\">Las representaciones de los números. Un acercamiento antropológico</a>\n",
    "\n",
    "* <a href=\"https://en.wikipedia.org/wiki/Etruscan_numerals\" target=\"_blank\">Etruscan numerals</a>\n",
    "\n",
    "* <a href=\"https://en.wikipedia.org/wiki/Brahmi_numerals\" target=\"_blank\">Brahmi numerals</a>\n",
    "\n",
    "* <a href=\"https://es.wikipedia.org/wiki/Notaci%C3%B3n_posicional\" target=\"_blank\">Notación posicional</a>\n",
    "\n",
    "* <a href=\"https://es.wikipedia.org/wiki/Sistema_binario\" target=\"_blank\">Sistema binario</a>\n",
    "\n",
    "* <a href=\"https://es.wikipedia.org/wiki/Representaci%C3%B3n_de_n%C3%BAmeros_con_signo\" target=\"_blank\">Representación de números con signo</a>\n",
    "\n",
    "* <a href=\"https://es.wikipedia.org/wiki/Complemento_a_dos\" target=\"_blank\">Complemento a dos</a>\n",
    "\n",
    "* <a href=\"https://es.wikipedia.org/wiki/Complemento_a_uno\" target=\"_blank\">Complemento a uno</a>\n",
    "\n",
    "* <a href=\"https://en.wikipedia.org/wiki/Integer_overflow\" target=\"_blank\">Integer overflow</a>\n",
    "\n",
    "* <a href=\"https://es.wikipedia.org/wiki/Coma_flotante\" target=\"_blank\">Coma flotante</a>\n",
    "\n",
    "* <a href=\"https://es.wikipedia.org/wiki/Notaci%C3%B3n_cient%C3%ADfica\" target=\"_blank\">Notación científica</a>\n",
    "\n",
    "* <a href=\"https://en.wikipedia.org/wiki/IEEE_754\" target=\"_blank\">Standard IEEE 754</a>\n",
    "\n",
    "* <a href=\"https://es.wikipedia.org/wiki/IEEE_754\" target=\"_blank\">Estándar IEEE 754</a>\n",
    "\n",
    "* <a href=\"https://en.wikipedia.org/wiki/Arithmetic_underflow\" target=\"_blank\">Arithmetic underflow</a>\n",
    "\n",
    "* <a href=\"https://es.wikipedia.org/wiki/Formato_en_coma_flotante_de_simple_precisi%C3%B3n\" target=\"_blank\">Formato en coma flotante de simple precisión</a>\n",
    "\n",
    "* <a href=\"https://es.wikipedia.org/wiki/Formato_en_coma_flotante_de_doble_precisi%C3%B3n\" target=\"_blank\">Formato en coma flotante de doble precisión.</a>\n",
    "\n",
    "* <a href=\"https://es.wikipedia.org/wiki/Error_de_aproximaci%C3%B3n\" target=\"_blank\">Error de aproximación.</a>\n",
    "\n",
    "* <a href=\"https://estadistica-dma.ulpgc.es/FCC/05-1-Generalidades-Metodos-Numericos.html#error-de-representacion-o-de-redondeo\" target=\"_blank\">Métodos Numéricos 1: fuentes de error.</a>\n",
    "\n",
    "* <a href=\"https://www.uv.es/diaz/mn/node2.html\" target=\"_blank\">Errores.</a>\n",
    "\n",
    "* <a href=\"https://es.wikipedia.org/wiki/N%C3%BAmero_decimal_peri%C3%B3dico#:~:text=Un%20n%C3%BAmero%20decimal%20peri%C3%B3dico%20es,0)%20en%20su%20expansi%C3%B3n%20decimal\" target=\"_blank\">Número decimal periódico.</a>\n",
    "\n",
    "* <a href=\"https://en.wikipedia.org/wiki/Approximation_error\" target=\"_blank\">Approximation error.</a>\n",
    "\n",
    "* <a href=\"https://en.wikipedia.org/wiki/Round-off_error\" target=\"_blank\">Round-off error.</a>\n",
    "\n",
    "* <a href=\"https://docs.python.org/es/3.10/library/sys.html\" target=\"_blank\">sys Parámetros y funciones específicos del sistema.</a>\n",
    "\n",
    "* <a href=\"https://www.unioviedo.es/compnum/laboratorios_py/Aritmetica_finita/Aritmetica_finita_y_error.html\" target=\"_blank\">Aritmética finita y fuentes del error </a>"
   ]
  },
  {
   "cell_type": "code",
   "execution_count": null,
   "id": "eedd6366",
   "metadata": {},
   "outputs": [],
   "source": []
  }
 ],
 "metadata": {
  "kernelspec": {
   "display_name": "Python 3 (ipykernel)",
   "language": "python",
   "name": "python3"
  },
  "language_info": {
   "codemirror_mode": {
    "name": "ipython",
    "version": 3
   },
   "file_extension": ".py",
   "mimetype": "text/x-python",
   "name": "python",
   "nbconvert_exporter": "python",
   "pygments_lexer": "ipython3",
   "version": "3.10.8"
  }
 },
 "nbformat": 4,
 "nbformat_minor": 5
}
