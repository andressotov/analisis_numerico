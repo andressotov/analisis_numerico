{
 "cells": [
  {
   "cell_type": "markdown",
   "id": "4e669e8b",
   "metadata": {},
   "source": [
    "# Factorización #\n",
    "\n",
    "En matemáticas, la factorización es una técnica que consiste en la descomposición en factores de una expresión algebraica (que puede ser un número, una suma o resta, una matriz, un polinomio, etc.) en forma de producto. Existen distintos métodos de factorización, dependiendo de los objetos matemáticos estudiados. El objetivo es simplificar una expresión o reescribirla en términos de «bloques fundamentales», que reciben el nombre de factores, como por ejemplo un número en números primos, o un polinomio en polinomios irreducibles.\n",
    "\n",
    "En álgebra lineal la factorización de una matriz es la descomposición de esta como producto de dos o más matrices según una forma canónica. Según sus aplicaciones a la resolución de sistemas de ecuaciones lineales, cálculo de determinantes e inversión de matrices podemos distinguir los siguientes tipos de factorizaciones: Factorización LU, Factorización de Cholesky, y Descomposición en valores singulares entre otras. \n"
   ]
  },
  {
   "cell_type": "markdown",
   "id": "0e9d2d94",
   "metadata": {},
   "source": [
    "## Factorización LU ##\n",
    "\n",
    "En el álgebra lineal, la factorización o descomposición $LU$ (del inglés Lower-Upper) es una forma de factorización de una matriz como el producto de una matriz triangular inferior y una superior. Debido a la inestabilidad de este método, deben tenerse en cuenta algunos casos especiales, por ejemplo, si uno o varios elementos de la diagonal principal de la matriz a factorizar es cero, es necesario pre multiplicar la matriz por una o varias matrices elementales de permutación. Existe un segundo método llamado factorización $ PA=LU $ con pivote. Esta descomposición se usa en el análisis numérico para resolver sistemas de ecuaciones (más eficientemente) o encontrar las matrices inversas.\n",
    "\n",
    "Cualquier matriz $A$ no singular se puede factorizar en una matriz triangular inferior $L$ y una matriz triangular superior $U$ utilizando procedimientos que ya hemos establecido con eliminación gaussiana. Esto resulta muy útil para el cálculo numérico y, de hecho, es una de las formas más comunes en que la mayoría de los solucionadores de álgebra lineal resuelven sistemas lineales no dispersos (non-sparse)."
   ]
  },
  {
   "cell_type": "markdown",
   "id": "1e38ab68",
   "metadata": {},
   "source": [
    "La factorización o descomposición LU (del inglés Lower-Upper) es una forma de factorización de una matriz como el producto de una matriz triangular inferior y una superior. \n",
    "Cualquier matriz A no singular se puede factorizar en una matriz triangular inferior L y una matriz triangular superior U utilizando procedimientos que ya hemos establecido con eliminación gaussiana."
   ]
  },
  {
   "cell_type": "markdown",
   "id": "0b4ad25a",
   "metadata": {},
   "source": [
    "Sea $A$ una matriz invertible. Tenemos que $A=LU$, donde $L$ y $U$ son matrices inferiores y superiores triangulares respectivamente. Por ejemplo:"
   ]
  },
  {
   "cell_type": "markdown",
   "id": "b33c0125",
   "metadata": {},
   "source": [
    "$$ \\left(\\begin{array}{cc}\n",
    "a_{11}&a_{12}&a_{13}\\\\\n",
    "a_{21}&a_{22}&a_{23}\\\\\n",
    "a_{31}&a_{32}&a_{33}\\\\\n",
    "\\end{array}\\right)\n",
    "=\n",
    "\\left(\\begin{array}{cc}\n",
    "1&0&0\\\\\n",
    "l_{21}&1&0\\\\\n",
    "l_{31}&l_{32}&1\n",
    "\\end{array}\\right)\n",
    "\\left(\\begin{array}{cc}\n",
    "u_{11}&u_{12}&u_{13}\\\\\n",
    "0&u_{22}&u_{23}\\\\\n",
    "0&0&u_{33}\\\\\n",
    "\\end{array}\\right)\n",
    "$$"
   ]
  },
  {
   "cell_type": "markdown",
   "id": "53b3add9",
   "metadata": {},
   "source": [
    "Identificando los elementos de la primera fila de $A$ con los correspondientes de $LU$, y los de la primera columna de $A$ con los correspondientes de $LU$, obtenemos:"
   ]
  },
  {
   "cell_type": "markdown",
   "id": "127da80f",
   "metadata": {},
   "source": [
    "$$ a_{1,j} = u_{1,j}, j = 1,...,n$$\n",
    "\n",
    "$$ a_{i,1} = l_{i,1}u_{1,1} \\Rightarrow \n",
    "l_{i,1} = \\frac {a_{i,1}}{u_{1,1}}, i = 2,...,n$$"
   ]
  },
  {
   "cell_type": "markdown",
   "id": "eda69090",
   "metadata": {},
   "source": [
    "Identificando a continuación los elementos de la segunda fila de $A$ con los correspondientes de $LU$, y los de la segunda columna de $A$ con los correspondientes de $LU$, obtenemos:"
   ]
  },
  {
   "cell_type": "markdown",
   "id": "cbf4b7cc",
   "metadata": {},
   "source": [
    "$$ a_{2,j} = l_{2,1}u_{1,j} + u_{2,j} \\Rightarrow $$\n",
    "$$ u_{2,j} = a_{2,j} - l_{2,1}u_{1,j}, j = 2,...,n $$\n",
    "\n",
    "$$ a_{i,2} = l_{i,1}u_{1,2} + l_{i,2}u_{2,2} \\Rightarrow $$\n",
    "$$ l_{i,2} = \\frac {1}{u_{2,2}} (a_{i,2}-l_{i,1}u_{1,2}),\n",
    "i = 3,...,n\n",
    "$$"
   ]
  },
  {
   "cell_type": "markdown",
   "id": "fdbb5a36",
   "metadata": {},
   "source": [
    "Y en general, si suponemos conocidas las $k − 1$ primeras filas de $U$ y las $k − 1$ primeras columnas de $L$, entonces, identificando los elementos de la $k$-ésima fila de $A$ con los correspondientes de $LU$, y los de la $k$-ésima columna de $A$ con los correspondientes de $LU$, obtenemos:"
   ]
  },
  {
   "cell_type": "markdown",
   "id": "cc6ac505",
   "metadata": {},
   "source": [
    "$$ a_{k,j} = l_{k,1}u_{1,j}+...+l_{k,k-1}u_{k-1,j}+ u_{k,j} \\Rightarrow $$\n",
    "\n",
    "$$ u_{k,j} = a_{k,j} - \\sum_{r=1}^{k-1} l_{k,r}u_{r,j}, j=k,...,n\n",
    "$$\n",
    "\n",
    "$$ a_{i,k}=l_{i,1}u_{1,k}+...+l_{i,k-1}u_{k-1,k}+l_{i,k}u_{k,k} \\Rightarrow\n",
    "$$\n",
    "\n",
    "$$ l_{i,k}=\\frac{1}{u_{k,k}} \\left(\\begin{array}{cc}\n",
    "a_{i,k}-\\sum_{r=1}^{k-1}l_{i,r}u_{r,k}\n",
    "\\end{array}\\right), i=k+1,...,n\n",
    "$$"
   ]
  },
  {
   "cell_type": "markdown",
   "id": "1ecb1d50",
   "metadata": {},
   "source": [
    "El algoritmo general sería:\n",
    "\n",
    "Para $k=1,...,n$\n",
    "\n",
    "$$ l_{k,k}u_{k,k}= a_{k,k}-\\sum_{r=1}^{k-1}l_{k,r}u_{r,k}; $$\n",
    "\n",
    "$$  l_{i,k}=\\frac{a_{i,k}-\\sum_{r=1}^{k-1}l_{i,r}u_{r,k}}{u_{k,k}}, i=k+1,...,n; $$\n",
    "\n",
    "$$ u_{k,j}=\\frac{a_{k,j}-\\sum_{r=1}^{k-1}l_{k,r}u_{r,j}}{l_{k,k}}, i=k+1,...,n\n",
    "$$"
   ]
  },
  {
   "cell_type": "markdown",
   "id": "4e246057",
   "metadata": {},
   "source": [
    "## Pseudocódigo para una factorización LU simple ##\n",
    "\n",
    "Considere las matrices:\n",
    "\n",
    "$$\n",
    "A = \n",
    "\\left(\\begin{array}{cc}\n",
    "a_{1,1} & a_{1,2} & ... & a_{1,n} \\\\\n",
    "a_{2,1} & a_{2,2} & ... & a_{2,n} \\\\\n",
    "... \\\\\n",
    "a_{n,1} & a_{n,2} & ... & a_{n,n}\n",
    "\\end{array}\\right)\n",
    ", \n",
    "L = \n",
    "\\left(\\begin{array}{cc}\n",
    "l_{1,1} & l_{1,2} & ... & l_{1,n} \\\\\n",
    "l_{2,1} & l_{2,2} & ... & l_{2,n} \\\\\n",
    "... \\\\\n",
    "l_{n,1} & l_{n,2} & ... & l_{n,n}\n",
    "\\end{array}\\right)\n",
    "$$\n",
    "\n",
    "$$\n",
    "U = \n",
    "\\left(\\begin{array}{cc}\n",
    "u_{1,1} & u_{1,2} & ... & u_{1,n} \\\\\n",
    "u_{2,1} & u_{2,2} & ... & u_{2,n} \\\\\n",
    "... \\\\\n",
    "u_{n,1} & u_{n,2} & ... & u_{n,n}\n",
    "\\end{array}\\right)\n",
    "$$\n"
   ]
  },
  {
   "cell_type": "markdown",
   "id": "e1d28444",
   "metadata": {},
   "source": [
    "Inicializamos $L$ con la matriz identidad $I$ de $n \\times n$ y $U=A$\n",
    "\n",
    "For $i=1,...,n$ do\n",
    "\n",
    "&ensp;For $j=i+1,...,n$ do\n",
    "\n",
    "&ensp;&ensp;$l_{j,i}=u_{j,i}/u_{i,i}$\n",
    "\n",
    "&ensp;&ensp;$U_j = (U_j-l_{j,i}U_i)$\n",
    "\n",
    "donde $U_i, U_j$ representan las filas $i$ y $j$ de la matriz $U$ respectivamente."
   ]
  },
  {
   "cell_type": "markdown",
   "id": "2e1355ad",
   "metadata": {},
   "source": [
    "Coste general de la factorización: $O(n^3)$"
   ]
  },
  {
   "cell_type": "markdown",
   "id": "a1ad1d1b",
   "metadata": {},
   "source": [
    "Ejemplo:"
   ]
  },
  {
   "cell_type": "code",
   "execution_count": 1,
   "id": "1f0a26e0",
   "metadata": {},
   "outputs": [
    {
     "data": {
      "text/plain": [
       "array([[ 1.,  1.,  0.],\n",
       "       [ 2.,  1., -1.],\n",
       "       [ 3., -1., -1.]])"
      ]
     },
     "execution_count": 1,
     "metadata": {},
     "output_type": "execute_result"
    }
   ],
   "source": [
    "import numpy as np\n",
    "\n",
    "A1 = np.array([ [1.,1.,0.], [2.,1.,-1.], [3.,-1.,-1.]])\n",
    "A1"
   ]
  },
  {
   "cell_type": "code",
   "execution_count": 2,
   "id": "f5e8c140",
   "metadata": {},
   "outputs": [
    {
     "data": {
      "text/plain": [
       "array([[ 1.,  1.,  0.],\n",
       "       [ 2.,  1., -1.],\n",
       "       [ 3., -1., -1.]])"
      ]
     },
     "execution_count": 2,
     "metadata": {},
     "output_type": "execute_result"
    }
   ],
   "source": [
    "# Las instrucciones de asignación en Python no copian objetos, \n",
    "# crean enlaces entre un objetivo y un objeto. \n",
    "# Para las colecciones que son mutables o contienen elementos mutables, \n",
    "# a veces se necesita una copia para poder cambiar uno de \n",
    "# los objetos copiados sin afectar al otro.\n",
    "U = np.copy(A1)\n",
    "U"
   ]
  },
  {
   "cell_type": "code",
   "execution_count": 3,
   "id": "2f8a9aa9",
   "metadata": {},
   "outputs": [
    {
     "data": {
      "text/plain": [
       "array([[1., 0., 0.],\n",
       "       [0., 1., 0.],\n",
       "       [0., 0., 1.]])"
      ]
     },
     "execution_count": 3,
     "metadata": {},
     "output_type": "execute_result"
    }
   ],
   "source": [
    "L = np.identity(3)\n",
    "L"
   ]
  },
  {
   "cell_type": "code",
   "execution_count": 4,
   "id": "90ff2d4d",
   "metadata": {},
   "outputs": [
    {
     "data": {
      "text/plain": [
       "array([[1., 0., 0.],\n",
       "       [2., 1., 0.],\n",
       "       [0., 0., 1.]])"
      ]
     },
     "execution_count": 4,
     "metadata": {},
     "output_type": "execute_result"
    }
   ],
   "source": [
    "# NOTA: observe que los índices en Python comienzan en cero a diferencia de \n",
    "# cómo se acostumbra en Matemáticas\n",
    "i = 0 # primera columna\n",
    "j = 1 # segunda fila \n",
    "L[j,i] = U[j,i]/U[i,i]\n",
    "L"
   ]
  },
  {
   "cell_type": "code",
   "execution_count": 5,
   "id": "3caf59a3",
   "metadata": {},
   "outputs": [
    {
     "data": {
      "text/plain": [
       "array([[ 1.,  1.,  0.],\n",
       "       [ 0., -1., -1.],\n",
       "       [ 3., -1., -1.]])"
      ]
     },
     "execution_count": 5,
     "metadata": {},
     "output_type": "execute_result"
    }
   ],
   "source": [
    "U[j] = U[j]-L[j,i]*U[i]\n",
    "U"
   ]
  },
  {
   "cell_type": "code",
   "execution_count": 6,
   "id": "6995a3ba",
   "metadata": {},
   "outputs": [
    {
     "data": {
      "text/plain": [
       "array([[1., 0., 0.],\n",
       "       [2., 1., 0.],\n",
       "       [3., 0., 1.]])"
      ]
     },
     "execution_count": 6,
     "metadata": {},
     "output_type": "execute_result"
    }
   ],
   "source": [
    "j=2 # tercera fila, la i se mantiene igual\n",
    "L[j,i] = U[j,i]/U[i,i]\n",
    "L"
   ]
  },
  {
   "cell_type": "code",
   "execution_count": 7,
   "id": "aaea08a5",
   "metadata": {},
   "outputs": [
    {
     "data": {
      "text/plain": [
       "array([[ 1.,  1.,  0.],\n",
       "       [ 0., -1., -1.],\n",
       "       [ 0., -4., -1.]])"
      ]
     },
     "execution_count": 7,
     "metadata": {},
     "output_type": "execute_result"
    }
   ],
   "source": [
    "U[j] = U[j]-L[j,i]*U[i]\n",
    "U"
   ]
  },
  {
   "cell_type": "code",
   "execution_count": 8,
   "id": "085d217b",
   "metadata": {},
   "outputs": [
    {
     "data": {
      "text/plain": [
       "array([[1., 0., 0.],\n",
       "       [2., 1., 0.],\n",
       "       [3., 4., 1.]])"
      ]
     },
     "execution_count": 8,
     "metadata": {},
     "output_type": "execute_result"
    }
   ],
   "source": [
    "# incrementamos la i y la j comienza en i+1\n",
    "i = 1\n",
    "j = 2\n",
    "L[j,i] = U[j,i]/U[i,i]\n",
    "L"
   ]
  },
  {
   "cell_type": "markdown",
   "id": "ae070228",
   "metadata": {},
   "source": [
    "Con lo cual hemos obtenido la matriz inferior"
   ]
  },
  {
   "cell_type": "code",
   "execution_count": 9,
   "id": "ee6ec3e4",
   "metadata": {},
   "outputs": [
    {
     "data": {
      "text/plain": [
       "array([[ 1.,  1.,  0.],\n",
       "       [ 0., -1., -1.],\n",
       "       [ 0.,  0.,  3.]])"
      ]
     },
     "execution_count": 9,
     "metadata": {},
     "output_type": "execute_result"
    }
   ],
   "source": [
    "U[j] = U[j]-L[j,i]*U[i]\n",
    "U"
   ]
  },
  {
   "cell_type": "markdown",
   "id": "94cd3eff",
   "metadata": {},
   "source": [
    "Con lo cual hemos obtenido la matriz triangular superior"
   ]
  },
  {
   "cell_type": "markdown",
   "id": "574d9af0",
   "metadata": {},
   "source": [
    "Podemos verificar nuestros resultados utilizando Python. Al multiplicar la matriz $L$ por la matriz $U$, obtenemos la matriz $A$ original.\n",
    "\n",
    "El operador @ es preferible a otros métodos cuando se calcula el producto matricial entre arreglos de 2 dimensiones. La función numpy.matmul implementa el operador @."
   ]
  },
  {
   "cell_type": "code",
   "execution_count": 10,
   "id": "d70f25a6",
   "metadata": {},
   "outputs": [
    {
     "data": {
      "text/plain": [
       "array([[ 1.,  1.,  0.],\n",
       "       [ 2.,  1., -1.],\n",
       "       [ 3., -1., -1.]])"
      ]
     },
     "execution_count": 10,
     "metadata": {},
     "output_type": "execute_result"
    }
   ],
   "source": [
    "L @ U"
   ]
  },
  {
   "cell_type": "code",
   "execution_count": 11,
   "id": "cd838118",
   "metadata": {},
   "outputs": [
    {
     "data": {
      "text/plain": [
       "array([[ 1.,  1.,  0.],\n",
       "       [ 2.,  1., -1.],\n",
       "       [ 3., -1., -1.]])"
      ]
     },
     "execution_count": 11,
     "metadata": {},
     "output_type": "execute_result"
    }
   ],
   "source": [
    "A1"
   ]
  },
  {
   "cell_type": "markdown",
   "id": "74735e66",
   "metadata": {},
   "source": [
    "La librería Scipy de Python tiene un módulo dedicado a Álgebra Lineal, el cual incluye una función o método que implementa la factorización $LU$. El método aquí implementado es más general que el que hemos estudiado anteriormente. "
   ]
  },
  {
   "cell_type": "code",
   "execution_count": 12,
   "id": "7aa05227",
   "metadata": {},
   "outputs": [
    {
     "data": {
      "text/plain": [
       "array([[0.33333333, 0.8       , 1.        ],\n",
       "       [0.66666667, 1.        , 0.        ],\n",
       "       [1.        , 0.        , 0.        ]])"
      ]
     },
     "execution_count": 12,
     "metadata": {},
     "output_type": "execute_result"
    }
   ],
   "source": [
    "import scipy.linalg as la\n",
    "\n",
    "L, U = la.lu(A1, permute_l=True, overwrite_a=False)\n",
    "L"
   ]
  },
  {
   "cell_type": "code",
   "execution_count": 13,
   "id": "28cc1eaf",
   "metadata": {},
   "outputs": [
    {
     "data": {
      "text/plain": [
       "array([[ 3.        , -1.        , -1.        ],\n",
       "       [ 0.        ,  1.66666667, -0.33333333],\n",
       "       [ 0.        ,  0.        ,  0.6       ]])"
      ]
     },
     "execution_count": 13,
     "metadata": {},
     "output_type": "execute_result"
    }
   ],
   "source": [
    "U"
   ]
  },
  {
   "cell_type": "markdown",
   "id": "d90df581",
   "metadata": {},
   "source": [
    "Como podemos ver, ninguna de las dos matrices se corresponde con las matrices que habíamos calculado. "
   ]
  },
  {
   "cell_type": "code",
   "execution_count": 14,
   "id": "77dfba01",
   "metadata": {},
   "outputs": [
    {
     "data": {
      "text/plain": [
       "array([[ 1.00000000e+00,  1.00000000e+00, -1.11022302e-16],\n",
       "       [ 2.00000000e+00,  1.00000000e+00, -1.00000000e+00],\n",
       "       [ 3.00000000e+00, -1.00000000e+00, -1.00000000e+00]])"
      ]
     },
     "execution_count": 14,
     "metadata": {},
     "output_type": "execute_result"
    }
   ],
   "source": [
    "L @ U"
   ]
  },
  {
   "cell_type": "code",
   "execution_count": 15,
   "id": "a98430b5",
   "metadata": {},
   "outputs": [
    {
     "data": {
      "text/plain": [
       "array([[ 1.,  1.,  0.],\n",
       "       [ 2.,  1., -1.],\n",
       "       [ 3., -1., -1.]])"
      ]
     },
     "execution_count": 15,
     "metadata": {},
     "output_type": "execute_result"
    }
   ],
   "source": [
    "A1"
   ]
  },
  {
   "cell_type": "markdown",
   "id": "3e59e1ed",
   "metadata": {},
   "source": [
    "Pero el producto sí se corresponde a la matriz original."
   ]
  },
  {
   "cell_type": "code",
   "execution_count": 16,
   "id": "15e87dbd",
   "metadata": {},
   "outputs": [
    {
     "data": {
      "text/plain": [
       "True"
      ]
     },
     "execution_count": 16,
     "metadata": {},
     "output_type": "execute_result"
    }
   ],
   "source": [
    "# Numpy ofrece otro medio de verificar el resultado\n",
    "# np.allclose devuelve True si dos arreglos son iguales elemento a elemento\n",
    "# con una cierta tolerancia.\n",
    "\n",
    "np.allclose(A1 - L @ U, np.zeros((3,3)))"
   ]
  },
  {
   "cell_type": "markdown",
   "id": "4e9027c3",
   "metadata": {},
   "source": [
    "La función lu descompone la matriz de la siguiente forma:\n",
    "\n",
    "$$ A = P L U $$\n",
    "\n",
    "donde $L$ es una matriz triangular inferior con unos en la diagonal, $U$ es una matriz triangular superior y $P$ es una matriz de permutación.\n",
    "Dado que no todas las matrices tienen descomposición $LU$, este método trata de encontrar una matriz de permutación $P$ tal que $PA$ tenga descomposición $LU$: $PA=LU$, donde $L$ y $U$ son nuevamente matrices triangulares inferior y superior, y $P$ es una matriz de permutación. En este caso, decimos que A tiene una factorización $PLU$."
   ]
  },
  {
   "cell_type": "code",
   "execution_count": 17,
   "id": "f558c6fd",
   "metadata": {},
   "outputs": [],
   "source": [
    "P, L, U = la.lu(A1)"
   ]
  },
  {
   "cell_type": "code",
   "execution_count": 18,
   "id": "faabf693",
   "metadata": {},
   "outputs": [
    {
     "data": {
      "text/plain": [
       "array([[0., 0., 1.],\n",
       "       [0., 1., 0.],\n",
       "       [1., 0., 0.]])"
      ]
     },
     "execution_count": 18,
     "metadata": {},
     "output_type": "execute_result"
    }
   ],
   "source": [
    "P"
   ]
  },
  {
   "cell_type": "code",
   "execution_count": 19,
   "id": "702a099b",
   "metadata": {},
   "outputs": [
    {
     "data": {
      "text/plain": [
       "array([[1.        , 0.        , 0.        ],\n",
       "       [0.66666667, 1.        , 0.        ],\n",
       "       [0.33333333, 0.8       , 1.        ]])"
      ]
     },
     "execution_count": 19,
     "metadata": {},
     "output_type": "execute_result"
    }
   ],
   "source": [
    "L"
   ]
  },
  {
   "cell_type": "code",
   "execution_count": 20,
   "id": "ba9c3b35",
   "metadata": {},
   "outputs": [
    {
     "data": {
      "text/plain": [
       "array([[ 3.        , -1.        , -1.        ],\n",
       "       [ 0.        ,  1.66666667, -0.33333333],\n",
       "       [ 0.        ,  0.        ,  0.6       ]])"
      ]
     },
     "execution_count": 20,
     "metadata": {},
     "output_type": "execute_result"
    }
   ],
   "source": [
    "U"
   ]
  },
  {
   "cell_type": "code",
   "execution_count": 21,
   "id": "6bb974af",
   "metadata": {},
   "outputs": [
    {
     "data": {
      "text/plain": [
       "array([[ 1.00000000e+00,  1.00000000e+00, -1.11022302e-16],\n",
       "       [ 2.00000000e+00,  1.00000000e+00, -1.00000000e+00],\n",
       "       [ 3.00000000e+00, -1.00000000e+00, -1.00000000e+00]])"
      ]
     },
     "execution_count": 21,
     "metadata": {},
     "output_type": "execute_result"
    }
   ],
   "source": [
    "P @ L @ U"
   ]
  },
  {
   "cell_type": "code",
   "execution_count": 22,
   "id": "b0cd686d",
   "metadata": {},
   "outputs": [
    {
     "data": {
      "text/plain": [
       "array([[ 1.,  1.,  0.],\n",
       "       [ 2.,  1., -1.],\n",
       "       [ 3., -1., -1.]])"
      ]
     },
     "execution_count": 22,
     "metadata": {},
     "output_type": "execute_result"
    }
   ],
   "source": [
    "A1"
   ]
  },
  {
   "cell_type": "markdown",
   "id": "c09ea9e9",
   "metadata": {},
   "source": [
    "Las matrices L y U obtenidas nuevamente no se corresponden con las obtenidas manualmente, pero al multiplicarlas sí se obtiene la matriz original. "
   ]
  },
  {
   "cell_type": "code",
   "execution_count": 23,
   "id": "a1767bfd",
   "metadata": {},
   "outputs": [
    {
     "data": {
      "text/plain": [
       "True"
      ]
     },
     "execution_count": 23,
     "metadata": {},
     "output_type": "execute_result"
    }
   ],
   "source": [
    "# Numpy ofrece otro medio de verificar el resultado\n",
    "# \n",
    "\n",
    "np.allclose(A1 - P @ L @ U, np.zeros((3,3)))"
   ]
  },
  {
   "cell_type": "code",
   "execution_count": 24,
   "id": "7213bbac",
   "metadata": {},
   "outputs": [
    {
     "data": {
      "text/plain": [
       "array([[2, 5, 8, 7],\n",
       "       [5, 2, 2, 8],\n",
       "       [7, 5, 6, 6],\n",
       "       [5, 4, 4, 8]])"
      ]
     },
     "execution_count": 24,
     "metadata": {},
     "output_type": "execute_result"
    }
   ],
   "source": [
    "# Veamos otro ejemplo\n",
    "\n",
    "A2 = np.array([[2, 5, 8, 7], [5, 2, 2, 8], [7, 5, 6, 6], [5, 4, 4, 8]])\n",
    "A2"
   ]
  },
  {
   "cell_type": "code",
   "execution_count": 25,
   "id": "d3ac4ece",
   "metadata": {},
   "outputs": [
    {
     "data": {
      "text/plain": [
       "array([[0., 1., 0., 0.],\n",
       "       [0., 0., 0., 1.],\n",
       "       [1., 0., 0., 0.],\n",
       "       [0., 0., 1., 0.]])"
      ]
     },
     "execution_count": 25,
     "metadata": {},
     "output_type": "execute_result"
    }
   ],
   "source": [
    "P, L, U = la.lu(A2)\n",
    "P"
   ]
  },
  {
   "cell_type": "code",
   "execution_count": 26,
   "id": "bd0b0eba",
   "metadata": {},
   "outputs": [
    {
     "data": {
      "text/plain": [
       "array([[ 1.        ,  0.        ,  0.        ,  0.        ],\n",
       "       [ 0.28571429,  1.        ,  0.        ,  0.        ],\n",
       "       [ 0.71428571,  0.12      ,  1.        ,  0.        ],\n",
       "       [ 0.71428571, -0.44      , -0.46153846,  1.        ]])"
      ]
     },
     "execution_count": 26,
     "metadata": {},
     "output_type": "execute_result"
    }
   ],
   "source": [
    "L"
   ]
  },
  {
   "cell_type": "code",
   "execution_count": 27,
   "id": "050314b5",
   "metadata": {},
   "outputs": [
    {
     "data": {
      "text/plain": [
       "array([[ 7.        ,  5.        ,  6.        ,  6.        ],\n",
       "       [ 0.        ,  3.57142857,  6.28571429,  5.28571429],\n",
       "       [ 0.        ,  0.        , -1.04      ,  3.08      ],\n",
       "       [ 0.        ,  0.        ,  0.        ,  7.46153846]])"
      ]
     },
     "execution_count": 27,
     "metadata": {},
     "output_type": "execute_result"
    }
   ],
   "source": [
    "U"
   ]
  },
  {
   "cell_type": "code",
   "execution_count": 28,
   "id": "19f69cb9",
   "metadata": {},
   "outputs": [
    {
     "data": {
      "text/plain": [
       "array([[7., 5., 6., 6.],\n",
       "       [2., 5., 8., 7.],\n",
       "       [5., 4., 4., 8.],\n",
       "       [5., 2., 2., 8.]])"
      ]
     },
     "execution_count": 28,
     "metadata": {},
     "output_type": "execute_result"
    }
   ],
   "source": [
    "L @ U"
   ]
  },
  {
   "cell_type": "code",
   "execution_count": 29,
   "id": "7e3dd8ba",
   "metadata": {},
   "outputs": [
    {
     "data": {
      "text/plain": [
       "array([[2, 5, 8, 7],\n",
       "       [5, 2, 2, 8],\n",
       "       [7, 5, 6, 6],\n",
       "       [5, 4, 4, 8]])"
      ]
     },
     "execution_count": 29,
     "metadata": {},
     "output_type": "execute_result"
    }
   ],
   "source": [
    "# podemos comparar el resultado con A2\n",
    "\n",
    "A2"
   ]
  },
  {
   "cell_type": "markdown",
   "id": "0b9385e0",
   "metadata": {},
   "source": [
    "Observe que algunas filas de la matriz han cambiado de posición pero son matrices equivalentes."
   ]
  },
  {
   "cell_type": "code",
   "execution_count": 30,
   "id": "d4001dd1",
   "metadata": {},
   "outputs": [
    {
     "data": {
      "text/plain": [
       "True"
      ]
     },
     "execution_count": 30,
     "metadata": {},
     "output_type": "execute_result"
    }
   ],
   "source": [
    "np.allclose(A2 - P @ L @ U, np.zeros((4, 4)))"
   ]
  },
  {
   "cell_type": "markdown",
   "id": "17d8a193",
   "metadata": {},
   "source": [
    "## Bibliografía ##\n",
    "\n",
    "* [Factorización](https://es.wikipedia.org/wiki/Factorizaci%C3%B3n)\n",
    "\n",
    "* [Factorización de matrices](https://es.wikipedia.org/wiki/Factorizaci%C3%B3n_de_matrices)\n",
    "\n",
    "* [Factorización LU](https://es.wikipedia.org/wiki/Factorizaci%C3%B3n_LU)\n",
    "\n",
    "* [LU Factorization](https://johnfoster.pge.utexas.edu/numerical-methods-book/LinearAlgebra_LU.html)\n",
    "\n",
    "* [Tema 3 Resolución de Sistemas de Ecuaciones Lineales](https://www.ugr.es/~mpasadas/ftp/Tema3_apuntes.pdf)\n",
    "\n",
    "* [PLU Factorization](https://www.cfm.brown.edu/people/dobrush/cs52/Mathematica/Part2/PLU.html)"
   ]
  },
  {
   "cell_type": "code",
   "execution_count": null,
   "id": "31125f21",
   "metadata": {},
   "outputs": [],
   "source": []
  }
 ],
 "metadata": {
  "kernelspec": {
   "display_name": "Python 3 (ipykernel)",
   "language": "python",
   "name": "python3"
  },
  "language_info": {
   "codemirror_mode": {
    "name": "ipython",
    "version": 3
   },
   "file_extension": ".py",
   "mimetype": "text/x-python",
   "name": "python",
   "nbconvert_exporter": "python",
   "pygments_lexer": "ipython3",
   "version": "3.10.8"
  }
 },
 "nbformat": 4,
 "nbformat_minor": 5
}
