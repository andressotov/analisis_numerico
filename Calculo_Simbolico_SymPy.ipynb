{
 "cells": [
  {
   "cell_type": "markdown",
   "id": "d3c12d79-ba27-49e2-8543-eba4a1a30c98",
   "metadata": {},
   "source": [
    "# <center> Cálculo Simbólico con SymPy </center>"
   ]
  },
  {
   "cell_type": "markdown",
   "id": "77569726-206c-42a5-90aa-00cb8676d1ea",
   "metadata": {},
   "source": [
    "SymPy es una biblioteca de Python para cálculo simbólico. Su objetivo es convertirse en un sistema de álgebra computacional (CAS) con todas las funciones, manteniendo el código lo más simple posible para que sea comprensible y fácilmente extensible. SymPy está escrito completamente en Python y usa Python como lenguaje de programación. SymPy solo depende de mpmath, una biblioteca de Python para aritmética en punto  flotante de longitud arbitraria, lo que facilita su uso. SymPy puede integrarse en otras aplicaciones y ampliarse con funciones personalizadas. "
   ]
  },
  {
   "cell_type": "markdown",
   "id": "e661cc7c-0aab-431b-939b-e9e3f752b698",
   "metadata": {},
   "source": [
    "SymPy define tres tipos numéricos: Real, Racional y Entero.\n",
    "\n",
    "La clase Racional representa un número racional como un par formado por dos enteros: el numerador y el denominador, por lo que Racional(1,2) representa 1/2, Racional(5,2) 5/2 y así sucesivamente:"
   ]
  },
  {
   "cell_type": "code",
   "execution_count": 1,
   "id": "bdc408af",
   "metadata": {},
   "outputs": [],
   "source": [
    "import sympy "
   ]
  },
  {
   "cell_type": "code",
   "execution_count": 2,
   "id": "029eea6f",
   "metadata": {},
   "outputs": [
    {
     "data": {
      "text/latex": [
       "$\\displaystyle \\frac{1}{2}$"
      ],
      "text/plain": [
       "1/2"
      ]
     },
     "execution_count": 2,
     "metadata": {},
     "output_type": "execute_result"
    }
   ],
   "source": [
    "a = sympy.Rational(1,2)\n",
    "a"
   ]
  },
  {
   "cell_type": "code",
   "execution_count": 3,
   "id": "991eed94-bfa6-41b2-bca5-70cc330846a2",
   "metadata": {},
   "outputs": [
    {
     "data": {
      "text/latex": [
       "$\\displaystyle 1$"
      ],
      "text/plain": [
       "1"
      ]
     },
     "execution_count": 3,
     "metadata": {},
     "output_type": "execute_result"
    }
   ],
   "source": [
    "a*2"
   ]
  },
  {
   "cell_type": "code",
   "execution_count": 4,
   "id": "cc2aa51d-01fe-4c2f-851c-3d6ed10fd4eb",
   "metadata": {},
   "outputs": [
    {
     "data": {
      "text/plain": [
       "0.5"
      ]
     },
     "execution_count": 4,
     "metadata": {},
     "output_type": "execute_result"
    }
   ],
   "source": [
    "# Si hicieramos ese cálculo en la forma habitual\n",
    "x=1/2\n",
    "x"
   ]
  },
  {
   "cell_type": "code",
   "execution_count": 5,
   "id": "425ec4b5-0b56-485b-a4bc-cfefbfd98d8b",
   "metadata": {},
   "outputs": [
    {
     "data": {
      "text/plain": [
       "1.0"
      ]
     },
     "execution_count": 5,
     "metadata": {},
     "output_type": "execute_result"
    }
   ],
   "source": [
    "x*2"
   ]
  },
  {
   "cell_type": "code",
   "execution_count": 6,
   "id": "20ae9ea9-781d-444e-8464-116e986e635f",
   "metadata": {},
   "outputs": [
    {
     "data": {
      "text/plain": [
       "3.0"
      ]
     },
     "execution_count": 6,
     "metadata": {},
     "output_type": "execute_result"
    }
   ],
   "source": [
    "# \n",
    "import math\n",
    "math.sqrt(9)"
   ]
  },
  {
   "cell_type": "code",
   "execution_count": 7,
   "id": "7954df12-ea08-4232-9d79-98272031e939",
   "metadata": {},
   "outputs": [
    {
     "data": {
      "text/plain": [
       "2.8284271247461903"
      ]
     },
     "execution_count": 7,
     "metadata": {},
     "output_type": "execute_result"
    }
   ],
   "source": [
    "math.sqrt(8)"
   ]
  },
  {
   "cell_type": "code",
   "execution_count": 8,
   "id": "8f84da91-2253-42a4-b448-87a81ead8fed",
   "metadata": {},
   "outputs": [
    {
     "data": {
      "text/latex": [
       "$\\displaystyle 3$"
      ],
      "text/plain": [
       "3"
      ]
     },
     "execution_count": 8,
     "metadata": {},
     "output_type": "execute_result"
    }
   ],
   "source": [
    "sympy.sqrt(9)"
   ]
  },
  {
   "cell_type": "code",
   "execution_count": 9,
   "id": "134af6d4-6e5a-41f8-bba5-a1c50f5be0a3",
   "metadata": {},
   "outputs": [
    {
     "data": {
      "text/latex": [
       "$\\displaystyle 2 \\sqrt{2}$"
      ],
      "text/plain": [
       "2*sqrt(2)"
      ]
     },
     "execution_count": 9,
     "metadata": {},
     "output_type": "execute_result"
    }
   ],
   "source": [
    "sympy.sqrt(8)"
   ]
  },
  {
   "cell_type": "code",
   "execution_count": 10,
   "id": "d9f36f18-60fa-4138-88a0-053d2fb21553",
   "metadata": {},
   "outputs": [
    {
     "data": {
      "text/latex": [
       "$\\displaystyle \\sqrt{3}$"
      ],
      "text/plain": [
       "sqrt(3)"
      ]
     },
     "execution_count": 10,
     "metadata": {},
     "output_type": "execute_result"
    }
   ],
   "source": [
    "sympy.sqrt(3)"
   ]
  },
  {
   "cell_type": "markdown",
   "id": "bb0c059e-5caa-4efa-9da0-f39d69cb4b99",
   "metadata": {},
   "source": [
    "SymPy usa mpmath en segundo plano, lo que hace posible realizar cálculos usando aritmética de precisión arbitraria. De esa forma, algunas constantes especiales, como $e$, $\\pi$, $\\infty$, se tratan como símbolos y se pueden evaluar con precisión arbitraria:"
   ]
  },
  {
   "cell_type": "code",
   "execution_count": 12,
   "id": "02687425-b774-4301-b6fc-7cb69c07ad0f",
   "metadata": {},
   "outputs": [
    {
     "data": {
      "text/latex": [
       "$\\displaystyle \\pi^{2}$"
      ],
      "text/plain": [
       "pi**2"
      ]
     },
     "execution_count": 12,
     "metadata": {},
     "output_type": "execute_result"
    }
   ],
   "source": [
    "from sympy import pi\n",
    "pi**2"
   ]
  },
  {
   "cell_type": "code",
   "execution_count": 13,
   "id": "b0c6ddca-6470-4b60-9cfe-aa087ac4ee62",
   "metadata": {},
   "outputs": [
    {
     "data": {
      "text/latex": [
       "$\\displaystyle 3.14159265358979$"
      ],
      "text/plain": [
       "3.14159265358979"
      ]
     },
     "execution_count": 13,
     "metadata": {},
     "output_type": "execute_result"
    }
   ],
   "source": [
    "pi.evalf()"
   ]
  },
  {
   "cell_type": "code",
   "execution_count": 15,
   "id": "3ea9e936-ec68-42f0-ab19-595a87e66317",
   "metadata": {},
   "outputs": [
    {
     "data": {
      "text/latex": [
       "$\\displaystyle 5.85987448204884$"
      ],
      "text/plain": [
       "5.85987448204884"
      ]
     },
     "execution_count": 15,
     "metadata": {},
     "output_type": "execute_result"
    }
   ],
   "source": [
    "from sympy import exp\n",
    "\n",
    "(pi+exp(1)).evalf()"
   ]
  },
  {
   "cell_type": "markdown",
   "id": "515f676e-4f92-405d-84c8-b3dfcb29cad7",
   "metadata": {},
   "source": [
    "Como se puede ver, evalf evalúa la expresión devolviendo un número de punto flotante.\n",
    "\n",
    "También hay una clase que representa el infinito matemático, llamada Infinity"
   ]
  },
  {
   "cell_type": "code",
   "execution_count": 16,
   "id": "b7873fc6-4c41-44c7-a727-e9a47abd5f5e",
   "metadata": {},
   "outputs": [
    {
     "data": {
      "text/latex": [
       "$\\displaystyle \\infty$"
      ],
      "text/plain": [
       "oo"
      ]
     },
     "execution_count": 16,
     "metadata": {},
     "output_type": "execute_result"
    }
   ],
   "source": [
    "from sympy import oo, exp, limit, Symbol\n",
    "1 + oo\n"
   ]
  },
  {
   "cell_type": "code",
   "execution_count": 17,
   "id": "afd7973f-1219-4477-892d-b51ce3bbdd26",
   "metadata": {},
   "outputs": [
    {
     "data": {
      "text/latex": [
       "$\\displaystyle \\text{True}$"
      ],
      "text/plain": [
       "True"
      ]
     },
     "execution_count": 17,
     "metadata": {},
     "output_type": "execute_result"
    }
   ],
   "source": [
    "oo > 99999"
   ]
  },
  {
   "cell_type": "code",
   "execution_count": 18,
   "id": "40627908-9c34-4977-9959-690b9b0ad6f9",
   "metadata": {},
   "outputs": [
    {
     "data": {
      "text/latex": [
       "$\\displaystyle \\infty$"
      ],
      "text/plain": [
       "oo"
      ]
     },
     "execution_count": 18,
     "metadata": {},
     "output_type": "execute_result"
    }
   ],
   "source": [
    "oo + 1"
   ]
  },
  {
   "cell_type": "code",
   "execution_count": 19,
   "id": "9de73e5b-4f78-46d9-8493-0b607f1f6d15",
   "metadata": {},
   "outputs": [
    {
     "data": {
      "text/latex": [
       "$\\displaystyle 0$"
      ],
      "text/plain": [
       "0"
      ]
     },
     "execution_count": 19,
     "metadata": {},
     "output_type": "execute_result"
    }
   ],
   "source": [
    "42/oo\n"
   ]
  },
  {
   "cell_type": "markdown",
   "id": "05103324-04b8-4d90-8de0-b4751409651a",
   "metadata": {},
   "source": [
    "En SymPy las variables se definen mediante símbolos. A diferencia de otros sistemas de manipulación simbólica, las variables en SymPy deben definirse antes de usarse.\n",
    "\n",
    "Definamos una expresión simbólica, representando la expresión matemática"
   ]
  },
  {
   "cell_type": "code",
   "execution_count": 20,
   "id": "4e808978-5d70-4d5c-b5ec-ca9a1e6ecc85",
   "metadata": {},
   "outputs": [
    {
     "data": {
      "text/latex": [
       "$\\displaystyle \\infty$"
      ],
      "text/plain": [
       "oo"
      ]
     },
     "execution_count": 20,
     "metadata": {},
     "output_type": "execute_result"
    }
   ],
   "source": [
    "x = Symbol('x')\n",
    "limit(exp(x), x, oo)"
   ]
  },
  {
   "cell_type": "code",
   "execution_count": 21,
   "id": "e0496cbd-e8a4-4137-9b10-bee5c36e8a69",
   "metadata": {},
   "outputs": [
    {
     "data": {
      "text/latex": [
       "$\\displaystyle 2 x$"
      ],
      "text/plain": [
       "2*x"
      ]
     },
     "execution_count": 21,
     "metadata": {},
     "output_type": "execute_result"
    }
   ],
   "source": [
    "y = Symbol('y')\n",
    "x+y+x-y"
   ]
  },
  {
   "cell_type": "code",
   "execution_count": 22,
   "id": "eef55f5c-f016-48f3-994c-97e1e542a0ec",
   "metadata": {},
   "outputs": [
    {
     "data": {
      "text/latex": [
       "$\\displaystyle \\left(x + y\\right)^{2}$"
      ],
      "text/plain": [
       "(x + y)**2"
      ]
     },
     "execution_count": 22,
     "metadata": {},
     "output_type": "execute_result"
    }
   ],
   "source": [
    "(x+y)**2"
   ]
  },
  {
   "cell_type": "code",
   "execution_count": 23,
   "id": "50df771c-c8f5-43a0-a3e8-ee773759f381",
   "metadata": {},
   "outputs": [
    {
     "data": {
      "text/latex": [
       "$\\displaystyle x + 2 y$"
      ],
      "text/plain": [
       "x + 2*y"
      ]
     },
     "execution_count": 23,
     "metadata": {},
     "output_type": "execute_result"
    }
   ],
   "source": [
    "# symbols permite definir varias variables a la vez\n",
    "\n",
    "from sympy import symbols\n",
    "x, y = symbols('x y')\n",
    "expr = x + 2*y\n",
    "expr"
   ]
  },
  {
   "cell_type": "markdown",
   "id": "b0373b90-503a-439b-a45b-0f0a72575809",
   "metadata": {},
   "source": [
    "Observe que escribimos $x + 2*y$ tal como lo haríamos si $x$ e $y$ fueran variables ordinarias de Python. Pero en este caso, en lugar de evaluar algo, la expresión sigue siendo $x + 2*y$."
   ]
  },
  {
   "cell_type": "code",
   "execution_count": 24,
   "id": "65ee1243-79c2-4be6-9eef-73902db90587",
   "metadata": {},
   "outputs": [
    {
     "data": {
      "text/latex": [
       "$\\displaystyle x + 2 y + 1$"
      ],
      "text/plain": [
       "x + 2*y + 1"
      ]
     },
     "execution_count": 24,
     "metadata": {},
     "output_type": "execute_result"
    }
   ],
   "source": [
    "expr + 1"
   ]
  },
  {
   "cell_type": "code",
   "execution_count": 25,
   "id": "d48e5e21-5cfa-4cfe-b80f-f25d848d518c",
   "metadata": {},
   "outputs": [
    {
     "data": {
      "text/latex": [
       "$\\displaystyle 2 y$"
      ],
      "text/plain": [
       "2*y"
      ]
     },
     "execution_count": 25,
     "metadata": {},
     "output_type": "execute_result"
    }
   ],
   "source": [
    "expr - x"
   ]
  },
  {
   "cell_type": "code",
   "execution_count": 26,
   "id": "3e6024f9-35d0-4926-a0b9-6fec73577f02",
   "metadata": {},
   "outputs": [
    {
     "data": {
      "text/latex": [
       "$\\displaystyle x \\left(x + 2 y\\right)$"
      ],
      "text/plain": [
       "x*(x + 2*y)"
      ]
     },
     "execution_count": 26,
     "metadata": {},
     "output_type": "execute_result"
    }
   ],
   "source": [
    "x*expr"
   ]
  },
  {
   "cell_type": "markdown",
   "id": "3d3ed507-200c-43ea-bac5-e483f440aa56",
   "metadata": {},
   "source": [
    "Aquí, podríamos esperar que $x(x+2y)$ se transformara en $x2+2xy$, pero en cambio vemos que la expresión se quedó como estaba. Este es un tema común en SymPy. Aparte de simplificaciones obvias como $x-x=0$ y $\\sqrt{8}=2\\sqrt{2}$, la mayoría de las simplificaciones no se realizan automáticamente. Esto se debe a que podríamos preferir la forma factorizada, o podríamos preferir la forma expandida. Ambas formas son útiles en diferentes circunstancias. En SymPy hay funciones para pasar de un formato al otro"
   ]
  },
  {
   "cell_type": "code",
   "execution_count": 27,
   "id": "ee9c2256-ecb8-4805-956a-3aac0ef522ed",
   "metadata": {},
   "outputs": [
    {
     "data": {
      "text/latex": [
       "$\\displaystyle x^{2} + 2 x y$"
      ],
      "text/plain": [
       "x**2 + 2*x*y"
      ]
     },
     "execution_count": 27,
     "metadata": {},
     "output_type": "execute_result"
    }
   ],
   "source": [
    "from sympy import expand, factor\n",
    "expanded_expr = expand(x*expr)\n",
    "expanded_expr"
   ]
  },
  {
   "cell_type": "code",
   "execution_count": 28,
   "id": "302abcb9-0f84-4896-90f8-8cba0c762e67",
   "metadata": {},
   "outputs": [
    {
     "data": {
      "text/latex": [
       "$\\displaystyle x \\left(x + 2 y\\right)$"
      ],
      "text/plain": [
       "x*(x + 2*y)"
      ]
     },
     "execution_count": 28,
     "metadata": {},
     "output_type": "execute_result"
    }
   ],
   "source": [
    "factor(expanded_expr)"
   ]
  },
  {
   "cell_type": "code",
   "execution_count": 29,
   "id": "50860fe2-c9d7-4a8f-ad7e-d397c56a8b14",
   "metadata": {},
   "outputs": [
    {
     "data": {
      "text/latex": [
       "$\\displaystyle x^{3} + 3 x^{2} y + 3 x y^{2} + y^{3}$"
      ],
      "text/plain": [
       "x**3 + 3*x**2*y + 3*x*y**2 + y**3"
      ]
     },
     "execution_count": 29,
     "metadata": {},
     "output_type": "execute_result"
    }
   ],
   "source": [
    "expand((x+y)**3)"
   ]
  },
  {
   "cell_type": "code",
   "execution_count": 30,
   "id": "24151df9-1d12-4663-87f3-30afa69d508c",
   "metadata": {},
   "outputs": [
    {
     "data": {
      "text/latex": [
       "$\\displaystyle \\operatorname{re}{\\left(x\\right)} + \\operatorname{re}{\\left(y\\right)} + i \\operatorname{im}{\\left(x\\right)} + i \\operatorname{im}{\\left(y\\right)}$"
      ],
      "text/plain": [
       "re(x) + re(y) + I*im(x) + I*im(y)"
      ]
     },
     "execution_count": 30,
     "metadata": {},
     "output_type": "execute_result"
    }
   ],
   "source": [
    "expand(x+y, complex=True)"
   ]
  },
  {
   "cell_type": "code",
   "execution_count": 32,
   "id": "695ab8cc-aa86-4aef-9054-22154c16a10a",
   "metadata": {},
   "outputs": [
    {
     "data": {
      "text/latex": [
       "$\\displaystyle - \\sin{\\left(x \\right)} \\sin{\\left(y \\right)} + \\cos{\\left(x \\right)} \\cos{\\left(y \\right)}$"
      ],
      "text/plain": [
       "-sin(x)*sin(y) + cos(x)*cos(y)"
      ]
     },
     "execution_count": 32,
     "metadata": {},
     "output_type": "execute_result"
    }
   ],
   "source": [
    "from sympy import cos\n",
    "\n",
    "expand(cos(x+y), trig=True)"
   ]
  },
  {
   "cell_type": "code",
   "execution_count": 33,
   "id": "7b0619cb-8452-4722-899c-f6f7fe78d46b",
   "metadata": {},
   "outputs": [
    {
     "data": {
      "text/latex": [
       "$\\displaystyle y + 1$"
      ],
      "text/plain": [
       "y + 1"
      ]
     },
     "execution_count": 33,
     "metadata": {},
     "output_type": "execute_result"
    }
   ],
   "source": [
    "from sympy import simplify\n",
    "\n",
    "simplify((x+x*y)/x)"
   ]
  },
  {
   "cell_type": "markdown",
   "id": "93bfad8f-0795-4add-9284-c886e8eb6d87",
   "metadata": {},
   "source": [
    "El poder real de un sistema de cálculo simbólico como SymPy es la capacidad de realizar todo tipo de cálculos simbólicamente. SymPy puede simplificar expresiones, calcular derivadas, integrales y límites, resolver ecuaciones, trabajar con matrices y mucho más y hacerlo todo simbólicamente. Incluye módulos para graficar, imprimir (como resultados impresos bonitos en 2D de fórmulas matemáticas o $\\LaTeX$), generación de código, física, estadística, combinatoria, teoría de números, geometría, lógica y más. "
   ]
  },
  {
   "cell_type": "code",
   "execution_count": 34,
   "id": "cd9c6cdf-7364-4295-bb8f-29c6a2f1e29e",
   "metadata": {},
   "outputs": [],
   "source": [
    "x, t, z, nu = symbols('x t z nu')"
   ]
  },
  {
   "cell_type": "code",
   "execution_count": 36,
   "id": "6ba3dcba-2b33-4232-89ff-ee8f9d10aa69",
   "metadata": {},
   "outputs": [],
   "source": [
    "from sympy import init_printing\n",
    "\n",
    "# pretty print with unicode characters.\n",
    "init_printing(use_unicode=True)"
   ]
  },
  {
   "cell_type": "markdown",
   "id": "544af6ca-42c5-4693-832d-74a8c758fadd",
   "metadata": {},
   "source": [
    "Calculemos la derivada de $sin(x)e^x$"
   ]
  },
  {
   "cell_type": "code",
   "execution_count": 39,
   "id": "a1275108-d7fa-4705-ab99-75973d449599",
   "metadata": {},
   "outputs": [
    {
     "data": {
      "image/png": "[encoded data removed]",
      "text/latex": [
       "$\\displaystyle e^{x} \\sin{\\left(x \\right)} + e^{x} \\cos{\\left(x \\right)}$"
      ],
      "text/plain": [
       " x           x       \n",
       "ℯ ⋅sin(x) + ℯ ⋅cos(x)"
      ]
     },
     "execution_count": 39,
     "metadata": {},
     "output_type": "execute_result"
    }
   ],
   "source": [
    "from sympy import diff, sin\n",
    "\n",
    "diff(sin(x)*exp(x), x)"
   ]
  },
  {
   "cell_type": "code",
   "execution_count": 40,
   "id": "36be5a6a-d240-4378-b4fe-a2c03c6a9115",
   "metadata": {},
   "outputs": [
    {
     "data": {
      "image/png": "[encoded data removed]",
      "text/latex": [
       "$\\displaystyle \\cos{\\left(x \\right)}$"
      ],
      "text/plain": [
       "cos(x)"
      ]
     },
     "execution_count": 40,
     "metadata": {},
     "output_type": "execute_result"
    }
   ],
   "source": [
    "diff(sin(x), x)"
   ]
  },
  {
   "cell_type": "code",
   "execution_count": 41,
   "id": "3025b782-3f45-4878-9194-60435532824b",
   "metadata": {},
   "outputs": [
    {
     "data": {
      "image/png": "[encoded data removed]",
      "text/latex": [
       "$\\displaystyle 2 \\cos{\\left(2 x \\right)}$"
      ],
      "text/plain": [
       "2⋅cos(2⋅x)"
      ]
     },
     "execution_count": 41,
     "metadata": {},
     "output_type": "execute_result"
    }
   ],
   "source": [
    "diff(sin(2*x), x)"
   ]
  },
  {
   "cell_type": "code",
   "execution_count": 43,
   "id": "d093e707-d1a1-4dc0-88c2-9cf887896f97",
   "metadata": {},
   "outputs": [
    {
     "data": {
      "image/png": "[encoded data removed]",
      "text/latex": [
       "$\\displaystyle \\tan^{2}{\\left(x \\right)} + 1$"
      ],
      "text/plain": [
       "   2       \n",
       "tan (x) + 1"
      ]
     },
     "execution_count": 43,
     "metadata": {},
     "output_type": "execute_result"
    }
   ],
   "source": [
    "from sympy import tan\n",
    "\n",
    "diff(tan(x), x)"
   ]
  },
  {
   "cell_type": "markdown",
   "id": "7115c447-b8b0-4c48-a361-a58647cad3e3",
   "metadata": {},
   "source": [
    "Las derivadas de orden superior se pueden calcular utilizando el método diff(func, var, n):"
   ]
  },
  {
   "cell_type": "code",
   "execution_count": 44,
   "id": "fd931dcc-0822-480a-8f03-74440336312f",
   "metadata": {},
   "outputs": [
    {
     "data": {
      "image/png": "[encoded data removed]",
      "text/latex": [
       "$\\displaystyle - 4 \\sin{\\left(2 x \\right)}$"
      ],
      "text/plain": [
       "-4⋅sin(2⋅x)"
      ]
     },
     "execution_count": 44,
     "metadata": {},
     "output_type": "execute_result"
    }
   ],
   "source": [
    "diff(sin(2*x), x, 2)"
   ]
  },
  {
   "cell_type": "code",
   "execution_count": 45,
   "id": "c15011e1-203b-4bdb-8f7c-3379ba9d45fa",
   "metadata": {},
   "outputs": [
    {
     "data": {
      "image/png": "[encoded data removed]",
      "text/latex": [
       "$\\displaystyle - 8 \\cos{\\left(2 x \\right)}$"
      ],
      "text/plain": [
       "-8⋅cos(2⋅x)"
      ]
     },
     "execution_count": 45,
     "metadata": {},
     "output_type": "execute_result"
    }
   ],
   "source": [
    "diff(sin(2*x), x, 3)"
   ]
  },
  {
   "cell_type": "markdown",
   "id": "75ccd3e5-d547-46d5-9554-da61e48d867e",
   "metadata": {},
   "source": [
    "Para calcular $\\int (e^x sin(x)+e^x cos(x)) \\, dx  $"
   ]
  },
  {
   "cell_type": "code",
   "execution_count": 47,
   "id": "2f93adee-7a0c-4268-9d5b-422524459e00",
   "metadata": {},
   "outputs": [
    {
     "data": {
      "image/png": "[encoded data removed]",
      "text/latex": [
       "$\\displaystyle e^{x} \\sin{\\left(x \\right)}$"
      ],
      "text/plain": [
       " x       \n",
       "ℯ ⋅sin(x)"
      ]
     },
     "execution_count": 47,
     "metadata": {},
     "output_type": "execute_result"
    }
   ],
   "source": [
    "from sympy import integrate\n",
    "\n",
    "integrate(exp(x)*sin(x) + exp(x)*cos(x), x)"
   ]
  },
  {
   "cell_type": "markdown",
   "id": "d2891b48-a48f-4a56-b2aa-9a4d097a139d",
   "metadata": {},
   "source": [
    "Para calcular $\\int^{\\infty}_{\\infty} sin(x^2) \\, dx  $"
   ]
  },
  {
   "cell_type": "code",
   "execution_count": 48,
   "id": "77e277ef-c7d5-48ff-91ca-afca4fda1c61",
   "metadata": {},
   "outputs": [
    {
     "data": {
      "image/png": "[encoded data removed]",
      "text/latex": [
       "$\\displaystyle \\frac{\\sqrt{2} \\sqrt{\\pi}}{2}$"
      ],
      "text/plain": [
       "√2⋅√π\n",
       "─────\n",
       "  2  "
      ]
     },
     "execution_count": 48,
     "metadata": {},
     "output_type": "execute_result"
    }
   ],
   "source": [
    "integrate(sin(x**2), (x, -oo, oo))"
   ]
  },
  {
   "cell_type": "code",
   "execution_count": 49,
   "id": "13ef82cd-bef2-4e94-8224-a6e609be58f7",
   "metadata": {},
   "outputs": [
    {
     "data": {
      "image/png": "[encoded data removed]",
      "text/latex": [
       "$\\displaystyle 1$"
      ],
      "text/plain": [
       "1"
      ]
     },
     "execution_count": 49,
     "metadata": {},
     "output_type": "execute_result"
    }
   ],
   "source": [
    "integrate(sin(x), (x, 0, pi/2))"
   ]
  },
  {
   "cell_type": "code",
   "execution_count": 50,
   "id": "d2f6acee-3f6a-413c-adb5-113618f845c2",
   "metadata": {},
   "outputs": [
    {
     "data": {
      "image/png": "[encoded data removed]",
      "text/latex": [
       "$\\displaystyle 2$"
      ],
      "text/plain": [
       "2"
      ]
     },
     "execution_count": 50,
     "metadata": {},
     "output_type": "execute_result"
    }
   ],
   "source": [
    "integrate(cos(x), (x, -pi/2, pi/2))"
   ]
  },
  {
   "cell_type": "code",
   "execution_count": 51,
   "id": "f2a6be51-1d68-408e-8478-e76854542217",
   "metadata": {},
   "outputs": [
    {
     "data": {
      "image/png": "[encoded data removed]",
      "text/latex": [
       "$\\displaystyle 1$"
      ],
      "text/plain": [
       "1"
      ]
     },
     "execution_count": 51,
     "metadata": {},
     "output_type": "execute_result"
    }
   ],
   "source": [
    "integrate(exp(-x), (x, 0, oo))"
   ]
  },
  {
   "cell_type": "code",
   "execution_count": 52,
   "id": "3cbac263-76d3-4509-9db4-8c4eb71e4734",
   "metadata": {},
   "outputs": [
    {
     "data": {
      "image/png": "[encoded data removed]",
      "text/latex": [
       "$\\displaystyle \\sqrt{\\pi}$"
      ],
      "text/plain": [
       "√π"
      ]
     },
     "execution_count": 52,
     "metadata": {},
     "output_type": "execute_result"
    }
   ],
   "source": [
    "integrate(exp(-x**2), (x, -oo, oo))"
   ]
  },
  {
   "cell_type": "markdown",
   "id": "5b0ec880-91c3-42c9-8bac-04250c3ab998",
   "metadata": {},
   "source": [
    "Los límites son fáciles de utilizar en SymPy utilizando la sintaxis \n",
    "\n",
    "    límite(función, variable, punto), \n",
    "\n",
    "por lo que, para calcular el límite de f (x) como x -> 0, se escribe límite (f, x, 0):"
   ]
  },
  {
   "cell_type": "code",
   "execution_count": 53,
   "id": "493f92f2-5d7f-485e-8483-9da979e1df9e",
   "metadata": {},
   "outputs": [
    {
     "data": {
      "image/png": "[encoded data removed]",
      "text/latex": [
       "$\\displaystyle 1$"
      ],
      "text/plain": [
       "1"
      ]
     },
     "execution_count": 53,
     "metadata": {},
     "output_type": "execute_result"
    }
   ],
   "source": [
    "limit(sin(x)/x, x, 0)"
   ]
  },
  {
   "cell_type": "code",
   "execution_count": 54,
   "id": "9029f54e-6534-4d1d-ae1b-f798df6ef448",
   "metadata": {},
   "outputs": [
    {
     "data": {
      "image/png": "[encoded data removed]",
      "text/latex": [
       "$\\displaystyle 0$"
      ],
      "text/plain": [
       "0"
      ]
     },
     "execution_count": 54,
     "metadata": {},
     "output_type": "execute_result"
    }
   ],
   "source": [
    "limit(1/x, x, oo)"
   ]
  },
  {
   "cell_type": "markdown",
   "id": "5efff795-fb0a-4f40-aa7c-5501d145544e",
   "metadata": {},
   "source": [
    "SymPy también sabe cómo calcular la serie de Taylor de una expresión en un punto utilizando \n",
    "\n",
    "    series (expr, var)"
   ]
  },
  {
   "cell_type": "code",
   "execution_count": 56,
   "id": "36d08b5e-a0d3-412e-9d23-6cae369e9856",
   "metadata": {},
   "outputs": [
    {
     "data": {
      "image/png": "[encoded data removed]",
      "text/latex": [
       "$\\displaystyle 1 - \\frac{x^{2}}{2} + \\frac{x^{4}}{24} + O\\left(x^{6}\\right)$"
      ],
      "text/plain": [
       "     2    4        \n",
       "    x    x     ⎛ 6⎞\n",
       "1 - ── + ── + O⎝x ⎠\n",
       "    2    24        "
      ]
     },
     "execution_count": 56,
     "metadata": {},
     "output_type": "execute_result"
    }
   ],
   "source": [
    "from sympy import series\n",
    "\n",
    "series(cos(x), x)"
   ]
  },
  {
   "cell_type": "code",
   "execution_count": 57,
   "id": "f721891e-e05d-49cf-9b85-370a5a7cd407",
   "metadata": {},
   "outputs": [
    {
     "data": {
      "image/png": "[encoded data removed]",
      "text/latex": [
       "$\\displaystyle 1 + \\frac{x^{2}}{2} + \\frac{5 x^{4}}{24} + O\\left(x^{6}\\right)$"
      ],
      "text/plain": [
       "     2      4        \n",
       "    x    5⋅x     ⎛ 6⎞\n",
       "1 + ── + ──── + O⎝x ⎠\n",
       "    2     24         "
      ]
     },
     "execution_count": 57,
     "metadata": {},
     "output_type": "execute_result"
    }
   ],
   "source": [
    "series(1/cos(x), x)"
   ]
  },
  {
   "cell_type": "markdown",
   "id": "ad9754ca-31c5-40a4-bbfa-ab98e32f653e",
   "metadata": {},
   "source": [
    "SymPy es capaz de resolver ecuaciones algebraicas, en una o varias variables.\n",
    "\n",
    "Ejemplo: resolver $x^2-2=0$"
   ]
  },
  {
   "cell_type": "code",
   "execution_count": 59,
   "id": "e5dcd3e8-f310-44fd-8b03-78318a419f67",
   "metadata": {},
   "outputs": [
    {
     "data": {
      "image/png": "[encoded data removed]",
      "text/latex": [
       "$\\displaystyle \\left[ - \\sqrt{2}, \\  \\sqrt{2}\\right]$"
      ],
      "text/plain": [
       "[-√2, √2]"
      ]
     },
     "execution_count": 59,
     "metadata": {},
     "output_type": "execute_result"
    }
   ],
   "source": [
    "from sympy import solve\n",
    "\n",
    "solve(x**2 - 2, x)"
   ]
  },
  {
   "cell_type": "code",
   "execution_count": 60,
   "id": "4ebc082d-4b84-49b2-86b8-4d7d0cf10441",
   "metadata": {},
   "outputs": [
    {
     "data": {
      "image/png": "[encoded data removed]",
      "text/latex": [
       "$\\displaystyle \\left[ -1, \\  1, \\  - i, \\  i\\right]$"
      ],
      "text/plain": [
       "[-1, 1, -ⅈ, ⅈ]"
      ]
     },
     "execution_count": 60,
     "metadata": {},
     "output_type": "execute_result"
    }
   ],
   "source": [
    "solve(x**4 - 1, x)"
   ]
  },
  {
   "cell_type": "markdown",
   "id": "b949857e-fcb5-49e5-8def-a605c1fb313f",
   "metadata": {},
   "source": [
    "Como se puede ver, el primer argumento es una expresión que se supone que debe ser igual a 0. Es capaz de resolver una gran parte de las ecuaciones polinomiales, y también es capaz de resolver múltiples ecuaciones con respecto a múltiples variables dando como segundo argumento una tupla."
   ]
  },
  {
   "cell_type": "markdown",
   "id": "768f3e3e-8b73-4430-a44b-e5f8f9435797",
   "metadata": {},
   "source": [
    "Resolver la ecuación diferencial $y^{´´}-y^{´}=e^t$"
   ]
  },
  {
   "cell_type": "code",
   "execution_count": 65,
   "id": "f85c165b-3d43-4880-90b1-4f09f634211b",
   "metadata": {},
   "outputs": [
    {
     "data": {
      "image/png": "[encoded data removed]",
      "text/latex": [
       "$\\displaystyle y{\\left(t \\right)} = C_{2} e^{- t} + \\left(C_{1} + \\frac{t}{2}\\right) e^{t}$"
      ],
      "text/plain": [
       "           -t   ⎛     t⎞  t\n",
       "y(t) = C₂⋅ℯ   + ⎜C₁ + ─⎟⋅ℯ \n",
       "                ⎝     2⎠   "
      ]
     },
     "execution_count": 65,
     "metadata": {},
     "output_type": "execute_result"
    }
   ],
   "source": [
    "from sympy import dsolve, Function, Eq\n",
    "\n",
    "y = Function('y')\n",
    "dsolve(Eq(y(t).diff(t, t) - y(t), exp(t)), y(t))"
   ]
  },
  {
   "cell_type": "markdown",
   "id": "46736f8d-120e-41ae-9b54-338fb9b8408b",
   "metadata": {},
   "source": [
    "### <center>Bibliografía</center>\n",
    "\n",
    "* [SymPy](https://www.sympy.org/en/index.html)\n",
    "\n",
    "* [SymPy Tutorial](https://docs.sympy.org/latest/tutorials/intro-tutorial/index.html)"
   ]
  }
 ],
 "metadata": {
  "kernelspec": {
   "display_name": "Python 3 (ipykernel)",
   "language": "python",
   "name": "python3"
  },
  "language_info": {
   "codemirror_mode": {
    "name": "ipython",
    "version": 3
   },
   "file_extension": ".py",
   "mimetype": "text/x-python",
   "name": "python",
   "nbconvert_exporter": "python",
   "pygments_lexer": "ipython3",
   "version": "3.10.11"
  }
 },
 "nbformat": 4,
 "nbformat_minor": 5
}
