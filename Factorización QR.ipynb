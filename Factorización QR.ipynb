{
 "cells": [
  {
   "cell_type": "markdown",
   "id": "22f181c8",
   "metadata": {},
   "source": [
    "# Factorización QR # \n",
    "\n",
    "La descomposición o factorización $QR$ de una matriz es una descomposición de la misma como producto de una matriz ortogonal por una matriz triangular superior. La descomposición $QR$ es la base del algoritmo utilizado para el cálculo de los vectores y valores propios de una matriz.\n",
    "\n",
    "La descomposición $QR$ de una matriz cuadrada real $A$ se representa como:\n",
    "\n",
    "$$ A=QR $$\n",
    "\n",
    "donde $Q$ es una matriz ortogonal ($Q^TQ = I$) y $R$ es una matriz triangular superior.\n",
    "\n"
   ]
  },
  {
   "cell_type": "markdown",
   "id": "1e492bd0",
   "metadata": {},
   "source": [
    "Existen diferentes métodos para el cálculo de la descomposición $QR$ como el método de ortogonalización de Gram-Schmidt, la  transformación de Householder y mediante las rotaciones de Givens. \n",
    "\n",
    "El proceso de ortogonalización de Gram–Schmidt es un algoritmo para construir, a partir de un conjunto de vectores de un espacio vectorial, otro conjunto ortonormal de vectores que genere el mismo subespacio vectorial. Si bien la aplicación de las proyecciones tiene una analogía geométrica atractiva con la ortogonalización, la ortogonalización en sí es propensa al error numérico. El proceso  es inherentemente numéricamente inestable.  Una ventaja significativa es la facilidad de implementación.\n",
    "\n",
    "El método de Householder tiene una estabilidad numérica mayor que la del método de Gram-Schmidt. Una pequeña variación del método de Householder se utiliza para obtener matrices semejantes con la forma de Hessenberg, muy útiles en el cálculo de autovalores por acelerar la convergencia del algoritmo QR reduciendo así enormemente su coste computacional.\n",
    "\n",
    "El procedimiento de rotación de Givens es útil en situaciones donde sólo pocos elementos fuera de la diagonal necesitan ser anulados y es más fácil de paralelizar que las transformaciones de Householder."
   ]
  },
  {
   "cell_type": "markdown",
   "id": "c23e2672",
   "metadata": {},
   "source": [
    "El uso de transformaciones de Householder es inherentemente el más simple de los algoritmos de descomposición $QR$ numéricamente estables debido al uso de reflejos como mecanismo para producir ceros en la matriz $R$. Sin embargo, el algoritmo de reflexión de Householder tiene un gran ancho de banda y no se puede paralelizar, ya que cada reflexión que produce un nuevo elemento cero cambia la totalidad de las matrices $Q$ y $R$."
   ]
  },
  {
   "cell_type": "markdown",
   "id": "2a32ae8f",
   "metadata": {},
   "source": [
    "Ver [Transformación de Householder](http://localhost:8888/notebooks/Mi_unidad/ASoto(GDrive)/My_Projects_GDrive/UnivIntVal/Transformaci%C3%B3n%20de%20Householder.ipynb) para más detalles sobre el proceso."
   ]
  },
  {
   "cell_type": "code",
   "execution_count": 2,
   "id": "34cd33d0",
   "metadata": {},
   "outputs": [],
   "source": [
    "# Ejemplo factorización QR\n",
    "import scipy.linalg as la\n",
    "import numpy as np\n",
    "\n",
    "A = np.array([[12, -51, 4],\n",
    "              [6, 167, -68],\n",
    "              [-4, 24, -41]])  \n",
    "Q, R = la.qr(A)"
   ]
  },
  {
   "cell_type": "code",
   "execution_count": 3,
   "id": "7d3a2850",
   "metadata": {},
   "outputs": [
    {
     "data": {
      "text/plain": [
       "array([[-0.85714286,  0.39428571,  0.33142857],\n",
       "       [-0.42857143, -0.90285714, -0.03428571],\n",
       "       [ 0.28571429, -0.17142857,  0.94285714]])"
      ]
     },
     "execution_count": 3,
     "metadata": {},
     "output_type": "execute_result"
    }
   ],
   "source": [
    "Q"
   ]
  },
  {
   "cell_type": "code",
   "execution_count": 4,
   "id": "59dfe0ee",
   "metadata": {},
   "outputs": [
    {
     "data": {
      "text/plain": [
       "array([[ -14.,  -21.,   14.],\n",
       "       [   0., -175.,   70.],\n",
       "       [   0.,    0.,  -35.]])"
      ]
     },
     "execution_count": 4,
     "metadata": {},
     "output_type": "execute_result"
    }
   ],
   "source": [
    "R"
   ]
  },
  {
   "cell_type": "markdown",
   "id": "d7952ca0",
   "metadata": {},
   "source": [
    "Para verificar si Q es ortogonal podemos verificar si $Q^TQ = I$"
   ]
  },
  {
   "cell_type": "code",
   "execution_count": 5,
   "id": "0e03c733",
   "metadata": {},
   "outputs": [
    {
     "data": {
      "text/plain": [
       "array([[ 1.00000000e+00, -5.04131884e-17, -3.39864191e-17],\n",
       "       [-5.04131884e-17,  1.00000000e+00,  2.30881074e-17],\n",
       "       [-3.39864191e-17,  2.30881074e-17,  1.00000000e+00]])"
      ]
     },
     "execution_count": 5,
     "metadata": {},
     "output_type": "execute_result"
    }
   ],
   "source": [
    "Q.transpose() @ Q"
   ]
  },
  {
   "cell_type": "markdown",
   "id": "3f12383f",
   "metadata": {},
   "source": [
    "Podemos ver que los coeficientes de l diagonal son iguales a 1 y que los coeficientes restantes son menores que $10^{-17}$, lo cual se puede considerar igual a cero teniendo en cuenta la precisión limitada del ordenador.\n",
    "\n",
    "Por otra parte, si multiplicamos Q por R debemos obtener la matriz A original."
   ]
  },
  {
   "cell_type": "code",
   "execution_count": 6,
   "id": "db4700ea",
   "metadata": {},
   "outputs": [
    {
     "data": {
      "text/plain": [
       "array([[ 12., -51.,   4.],\n",
       "       [  6., 167., -68.],\n",
       "       [ -4.,  24., -41.]])"
      ]
     },
     "execution_count": 6,
     "metadata": {},
     "output_type": "execute_result"
    }
   ],
   "source": [
    "Q @ R"
   ]
  },
  {
   "cell_type": "code",
   "execution_count": 7,
   "id": "4bc92233",
   "metadata": {},
   "outputs": [
    {
     "data": {
      "text/plain": [
       "array([[ 12, -51,   4],\n",
       "       [  6, 167, -68],\n",
       "       [ -4,  24, -41]])"
      ]
     },
     "execution_count": 7,
     "metadata": {},
     "output_type": "execute_result"
    }
   ],
   "source": [
    "A"
   ]
  },
  {
   "cell_type": "markdown",
   "id": "1facc457",
   "metadata": {},
   "source": [
    "lqqd: lo que queda demostrado"
   ]
  },
  {
   "cell_type": "markdown",
   "id": "8953c724",
   "metadata": {},
   "source": [
    "Veamos otro ejemplo"
   ]
  },
  {
   "cell_type": "code",
   "execution_count": 8,
   "id": "a693a6cf",
   "metadata": {},
   "outputs": [
    {
     "data": {
      "text/plain": [
       "array([[ 12, -51,   4],\n",
       "       [  6, 167, -68],\n",
       "       [ -4,  24, -41]])"
      ]
     },
     "execution_count": 8,
     "metadata": {},
     "output_type": "execute_result"
    }
   ],
   "source": [
    "A = np.array([[12, -51, 4], [6, 167, -68], [-4, 24, -41]])\n",
    "A"
   ]
  },
  {
   "cell_type": "code",
   "execution_count": 9,
   "id": "0632189d",
   "metadata": {},
   "outputs": [
    {
     "data": {
      "text/plain": [
       "array([[-0.85714286,  0.39428571,  0.33142857],\n",
       "       [-0.42857143, -0.90285714, -0.03428571],\n",
       "       [ 0.28571429, -0.17142857,  0.94285714]])"
      ]
     },
     "execution_count": 9,
     "metadata": {},
     "output_type": "execute_result"
    }
   ],
   "source": [
    "Q, R = la.qr(A)\n",
    "Q"
   ]
  },
  {
   "cell_type": "code",
   "execution_count": 10,
   "id": "71cc38fc",
   "metadata": {},
   "outputs": [
    {
     "data": {
      "text/plain": [
       "array([[ -14.,  -21.,   14.],\n",
       "       [   0., -175.,   70.],\n",
       "       [   0.,    0.,  -35.]])"
      ]
     },
     "execution_count": 10,
     "metadata": {},
     "output_type": "execute_result"
    }
   ],
   "source": [
    "R"
   ]
  },
  {
   "cell_type": "code",
   "execution_count": 11,
   "id": "bfd2dc6d",
   "metadata": {},
   "outputs": [
    {
     "data": {
      "text/plain": [
       "array([[ 1.00000000e+00, -5.04131884e-17, -3.39864191e-17],\n",
       "       [-5.04131884e-17,  1.00000000e+00,  2.30881074e-17],\n",
       "       [-3.39864191e-17,  2.30881074e-17,  1.00000000e+00]])"
      ]
     },
     "execution_count": 11,
     "metadata": {},
     "output_type": "execute_result"
    }
   ],
   "source": [
    "# verificamos si Q es ortogonal\n",
    "Q.transpose() @ Q"
   ]
  },
  {
   "cell_type": "markdown",
   "id": "a8beae03",
   "metadata": {},
   "source": [
    "Al igual que en el caso anterior, los coeficientes de la diagonal son unitarios y los demás coeficientes se pueden considerar iguales a cero.\n",
    "\n",
    "Probemos a obtener A como producto de Q y R"
   ]
  },
  {
   "cell_type": "code",
   "execution_count": 12,
   "id": "51c4a958",
   "metadata": {},
   "outputs": [
    {
     "data": {
      "text/plain": [
       "array([[ 12., -51.,   4.],\n",
       "       [  6., 167., -68.],\n",
       "       [ -4.,  24., -41.]])"
      ]
     },
     "execution_count": 12,
     "metadata": {},
     "output_type": "execute_result"
    }
   ],
   "source": [
    "Q @ R"
   ]
  },
  {
   "cell_type": "code",
   "execution_count": 13,
   "id": "3f07f250",
   "metadata": {},
   "outputs": [
    {
     "data": {
      "text/plain": [
       "array([[ 12, -51,   4],\n",
       "       [  6, 167, -68],\n",
       "       [ -4,  24, -41]])"
      ]
     },
     "execution_count": 13,
     "metadata": {},
     "output_type": "execute_result"
    }
   ],
   "source": [
    "A"
   ]
  },
  {
   "cell_type": "markdown",
   "id": "162d3fae",
   "metadata": {},
   "source": [
    "## Bibliografía ##\n",
    "\n",
    "* [Factorización QR](https://es.wikipedia.org/wiki/Factorizaci%C3%B3n_QR)\n",
    "\n",
    "* [Numpy LinAlg QR](https://numpy.org/doc/stable/reference/generated/numpy.linalg.qr.html)\n",
    "\n",
    "* [La Factorización QR - Uprm](https://academic.uprm.edu/eacuna/lec3comp.pdf)\n",
    "\n",
    "* [Factorización QR MAT–251](https://www.cimat.mx/~alram/met_num/clases/clase12.pdf)\n",
    "\n",
    "* [Linear algebra (scipy.linalg)](https://docs.scipy.org/doc/scipy/reference/linalg.html)\n",
    "\n",
    "* [LAPACK 3.11.0 Linear Algebra PACKage](https://netlib.org/lapack/explore-html/dd/d9a/group__double_g_ecomputational_ga3766ea903391b5cf9008132f7440ec7b.html)\n",
    "\n",
    "* [QR decomposition](https://en.wikipedia.org/wiki/QR_decomposition)\n",
    "\n"
   ]
  },
  {
   "cell_type": "code",
   "execution_count": null,
   "id": "30e739b5",
   "metadata": {},
   "outputs": [],
   "source": []
  }
 ],
 "metadata": {
  "kernelspec": {
   "display_name": "Python 3 (ipykernel)",
   "language": "python",
   "name": "python3"
  },
  "language_info": {
   "codemirror_mode": {
    "name": "ipython",
    "version": 3
   },
   "file_extension": ".py",
   "mimetype": "text/x-python",
   "name": "python",
   "nbconvert_exporter": "python",
   "pygments_lexer": "ipython3",
   "version": "3.10.8"
  }
 },
 "nbformat": 4,
 "nbformat_minor": 5
}
