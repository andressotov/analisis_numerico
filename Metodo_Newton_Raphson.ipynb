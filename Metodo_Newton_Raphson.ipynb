{
 "cells": [
  {
   "cell_type": "markdown",
   "id": "240a8e1c",
   "metadata": {},
   "source": [
    "<center> <h1>Método de Newton-Raphson</h1> </center>\n",
    "\n",
    "El método de Newton (o de Newton-Raphson) es un algoritmo de búsqueda de las raíces (o ceros) de una función de valor real, el cual produce aproximaciones sucesivas, cada vez mejores a dichas raíces. \n",
    "\n",
    "La versión simple del método se aplica a una función $f$ sobre una variable real $x$, la derivada $f^´$ de la función y una estimación inicial $x_0$ para una raíz de la función. A partir de dichas hipótesis, si estimación inicial es suficientemente buena, i.e., cercana a la raíz, entonces el valor $x_1$ definido por la siguiente expresión:\n",
    "\n",
    "$${\\displaystyle x_{1}=x_{0}-{\\frac {f(x_{0})}{f'(x_{0})}}}$$\n",
    "\n",
    "es una mejor aproximación de la raíz que $x_0$."
   ]
  },
  {
   "cell_type": "markdown",
   "id": "1758e743",
   "metadata": {},
   "source": [
    "Geométricamente, $(x_1, 0)$ es la intersección del eje $x$ con la tangente del  gráfico de $f$ en el punto $(x_0, f(x_0))$, por lo que, si consideramos la recta tangente de $f$ en dicho punto como una aproximación de la función $f$, entonces $x_1$ es la raíz de dicha recta y, por tanto, de la aproximación de $f$.\n",
    "\n",
    "El proceso se repite hasta alcanzar un valor suficientemente preciso. El número de dígitos correctos se duplica aproximadamente con cada paso.\n",
    "\n",
    "$$ {\\displaystyle x_{n+1}=x_{n}-{\\frac {f(x_{n})}{f'(x_{n})}}}$$\n",
    "\n"
   ]
  },
  {
   "cell_type": "markdown",
   "id": "a0657809",
   "metadata": {},
   "source": [
    "<img src=\"./images/Newton_iteration.png\">"
   ]
  },
  {
   "cell_type": "markdown",
   "id": "3a00202c",
   "metadata": {},
   "source": [
    "El proceso comienza con un valor inicial arbitrario $x_0$, cuanto más cercano a la raíz, mejor. Pero, en ausencia de cualquier estimación de la raíz, aplicando un método de \"adivinar y verificar\" puede reducir las posibilidades a un intervalo razonablemente pequeño. El método generalmente converge, siempre que esta suposición inicial sea lo suficientemente cercana al cero desconocido y que $f^´(x_0) \\neq 0$"
   ]
  },
  {
   "cell_type": "markdown",
   "id": "53cec9e0",
   "metadata": {},
   "source": [
    "Se asume que la función tiene un \"buen comportamiento\", es decir, que \n",
    "\n",
    "* está definida para todos los valores del intervalo que vamos a tratar, \n",
    "\n",
    "* a cada punto del intervalo, la función tiene un solo valor, \n",
    "\n",
    "* es continua y \n",
    "\n",
    "* sus derivadas son definidas y continuas."
   ]
  },
  {
   "cell_type": "markdown",
   "id": "6fb58979",
   "metadata": {},
   "source": [
    "Se puede demostrar que el método de Newton-Raphson tiene convergencia cuadrática: si $\\alpha$ es una raíz, entonces:\n",
    "\n",
    "$$|x_{{k+1}}-\\alpha |\\leq C|x_{k}-\\alpha |^{2}$$\n",
    "\n",
    "para una cierta constante $C$. Esto significa que si, en algún momento el error es menor o igual a 0.1, a cada nueva iteración el número de decimales exactos se duplica aproximadamente. En la práctica puede servir para hacer una estimación aproximada del error:\n",
    "\n",
    "El error relativo entre dos aproximaciones sucesivas viene dado por:\n",
    "\n",
    "$$E={\\frac  {|x_{{k+1}}-x_{k}|}{|x_{{k+1}}|}}$$\n",
    "\n",
    "Con lo cual se toma el error relativo como si la última aproximación fuera el valor exacto. Se detiene el proceso iterativo cuando este error relativo es aproximadamente menor que una cantidad fijada previamente."
   ]
  },
  {
   "cell_type": "markdown",
   "id": "4f49ccff",
   "metadata": {},
   "source": [
    "El método de Newton es una técnica poderosa, ya que su convergencia es cuadrática, i.e., el número de dígitos precisos se duplica aproximadamente en cada paso. Sin embargo, el método requiere que la derivada se pueda calcular directamente de forma analítica, la cual puede no ser fácil de obtener o ser costosa de evaluar. \n",
    "\n",
    "En estas situaciones, puede ser apropiado aproximar la derivada usando la pendiente de una línea que pasa por dos puntos cercanos en la función. Esta aproximación se corresponde al método de la secante, cuya convergencia es más lenta que la del método de Newton."
   ]
  },
  {
   "cell_type": "markdown",
   "id": "df19b409",
   "metadata": {},
   "source": [
    "Consideremos el problema de encontrar un número positivo $x$ tal que ${\\displaystyle \\cos(x)=x^{3}}$, para lo cual podemos transformarlo en el problema de encontrar el cero de ${\\displaystyle f(x)=\\cos(x)-x^{3}}$.\n",
    "\n",
    "Sabemos que ${\\displaystyle f'(x)=-\\operatorname {sen}(x)-3x^{2}}$. Ya que \n",
    "$cos(x) \\leq 1$ para todo $x$ y ${\\displaystyle x^{3}>1}$ para ${\\displaystyle x>1}$, luego podemos deducir que el cero se encuentra entre 0 y 1. \n",
    "\n",
    "Comenzaremos probando con el valor inicial ${\\displaystyle x_{0}=0.5}$"
   ]
  },
  {
   "cell_type": "code",
   "execution_count": 1,
   "id": "4f46570a",
   "metadata": {},
   "outputs": [
    {
     "data": {
      "text/plain": [
       "1.1121416370972725"
      ]
     },
     "execution_count": 1,
     "metadata": {},
     "output_type": "execute_result"
    }
   ],
   "source": [
    "from math import cos, sin\n",
    "\n",
    "def f(x):\n",
    "    return cos(x) - x**3\n",
    "\n",
    "def f1(x):\n",
    "    return -sin(x)-3*x**2\n",
    "\n",
    "x0 = 0.5\n",
    "x1 = x0 - (f(x0)/f1(x0))\n",
    "x1"
   ]
  },
  {
   "cell_type": "code",
   "execution_count": 2,
   "id": "671adf97",
   "metadata": {},
   "outputs": [
    {
     "data": {
      "text/plain": [
       "0.9096726937368068"
      ]
     },
     "execution_count": 2,
     "metadata": {},
     "output_type": "execute_result"
    }
   ],
   "source": [
    "x2 = x1 - (f(x1)/f1(x1))\n",
    "x2"
   ]
  },
  {
   "cell_type": "code",
   "execution_count": 3,
   "id": "657dd283",
   "metadata": {},
   "outputs": [
    {
     "data": {
      "text/plain": [
       "0.8672638182088165"
      ]
     },
     "execution_count": 3,
     "metadata": {},
     "output_type": "execute_result"
    }
   ],
   "source": [
    "x3 = x2 - (f(x2)/f1(x2))\n",
    "x3"
   ]
  },
  {
   "cell_type": "code",
   "execution_count": 4,
   "id": "b4e50ec1",
   "metadata": {},
   "outputs": [
    {
     "data": {
      "text/plain": [
       "0.8654771352982646"
      ]
     },
     "execution_count": 4,
     "metadata": {},
     "output_type": "execute_result"
    }
   ],
   "source": [
    "x4 = x3 - (f(x3)/f1(x3))\n",
    "x4"
   ]
  },
  {
   "cell_type": "code",
   "execution_count": 5,
   "id": "eb1e483c",
   "metadata": {},
   "outputs": [
    {
     "data": {
      "text/plain": [
       "0.8654740331109566"
      ]
     },
     "execution_count": 5,
     "metadata": {},
     "output_type": "execute_result"
    }
   ],
   "source": [
    "x5 = x4 - (f(x4)/f1(x4))\n",
    "x5"
   ]
  },
  {
   "cell_type": "markdown",
   "id": "3c652ce8",
   "metadata": {},
   "source": [
    "Como podemos ver, los 5 primeros dígitos decimales comienzan a repetirse. \n",
    "\n",
    "Vamos a utilizar un segmento de código para calcular los primeros N valores."
   ]
  },
  {
   "cell_type": "code",
   "execution_count": 6,
   "id": "8f4db1eb",
   "metadata": {},
   "outputs": [
    {
     "name": "stdout",
     "output_type": "stream",
     "text": [
      "i, x(i) 0 0.5\n",
      "i, x(i) 1 1.1121416370972725\n",
      "i, x(i) 2 0.9096726937368068\n",
      "i, x(i) 3 0.8672638182088165\n",
      "i, x(i) 4 0.8654771352982646\n",
      "i, x(i) 5 0.8654740331109566\n",
      "i, x(i) 6 0.8654740331016144\n",
      "i, x(i) 7 0.8654740331016144\n",
      "i, x(i) 8 0.8654740331016144\n",
      "i, x(i) 9 0.8654740331016144\n"
     ]
    }
   ],
   "source": [
    "# Observe que el valor x0 asignado previamente a 0.5 no lo habíamos cambiado\n",
    "n = 10\n",
    "for i in range(n):\n",
    "    print('i, x(i)', i, x0)\n",
    "    x1 = x0 - (f(x0)/f1(x0))\n",
    "    x0 = x1\n"
   ]
  },
  {
   "cell_type": "code",
   "execution_count": 7,
   "id": "84af1267",
   "metadata": {},
   "outputs": [
    {
     "name": "stdout",
     "output_type": "stream",
     "text": [
      "Iteración\tAproximación\n",
      "\t 0 \t 0.5\n",
      "\t 1 \t 1.1121416370972725\n",
      "\t 2 \t 0.9096726937368068\n",
      "\t 3 \t 0.8672638182088165\n",
      "\t 4 \t 0.8654771352982646\n",
      "\t 5 \t 0.8654740331109566\n",
      "\t 6 \t 0.8654740331016144\n",
      "\t 7 \t 0.8654740331016144\n",
      "\t 8 \t 0.8654740331016144\n",
      "\t 9 \t 0.8654740331016144\n"
     ]
    }
   ],
   "source": [
    "# Hagamos la impresión más estética\n",
    "# el valor x0 cambió => debemos incializarlo de nuevo\n",
    "x0 = 0.5\n",
    "n = 10\n",
    "print('Iteración\\tAproximación')\n",
    "for i in range(n):\n",
    "    print('\\t', i, '\\t', x0)\n",
    "    x1 = x0 - (f(x0)/f1(x0))\n",
    "    x0 = x1\n"
   ]
  },
  {
   "cell_type": "code",
   "execution_count": 8,
   "id": "2f0bad91",
   "metadata": {},
   "outputs": [
    {
     "name": "stdout",
     "output_type": "stream",
     "text": [
      "Iteración\tAproximación\n",
      "\t 0 \t 0.5\n",
      "\t 1 \t 1.1121416370972725\n",
      "\t 2 \t 0.9096726937368068\n",
      "\t 3 \t 0.8672638182088165\n",
      "\t 4 \t 0.8654771352982646\n",
      "\t 5 \t 0.8654740331109566\n",
      "\t 6 \t 0.8654740331016144\n",
      "\t 7 \t 0.8654740331016144\n",
      "\t 8 \t 0.8654740331016144\n",
      "\t 9 \t 0.8654740331016144\n"
     ]
    },
    {
     "data": {
      "text/plain": [
       "0.8654740331016144"
      ]
     },
     "execution_count": 8,
     "metadata": {},
     "output_type": "execute_result"
    }
   ],
   "source": [
    "# El código debe ser general. ¿qué pasaría si la derivada se anula? \n",
    "# Nos daría un error al dividir por cero \n",
    "# ¿por qué da cero la derivada? porque es un punto estacionario\n",
    "\n",
    "n = 10\n",
    "x0 = 0.5\n",
    "\n",
    "def newton_raphson():\n",
    "    global x0\n",
    "    print('Iteración\\tAproximación')\n",
    "    for i in range(n):\n",
    "        print('\\t', i, '\\t', x0)\n",
    "        y1 = f1(x0)\n",
    "        if y1 == 0:\n",
    "            # interrumpir el ciclo/bucle\n",
    "            break\n",
    "        x1 = x0 - (f(x0)/y1)\n",
    "        x0 = x1\n",
    "    return x1\n",
    "\n",
    "\n",
    "newton_raphson()"
   ]
  },
  {
   "cell_type": "markdown",
   "id": "7b479344",
   "metadata": {},
   "source": [
    "En general, no es conveniente preguntar si el valor es igual a cero debido al rango limitado de valores posibles del ordenador. Por ello, resulta más conveniente comparar con valor que consideremos suficientemente pequeño. En nuestro caso, pudieramos tomar $10^{-6}$ por ejemplo.\n",
    "\n",
    "¿Cuál es el mínimo valor positivo que acepta Python? Se obtiene mediante la librería del sistema (sys) de la siguiente forma:\n"
   ]
  },
  {
   "cell_type": "code",
   "execution_count": 9,
   "id": "11de80a2",
   "metadata": {},
   "outputs": [
    {
     "data": {
      "text/plain": [
       "2.2250738585072014e-308"
      ]
     },
     "execution_count": 9,
     "metadata": {},
     "output_type": "execute_result"
    }
   ],
   "source": [
    "import sys\n",
    "\n",
    "sys.float_info.min"
   ]
  },
  {
   "cell_type": "code",
   "execution_count": 10,
   "id": "55dff2f0",
   "metadata": {},
   "outputs": [
    {
     "data": {
      "text/plain": [
       "sys.float_info(max=1.7976931348623157e+308, max_exp=1024, max_10_exp=308, min=2.2250738585072014e-308, min_exp=-1021, min_10_exp=-307, dig=15, mant_dig=53, epsilon=2.220446049250313e-16, radix=2, rounds=1)"
      ]
     },
     "execution_count": 10,
     "metadata": {},
     "output_type": "execute_result"
    }
   ],
   "source": [
    "# De esta manera, obtenemos todas las especificaciones de los valores flotantes \n",
    "\n",
    "sys.float_info"
   ]
  },
  {
   "cell_type": "code",
   "execution_count": 11,
   "id": "ca199031",
   "metadata": {},
   "outputs": [
    {
     "name": "stdout",
     "output_type": "stream",
     "text": [
      "Iteración\tAproximación\n",
      "\t 0 \t 0.5\n",
      "\t 1 \t 1.1121416370972725\n",
      "\t 2 \t 0.9096726937368068\n",
      "\t 3 \t 0.8672638182088165\n",
      "\t 4 \t 0.8654771352982646\n",
      "\t 5 \t 0.8654740331109566\n",
      "\t 6 \t 0.8654740331016144\n",
      "\t 7 \t 0.8654740331016144\n",
      "\t 8 \t 0.8654740331016144\n",
      "\t 9 \t 0.8654740331016144\n"
     ]
    },
    {
     "data": {
      "text/plain": [
       "0.8654740331016144"
      ]
     },
     "execution_count": 11,
     "metadata": {},
     "output_type": "execute_result"
    }
   ],
   "source": [
    "# Fijemos un valor epsilon pequeño \n",
    "\n",
    "eps = 0.000001\n",
    "n = 10\n",
    "x0 = 0.5\n",
    "\n",
    "def newton_raphson():\n",
    "    global x0\n",
    "    print('Iteración\\tAproximación')\n",
    "    for i in range(n):\n",
    "        print('\\t', i, '\\t', x0)\n",
    "        y1 = f1(x0)\n",
    "        if abs(y1) < eps:\n",
    "            # interrumpir el ciclo/bucle\n",
    "            break\n",
    "        x1 = x0 - (f(x0)/y1)\n",
    "        x0 = x1\n",
    "    return x1\n",
    "\n",
    "\n",
    "newton_raphson()"
   ]
  },
  {
   "cell_type": "markdown",
   "id": "3c672cc3",
   "metadata": {},
   "source": [
    "Si la primera derivada no se comporta bien en la vecindad de una raíz en particular, el método puede divergir de esa raíz. Un ejemplo de una función con una raíz, para la cual la derivada no se comporta bien en la vecindad de la raíz, es:\n",
    "\n",
    "$$ f(x)=|x|^{a},\\quad 0<a<{\\tfrac {1}{2}} $$\n",
    "\n",
    "La función valor absoluto f(x) = |x| no es derivable en 0, su derivada por la izquierda vale −1 y por la derecha vale 1."
   ]
  },
  {
   "cell_type": "code",
   "execution_count": 12,
   "id": "8d6ac040",
   "metadata": {},
   "outputs": [
    {
     "name": "stdout",
     "output_type": "stream",
     "text": [
      "Iteración\tAproximación\n",
      "\t 0 \t 0.5\n",
      "\t 1 \t -0.257858283255199\n",
      "\t 2 \t 0.32364535296281016\n",
      "\t 3 \t -0.31319085876096986\n",
      "\t 4 \t 0.315335696051006\n",
      "\t 5 \t -0.31490907955638325\n",
      "\t 6 \t 0.3149944951959006\n",
      "\t 7 \t -0.31497741577493654\n",
      "\t 8 \t 0.31498083180729997\n",
      "\t 9 \t -0.31498014860675494\n"
     ]
    },
    {
     "data": {
      "text/plain": [
       "0.3149802852471011"
      ]
     },
     "execution_count": 12,
     "metadata": {},
     "output_type": "execute_result"
    }
   ],
   "source": [
    "a = 0.4\n",
    "eps = 0.000001\n",
    "n = 10\n",
    "x0 = 0.5\n",
    "\n",
    "def f(x):\n",
    "    return abs(x)**a\n",
    "\n",
    "def f1(x): \n",
    "    if x<0:\n",
    "        return -1\n",
    "    else:\n",
    "        return 1\n",
    "    \n",
    "def newton_raphson():\n",
    "    global x0 \n",
    "    print('Iteración\\tAproximación')\n",
    "    for i in range(n):\n",
    "        print('\\t', i, '\\t', x0)\n",
    "        y1 = f1(x0)\n",
    "        if abs(y1) < eps:\n",
    "            # interrumpir el ciclo/bucle\n",
    "            break\n",
    "        x1 = x0 - (f(x0)/y1)\n",
    "        x0 = x1\n",
    "    return x1\n",
    "\n",
    "newton_raphson()"
   ]
  },
  {
   "cell_type": "markdown",
   "id": "d469fb84",
   "metadata": {},
   "source": [
    "<center> <h3>Bibliografía</h3> </center>\n",
    "\n",
    "* [Método de Newton](https://es.wikipedia.org/wiki/M%C3%A9todo_de_Newton)\n",
    "\n",
    "* [Newton's method](https://en.wikipedia.org/wiki/Newton%27s_method)\n",
    "\n",
    "* [Stationary point](https://en.wikipedia.org/wiki/Stationary_point)\n",
    "\n",
    "* [The Newton-Raphson Method](https://personal.math.ubc.ca/~anstee/math104/newtonmethod.pdf)\n",
    "\n",
    "* [Lecture 1: Numerical Solution of Non-linear equations](https://homepages.see.leeds.ac.uk/~eargah/EARS1160/Lecture1.PDF)\n",
    "\n",
    "* [What exactly does it mean for a function to be \"well-behaved\"?](https://math.stackexchange.com/questions/206/what-exactly-does-it-mean-for-a-function-to-be-well-behaved)\n",
    "\n",
    "* [Differentiable function](https://en.wikipedia.org/wiki/Differentiable_function#continuously_differentiable)\n",
    "\n",
    "* [Newton's Method](https://patrickwalls.github.io/mathematicalpython/root-finding/newton/)\n",
    "\n",
    "* [Program for Newton Raphson Method](https://www.geeksforgeeks.org/program-for-newton-raphson-method/)\n",
    "\n",
    "* [Python Program Newton Raphson (NR) Method (with Output)](https://www.codesansar.com/numerical-methods/newton-raphson-method-python-program.htm)"
   ]
  }
 ],
 "metadata": {
  "kernelspec": {
   "display_name": "Python 3 (ipykernel)",
   "language": "python",
   "name": "python3"
  },
  "language_info": {
   "codemirror_mode": {
    "name": "ipython",
    "version": 3
   },
   "file_extension": ".py",
   "mimetype": "text/x-python",
   "name": "python",
   "nbconvert_exporter": "python",
   "pygments_lexer": "ipython3",
   "version": "3.10.8"
  }
 },
 "nbformat": 4,
 "nbformat_minor": 5
}
