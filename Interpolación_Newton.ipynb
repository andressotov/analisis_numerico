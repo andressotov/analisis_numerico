{
 "cells": [
  {
   "cell_type": "markdown",
   "id": "f3921ae5",
   "metadata": {},
   "source": [
    "# <center>Interpolación de Newton</center> #"
   ]
  },
  {
   "cell_type": "markdown",
   "id": "fc592a89",
   "metadata": {},
   "source": [
    "El método de interpolación de Newton es una forma popular de ajustar un polinomio a un conjunto de puntos de datos de forma que el polinomio atraviese con exactitud dichos puntos. \n",
    "\n",
    "En general, si tenemos $n$ puntos, hay exactamente un polinomio de grado a lo sumo $n−1$ que pasa por todos los puntos de datos. Aunque solo existe un único polinomio que interpola una serie de puntos, existen diferentes formas de calcularlo. Una de ellas es mediante el método de Newton. "
   ]
  },
  {
   "cell_type": "markdown",
   "id": "e1d833a5",
   "metadata": {},
   "source": [
    "La forma general de un polinomio de Newton de orden $n−1$ que pasa por $n$ puntos es:\n",
    "\n",
    "$\\quad f(x)=a_0+a_1(x−x_0)+a_2(x−x_0)(x−x_1)+⋯+a_n(x−x_0)(x−x_1)…(x−x_n)$"
   ]
  },
  {
   "cell_type": "markdown",
   "id": "1df8bde1",
   "metadata": {},
   "source": [
    "la cual se puede reescribir como:\n",
    "\n",
    "$\\quad P_n(x) = f(x) = a_0 + \\sum _{j=0}^{n}a_jg_j(x)$\n",
    "\n",
    "donde\n",
    "\n",
    "$\\quad g_j(x) =\\prod _{i=0}^{j-1}(x-x_{i})$"
   ]
  },
  {
   "cell_type": "markdown",
   "id": "41db1925",
   "metadata": {},
   "source": [
    "La característica especial del polinomio de Newton es que los coeficientes $a_i$ se pueden determinar utilizando un procedimiento matemático muy simple. Por ejemplo, dado que el polinomio pasa por cada punto de datos, por lo tanto, para los puntos de datos $(x_i,y_i)$, tendremos $f(x_i)=y_i$, por lo que tenemos que:\n",
    "\n",
    "$$ f(x_0)=a_0=y_0$$\n",
    "\n",
    "Como $f(x_1)=a_0+a_1(x_1−x_0)=y_1$, entonces\n",
    "\n",
    "$$ a_1=\\frac{y_1−y_0}{x_1−x_0}$$"
   ]
  },
  {
   "cell_type": "markdown",
   "id": "e24090f4",
   "metadata": {},
   "source": [
    "Utilizando el concepto de diferencias divididas, podemos definir:\n",
    "\n",
    "$$ f[x_1,x_0]=\\frac{y_1−y_0}{x_1−x_0} = a_1$$"
   ]
  },
  {
   "cell_type": "markdown",
   "id": "00617593",
   "metadata": {},
   "source": [
    "$$ f[x_2,x_1,x_0] = \\frac{f[x_2,x_1]-f[x_1,x_0]}{x_2-x_0} = \\frac{\\frac{y_2-y_1}{x_2-x_1} - \\frac{y_1-y_0}{x_1-x_0}}{x_2-x_0} = a_2$$"
   ]
  },
  {
   "cell_type": "markdown",
   "id": "44ed2b7c",
   "metadata": {},
   "source": [
    "$$ f[x_k,x_{k-1},\\cdots,x_1,x_0] = \\frac{f[x_k,x_{k-1},\\cdots,x_1]-f[x_{k-1},\\cdots,x_1,x_0]}{x_k-x_0} = a_k$$"
   ]
  },
  {
   "cell_type": "markdown",
   "id": "00c10248",
   "metadata": {},
   "source": [
    "Un aspecto importante de este método es que, una vez que se determinan los coeficientes, agregar nuevos puntos de datos no cambia los valores ya calculados, solo necesitamos calcular las diferencias superiores de la misma manera."
   ]
  },
  {
   "cell_type": "markdown",
   "id": "f09ebb15",
   "metadata": {},
   "source": [
    "$\\quad {\\displaystyle {\\begin{matrix}x_0, y_{0}&&&\\\\&f[x_1,x_0]&&\\\\x_1, y_{1}&&f[x_2,x_1,x_0]&\\\\&f[x_2,x_1]&&f[x_3,x_2,x_1,x_0]\\\\x_2, y_{2}&&f[x_3,x_2,x_1]&\\\\&f[x_3,x_2]&&\\\\x_3, y_{3}&&&\\\\\\end{matrix}}}$"
   ]
  },
  {
   "cell_type": "markdown",
   "id": "6f065d65",
   "metadata": {},
   "source": [
    "Cada elemento de la tabla se puede calcular utilizando los dos elementos anteriores (a la izquierda). Tenga en cuenta que solo necesitamos los elementos de la parte superior, los cuales constituyen los coeficientes del polinomio.\n"
   ]
  },
  {
   "cell_type": "markdown",
   "id": "da6913c8",
   "metadata": {},
   "source": [
    "Ejemplo: Utilizando los polinomios de interpolación de Newton, encuentra el polinomio de interpolación de los datos: $(1,1),(2,5)$.\n",
    "\n",
    "Tenemos dos puntos de datos, por lo tanto, crearemos un polinomio de primer grado. Por lo tanto:\n",
    "\n",
    "$$  b_1=y_1=1\\qquad b_2=\\frac{5-1}{2-1}=4  $$\n",
    "\n",
    "Por tanto, el polinomio de interpolación tiene la forma:\n",
    "\n",
    "$$ y=1+4(x-1)=1+4x-4=-3+4x $$"
   ]
  },
  {
   "cell_type": "markdown",
   "id": "2a19eff8",
   "metadata": {},
   "source": [
    "Por ejemplo, supongamos que vamos a construir el polinomio de interpolación a $f(x) = tan(x)$ usando diferencias divididas, en los puntos\n",
    "\n",
    "\n",
    " $$n$$\t| $$x_{n}$$\t        | $$f(x_n)$$\n",
    " ------| -------------------|----------\n",
    " 0     | $$-\\tfrac {3}{2}$$\t| −14.1014 \n",
    " 1     | $$-\\tfrac {3}{4}$$\t| -0.931596 \n",
    " 2     | 0                  | 0 \n",
    " 3     | $$\\tfrac {3}{4}$$\t| 0.931596\n",
    " 4     | $$\\tfrac {3}{2}$$\t| 14.1014\n",
    "  \n",
    "Utilizando seis dígitos de precisión, construimos la tabla"
   ]
  },
  {
   "cell_type": "markdown",
   "id": "ae1ba4e4",
   "metadata": {},
   "source": [
    "\n",
    "$${\\begin{matrix}-{\\tfrac  {3}{2}}&-14.1014&&&&\\\\&&17.5597&&&\\\\-{\\tfrac  {3}{4}}&-0.931596&&-10.8784&&\\\\&&1.24213&&4.83484&\\\\0&0&&0&&0\\\\&&1.24213&&4.83484&\\\\{\\tfrac  {3}{4}}&0.931596&&10.8784&&\\\\&&17.5597&&&\\\\{\\tfrac  {3}{2}}&14.1014&&&&\\\\\\end{matrix}}$$"
   ]
  },
  {
   "cell_type": "markdown",
   "id": "3bf736a8",
   "metadata": {},
   "source": [
    "Y obtenemos el polinomio de interpolación\n",
    "\n",
    "${\\displaystyle {\\begin{aligned}&-14.1014+17.5597(x+{\\tfrac {3}{2}})-10.8784(x+{\\tfrac {3}{2}})(x+{\\tfrac {3}{4}})+4.83484(x+{\\tfrac {3}{2}})(x+{\\tfrac {3}{4}})(x)+0(x+{\\tfrac {3}{2}})(x+{\\tfrac {3}{4}})(x)(x-{\\tfrac {3}{4}})\\\\={}&-0.00005-1.4775x-0.00001x^{2}+4.83484x^{3}\\end{aligned}}}\n",
    "$\n",
    "\n",
    "Utilizando mayor precisión, el primer y el tercer coeficientes se convierten en ceros."
   ]
  },
  {
   "cell_type": "markdown",
   "id": "ee1e79cd",
   "metadata": {},
   "source": [
    "Veamos un ejemplo de cómo podemos hacerlo. Calcule la tabla de diferencias divididas para $x = [-5, -1, 0, 2]$, $y = [-2, 6, 1, 3].$"
   ]
  },
  {
   "cell_type": "code",
   "execution_count": 8,
   "id": "b935f6e6",
   "metadata": {},
   "outputs": [],
   "source": [
    "import numpy as np\n",
    "import matplotlib.pyplot as plt\n",
    "\n",
    "plt.style.use('seaborn-v0_8')\n",
    "\n",
    "%matplotlib inline"
   ]
  },
  {
   "cell_type": "code",
   "execution_count": 9,
   "id": "9f006edb",
   "metadata": {},
   "outputs": [],
   "source": [
    "def divided_diff(x, y):\n",
    "    '''\n",
    "    function to calculate the divided\n",
    "    differences table\n",
    "    '''\n",
    "    n = len(y)\n",
    "    coef = np.zeros([n, n])\n",
    "    # the first column is y\n",
    "    coef[:,0] = y\n",
    "    \n",
    "    for j in range(1,n):\n",
    "        for i in range(n-j):\n",
    "            coef[i][j] = \\\n",
    "           (coef[i+1][j-1] - coef[i][j-1]) / (x[i+j]-x[i])\n",
    "            \n",
    "    return coef\n",
    "\n",
    "def newton_poly(coef, x_data, x):\n",
    "    '''\n",
    "    evaluate the newton polynomial \n",
    "    at x\n",
    "    '''\n",
    "    n = len(x_data) - 1 \n",
    "    p = coef[n]\n",
    "    for k in range(1,n+1):\n",
    "        p = coef[n-k] + (x -x_data[n-k])*p\n",
    "    return p"
   ]
  },
  {
   "cell_type": "code",
   "execution_count": 10,
   "id": "7e70837a",
   "metadata": {},
   "outputs": [
    {
     "data": {
      "text/plain": [
       "[<matplotlib.lines.Line2D at 0x21145db4ca0>]"
      ]
     },
     "execution_count": 10,
     "metadata": {},
     "output_type": "execute_result"
    },
    {
     "data": {
      "image/png": "[encoded data removed]",
      "text/plain": [
       "<Figure size 1200x800 with 1 Axes>"
      ]
     },
     "metadata": {},
     "output_type": "display_data"
    }
   ],
   "source": [
    "x = np.array([-5, -1, 0, 2])\n",
    "y = np.array([-2, 6, 1, 3])\n",
    "# get the divided difference coef\n",
    "a_s = divided_diff(x, y)[0, :]\n",
    "\n",
    "# evaluate on new data points\n",
    "x_new = np.arange(-5, 2.1, .1)\n",
    "y_new = newton_poly(a_s, x, x_new)\n",
    "\n",
    "plt.figure(figsize = (12, 8))\n",
    "plt.plot(x, y, 'bo')\n",
    "plt.plot(x_new, y_new)"
   ]
  },
  {
   "cell_type": "markdown",
   "id": "84c8b657",
   "metadata": {},
   "source": [
    "Podemos ver que el polinomio de Newton pasa por todos los puntos de datos y ajusta los datos."
   ]
  },
  {
   "cell_type": "markdown",
   "id": "ce07b1cb",
   "metadata": {},
   "source": [
    "### <center>Bibliografía</center> ###\n",
    "\n",
    "\n",
    "* [Interpolación polinómica de Newton](https://es.wikipedia.org/wiki/Interpolaci%C3%B3n_polin%C3%B3mica_de_Newton)\n",
    "\n",
    "* [Newton Interpolating Polynomials](https://engcourses-uofa.ca/books/numericalanalysis/polynomial-interpolation/newton-interpolating-polynomials/)\n",
    "\n",
    "* [Newton’s Polynomial Interpolation](https://pythonnumericalmethods.berkeley.edu/notebooks/chapter17.05-Newtons-Polynomial-Interpolation.html)\n",
    "\n",
    "* [Diferencias divididas e interpolación](https://minerva.usc.es/xmlui/bitstream/handle/10347/26330/Garc%C3%ADa_Hermida_Elba.pdf?sequence=1)\n",
    "\n",
    "* [Divided differences](https://en.wikipedia.org/wiki/Divided_differences)\n",
    "\n",
    "* [Newton polynomial](https://en.wikipedia.org/wiki/Newton_polynomial)\n",
    "\n",
    "* [Teoría Combinatoria](https://www.unirioja.es/talleres/creatividad_matematica/SeminarioBachillerato/COMBINATORIA.pdf)\n",
    "\n"
   ]
  }
 ],
 "metadata": {
  "kernelspec": {
   "display_name": "Python 3 (ipykernel)",
   "language": "python",
   "name": "python3"
  },
  "language_info": {
   "codemirror_mode": {
    "name": "ipython",
    "version": 3
   },
   "file_extension": ".py",
   "mimetype": "text/x-python",
   "name": "python",
   "nbconvert_exporter": "python",
   "pygments_lexer": "ipython3",
   "version": "3.10.11"
  }
 },
 "nbformat": 4,
 "nbformat_minor": 5
}
