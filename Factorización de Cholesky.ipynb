{
 "cells": [
  {
   "cell_type": "markdown",
   "id": "4ac9af53",
   "metadata": {},
   "source": [
    "# Método de Factorización de Cholesky #\n",
    "\n",
    "La factorización o descomposición de Cholesky se basa en que una matriz simétrica definida positiva que puede ser descompuesta como el producto de una matriz triangular inferior y la traspuesta de la matriz triangular inferior. La matriz triangular inferior es el triángulo de Cholesky de la matriz original definida positiva. "
   ]
  },
  {
   "cell_type": "markdown",
   "id": "d6a890b1",
   "metadata": {},
   "source": [
    "Una matriz M con coeficientes reales se considera definida positiva si para todo vector x con coeficientes reales se cumple que $x^T.M.x > 0$\n",
    "\n",
    "El resultado de Cholesky ha sido extendido a matrices con entradas complejas. Es una manera de resolver sistemas de ecuaciones matriciales y se deriva de la factorización LU con una pequeña variación.\n",
    "\n",
    "Cualquier matriz cuadrada A con pivotes no nulos puede ser escrita como el producto de una matriz triangular inferior L y una matriz triangular superior U; esto recibe el nombre de factorización LU. Sin embargo, si A es simétrica y definida positiva, se pueden escoger los factores tales que, U es la transpuesta de L, y esto se llama la descomposición o factorización de Cholesky. \n",
    "\n",
    "Tanto la descomposición LU como la descomposición de Cholesky son usadas para resolver sistemas de ecuaciones lineales. Cuando es aplicable, la descomposición de Cholesky es dos veces más eficiente que la descomposición LU.\n"
   ]
  },
  {
   "cell_type": "markdown",
   "id": "a326e8a3",
   "metadata": {},
   "source": [
    "La descomposición de Cholesky se usa principalmente para hallar la solución numérica de ecuaciones lineales $Ax = b$. Si $A$ es simétrica y definida positiva, entonces se puede solucionar $Ax = b$ calculando primero la descomposición de Cholesky $A = LL^T$, resolviendo $Ly = b$ para $y$, para finalmente resolver $L^Tx = y$ para $x$."
   ]
  },
  {
   "cell_type": "markdown",
   "id": "8f8c54d0",
   "metadata": {},
   "source": [
    "## Algoritmo de Cholesky ##\n",
    "\n",
    "Si la matriz $A$ es simétrica y definida positiva, entonces existe una matriz triangular inferior $L$ tal que $A = LL^T$. Este es solo un caso especial de la descomposición $LU$, donde $U=L^T$.\n"
   ]
  },
  {
   "cell_type": "markdown",
   "id": "f90beb16",
   "metadata": {},
   "source": [
    "$$\n",
    "A = \n",
    "\\left(\\begin{array}{cc}\n",
    "a_{1,1} & a_{1,2} & ... & a_{1,n} \\\\\n",
    "a_{2,1} & a_{2,2} & ... & a_{2,n} \\\\\n",
    "... \\\\\n",
    "a_{n,1} & a_{n,2} & ... & a_{n,n}\n",
    "\\end{array}\\right)\n",
    ", \n",
    "L = \n",
    "\\left(\\begin{array}{cc}\n",
    "l_{1,1} & l_{1,2} & ... & l_{1,n} \\\\\n",
    "l_{2,1} & l_{2,2} & ... & l_{2,n} \\\\\n",
    "... \\\\\n",
    "l_{n,1} & l_{n,2} & ... & l_{n,n}\n",
    "\\end{array}\\right)\n",
    "$$"
   ]
  },
  {
   "cell_type": "markdown",
   "id": "35b45e9b",
   "metadata": {},
   "source": [
    "Para $k = 1,...,n,$\n",
    "\n",
    "$$ l_{k,k} = \\sqrt{a_{k,k} - \\sum_{r=1}^{k-1} l_{k,r}^2} $$\n",
    "\n",
    "$$ l_{i,k} = \\frac{a_{i,k} - \\sum_{r=1}^{k-1} l_{i,r}l_{k,r}}{l_{k,k}} i = k+1,...,n $$"
   ]
  },
  {
   "cell_type": "markdown",
   "id": "8bbd180c",
   "metadata": {},
   "source": [
    "Complejidad algorítmica: $O(n^3)$"
   ]
  },
  {
   "cell_type": "code",
   "execution_count": 3,
   "id": "34547757",
   "metadata": {},
   "outputs": [
    {
     "data": {
      "text/plain": [
       "array([[ 6,  3,  4,  8],\n",
       "       [ 3,  6,  5,  1],\n",
       "       [ 4,  5, 10,  7],\n",
       "       [ 8,  1,  7, 25]])"
      ]
     },
     "execution_count": 3,
     "metadata": {},
     "output_type": "execute_result"
    }
   ],
   "source": [
    "# Ejemplo factorización de Cholesky\n",
    "import scipy.linalg as la\n",
    "import numpy as np\n",
    "\n",
    "A1 = np.array([[6, 3, 4, 8], [3, 6, 5, 1], [4, 5, 10, 7], [8, 1, 7, 25]])\n",
    "A1"
   ]
  },
  {
   "cell_type": "code",
   "execution_count": 4,
   "id": "906dc92b",
   "metadata": {},
   "outputs": [],
   "source": [
    "L = la.cholesky(A1, lower=True)\n",
    "U = la.cholesky(A1, lower=False)"
   ]
  },
  {
   "cell_type": "code",
   "execution_count": 5,
   "id": "a47a5c3c",
   "metadata": {},
   "outputs": [
    {
     "data": {
      "text/plain": [
       "array([[ 2.44948974,  0.        ,  0.        ,  0.        ],\n",
       "       [ 1.22474487,  2.12132034,  0.        ,  0.        ],\n",
       "       [ 1.63299316,  1.41421356,  2.30940108,  0.        ],\n",
       "       [ 3.26598632, -1.41421356,  1.58771324,  3.13249102]])"
      ]
     },
     "execution_count": 5,
     "metadata": {},
     "output_type": "execute_result"
    }
   ],
   "source": [
    "L"
   ]
  },
  {
   "cell_type": "markdown",
   "id": "f02b9708",
   "metadata": {},
   "source": [
    "Podemos ver que la matriz es triangular inferior."
   ]
  },
  {
   "cell_type": "code",
   "execution_count": 6,
   "id": "a3635c1c",
   "metadata": {},
   "outputs": [
    {
     "data": {
      "text/plain": [
       "array([[ 2.44948974,  1.22474487,  1.63299316,  3.26598632],\n",
       "       [ 0.        ,  2.12132034,  1.41421356, -1.41421356],\n",
       "       [ 0.        ,  0.        ,  2.30940108,  1.58771324],\n",
       "       [ 0.        ,  0.        ,  0.        ,  3.13249102]])"
      ]
     },
     "execution_count": 6,
     "metadata": {},
     "output_type": "execute_result"
    }
   ],
   "source": [
    "U"
   ]
  },
  {
   "cell_type": "markdown",
   "id": "bd2892f6",
   "metadata": {},
   "source": [
    "Podemos ver que la matriz es triangular superior."
   ]
  },
  {
   "cell_type": "code",
   "execution_count": 7,
   "id": "56e5fc4d",
   "metadata": {},
   "outputs": [
    {
     "data": {
      "text/plain": [
       "array([[ 6.,  3.,  4.,  8.],\n",
       "       [ 3.,  6.,  5.,  1.],\n",
       "       [ 4.,  5., 10.,  7.],\n",
       "       [ 8.,  1.,  7., 25.]])"
      ]
     },
     "execution_count": 7,
     "metadata": {},
     "output_type": "execute_result"
    }
   ],
   "source": [
    "L @ U"
   ]
  },
  {
   "cell_type": "code",
   "execution_count": 8,
   "id": "86966a14",
   "metadata": {},
   "outputs": [
    {
     "data": {
      "text/plain": [
       "array([[ 6,  3,  4,  8],\n",
       "       [ 3,  6,  5,  1],\n",
       "       [ 4,  5, 10,  7],\n",
       "       [ 8,  1,  7, 25]])"
      ]
     },
     "execution_count": 8,
     "metadata": {},
     "output_type": "execute_result"
    }
   ],
   "source": [
    "A1"
   ]
  },
  {
   "cell_type": "markdown",
   "id": "4257209c",
   "metadata": {},
   "source": [
    "Podemos ver que el producto de ambas matrices se corresponde con la matriz original.  "
   ]
  },
  {
   "cell_type": "markdown",
   "id": "bb304e1f",
   "metadata": {},
   "source": [
    "Veamos otro ejemplo"
   ]
  },
  {
   "cell_type": "code",
   "execution_count": 11,
   "id": "ea96aa02",
   "metadata": {},
   "outputs": [
    {
     "data": {
      "text/plain": [
       "array([[ 2., -1.,  0.],\n",
       "       [-1.,  2., -1.],\n",
       "       [ 0., -1.,  2.]])"
      ]
     },
     "execution_count": 11,
     "metadata": {},
     "output_type": "execute_result"
    }
   ],
   "source": [
    "A2 = np.array([[2, -1, 0],[-1, 2, -1.], [0, -1, 2.]])\n",
    "A2"
   ]
  },
  {
   "cell_type": "code",
   "execution_count": 12,
   "id": "99e666bd",
   "metadata": {},
   "outputs": [
    {
     "data": {
      "text/plain": [
       "array([[ 1.41421356,  0.        ,  0.        ],\n",
       "       [-0.70710678,  1.22474487,  0.        ],\n",
       "       [ 0.        , -0.81649658,  1.15470054]])"
      ]
     },
     "execution_count": 12,
     "metadata": {},
     "output_type": "execute_result"
    }
   ],
   "source": [
    "L = la.cholesky(A2, lower=True)\n",
    "U = la.cholesky(A2, lower=False)\n",
    "L"
   ]
  },
  {
   "cell_type": "markdown",
   "id": "d3574bd9",
   "metadata": {},
   "source": [
    "La matriz L es triangular inferior"
   ]
  },
  {
   "cell_type": "code",
   "execution_count": 13,
   "id": "9c2635b1",
   "metadata": {},
   "outputs": [
    {
     "data": {
      "text/plain": [
       "array([[ 1.41421356, -0.70710678,  0.        ],\n",
       "       [ 0.        ,  1.22474487, -0.81649658],\n",
       "       [ 0.        ,  0.        ,  1.15470054]])"
      ]
     },
     "execution_count": 13,
     "metadata": {},
     "output_type": "execute_result"
    }
   ],
   "source": [
    "U"
   ]
  },
  {
   "cell_type": "markdown",
   "id": "ae39c35f",
   "metadata": {},
   "source": [
    "La matriz U es triangular superior"
   ]
  },
  {
   "cell_type": "code",
   "execution_count": 14,
   "id": "a8888a67",
   "metadata": {},
   "outputs": [
    {
     "data": {
      "text/plain": [
       "array([[ 2., -1.,  0.],\n",
       "       [-1.,  2., -1.],\n",
       "       [ 0., -1.,  2.]])"
      ]
     },
     "execution_count": 14,
     "metadata": {},
     "output_type": "execute_result"
    }
   ],
   "source": [
    "L @ U"
   ]
  },
  {
   "cell_type": "code",
   "execution_count": 15,
   "id": "0c08e40a",
   "metadata": {},
   "outputs": [
    {
     "data": {
      "text/plain": [
       "array([[ 2., -1.,  0.],\n",
       "       [-1.,  2., -1.],\n",
       "       [ 0., -1.,  2.]])"
      ]
     },
     "execution_count": 15,
     "metadata": {},
     "output_type": "execute_result"
    }
   ],
   "source": [
    "A2"
   ]
  },
  {
   "cell_type": "markdown",
   "id": "6b8fae2a",
   "metadata": {},
   "source": [
    "Y vemos que las dos matrices se corresponden"
   ]
  },
  {
   "cell_type": "markdown",
   "id": "37acfcf7",
   "metadata": {},
   "source": [
    "Veamos la implementación siguiente del método de Cholesky"
   ]
  },
  {
   "cell_type": "code",
   "execution_count": 16,
   "id": "dc6cbe59",
   "metadata": {},
   "outputs": [],
   "source": [
    "def cholesky(A):\n",
    "    \n",
    "    n = A.shape[0]\n",
    "    \n",
    "    L = np.zeros((n, n), dtype=np.double)\n",
    "    \n",
    "    for k in range(n):\n",
    "        \n",
    "        L[k, k] = np.sqrt(A[k, k] - np.sum(L[k, :] ** 2))\n",
    "        \n",
    "        L[(k+1):, k] = (A[(k+1):, k] - L[(k+1):, :] @ L[:, k]) / L[k, k]\n",
    "    \n",
    "    return L\n"
   ]
  },
  {
   "cell_type": "code",
   "execution_count": 17,
   "id": "7a5b874a",
   "metadata": {},
   "outputs": [
    {
     "data": {
      "text/plain": [
       "array([[ 1.41421356,  0.        ,  0.        ],\n",
       "       [-0.70710678,  1.22474487,  0.        ],\n",
       "       [ 0.        , -0.81649658,  1.15470054]])"
      ]
     },
     "execution_count": 17,
     "metadata": {},
     "output_type": "execute_result"
    }
   ],
   "source": [
    "L = cholesky(A2)\n",
    "L"
   ]
  },
  {
   "cell_type": "markdown",
   "id": "6f743d8a",
   "metadata": {},
   "source": [
    "Para comprobar el resultado, podemos multiplicar la matriz L por su transpuesta"
   ]
  },
  {
   "cell_type": "code",
   "execution_count": 18,
   "id": "2d734342",
   "metadata": {},
   "outputs": [
    {
     "data": {
      "text/plain": [
       "array([[ 2., -1.,  0.],\n",
       "       [-1.,  2., -1.],\n",
       "       [ 0., -1.,  2.]])"
      ]
     },
     "execution_count": 18,
     "metadata": {},
     "output_type": "execute_result"
    }
   ],
   "source": [
    "L @ L.transpose()"
   ]
  },
  {
   "cell_type": "code",
   "execution_count": 19,
   "id": "2a3b82d3",
   "metadata": {},
   "outputs": [
    {
     "data": {
      "text/plain": [
       "array([[ 2., -1.,  0.],\n",
       "       [-1.,  2., -1.],\n",
       "       [ 0., -1.,  2.]])"
      ]
     },
     "execution_count": 19,
     "metadata": {},
     "output_type": "execute_result"
    }
   ],
   "source": [
    "A2"
   ]
  },
  {
   "cell_type": "markdown",
   "id": "c7d8e25e",
   "metadata": {},
   "source": [
    "Como vemos, también funciona bien con este ejemplo."
   ]
  },
  {
   "cell_type": "markdown",
   "id": "2bba5b68",
   "metadata": {},
   "source": [
    "## Bibliografía ##\n",
    "\n",
    "1. [Factorización de Cholesky](https://es.wikipedia.org/wiki/Factorizaci%C3%B3n_de_Cholesky)\n",
    "2. [Tema 3: Resolución de Sistemas de Ecuaciones Lineales](https://www.ugr.es/~mpasadas/ftp/Tema3_apuntes.pdf)\n",
    "3. [LU Factorization](https://johnfoster.pge.utexas.edu/numerical-methods-book/LinearAlgebra_LU.html)\n",
    "4. [Práctica Descomposiciones matriciales LU y Choleski](https://personal.us.es/pmr/images/pdfs/1314gm-cnii-practica1bis.pdf)"
   ]
  },
  {
   "cell_type": "code",
   "execution_count": null,
   "id": "37039e03",
   "metadata": {},
   "outputs": [],
   "source": []
  }
 ],
 "metadata": {
  "kernelspec": {
   "display_name": "Python 3 (ipykernel)",
   "language": "python",
   "name": "python3"
  },
  "language_info": {
   "codemirror_mode": {
    "name": "ipython",
    "version": 3
   },
   "file_extension": ".py",
   "mimetype": "text/x-python",
   "name": "python",
   "nbconvert_exporter": "python",
   "pygments_lexer": "ipython3",
   "version": "3.10.8"
  }
 },
 "nbformat": 4,
 "nbformat_minor": 5
}
