{
 "cells": [
  {
   "cell_type": "markdown",
   "id": "2d42494b",
   "metadata": {},
   "source": [
    "![Logo Univ](./images/logo_Univ_Int_Val.jpg \"Logo Univ\")\n",
    "\n",
    "# Ejercicios sobre Errores Numéricos #\n",
    "\n"
   ]
  },
  {
   "cell_type": "markdown",
   "id": "24621a17",
   "metadata": {},
   "source": [
    "* Convertir de decimal a binario\n",
    "\n",
    "    * 23.15\n",
    "\n",
    "    * 17.01\n",
    "\n",
    "    * 24.101\n",
    "    \n",
    "    * 31.23\n",
    "    \n",
    "    * 32.48"
   ]
  },
  {
   "cell_type": "markdown",
   "id": "e8698a94",
   "metadata": {},
   "source": [
    "* Convertir de binario a decimal\n",
    "\n",
    "    * 1111.101\n",
    "    \n",
    "    * 10110.001\n",
    "    \n",
    "    * 10001.0101\n",
    "    \n",
    "    * 10101.1101\n",
    "    \n",
    "    * 11001.0011"
   ]
  },
  {
   "cell_type": "markdown",
   "id": "0e32ddbb",
   "metadata": {},
   "source": [
    "* Convertir de octal a binario\n",
    "\n",
    "    * 37\n",
    "    \n",
    "    * 16\n",
    "    \n",
    "    * 10\n",
    "    \n",
    "    * 25\n",
    "    \n",
    "    * 77"
   ]
  },
  {
   "cell_type": "markdown",
   "id": "511131a6",
   "metadata": {},
   "source": [
    "* Convertir de binario a octal\n",
    "\n",
    "    * 101110\n",
    "    \n",
    "    * 011101\n",
    "    \n",
    "    * 1001\n",
    "    \n",
    "    * 110101\n",
    "    \n",
    "    * 100010"
   ]
  },
  {
   "cell_type": "markdown",
   "id": "804322bb",
   "metadata": {},
   "source": [
    "* Convertir de decimal a octal\n",
    "\n",
    "    * 45\n",
    "    \n",
    "    * 32\n",
    "    \n",
    "    * 21\n",
    "    \n",
    "    * 65\n",
    "    \n",
    "    * 88"
   ]
  },
  {
   "cell_type": "markdown",
   "id": "16c1df50",
   "metadata": {},
   "source": [
    "* Convertir de octal a decimal\n",
    "\n",
    "    * 27\n",
    "    \n",
    "    * 75\n",
    "    \n",
    "    * 16\n",
    "    \n",
    "    * 36\n",
    "    \n",
    "    * 64"
   ]
  },
  {
   "cell_type": "markdown",
   "id": "829d0cea",
   "metadata": {},
   "source": [
    "* Convertir de binario a hexadecimal\n",
    "\n",
    "    * 10101101\n",
    "    \n",
    "    * 11001010\n",
    "    \n",
    "    * 1011001\n",
    "    \n",
    "    * 01011101\n",
    "    \n",
    "    * 01110101"
   ]
  },
  {
   "cell_type": "markdown",
   "id": "9cace928",
   "metadata": {},
   "source": [
    "* Convertir de hexadecimal a binario\n",
    "\n",
    "    * A4\n",
    "    \n",
    "    * BF\n",
    "    \n",
    "    * 12\n",
    "    \n",
    "    * 83\n",
    "    \n",
    "    * FF"
   ]
  },
  {
   "cell_type": "markdown",
   "id": "53b0ca87",
   "metadata": {},
   "source": [
    "* Se desea evaluar la función $f(x) = x^3 − 6.1 x^2 + 3.2 x + 1.5$ para $x = 4.71$ usando aritmética de 3 dígitos, donde el valor exacto es:\n",
    "\n",
    "$$ f(4.71) = 104.487111 − 135.32301 + 15.072 + 1.5 = −14.263899 $$\n",
    "\n",
    "    Calcular el error relativo obtenido.\n",
    "\n",
    "* Pruebe a escribir la función anterior de forma anidada, sacando factor común la variable $x$ siempre que sea posible. Calcular el error relativo obtenido y comparar con el resultado obtenido en el ejercicio anterior.\n"
   ]
  },
  {
   "cell_type": "markdown",
   "id": "2428a848",
   "metadata": {},
   "source": [
    "* La función $sen(x)$ puede aproximarse por su desarrollo de Taylor:\n",
    "\n",
    "$$ sen(x)=x−\\frac{x^3}{3!}+\\frac{x^5}{5!}−\\frac{x^7}{7!}+⋯+(−1)^{n+1}\\frac{x^{2n−1}}{(2n−1)!} $$\n",
    "\n",
    "Calcule el error de truncamiento obtenido utilizando $n=1,2,3,...$"
   ]
  },
  {
   "cell_type": "markdown",
   "id": "32654277",
   "metadata": {},
   "source": [
    "* Calcule con ayuda del ordenador la diferencia entre $0.1237894569876543$ y $0.1237894569876542$. ¿El resultado es correcto? Utilice diferentes medios de hardware o software para hacer el cálculo. ¿Qué deduce de los resultados obtenidos?"
   ]
  },
  {
   "cell_type": "code",
   "execution_count": null,
   "id": "741d1370",
   "metadata": {},
   "outputs": [],
   "source": []
  }
 ],
 "metadata": {
  "kernelspec": {
   "display_name": "Python 3 (ipykernel)",
   "language": "python",
   "name": "python3"
  },
  "language_info": {
   "codemirror_mode": {
    "name": "ipython",
    "version": 3
   },
   "file_extension": ".py",
   "mimetype": "text/x-python",
   "name": "python",
   "nbconvert_exporter": "python",
   "pygments_lexer": "ipython3",
   "version": "3.10.8"
  }
 },
 "nbformat": 4,
 "nbformat_minor": 5
}
