{
 "cells": [
  {
   "cell_type": "markdown",
   "id": "c5b49248",
   "metadata": {},
   "source": [
    "<center> <h1>Método de Gauss-Seidel</h1> </center>\n",
    "\n",
    "El método de Gauss-Seidel es un método iterativo para resolver sistemas de ecuaciones lineales, similar al método de Jacobi.\n",
    "\n",
    "Este método puede aplicarse a cualquier sistema de ecuaciones lineales que produzca una matriz de coeficientes con los elementos de su diagonal no-nulos. Sin embargo, la convergencia del método solo se garantiza si la matriz es diagonalmente dominante o si es simétrica y definida positiva. Lógicamente, la matriz debe ser cuadrada, i.e., el sistema debe tener tantas ecuaciones como incógnitas, para que exista solución única."
   ]
  },
  {
   "cell_type": "markdown",
   "id": "90da4f1e",
   "metadata": {},
   "source": [
    "El método parte de una aproximación inicial y se repite el proceso hasta llegar a una solución con un margen de error tan pequeño como se quiera. Dado un sistema de ecuaciones lineales en notación matricial ${\\displaystyle Ax=b,\\,}$ se busca la solución del mismo donde:\n",
    "\n",
    "$${\\displaystyle A={\\begin{pmatrix}a_{11}&a_{12}&\\cdots &a_{1n}\\\\a_{21}&a_{22}&\\cdots &a_{2n}\\\\\\vdots &\\vdots &\\ddots &\\vdots \\\\a_{n1}&a_{n2}&\\cdots &a_{nn}\\end{pmatrix}},\\qquad x={\\begin{pmatrix}x_{1}\\\\x_{2}\\\\\\vdots \\\\x_{n}\\end{pmatrix}},\\qquad b={\\begin{pmatrix}b_{1}\\\\b_{2}\\\\\\vdots \\\\b_{n}\\end{pmatrix}}.}$$"
   ]
  },
  {
   "cell_type": "markdown",
   "id": "e4959c6b",
   "metadata": {},
   "source": [
    "El sistema de ecuaciones se puede reescribir como:\n",
    "\n",
    "$${\\displaystyle {\\begin{alignedat}{1}A\\mathbf {x} &=\\mathbf {b} \\\\(L_{*}+U)\\mathbf {x} &=\\mathbf {b} \\\\L_{*}\\mathbf {x} +U\\mathbf {x} &=\\mathbf {b} \\\\L_{*}\\mathbf {x} &=\\mathbf {b} -U\\mathbf {x} \\end{alignedat}}}$$"
   ]
  },
  {
   "cell_type": "markdown",
   "id": "68d9530d",
   "metadata": {},
   "source": [
    "A continuación se despeja  el término de la parte izquierda de la expresión, utilizando el valor previo de $x$ que aparece en la parte derecha de la ecuación, lo cual se puede expresar analiticamente como:\n",
    "\n",
    "$${\\displaystyle \\mathbf {x} ^{(k+1)}=L_{*}^{-1}\\left(\\mathbf {b} -U\\mathbf {x} ^{(k)}\\right).}$$"
   ]
  },
  {
   "cell_type": "markdown",
   "id": "90420715",
   "metadata": {},
   "source": [
    "Sin embargo, aprovechando la forma triangular de $L_*$, los elementos de $x^{(k+1)}$ se pueden calcular secuencialmente para cada fila $i$ usando sustitución directa:\n",
    "\n",
    "$${\\displaystyle x_{i}^{(k+1)}={\\frac {1}{a_{ii}}}\\left(b_{i}-\\sum _{j=1}^{i-1}a_{ij}x_{j}^{(k+1)}-\\sum _{j=i+1}^{n}a_{ij}x_{j}^{(k)}\\right),\\quad i=1,2,\\dots ,n.}$$\n"
   ]
  },
  {
   "cell_type": "markdown",
   "id": "797a4cda",
   "metadata": {},
   "source": [
    "Tenga en cuenta que las dos sumatorias que se utilizan en la fórmula se pueden expresar mediante una sola:\n",
    "\n",
    "$$ {\\displaystyle \\sum _{j\\neq i}a_{ij}x_{j}} $$\n",
    "\n",
    "que utiliza el valor $x_{j}$ calculado más recientemente. El procedimiento continúa hasta que los cambios realizados en una iteración son mínimos, i.e., están por debajo de cierta tolerancia, como un residuo suficientemente pequeño.\n",
    "\n",
    "La diferencia entre este método y el de Jacobi es que, en este último, las mejoras a las aproximaciones no se utilizan hasta completar las iteraciones."
   ]
  },
  {
   "cell_type": "markdown",
   "id": "1091f221",
   "metadata": {},
   "source": [
    "El cálculo de ${x}^{(k+1)}$ utiliza los elementos de ${x}^{(k+1)}$ que ya han sido calculados, y solo los elementos de ${x}^{(k)}$ que no se han calculado en la $(k+1)$-ésima iteración. Esto significa que, a diferencia del método de Jacobi, solo se requiere un vector de almacenamiento, ya que los elementos se pueden sobrescribir a medida que se calculan, lo que puede ser ventajoso para problemas muy grandes."
   ]
  },
  {
   "cell_type": "markdown",
   "id": "ecb36e25",
   "metadata": {},
   "source": [
    "Sin embargo, a diferencia del método de Jacobi, los cálculos para cada elemento son generalmente mucho más difíciles de implementar en paralelo, ya que pueden tener una ruta crítica muy larga y, por lo tanto, son más factibles para matrices dispersas. Además, los valores en cada iteración dependen del orden de las ecuaciones originales."
   ]
  },
  {
   "cell_type": "markdown",
   "id": "4550eefd",
   "metadata": {},
   "source": [
    "Las propiedades de convergencia del método de Gauss-Seidel dependen de la matriz $A$. El procedimiento converge si:\n",
    "\n",
    "* $A$ es simétrica definida positiva, o\n",
    "\n",
    "* $A$ tiene diagonal estrictamente dominante.\n",
    "\n",
    "El método de Gauss-Seidel converge a veces incluso si estas condiciones no se cumplen."
   ]
  },
  {
   "cell_type": "markdown",
   "id": "ca87f63a",
   "metadata": {},
   "source": [
    "**Algoritmo Método de Gauss-Seidel**\n",
    "\n",
    "While  $\\frac{\\|x_k − x_{k−1}\\|_{L\\infty}}{\\|x\\|_{L\\infty}}>tolerance$ &nbsp; :\n",
    "\n",
    "&emsp; For  $i=1,2,\\cdots,n$ &nbsp; :\n",
    "\n",
    "&emsp;&emsp; ${\\displaystyle x_{i}^{(k+1)}={\\frac {1}{a_{ii}}}\\left(b_{i}-\\sum _{j=1}^{i-1}a_{ij}x_{j}^{(k+1)}-\\sum _{j=i+1}^{n}a_{ij}x_{j}^{(k)}\\right)\\quad }$\n",
    "\n",
    "\n",
    "**Implementación del Método de Gauss-Seidel en Python**"
   ]
  },
  {
   "cell_type": "code",
   "execution_count": 1,
   "id": "e9a40320",
   "metadata": {},
   "outputs": [],
   "source": [
    "def gauss_seidel(A, b, tolerance=1e-10, max_iterations=10000):\n",
    "    \n",
    "    x = np.zeros_like(b, dtype=np.double)\n",
    "    \n",
    "    #Iterate\n",
    "    for k in range(max_iterations):\n",
    "        print('iteration:', k)\n",
    "        \n",
    "        x_old  = x.copy()\n",
    "        \n",
    "        #Loop over rows\n",
    "        for i in range(A.shape[0]):\n",
    "            x[i] = (b[i] - np.dot(A[i,:i], x[:i]) - np.dot(A[i,(i+1):], x_old[(i+1):])) / A[i ,i]\n",
    "            \n",
    "        #Stop condition \n",
    "        if np.linalg.norm(x - x_old, ord=np.inf) / np.linalg.norm(x, ord=np.inf) < tolerance:\n",
    "            break\n",
    "            \n",
    "    return x"
   ]
  },
  {
   "cell_type": "markdown",
   "id": "2720c7ed",
   "metadata": {},
   "source": [
    "Ejemplo: a continuación vamos a aplicar el método de Gauss-Seidel al sistema de ecuaciones lineales $Ax=b$ donde:\n",
    "\n",
    "\n",
    "$${\\displaystyle A={\\begin{bmatrix}16&3\\\\7&-11\\\\\\end{bmatrix}}\\quad {\\text{y}}\\quad b={\\begin{bmatrix}11\\\\13\\end{bmatrix}},}$$\n"
   ]
  },
  {
   "cell_type": "code",
   "execution_count": 2,
   "id": "3c1d5f5d",
   "metadata": {},
   "outputs": [],
   "source": [
    "import numpy as np\n",
    "\n",
    "A = np.array([[16,3], [7, -11]])\n",
    "\n",
    "b = np.array([11, 13])"
   ]
  },
  {
   "cell_type": "code",
   "execution_count": 3,
   "id": "d2900149",
   "metadata": {},
   "outputs": [
    {
     "name": "stdout",
     "output_type": "stream",
     "text": [
      "iteration: 0\n",
      "iteration: 1\n",
      "iteration: 2\n",
      "iteration: 3\n",
      "iteration: 4\n",
      "iteration: 5\n",
      "iteration: 6\n",
      "iteration: 7\n",
      "iteration: 8\n",
      "iteration: 9\n",
      "iteration: 10\n",
      "iteration: 11\n",
      "iteration: 12\n"
     ]
    },
    {
     "data": {
      "text/plain": [
       "array([ 0.81218274, -0.66497462])"
      ]
     },
     "execution_count": 3,
     "metadata": {},
     "output_type": "execute_result"
    }
   ],
   "source": [
    "gauss_seidel(A, b, tolerance=1e-10, max_iterations=20)"
   ]
  },
  {
   "cell_type": "markdown",
   "id": "638348b7",
   "metadata": {},
   "source": [
    "<center> <h3>Bibliografía</h3> </center>\n",
    "\n",
    "* [Método de Gauss-Seidel](https://es.wikipedia.org/wiki/M%C3%A9todo_de_Gauss-Seidel)\n",
    "\n",
    "* [Iterative Methods for Solving Linear Systems of Equations UTexas](https://johnfoster.pge.utexas.edu/numerical-methods-book/LinearAlgebra_IterativeSolvers.html)\n",
    "\n",
    "* [Gauss–Seidel method](https://en.wikipedia.org/wiki/Gauss%E2%80%93Seidel_method)"
   ]
  },
  {
   "cell_type": "code",
   "execution_count": null,
   "id": "16e403cc",
   "metadata": {},
   "outputs": [],
   "source": []
  }
 ],
 "metadata": {
  "kernelspec": {
   "display_name": "Python 3 (ipykernel)",
   "language": "python",
   "name": "python3"
  },
  "language_info": {
   "codemirror_mode": {
    "name": "ipython",
    "version": 3
   },
   "file_extension": ".py",
   "mimetype": "text/x-python",
   "name": "python",
   "nbconvert_exporter": "python",
   "pygments_lexer": "ipython3",
   "version": "3.10.8"
  }
 },
 "nbformat": 4,
 "nbformat_minor": 5
}
