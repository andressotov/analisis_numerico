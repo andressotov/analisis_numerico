{
 "cells": [
  {
   "cell_type": "markdown",
   "id": "f6e1f409",
   "metadata": {},
   "source": [
    "<center> <h1>Método de Punto Fijo</h1> </center>"
   ]
  },
  {
   "cell_type": "markdown",
   "id": "ec469a11",
   "metadata": {},
   "source": [
    "Un punto fijo (también conocido como punto invariante) es un valor que no cambia bajo una transformación dada. Específicamente, en matemáticas, un punto fijo de una función es un elemento que la función asigna a sí mismo.\n",
    "\n",
    "Formalmente, $c$ es un punto fijo de una función $f$ si $f(c) = c$.\n",
    "\n",
    "Por ejemplo, si $f(x)=x^{2}-3x+4$, entonces $2$ es un punto fijo de $f$, porque $f(2) = 2$."
   ]
  },
  {
   "cell_type": "markdown",
   "id": "27b193e7",
   "metadata": {},
   "source": [
    "No todas las funciones tienen puntos fijos: por ejemplo, $f(x) = x + 1$, no tiene puntos fijos, ya que $x$ nunca es igual a $x + 1$ para ningún número real. En términos gráficos, si $x$ es un punto fijo de $f$ significa que el punto $(x, f(x))$ se encuentra sobre la línea y = x, o dicho de otra manera, la gráfica de f tiene un punto en común con esa línea.\n",
    "\n",
    "La función que se muestra a continuación tiene 3 puntos fijos.\n",
    "\n",
    "![Formato float simple precision](./images/Fixed_point_example.png \"Formato float simple precision\")\n",
    "\n"
   ]
  },
  {
   "cell_type": "markdown",
   "id": "ce51cce6",
   "metadata": {},
   "source": [
    "\n",
    "\n",
    "El método del punto fijo es un método iterativo que permite determinar raíces de una función $f(x)$, siempre y cuando se cumplan los criterios de convergencia. \n",
    "\n",
    "El método de iteración de punto fijo, también denominado método de aproximación sucesiva, requiere volver a escribir la ecuación $f(x)=0$ en la forma $x=g(x)$.\n",
    "Sea $x^{*}$ la raíz de $f$. Supongamos que se conoce una función $g$ tal que $f(x)=x-g(x)$ \\ \\ \\forall x\\in D_{f}}.\n",
    "\n",
    "Entonces:\n",
    "\n",
    "�\n",
    "(\n",
    "�\n",
    "∗\n",
    ")\n",
    "=\n",
    "0\n",
    "⇔\n",
    "�\n",
    "∗\n",
    "−\n",
    "�\n",
    "(\n",
    "�\n",
    "∗\n",
    ")\n",
    "=\n",
    "0\n",
    "⇔\n",
    "�\n",
    "∗\n",
    "=\n",
    "�\n",
    "(\n",
    "�\n",
    "∗\n",
    ")\n",
    ".\n",
    "{\\displaystyle f(x^{*})=0\\Leftrightarrow x^{*}-g(x^{*})=0\\Leftrightarrow x^{*}=g(x^{*}).}\n",
    "\n",
    "Tenemos, pues, a \n",
    "�\n",
    "∗{\\displaystyle x^{*}} como punto fijo de \n",
    "�\n",
    "g.\n",
    "\n",
    "\n",
    "\n",
    "\n",
    "\n"
   ]
  },
  {
   "cell_type": "markdown",
   "id": "c7cb59a7",
   "metadata": {},
   "source": [
    "Dada una función $f$ definida para los números reales y un punto $x_{0}$, la sucesión de puntos obtenida mediante la iteración de punto fijo\n",
    "${\\displaystyle x_{n+1}=f(x_{n}),\\,n=0,1,2,\\dots }$ produce la sucesión \n",
    "$x_{0},x_{1},x_{2},\\dots$  of iterated function applications \n",
    "\n",
    "${\\displaystyle x_{0},f(x_{0}),f(f(x_{0})),\\dots }$, la cual se espera que converja a un punto fijo $x_{\\text{fix}}$. Si la función es continua, se puede probar que el punto $x_{\\text{fix}}$ obtenido mediante dicha sucesión es un punto fijo, es decir que ${\\displaystyle f(x_{\\text{fix}})=x_{\\text{fix}}.}$"
   ]
  },
  {
   "cell_type": "markdown",
   "id": "16bcdc14",
   "metadata": {},
   "source": [
    "<center> <h3>Bibliografía</h3> </center>\n",
    "\n",
    "* [Fixed point (mathematics)](https://en.wikipedia.org/wiki/Fixed_point_(mathematics))\n",
    "\n",
    "* []()\n",
    "\n",
    "* []()"
   ]
  }
 ],
 "metadata": {
  "kernelspec": {
   "display_name": "Python 3 (ipykernel)",
   "language": "python",
   "name": "python3"
  },
  "language_info": {
   "codemirror_mode": {
    "name": "ipython",
    "version": 3
   },
   "file_extension": ".py",
   "mimetype": "text/x-python",
   "name": "python",
   "nbconvert_exporter": "python",
   "pygments_lexer": "ipython3",
   "version": "3.10.8"
  }
 },
 "nbformat": 4,
 "nbformat_minor": 5
}
