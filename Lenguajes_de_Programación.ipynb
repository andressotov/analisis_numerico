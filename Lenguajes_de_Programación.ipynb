{
 "cells": [
  {
   "cell_type": "markdown",
   "id": "075c7276",
   "metadata": {},
   "source": [
    "<center> <h1>Lenguajes de Programación para Matemáticas</h1> </center>"
   ]
  },
  {
   "cell_type": "markdown",
   "id": "49712e4b",
   "metadata": {},
   "source": [
    "Un concepto muy importante que hay que tener en cuenta antes de comenzar a programar es el concepto de **algoritmo**. Un algoritmo es un conjunto de pasos, sentencias o reglas bien definidas que permite llevar a cabo una tarea determinada, ya sea solucionar un problema, realizar un cómputo, procesar datos y llevar a cabo otras tareas o actividades. \n",
    "\n",
    "Según la [RAE](https://dle.rae.es/algoritmo), es un conjunto ordenado y finito de operaciones que permite hallar la solución de un problema. Otras definiciones restringen el concepto de algoritmo al contexto de la Matemática o Ingeniería. El diccionario de [Cambridge](https://dictionary.cambridge.org/dictionary/english/algorithm) define algoritmo como: \"a set of mathematical instructions or rules that, especially if given to a computer, will help to calculate an answer to a problem\".\n",
    "\n",
    "En nuestros días, el concepto de algoritmo se ha vuelto común y se aplica a muchas situaciones fuera del campo científico-técnico: una receta de cocina puede considerarse un algoritmo, una guía para usar un equipo electrodoméstico o para instalarlo, etc.\n",
    "\n",
    "![Lámpara no funciona](./images/lámpara_no_funciona.jpg?raw=true)\n",
    "\n"
   ]
  },
  {
   "cell_type": "markdown",
   "id": "ba80da9c",
   "metadata": {},
   "source": [
    "Algunas características importantes de los algoritmos son la claridad, el orden de los pasos del mismo, que incluya todas las posibilidades a tener en cuenta y que ofrezca solución a todas y que permita realizarlo en un tiempo finito."
   ]
  },
  {
   "cell_type": "markdown",
   "id": "ec2253e5",
   "metadata": {},
   "source": [
    "![Algoritmo para calcular la raíz cuadrada de un número](./images/AlgoritmoRaiz.png \"AlgoritmoRaiz\")"
   ]
  },
  {
   "cell_type": "markdown",
   "id": "06982068",
   "metadata": {},
   "source": [
    "Para poder comunicarnos con los ordenadores y otros equipos informáticos se han desarrollado diferentes lenguajes artificiales con reglas gramaticales bien definidas que permiten a las personas comunicarse con el ordenador y trasmitirle una serie de instrucciones u órdenes para que dicho equipo realice una tarea determinada bajo ciertas condiciones. \n",
    "\n",
    "Al conjunto de órdenes expresadas mediante un lenguaje de programación se le denomina programa informático o simplemente programa."
   ]
  },
  {
   "cell_type": "markdown",
   "id": "5fb7bed3",
   "metadata": {},
   "source": [
    "No se debe confundir 'lenguaje de programación' y 'lenguaje informático'. Lenguaje informático es un término más general que engloba a los lenguajes de programación y a otros más, como por ejemplo HTML (lenguaje para el marcado de páginas web, que no es propiamente un lenguaje de programación, sino un conjunto de sentencias que permiten estructurar el contenido de los documentos). Existen diferentes tipos de lenguajes relacionados con los ordenadores:\n",
    "\n",
    "* Lenguaje de programación: un lenguaje formal diseñado para comunicar instrucciones a una máquina, particularmente a una computadora\n",
    "\n",
    "* Lenguaje de consulta: un lenguaje utilizado para realizar consultas y búsquedas en bases de datos y sistemas de información.\n",
    "\n",
    "* Lenguaje de marcado: un lenguaje para anotar un documento de manera que las anotaciones se diferencien sintácticamente del texto, como HTML y permitan un mejor uso del texto tanto para los humanos como para las máquinas.\n",
    "\n",
    "entre otros muchos. \n",
    "\n"
   ]
  },
  {
   "cell_type": "markdown",
   "id": "ce306cdd",
   "metadata": {},
   "source": [
    "<center> <h3>Lenguaje de Máquina</h3> </center>\n",
    "\n",
    "El lenguaje de máquina, que se utiliza para controlar la unidad central de procesamiento (CPU) de la computadora, es un lenguaje de programación de bajo nivel que puede ser comprendido directamente por el hardware de la computadora. \n",
    "Cada instrucción hace que la CPU realice una tarea muy específica, como cargar o almacenar un dato, realizar un cálculo con valores contenidos en la memoria o los registros de la CPU, utilizando para ello la unidad aritmético-lógica (ALU), tomar una decisión en dependencia de los valores calculados, etc. El lenguaje de máquina es estrictamente numérico y es la interfaz de más bajo nivel con la CPU a la que tiene acceso un programador.\n"
   ]
  },
  {
   "cell_type": "markdown",
   "id": "86658f56",
   "metadata": {},
   "source": [
    "![Programa ensamblado_PDP8](./images/prog_ya_ensamblado_PDP8.jpg \"Programa ensamblado_PDP8\")"
   ]
  },
  {
   "cell_type": "markdown",
   "id": "6c9389ac",
   "metadata": {},
   "source": [
    "En la imagen anterior se muestra un programa en PAL III (Program Assembly Language version III) para la familia de computadoras PDP-8. El PDP-8 (Programmed Data Processor - 8) fue un miniordenador de 12 bits creada por Digital Equipment Corporation (DEC) en abril de 1965, de la serie PDP. \n",
    "Fue la primera minicomputadora comercialmente exitosa, con más de 50.000 unidades vendidas durante la vida útil del modelo.\n",
    "\n",
    "En la imagen se aprecian varias columnas. En la columna de la extrema izquierda aparecen numeradas en forma secuencial las localizaciones de la memoria de una PDP-8 4K en el año 1970. En la segunda columna de izquierda a derecha podemos observar los códigos en lenguaje de máquina de las instrucciones que aparecen \n",
    "en la siguiente columna. \n",
    "\n",
    "Si bien es posible escribir programas directamente en código de máquina, es tedioso y propenso a errores. Por esta razón, los programas rara vez se escriben directamente en código de máquina en contextos modernos."
   ]
  },
  {
   "cell_type": "markdown",
   "id": "91b002cb",
   "metadata": {},
   "source": [
    "Debido a las dificultades antes mencionadas, ya desde la década del 40 del siglo XX se comenzaron a definir y desarrollar lenguajes, cuyas sentencias  representaran expresiones matemáticas en una forma más comprensible."
   ]
  },
  {
   "cell_type": "markdown",
   "id": "ffc39212",
   "metadata": {},
   "source": [
    "<center> <h3>Lenguaje Ensamblador</h3> </center>\n",
    "\n",
    "El lenguaje ensamblador (en inglés: assembler language y la abreviación asm) es un lenguaje de programación que se usa en los microprocesadores. Implementa una representación simbólica de los códigos de las instrucciones de máquina y otras constantes necesarias para programar una arquitectura de procesador y es la representación más directa del código máquina. \n",
    "\n",
    "Cada arquitectura de procesador es definida por el fabricante de hardware y tiene asociado su propio lenguaje de máquina y su correspondiente lenguaje ensamblador que está basado en los códigos mnemotécnicos que simbolizan los pasos de procesamiento (las instrucciones), los registros del procesador, las posiciones de memoria y otras características del lenguaje. \n",
    "\n",
    "Un lenguaje ensamblador es por lo tanto específico de cierta arquitectura de computador física (o virtual), a diferencia de lo que ocurre con la mayoría de los lenguajes de programación de alto nivel, que idealmente son portables.\n",
    "\n",
    "El programa diseñado en lenguaje ensamblador es trasladado a lenguaje de máquina (en binario) mediante el programa ensamblador, el cual se carga directamente en la memoria de la computadora para ser ejecutado"
   ]
  },
  {
   "cell_type": "markdown",
   "id": "faf9ef57",
   "metadata": {},
   "source": [
    "Ejemplo de programa en lenguaje ensamblador Intel 8086. El programa busca en una cadena un 0 y si lo encuentra rellena las siguientes 5 posiciones con ceros.\n",
    "\n",
    " LEA DI, ES:CADENA; carga en el registro DI la dirección inicial de la cadena\n",
    " \n",
    " MOV AX, 0; borra (pone a cero) el registro AX\n",
    " \n",
    " MOV CX, 200; asigna al registro CX el valor 200\n",
    " \n",
    " REPNE SCASW; si CX es distinto de 0, ejecuta SCASW y decrementa CX\n",
    " \n",
    " JCXZ no_encon; si CX = 0, salta a la instrucción con la etiqueta 'no_encon'\n",
    " \n",
    " SUB DI, 2; substrae (resta) 2 al registro DI\n",
    " \n",
    " MOV CX, 6; coloca el valor 6 en el registro CX\n",
    " \n",
    " REP STOS CADENA; si CX es distinto de 0, ejecuta STOS y decrementa CX\n",
    " \n",
    " no_encon: …\n",
    " … \n",
    " \n",
    " ; STOS transfiere el contenido de AL a una cadena (destino). \n",
    " \n",
    " ; SCASW localiza el valor contenido en AX en una cadena; si encuentra el elemento, devuelve en DI el desplazamiento del siguiente elemento. \n",
    " \n"
   ]
  },
  {
   "cell_type": "markdown",
   "id": "f9fb84dc",
   "metadata": {},
   "source": [
    "Ejemplo de programa en lenguaje ensamblador Motorola 6809. El MC6809 es un procesador creado por Motorola en 1977. Es un procesador de 8 bits, con algunas características de 16 bits. \n",
    "\n",
    "El programa imprime en la pantalla las palabras Hola mundo.\n",
    "\n",
    "\n",
    "; Programa de ejemplo: hola.asm\n",
    "\n",
    "        .area PROG (ABS)\n",
    "\n",
    "        .org 0x100\n",
    "        \n",
    "cadena: .ascii \"Hola, mundo.\"\n",
    "\n",
    "        .byte   10      ; 10 es CTRL-J: salto de línea\n",
    "        \n",
    "        .byte   0       ; 0 es CTRL-@: fin de cadena\n",
    "\n",
    "        .globl programa\n",
    "        \n",
    "programa:\n",
    "\n",
    "        ldx #cadena     ; carga en el registro X la dirección de la cadena\n",
    "        \n",
    "bucle:  lda ,x+         ; carga en el registro A la dirección de la cadena\n",
    "\n",
    "        beq acabar      ; salta si cero a la etiqueta 'acabar'\n",
    "        \n",
    "        sta 0xFF00      ; salida por pantalla\n",
    "        \n",
    "        bra bucle       ; salta a la etiqueta 'bucle'\n",
    "        \n",
    "acabar: clra            ; borra (clear) a\n",
    "\n",
    "        sta 0xFF01      ; salida por pantalla\n",
    "\n",
    "        .org 0xFFFE     ; Vector de RESET\n",
    "        \n",
    "        .word programa\n"
   ]
  },
  {
   "cell_type": "markdown",
   "id": "1ba76895",
   "metadata": {},
   "source": [
    "<center> <h3>FORTRAN</h3> </center>\n",
    "\n",
    "En 1954, [John Backus](https://en.wikipedia.org/wiki/John_Backus) inventó el lenguaje FORTRAN mientras trabajaba en IBM. En aquellos años, los ordenadores no permitían escribir letras minúsculas, por lo cual se acostumbró a escribir el nombre en mayúsculas. El primer manual de FORTRAN lo describe como un sistema de traducción de fórmulas (Formula Translating System).\n",
    "\n",
    "Fortran fue el primer lenguaje de programación de propósito general de alto nivel ampliamente utilizado en tener una implementación funcional, en lugar de solo un diseño en papel. Sigue siendo un lenguaje popular para la computación de alto rendimiento y se usa para programas que comparan y clasifican las supercomputadoras más rápidas del mundo."
   ]
  },
  {
   "cell_type": "markdown",
   "id": "73008bf6",
   "metadata": {},
   "source": [
    "![IBM Blue Gene/P supercomputer](./images/IBM_Blue_Gene_P_supercomputer.jpg \"IBM Blue Gene/P supercomputer\")"
   ]
  },
  {
   "cell_type": "markdown",
   "id": "4d6e25f5",
   "metadata": {},
   "source": [
    "Fortran ha estado en uso durante más de seis décadas en áreas computacionalmente intensivas como la predicción meteorológica numérica, el análisis de elementos finitos, la dinámica de fluidos computacional, la geofísica, la física computacional, la cristalografía y la química computacional. Es un lenguaje popular para computación de alto rendimiento y se usa para programas que comparan y clasifican las supercomputadoras más rápidas del mundo."
   ]
  },
  {
   "cell_type": "markdown",
   "id": "0d62526b",
   "metadata": {},
   "source": [
    "Desde agosto de 2021, Fortran se encuentra entre los quince principales idiomas en el [índice TIOBE](https://en.wikipedia.org/wiki/TIOBE_index), el cual mide  la popularidad de los lenguajes de programación.\n",
    "\n",
    "En julio de 2023, se espera que se publique la nueva versión standard de Fortran."
   ]
  },
  {
   "cell_type": "markdown",
   "id": "7a880ee8",
   "metadata": {},
   "source": [
    "**Ejemplo**\n",
    "\n",
    "El siguiente programa escrito en FORTRAN 90 calcula un promedio sobre los datos ingresados de forma interactiva. Este ejemplo ilustra la asignación de memoria dinámica y las operaciones basadas en matrices. Conviene destacar la ausencia de bucles (lazos, ciclos) DO y sentencias IF/THEN en la manipulación de la matriz; las operaciones matemáticas se aplican a la matriz como un todo. También es evidente el uso de nombres de variables descriptivos y formato de código general que se ajusta al estilo de programación contemporáneo. "
   ]
  },
  {
   "cell_type": "markdown",
   "id": "ab14a224",
   "metadata": {},
   "source": [
    "program average\n",
    "\n",
    "  &ensp;! Read in some numbers and take the average\n",
    "  \n",
    "  &ensp;! As written, if there are no data points, an average of zero is returned\n",
    "  \n",
    "  &ensp;! While this may not be desired behavior, it keeps this example simple\n",
    "\n",
    "  &ensp;implicit none\n",
    "\n",
    "  &ensp;real, dimension(:), allocatable :: points\n",
    "  \n",
    "  &ensp;integer                         :: number_of_points\n",
    "  \n",
    "  &ensp;real                            :: average_points, positive_average, negative_average\n",
    "  \n",
    "  &ensp;average_points = 0.0\n",
    "  \n",
    "  &ensp;positive_average = 0.0\n",
    "  \n",
    "  &ensp;negative_average = 0.0\n",
    "  \n",
    "  &ensp;write (*,*) \"Input number of points to average:\"\n",
    "  \n",
    "  &ensp;read  (*,*) number_of_points\n",
    "\n",
    "  &ensp;allocate (points(number_of_points))\n",
    "\n",
    "  &ensp;write (*,*) \"Enter the points to average:\"\n",
    "  \n",
    "  &ensp;read  (*,*) points\n",
    "\n",
    "  &ensp;! Take the average by summing points and dividing by number_of_points\n",
    "  \n",
    "  &ensp;if (number_of_points > 0) average_points = sum(points) / number_of_points\n",
    "\n",
    "  &ensp;! Now form average over positive and negative points only\n",
    "  \n",
    "  &ensp;if (count(points > 0.) > 0) positive_average = sum(points, points > 0.) / count(points > 0.)\n",
    "  \n",
    "  &ensp;if (count(points < 0.) > 0) negative_average = sum(points, points < 0.) / count(points < 0.)\n",
    "  \n",
    "  &ensp;! Print result to terminal stdout unit 6\n",
    "  \n",
    "  &ensp;write (*,'(a,g12.4)') 'Average = ', average_points\n",
    "  \n",
    "  &ensp;write (*,'(a,g12.4)') 'Average of positive points = ', positive_average\n",
    "  \n",
    "  &ensp;write (*,'(a,g12.4)') 'Average of negative points = ', negative_average\n",
    "  \n",
    "  &ensp;deallocate (points) ! free memory\n",
    "  \n",
    "end program average"
   ]
  },
  {
   "cell_type": "markdown",
   "id": "c3c6a96d",
   "metadata": {},
   "source": [
    "<center> <h3>MATLAB</h3> </center>\n",
    "\n",
    "MATLAB fue inventado por el matemático y programador informático [Cleve Moler](https://en.wikipedia.org/wiki/Cleve_Moler). La idea de MATLAB se basó en su tesis doctoral de la década de 1960. Moler se convirtió en profesor de matemáticas en la Universidad de Nuevo México y comenzó a desarrollar MATLAB para sus alumnos como pasatiempo. Desarrolló la versión inicial de los programas de álgebra lineal de MATLAB en 1967 con su antiguo asesor de tesis, [George Forsythe](https://en.wikipedia.org/wiki/George_Forsythe).\n",
    "\n",
    "La primera versión temprana de MATLAB se completó a fines de la década de 1970. El software se divulgó al público por primera vez en febrero de 1979. En ese momento, MATLAB se distribuía de forma gratuita a las universidades. Moler dejaba copias en las universidades que visitaba y el software desarrolló muchos seguidores en los departamentos de matemáticas de los campus universitarios."
   ]
  },
  {
   "cell_type": "markdown",
   "id": "995676bf",
   "metadata": {},
   "source": [
    "En la década de 1980, Cleve Moler y [John N. Little](https://en.wikipedia.org/wiki/John_N._Little) decidieron reprogramar MATLAB utlizando el lenguaje C y comercializarlo para las computadoras de escritorio de IBM. De esta manera, crearon el lenguaje de programación MATLAB y desarrollaron funciones para cajas de herramientas.\n",
    "\n",
    "MATLAB se lanzó por primera vez como producto comercial en 1984. Se fundó MathWorks, Inc. para desarrollar el software y se lanzó el lenguaje de programación MATLAB. A fines de la década de 1980, se habían vendido varios cientos de copias de MATLAB a universidades para uso de los estudiantes. Muchas de las cajas de herramientas se desarrollaron como resultado del uso de MATLAB por los estudiantes de Stanford, los cuales difundieron así el software al sector privado."
   ]
  },
  {
   "cell_type": "markdown",
   "id": "d6f87ae2",
   "metadata": {},
   "source": [
    "MATLAB (abreviatura de \"MATrix LABoratory\") es un lenguaje de programación multiparadigma y un entorno de computación numérica patentado por [MathWorks](https://en.wikipedia.org/wiki/MathWorks). MATLAB permite la manipulación de matrices, el trazado de funciones y datos, la implementación de algoritmos, la creación de interfaces de usuario y la interfaz con programas escritos en otros lenguajes.\n",
    "\n",
    "Aunque MATLAB está destinado principalmente a la computación numérica, una caja de herramientas opcional utiliza el motor simbólico MuPAD que permite  computación simbólica. Otro paquete adicional, Simulink, agrega simulación gráfica multidominio y diseño basado en modelos para sistemas dinámicos e integrados.\n",
    "\n",
    "En 2000, MathWorks agregó una biblioteca basada en Fortran para álgebra lineal, reemplazando las subrutinas LINPACK y EISPACK originales que estaban en C. La caja de herramientas de computación paralela de MATLAB se lanzó en 2004 y se le agregó soporte para unidades de procesamiento de gráficos (GPU) en 2010.\n",
    "\n",
    "A partir de 2020, MATLAB tiene más de 4 millones de usuarios en todo el mundo de ingeniería, ciencia y economía."
   ]
  },
  {
   "cell_type": "markdown",
   "id": "5b1c9432",
   "metadata": {},
   "source": [
    "**Ejemplo**\n",
    "\n",
    "En Matlab, las matrices se definen por filas. Los elementos de una misma fila están separados por blancos o comas, mientras que las filas están separadas por punto y coma (;). \n",
    "\n",
    "Por ejemplo, el siguiente comando define una matriz $A$ de dimensión $3\\times3$ donde $>>$ representa el cursor de MATLAB.\n",
    "\n",
    "$ >> A=[1, 2, 3; 4, 5, 6; 7, 8, 9]$"
   ]
  },
  {
   "cell_type": "raw",
   "id": "0a806620",
   "metadata": {},
   "source": [
    "A =\n",
    "\n",
    "   1   2   3\n",
    "   4   5   6\n",
    "   7   8   9"
   ]
  },
  {
   "cell_type": "markdown",
   "id": "716f96a9",
   "metadata": {},
   "source": [
    "Para calcular la traspuesta de A basta teclear:\n",
    "\n",
    "$>> A'$"
   ]
  },
  {
   "cell_type": "raw",
   "id": "4d05defb",
   "metadata": {},
   "source": [
    "ans =\n",
    "\n",
    "   1   4   7\n",
    "   2   5   8\n",
    "   3   6   9"
   ]
  },
  {
   "cell_type": "markdown",
   "id": "7d882ab5",
   "metadata": {},
   "source": [
    "**Ejemplo**\n",
    "\n",
    "MATLAB tiene funciones de gráficación integradas. Por ejemplo, la función $plot$ permite crear un gráfico de la función seno a partir de dos vectores $x$ e $y$ con facilidad: \n",
    "\n",
    "&ensp;x = 0:pi/100:2*pi;\n",
    "\n",
    "&ensp;y = sin(x);\n",
    "\n",
    "&ensp;plot(x,y)"
   ]
  },
  {
   "cell_type": "markdown",
   "id": "844cd58d",
   "metadata": {},
   "source": [
    "![Matlab sin plot](./images/Matlab_sin_plot.jpg \"Matlab sin plot\")"
   ]
  },
  {
   "cell_type": "markdown",
   "id": "f789d502",
   "metadata": {},
   "source": [
    "<center> <h3>Wolfram Mathematica</h3> </center>\n",
    "\n",
    "Wolfram Mathematica es un sistema de software con bibliotecas integradas para varias áreas de computación tales como aprendizaje automático, estadísticas, computación simbólica, análisis de redes y de series de tiempo, procesamiento de lenguaje natural, optimización, implementación de algoritmos, creación de interfaces de usuario e interfaz con programas escritos en otros lenguajes de programación. \n",
    "\n",
    "Fue concebido por [Stephen Wolfram](https://en.wikipedia.org/wiki/Stephen_Wolfram) y desarrollado por Wolfram Research. Wolfram Language es el lenguaje de programación utilizado en Mathematica. Mathematica 1.0 fue lanzado el 23 de junio de 1988.\n",
    "\n",
    "Wolfram Language es un lenguaje de programación multiparadigma patentado, general y de alto nivel que hace hincapié en la computación simbólica, la programación funcional y la programación basada en reglas y puede emplear estructuras y datos arbitrarios. Los aspectos simbólicos lo convierten en un sistema de álgebra computacional. El lenguaje puede realizar integración, diferenciación, manipulaciones de matrices y resolver ecuaciones diferenciales utilizando un conjunto de reglas.\n",
    "\n",
    "Ejemplo de operaciones simbólicas para simplificar una expresión aritmética:\n",
    "\n",
    "\n",
    "\n"
   ]
  },
  {
   "cell_type": "markdown",
   "id": "827af128",
   "metadata": {},
   "source": [
    "![Mathematica paso 1-2](./images/Mathematica_paso_1-2.jpg \"Mathematica paso 1-2\")"
   ]
  },
  {
   "cell_type": "markdown",
   "id": "7e3b8092",
   "metadata": {},
   "source": [
    "![Mathematica paso 3](./images/Mathematica_paso_3.jpg \"Mathematica paso 3\")"
   ]
  },
  {
   "cell_type": "markdown",
   "id": "ff6344ed",
   "metadata": {},
   "source": [
    "![Mathematica paso 4](./images/Mathematica_paso_4.jpg \"Mathematica paso 4\")"
   ]
  },
  {
   "cell_type": "markdown",
   "id": "7e8a99d1",
   "metadata": {},
   "source": [
    "<center> <h3>Python</h3> </center>\n",
    "\n",
    "Python es un lenguaje de programación de propósito general y alto nivel. Su filosofía de diseño enfatiza la legibilidad del código con el uso de una sangría significativa.\n",
    "\n",
    "Python admite múltiples paradigmas de programación, incluida la programación estructurada (particularmente procedimental), orientada a objetos y funcional.\n",
    "\n",
    "Debido a la extensa biblioteca de matemáticas de Python y la biblioteca NumPy que amplía aún más las capacidades propias de Python, es utilizado frecuentemente para ayudar en problemas como el procesamiento y la manipulación de datos numéricos.\n",
    "\n",
    "NumPy es una biblioteca que agrega soporte para arreglos y matrices grandes y multidimensionales, junto con una gran colección de funciones matemáticas de alto nivel para operar en estos arreglos."
   ]
  },
  {
   "cell_type": "code",
   "execution_count": 2,
   "id": "d54c73e9",
   "metadata": {},
   "outputs": [
    {
     "data": {
      "text/plain": [
       "array([[1, 2, 3, 8],\n",
       "       [3, 4, 6, 7],\n",
       "       [5, 9, 0, 5]])"
      ]
     },
     "execution_count": 2,
     "metadata": {},
     "output_type": "execute_result"
    }
   ],
   "source": [
    "import numpy as np\n",
    "\n",
    "a=np.array([[1,2,3,8],[3,4,6,7],[5,9,0,5]])\n",
    "a"
   ]
  },
  {
   "cell_type": "code",
   "execution_count": 3,
   "id": "f0974262",
   "metadata": {},
   "outputs": [
    {
     "data": {
      "text/plain": [
       "array([[1, 3, 5],\n",
       "       [2, 4, 9],\n",
       "       [3, 6, 0],\n",
       "       [8, 7, 5]])"
      ]
     },
     "execution_count": 3,
     "metadata": {},
     "output_type": "execute_result"
    }
   ],
   "source": [
    "a.transpose()"
   ]
  },
  {
   "cell_type": "code",
   "execution_count": 4,
   "id": "022beefc",
   "metadata": {},
   "outputs": [
    {
     "data": {
      "text/plain": [
       "array([1, 2, 3, 8])"
      ]
     },
     "execution_count": 4,
     "metadata": {},
     "output_type": "execute_result"
    }
   ],
   "source": [
    "a[0]"
   ]
  },
  {
   "cell_type": "markdown",
   "id": "36acf205",
   "metadata": {},
   "source": [
    "<center> <h3>Características de los Lenguajes de Programación</h3> </center>\n",
    "\n",
    "Los lenguajes de programación están constituídos por un alfabeto (conjunto de símbolos), reglas gramaticales (léxico/morfológicas y sintácticas) y semánticas, que en su conjunto definen las estructuras válidas del lenguaje y su significado. \n",
    "\n",
    "El lenguaje de programación permite especificar de manera precisa sobre qué datos debe operar un software específico, cómo deben ser almacenados o transmitidos dichos datos, y qué acciones debe tomar el software bajo una variada gama de circunstancias. Todo esto, a través de un lenguaje que intenta estar relativamente próximo al lenguaje humano o natural. \n",
    "\n",
    "Una característica relevante de los lenguajes de programación es que diferentes programadores pueden usar y comprender un mismo conjunto de sentencias para elaborar programas de forma colaborativa."
   ]
  },
  {
   "cell_type": "markdown",
   "id": "3363df0b",
   "metadata": {},
   "source": [
    "<center> <h3>Variables</h3> </center>\n",
    "\n",
    "Las variables son nombres asignados a espacios en memoria para almacenar datos específicos. Las variables constan de dos elementos fundamentales: su identificador y su contenido. Según el contenido que almacene la variable, el espacio de memoria que ocupa la misma será mayor o menor.\n",
    "\n",
    "El identificador de una variable permite hacer referencia a la misma, mencionarla como parte del programa. El identificador de una variable es lo que nos permite acceder a su contenido para utilizarlo o cambiarlo. \n",
    "\n",
    "El contenido de una variable puede ser de diferentes tipos. Los tipos de contenido más comunes son:\n",
    "\n",
    "* Char: Estas variables contienen un único carácter, es decir, una letra, un signo o un número.\n",
    "\n",
    "* Int: Contienen un número entero.\n",
    "\n",
    "* Float: Contienen un número decimal.\n",
    "\n",
    "* String: Contienen cadenas de texto, o lo que es lo mismo, es un vector con varias variables del tipo Char.\n",
    "\n",
    "* Boolean: Solo pueden contener un valor lógico False o True que usualmente se representan mediante un cero o un uno respectivamente. \n",
    "\n",
    "Al igual que las variables de tipo string hacen referencia a un vector de variables de tipo char, podemos tener variables que hacen referencia a vectores de valores enteros, reales, booleanos, entre otros. \n",
    "\n",
    "En algunos lenguajes de programación se requiere asociar cada variable a un tipo específico de datos. De esta manera, a la variable se le asigna una cantidad de memoria específica acorde con el tipo de dato que va a almacenar y  se verifica en todo momento que las operaciones donde se use la variable sean acordes con su tipo de dato. Estos lenguajes se denominan tipados, aunque hay distintas categorías de tipado. Un lenguaje es fuertemente tipado \"si no se permiten violaciones de los tipos de datos\"\n",
    "\n",
    "Por ejemplo, a los valores lógicos o de caracteres no tiene sentido aplicarles operadores aritméticos (i.e., suma, resta, mutiplicación, etc.) Por tanto, una variable de tipo char no se puede utilizar en expresiones aritméticas. \n",
    "\n",
    "Por otra parte, un lenguaje débilmente tipado tiene reglas de tipeo menos estrictas y puede producir resultados impredecibles o incluso erróneos o puede realizar una conversión de tipo implícita en tiempo de ejecución. Los lenguajes de programación no tipados no controlan los tipos de las variables que declaran, de este modo, es posible usar variables de cualquier tipo en un mismo escenario. \n",
    "\n",
    "Las diferentes formas de tipado presentan ventajas y desventajas particulares, por lo que hay una gran diversidad de tipados según unos u otros lenguajes. Por esta razón, hay que prestarle especial atención a la forma de tipado del lenguaje que estemos utilizando."
   ]
  },
  {
   "cell_type": "markdown",
   "id": "188b7ffd",
   "metadata": {},
   "source": [
    "<center> <h3>Sentencias Condicionales</h3> </center>\n",
    "\n",
    "Las sentencias condicionales son estructuras de código que permiten expresar  ciertas premisas que deben cumplirse para que una cierta parte del programa se ejecute. Por ejemplo: una condición puede ser que dos valores sean iguales o que un valor exista o que un valor sea mayor que otro, etc. \n",
    "\n",
    "Las sentencias condicionales más usuales en programación son:\n",
    "\n",
    "* If: Indica una condición para que se ejecute una parte del programa.\n",
    "\n",
    "* Else if: Siempre va precedido de un \"If\" e indica una condición para que se ejecute una parte del programa siempre que no cumpla la condición del if previo y sí se cumpla la condición especificada por el \"else if\".\n",
    "\n",
    "* Else: Siempre precedido de \"If\" y en ocasiones de \"Else If\". Indica que debe ejecutarse cuando no se cumplan las condiciones previas."
   ]
  },
  {
   "cell_type": "markdown",
   "id": "08519b03",
   "metadata": {},
   "source": [
    "**Ejemplo de programa utilizando la sentencia IF**\n",
    "\n",
    "Sean a, b y c variables que contienen la número de grados que forman cada uno de los tres ángulos de un triángulo. Se quiere saber si el triángulo es equilátero o no.\n",
    "\n",
    "%verificamos si el ángulo a es recto (= 90 grados) \n",
    "\n",
    "   if a == 90 \n",
    "   \n",
    "      % si la condición se cumple imprimimos que es un triángulo rectángulo \n",
    "      \n",
    "      fprintf('El triángulo es rectángulo\\n' );\n",
    "      \n",
    "   elseif b == 90 %verificamos si el ángulo b es recto (= 90 grados)\n",
    "   \n",
    "      % si la condición se cumple imprimimos que es un triángulo rectángulo  \n",
    "      \n",
    "      fprintf('El triángulo es rectángulo\\n' );\n",
    "      \n",
    "   elseif c == 90 %verificamos si el ángulo c es recto (= 90 grados)\n",
    "   \n",
    "      % si la condición se cumple imprimimos que es un triángulo rectángulo \n",
    "      \n",
    "      fprintf('El triángulo es rectángulo\\n' );\n",
    "      \n",
    "   else\n",
    "   \n",
    "      % si ninguno de los tres ángulos es recto, entonces no es rectángulo\n",
    "      \n",
    "      fprintf('El triángulo NO es rectángulo\\n');\n",
    "      \n",
    "   end\n",
    "   \n",
    "Una versión más compacta del programa anterior sería la siguiente:\n",
    "\n",
    "    if a == 90 | b == 90 | c == 90 % si (a=90 ó b=90 ó c=90)\n",
    "   \n",
    "      % si la condición se cumple imprimimos que es un triángulo rectángulo \n",
    "      \n",
    "      fprintf('El triángulo es rectángulo\\n' );   \n",
    "      \n",
    "    else\n",
    "   \n",
    "      % si ninguno de los tres ángulos es recto, entonces no es rectángulo\n",
    "      \n",
    "      fprintf('El triángulo NO es rectángulo\\n');\n",
    "      \n",
    "    end"
   ]
  },
  {
   "cell_type": "markdown",
   "id": "a472fe83",
   "metadata": {},
   "source": [
    "<center> <h3>Sentencias Bucle (Lazo, Ciclo)</h3> </center>\n",
    "\n",
    "Las sentencias de tipo bucle (loops en inglés) permiten conformar una serie de sentencias cualesquiera, las cuales se ejecutarán durante un número específico de repeticiones o hasta que se cumplen las condiciones especificadas. Estas sentencias se presentan en dos formas principales: \n",
    "\n",
    "* los bucles controlados mediante un contador que determina el número de repeticiones máximo que se ejecutará el bucle. Se denominan bucles tipo FOR, ya que es el nombre que recibe este tipo de sentencia en muchos lenguajes\n",
    "\n",
    "* los bucles controlados mediante una condición, la cual determina si se repite de nuevo el bucle o no. Se denominan bucles tipo WHILE por \n",
    "\n",
    "Un bucle tipo FOR es una sentencia que controla el flujo del programa y permite especificar una sección del código que se ejecutará una y otra vez hasta que el contador alcance un determinado valor. Por ello se dice que el contador controla el bucle. \n",
    "\n",
    "Los bucles tipo FOR tienen dos partes: un encabezado y un cuerpo. El encabezado define las condiciones de las iteraciones y el cuerpo es el código que se ejecuta una vez por cada iteración. El encabezado a menudo declara un contador de bucle explícito o una variable de bucle. Esto permite que el cuerpo sepa qué iteración se está ejecutando. Los bucles for se utilizan normalmente cuando se conoce el número de iteraciones antes de entrar en el bucle."
   ]
  },
  {
   "cell_type": "markdown",
   "id": "55927646",
   "metadata": {},
   "source": [
    "**Ejemplo de bucle tipo FOR en MATLAB**\n",
    "\n",
    "El programa a continuación permite calcular el factorial del número 5.\n",
    "\n",
    "counter = 5; %valor del cual se quiere obtener el factorial\n",
    "\n",
    "factorial = 1; %variable auxiliar para ir acumulando los productos\n",
    "\n",
    "% la variable n toma los valores desde 1 hasta counter sucesivamente. \n",
    "\n",
    "for n = 1:counter % para cada uno de dichos valores se repite el bucle  \n",
    "\n",
    "    %en cada iteración se multiplica la variable auxiliar por n\n",
    "    \n",
    "    %y el resultado se copia en la variable auxiliar\n",
    "    \n",
    "    factorial = factorial * n\n",
    "    \n",
    "    %al llegar al 'end' del bucle, se incrementa el valor de n y\n",
    "    \n",
    "    %se verifica que sea menor o igual que counter, en cuyo caso \n",
    "    \n",
    "    %se repite el bucle. Si n > counter, se termina el bucle\n",
    "    \n",
    "end\n",
    "\n",
    "factorial %al terminar el bucle, la variable contiene el valor del factorial"
   ]
  },
  {
   "cell_type": "markdown",
   "id": "6cef1cbf",
   "metadata": {},
   "source": [
    "Un bucle tipo WHILE es una sentencia de control de flujo que permite que el código se ejecute repetidamente en función de una condición booleana determinada. El bucle tipo WHILE se puede considerar como una sentencia IF que se repite una y otra vez mientras l condición es verdadera. \n",
    "\n",
    "Los bucles tipo WHILE tienen dos partes: una condición (o expresión) y un bloque de código. Se evalúa la condición/expresión, y si la condición/expresión es verdadera, se ejecuta el bloque de código. Esto se repite hasta que la condición/expresión se vuelve falsa, i.e. deje de ser verdadera."
   ]
  },
  {
   "cell_type": "markdown",
   "id": "631370dc",
   "metadata": {},
   "source": [
    "**Ejemplo de bucle tipo WHILE en MATLAB**\n",
    "\n",
    "El programa a continuación permite calcular el factorial del número 5.\n",
    "\n",
    "counter = 5; %valor del cual se quiere obtener el factorial\n",
    "\n",
    "factorial = 1; %variable auxiliar para ir acumulando los productos\n",
    "\n",
    "% mientras el counter sea mayor que cero se repite el bloque del bucle \n",
    "\n",
    "while (counter > 0) %si la condición no se cumple, se termina el bucle\n",
    "\n",
    "    %en cada iteración se multiplica la variable auxiliar por el counter\n",
    "    \n",
    "    %y el resultado se copia en la variable auxiliar\n",
    "    \n",
    "    factorial = factorial * counter;     \n",
    "    \n",
    "    %a continuación se decrementa el contador\n",
    "    \n",
    "    counter = counter - 1;   \n",
    "    \n",
    "end\n",
    "\n",
    "factorial %al terminar el bucle, la variable contiene el valor del factorial"
   ]
  },
  {
   "cell_type": "markdown",
   "id": "fcea7cf9",
   "metadata": {},
   "source": [
    "<center> <h3> Subprogramas </h3> </center>\n",
    "\n",
    "Un subprograma es un segmento de código que realiza una tarea específica y está  empaquetado como una unidad. El subprograma se puede definir dentro de un  programa determinado o formar parte de bibliotecas de subprogramas que pueden ser utilizadas a su vez por diferentes programas. El subprograma puede ser invocado en cualquier momento desde el programa principal o desde otro subprograma. \n",
    "\n",
    "Los subprogramas reciben diferentes nombres tales como subrutina, procedimiento, función, rutina o método, según el lenguaje de programación o el contexto en que se utilice el término\n",
    "\n",
    "Un subprograma, al ser llamado dentro de un programa, hace que la execución del código principal se detenga y se dirija a ejecutar el código del subprograma."
   ]
  },
  {
   "cell_type": "markdown",
   "id": "75a63974",
   "metadata": {},
   "source": [
    "![Flow chart function call](./images/flow_chart_function_call.jpg \"Flow chart function call\")"
   ]
  },
  {
   "cell_type": "markdown",
   "id": "85467f7d",
   "metadata": {},
   "source": [
    "Los subprogramas se crearon para evitar tener que repetir constantemente fragmentos de código. Un subprograma podría considerarse como una variable que encierra código dentro de si. Por lo tanto, cuando accedemos a dicha variable en realidad lo que estamos haciendo es ordenar al programa que ejecute un determinado código predefinido anteriormente.\n",
    "\n",
    "La idea de una subrutina fue inicialmente concebida por [John Mauchly](https://en.wikipedia.org/wiki/John_Mauchly) y [Kathleen Antonelli](https://en.wikipedia.org/wiki/Kathleen_Antonelli) durante su trabajo en [ENIAC](https://en.wikipedia.org/wiki/ENIAC) y registrada en un simposio de Harvard de enero de 1947."
   ]
  },
  {
   "cell_type": "markdown",
   "id": "7bd25017",
   "metadata": {},
   "source": [
    "![ENIAC](./images/ENIAC.jpg \"ENIAC\")"
   ]
  },
  {
   "cell_type": "markdown",
   "id": "9e6ec0d6",
   "metadata": {},
   "source": [
    "Uno de los primeros lenguajes de programación que admitió subrutinas y funciones escritas por el usuario fue FORTRAN II, cuyo compilador para IBM fue lanzado en 1958."
   ]
  },
  {
   "cell_type": "markdown",
   "id": "d5724a5f",
   "metadata": {},
   "source": [
    "El siguiente programa muestra como escribir una función externa para calcular el promedio de tres números\n",
    "\n",
    "      PROGRAM FUNDEM\n",
    "      \n",
    "C     Declarations for main program\n",
    "\n",
    "      REAL A,B,C\n",
    "      \n",
    "      REAL AV, AVSQ1, AVSQ2\n",
    "      \n",
    "      REAL AVRAGE\n",
    "      \n",
    "C     Enter the data\n",
    "\n",
    "      DATA A,B,C/5.0,2.0,3.0/\n",
    "\n",
    "C     Calculate the average of the numbers\n",
    "\n",
    "      AV = AVRAGE(A,B,C)\n",
    "      \n",
    "      AVSQ1 = AVRAGE(A,B,C) **2\n",
    "      \n",
    "   \t  AVSQ2 = AVRAGE(A**2,B**2,C**2)\n",
    "\n",
    "\t  PRINT *,'Statistical Analysis'\n",
    "      \n",
    "      PRINT *,'The average of the numbers is:',AV\n",
    "      \n",
    "      PRINT *,'The average squared of the numbers: ',AVSQl\n",
    "      \n",
    "      PRINT *,'The average of the squares is: ', AVSQ2\n",
    "      \n",
    "      END\n",
    "\n",
    "     REAL FUNCTION AVRAGE(X,Y,Z)\n",
    "     \n",
    "     REAL X,Y,Z,SUM\n",
    "     \n",
    "     SUM = X + Y + Z\n",
    "     \n",
    "     AVRAGE = SUM /3.0\n",
    "     \n",
    "     RETURN\n",
    "     \n",
    "     END"
   ]
  },
  {
   "cell_type": "markdown",
   "id": "8daf49b1",
   "metadata": {},
   "source": [
    "Ejemplo: Veamos cómo escribir el programa anterior en Python"
   ]
  },
  {
   "cell_type": "code",
   "execution_count": 5,
   "id": "763de46d",
   "metadata": {},
   "outputs": [],
   "source": [
    "# Primero definimos la función: debe estar definida antes de usarla\n",
    "\n",
    "def avrage(x, y, z):\n",
    "    return (x+y+z)/3\n"
   ]
  },
  {
   "cell_type": "code",
   "execution_count": 6,
   "id": "1901d982",
   "metadata": {},
   "outputs": [
    {
     "name": "stdout",
     "output_type": "stream",
     "text": [
      "5 2 3\n"
     ]
    }
   ],
   "source": [
    "a,b,c=5,2,3\n",
    "print(a,b,c)"
   ]
  },
  {
   "cell_type": "code",
   "execution_count": 7,
   "id": "d5aa10fd",
   "metadata": {},
   "outputs": [
    {
     "name": "stdout",
     "output_type": "stream",
     "text": [
      "Statistical Analysis\n",
      "The average of the numbers is: 3.3333333333333335\n"
     ]
    }
   ],
   "source": [
    "aux = avrage(a,b,c)\n",
    "print('Statistical Analysis')\n",
    "print('The average of the numbers is:',aux)"
   ]
  },
  {
   "cell_type": "code",
   "execution_count": 8,
   "id": "534b5e07",
   "metadata": {},
   "outputs": [
    {
     "name": "stdout",
     "output_type": "stream",
     "text": [
      "The average squared of the numbers:  11.111111111111112\n"
     ]
    }
   ],
   "source": [
    "print('The average squared of the numbers: ',aux**2)"
   ]
  },
  {
   "cell_type": "code",
   "execution_count": 8,
   "id": "04ee55f5",
   "metadata": {},
   "outputs": [
    {
     "name": "stdout",
     "output_type": "stream",
     "text": [
      "The average of the squares is:  12.666666666666666\n"
     ]
    }
   ],
   "source": [
    "print('The average of the squares is: ', avrage(a**2,b**2,c**2))"
   ]
  },
  {
   "cell_type": "markdown",
   "id": "c318f552",
   "metadata": {},
   "source": [
    "Ejemplo: programa para calcular la raíz cuadrada de un número $x$"
   ]
  },
  {
   "cell_type": "code",
   "execution_count": 10,
   "id": "028fbd00",
   "metadata": {},
   "outputs": [
    {
     "name": "stdout",
     "output_type": "stream",
     "text": [
      "x= 2\n",
      "k,b= 1 1.5\n",
      "k,b= 2 1.4166666666666665\n",
      "k,b= 3 1.4142156862745097\n",
      "k,b= 4 1.4142135623746899\n",
      "k,b= 5 1.414213562373095\n",
      "k,b= 6 1.414213562373095\n",
      "k,b= 7 1.414213562373095\n",
      "k,b= 8 1.414213562373095\n",
      "k,b= 9 1.414213562373095\n",
      "k,b= 10 1.414213562373095\n",
      "k,b= 11 1.414213562373095\n",
      "k,b= 12 1.414213562373095\n",
      "k,b= 13 1.414213562373095\n",
      "k,b= 14 1.414213562373095\n",
      "k,b= 15 1.414213562373095\n",
      "k,b= 16 1.414213562373095\n",
      "k,b= 17 1.414213562373095\n",
      "k,b= 18 1.414213562373095\n",
      "k,b= 19 1.414213562373095\n",
      "k,b= 20 1.414213562373095\n",
      "x= 2\n",
      "raiz de x: 1.414213562373095\n",
      "b*b= 1.9999999999999996\n"
     ]
    }
   ],
   "source": [
    "x = 2 \n",
    "k = 0 # contador de iteraciones\n",
    "n = 20 # número máximo de iteraciones\n",
    "b = x\n",
    "print('x=', x)\n",
    "while b != x/b and k < n: # mientras condición se cumpla repetir lazo \n",
    "    b = (x / b + b) / 2\n",
    "    k = k + 1 # k++\n",
    "    print('k,b=', k, b)\n",
    "\n",
    "print('x=', x)\n",
    "print('raiz de x:', b)\n",
    "print('b*b=', b*b)\n"
   ]
  },
  {
   "cell_type": "markdown",
   "id": "7204037f",
   "metadata": {},
   "source": [
    "Podemos ver que a partir de la quinta iteración, el valor de la raíz no cambia debido a la cantidad de dígitos finita de una variable que almacena el ordenador."
   ]
  },
  {
   "cell_type": "markdown",
   "id": "9a41e82a",
   "metadata": {},
   "source": [
    "## Bibliografía ##\n",
    "\n",
    "\n",
    "*\t[Algoritmo](https://es.wikipedia.org/wiki/Algoritmo)\n",
    "\n",
    "*\t[Lenguaje de programación](https://es.wikipedia.org/wiki/Lenguaje_de_programaci%C3%B3n#:~:text=El%20lenguaje%20de%20programaci%C3%B3n%20permite,una%20variada%20gama%20de%20circunstancias.)\n",
    "\n",
    "*\t[Fortran](https://en.wikipedia.org/wiki/Fortran#Modern_Fortran)\n",
    "\n",
    "*\t[MATLAB](https://es.wikipedia.org/wiki/MATLAB)\n",
    "\n",
    "*\t[MATLAB](https://en.wikipedia.org/wiki/MATLAB)\n",
    "\n",
    "*\t[Wolfram Mathematica](https://en.wikipedia.org/wiki/Wolfram_Mathematica)\n",
    "\n",
    "*\t[Strong and weak typing](https://en.wikipedia.org/wiki/Strong_and_weak_typing)\n",
    "\n",
    "*\t[Tipado fuerte](https://es.wikipedia.org/wiki/Tipado_fuerte#:~:text=Un%20lenguaje%20de%20programaci%C3%B3n%20es,%C3%BAnica%20definici%C3%B3n%20de%20este%20t%C3%A9rmino.)\n",
    "\n",
    "*\t[Sentencia condicional](https://es.wikipedia.org/wiki/Sentencia_condicional)\n",
    "\n",
    "*\t[Bucle for](https://es.wikipedia.org/wiki/Bucle_for)\n",
    "\n",
    "*\t[For loop](https://en.wikipedia.org/wiki/For_loop)\n",
    "\n",
    "*\t[While loop](https://en.wikipedia.org/wiki/While_loop)\n",
    "\n",
    "*\t[Bucle while](https://es.wikipedia.org/wiki/Bucle_while)\n",
    "\n",
    "*\t[Statement (computer science)](https://en.wikipedia.org/wiki/Statement_(computer_science)\n",
    "\n",
    "* [Introduction to Programming May70](http://www.bitsavers.org/pdf/dec/pdp8/handbooks/programmingLanguages_May70.pdf)\n",
    "\n",
    "* [PDP-8](https://es.wikipedia.org/wiki/PDP-8)\n",
    "\n",
    "* [Subutina](https://es.wikipedia.org/wiki/Subrutina#:~:text=En%20inform%C3%A1tica%2C%20una%20subrutina%20o,de%20programaci%C3%B3n%2C%20como%20Visual%20Basic%20.)\n",
    "\n",
    "* [Function (computer programming)](https://en.wikipedia.org/wiki/Function_(computer_programming))\n",
    "\n",
    "* [Funciones y Subrutinas](https://ergodic.ugr.es/cphys/LECCIONES/FORTRAN/cursof77/subprograms.html)\n",
    "\n",
    "* [Ensamblador 8086/88](https://www.cs.buap.mx/~mgonzalez/asm_mododir2.pdf)\n",
    "\n",
    "* [Motorola 6809](http://avellano.usal.es/~compii/sesion1.htm)\n",
    "\n",
    "* [Motorola 6809](https://es.wikipedia.org/wiki/Motorola_6809)\n",
    "\n",
    "* [Intel 8086 y 8088](https://es.wikipedia.org/wiki/Intel_8086_y_8088)\n",
    "\n",
    "* [Python](https://es.wikipedia.org/wiki/Python)\n",
    "\n",
    "* [NumPy](https://es.wikipedia.org/wiki/NumPy)\n",
    "\n"
   ]
  }
 ],
 "metadata": {
  "kernelspec": {
   "display_name": "Python 3 (ipykernel)",
   "language": "python",
   "name": "python3"
  },
  "language_info": {
   "codemirror_mode": {
    "name": "ipython",
    "version": 3
   },
   "file_extension": ".py",
   "mimetype": "text/x-python",
   "name": "python",
   "nbconvert_exporter": "python",
   "pygments_lexer": "ipython3",
   "version": "3.10.11"
  }
 },
 "nbformat": 4,
 "nbformat_minor": 5
}
