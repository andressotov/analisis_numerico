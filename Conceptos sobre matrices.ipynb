{
 "cells": [
  {
   "cell_type": "markdown",
   "id": "0d1efc58",
   "metadata": {},
   "source": [
    "# Conceptos y definiciones sobre matrices #\n",
    "\n",
    "A continuación incluimos una recopilación de conceptos y definiciones sobre matrices que nos serán útiles posteriormente."
   ]
  },
  {
   "cell_type": "markdown",
   "id": "47a56ae9",
   "metadata": {},
   "source": [
    "**Matriz cuadrada o de orden $n$**\n",
    "\n",
    "Una matriz $A$ de $n \\times m$ elementos, es una matriz cuadrada si el número de filas es igual al número columnas, es decir, ${\\displaystyle n=m}$ y se dice, entonces, que la matriz es de orden $n$.\n",
    "\n",
    "Las matrices cuadradas son las más utilizadas en álgebra."
   ]
  },
  {
   "cell_type": "markdown",
   "id": "9cc6d192",
   "metadata": {},
   "source": [
    "$$ {\\displaystyle A={\\begin{pmatrix}a_{11}&a_{12}&a_{13}&\\cdots &a_{1n}\\\\a_{21}&a_{22}&a_{23}&\\cdots &a_{2n}\\\\a_{31}&a_{32}&a_{33}&\\cdots &a_{3n}\\\\\\vdots &\\vdots &\\vdots &\\ddots &\\vdots \\\\a_{n1}&a_{n2}&a_{n3}&\\cdots &a_{nn}\\\\\\end{pmatrix}}} $$"
   ]
  },
  {
   "cell_type": "markdown",
   "id": "ccbd93e4",
   "metadata": {},
   "source": [
    "Sea $A$ una matriz con $m$ filas y $n$ columnas. La matriz traspuesta de $A$ se denota ${\\displaystyle A^{t}}$ donde ${\\displaystyle a^{t}_{ij}=a_{ji},\\ 1\\leq i\\leq n,\\ 1\\leq j\\leq m}$\n",
    "\n",
    "Ejemplos:"
   ]
  },
  {
   "cell_type": "code",
   "execution_count": 1,
   "id": "e5219092",
   "metadata": {},
   "outputs": [
    {
     "name": "stdout",
     "output_type": "stream",
     "text": [
      "m1=\n",
      " [[ 5 10]\n",
      " [15 20]]\n",
      "m1.T=\n",
      " [[ 5 15]\n",
      " [10 20]]\n"
     ]
    }
   ],
   "source": [
    "import numpy as np\n",
    "\n",
    "# Two matrices\n",
    "m1 = np.array([[5, 10], [15, 20]])\n",
    "print('m1=\\n', m1)\n",
    "print('m1.T=\\n', m1.T)"
   ]
  },
  {
   "cell_type": "code",
   "execution_count": 2,
   "id": "3e1e34cb",
   "metadata": {},
   "outputs": [
    {
     "name": "stdout",
     "output_type": "stream",
     "text": [
      "m2=\n",
      " [[ 5 25 30 34]\n",
      " [10 35 40 42]]\n",
      "m2.T=\n",
      " [[ 5 10]\n",
      " [25 35]\n",
      " [30 40]\n",
      " [34 42]]\n"
     ]
    }
   ],
   "source": [
    "m2 = np.array([[5, 25, 30, 34], [10, 35, 40, 42]])\n",
    "print('m2=\\n', m2)\n",
    "print('m2.T=\\n', m2.T)"
   ]
  },
  {
   "cell_type": "markdown",
   "id": "56fec996",
   "metadata": {},
   "source": [
    "**Propiedad involutiva**: Para toda matriz $A$, se tiene que: ${\\displaystyle (A^{t})^{t}=A\\,}$"
   ]
  },
  {
   "cell_type": "code",
   "execution_count": 3,
   "id": "4680dd34",
   "metadata": {},
   "outputs": [
    {
     "name": "stdout",
     "output_type": "stream",
     "text": [
      "m2.T.T=2\n",
      " [[ 5 25 30 34]\n",
      " [10 35 40 42]]\n",
      "m2=\n",
      " [[ 5 25 30 34]\n",
      " [10 35 40 42]]\n"
     ]
    }
   ],
   "source": [
    "print('m2.T.T=2\\n', m2.T.T)\n",
    "print('m2=\\n', m2)"
   ]
  },
  {
   "cell_type": "markdown",
   "id": "4f6af9d7",
   "metadata": {},
   "source": [
    "**Propiedad Distributiva**: Sean $A$ y $B$ matrices reales del mismo orden y $c$ un número real, entonces:\n",
    "\n",
    "$$ {\\displaystyle (A+B)^{t}=A^{t}+B^{t}\\,} $$\n",
    "\n",
    "$$ {\\displaystyle (c\\,A)^{t}=c\\,A^{t}}$$"
   ]
  },
  {
   "cell_type": "code",
   "execution_count": 4,
   "id": "2849fcde",
   "metadata": {},
   "outputs": [
    {
     "name": "stdout",
     "output_type": "stream",
     "text": [
      "m1=\n",
      " [[ 5 10]\n",
      " [15 20]]\n",
      "(m1+m1).T=\n",
      " [[10 30]\n",
      " [20 40]]\n",
      "m1.T+m1.T=\n",
      " [[10 30]\n",
      " [20 40]]\n"
     ]
    }
   ],
   "source": [
    "print('m1=\\n',m1)\n",
    "print('(m1+m1).T=\\n', (m1+m1).T)\n",
    "print('m1.T+m1.T=\\n', m1.T + m1.T)"
   ]
  },
  {
   "cell_type": "code",
   "execution_count": 5,
   "id": "c9060e4d",
   "metadata": {},
   "outputs": [
    {
     "name": "stdout",
     "output_type": "stream",
     "text": [
      "c= 3\n",
      "(c*m1).T=\n",
      " [[15 45]\n",
      " [30 60]]\n",
      "c*m1.T=\n",
      " [[15 45]\n",
      " [30 60]]\n"
     ]
    }
   ],
   "source": [
    "c = 3\n",
    "print('c=', c)\n",
    "print('(c*m1).T=\\n', (c*m1).T)\n",
    "print('c*m1.T=\\n', c*m1.T)"
   ]
  },
  {
   "cell_type": "markdown",
   "id": "aa216f91",
   "metadata": {},
   "source": [
    "**Producto matricial**: ${\\displaystyle (AB)^{t}=B^{t}A^{t}\\,}$"
   ]
  },
  {
   "cell_type": "code",
   "execution_count": 6,
   "id": "e1eba122",
   "metadata": {},
   "outputs": [
    {
     "name": "stdout",
     "output_type": "stream",
     "text": [
      "A=\n",
      " [[ 5 10]\n",
      " [15 20]]\n",
      "B=\n",
      " [[25 30]\n",
      " [35 40]]\n",
      "(A*B).T=\n",
      " [[125 525]\n",
      " [300 800]]\n",
      "B.T*A.T=\n",
      " [[125 525]\n",
      " [300 800]]\n"
     ]
    }
   ],
   "source": [
    "A = np.array([[5, 10], [15, 20]])\n",
    "B = np.array([[25, 30], [35, 40]])\n",
    "print('A=\\n', A)\n",
    "print('B=\\n', B)\n",
    "print('(A*B).T=\\n', (A*B).T)\n",
    "print('B.T*A.T=\\n',B.T*A.T)"
   ]
  },
  {
   "cell_type": "markdown",
   "id": "54ceb359",
   "metadata": {},
   "source": [
    "Una matriz cuadrada $A$ es simétrica si coincide con su traspuesta: ${\\displaystyle A^{t}=A\\,}$"
   ]
  },
  {
   "cell_type": "code",
   "execution_count": 7,
   "id": "ecd1dd64",
   "metadata": {},
   "outputs": [
    {
     "name": "stdout",
     "output_type": "stream",
     "text": [
      "A=\n",
      " [[ 5 10]\n",
      " [15 20]]\n",
      "A.T=\n",
      " [[ 5 15]\n",
      " [10 20]]\n"
     ]
    }
   ],
   "source": [
    "print('A=\\n', A)\n",
    "print('A.T=\\n', A.T)"
   ]
  },
  {
   "cell_type": "code",
   "execution_count": 8,
   "id": "1184655f",
   "metadata": {},
   "outputs": [
    {
     "name": "stdout",
     "output_type": "stream",
     "text": [
      "mat=\n",
      " [[1 3 5]\n",
      " [3 2 4]\n",
      " [5 4 1]]\n",
      "mat.T=\n",
      " [[1 3 5]\n",
      " [3 2 4]\n",
      " [5 4 1]]\n"
     ]
    }
   ],
   "source": [
    "mat = np.array([[1, 3, 5], [3, 2, 4], [5, 4, 1]])\n",
    "print('mat=\\n',mat)\n",
    "print('mat.T=\\n',mat.T)"
   ]
  },
  {
   "cell_type": "markdown",
   "id": "2c2495be",
   "metadata": {},
   "source": [
    "Una matriz hermítica es una matriz cuadrada con números complejos que tiene la característica de ser igual a su traspuesta conjugada: $A=A^*$\n",
    "\n",
    "Observe el uso del caracter '*' para indicar la transpuesta conjugada."
   ]
  },
  {
   "cell_type": "code",
   "execution_count": 9,
   "id": "0d49dbbf",
   "metadata": {},
   "outputs": [
    {
     "name": "stdout",
     "output_type": "stream",
     "text": [
      "g=\n",
      " [[1.-2.j 3.-4.j]]\n",
      "gk=\n",
      " [[1.+2.j]\n",
      " [3.+4.j]]\n"
     ]
    }
   ],
   "source": [
    "g = np.matrix([1-2j, 3-4j])\n",
    "print('g=\\n', g)\n",
    "# applying matrix.getH() method\n",
    "gk = g.getH()\n",
    "print('gk=\\n', gk)\n"
   ]
  },
  {
   "cell_type": "markdown",
   "id": "cdaadb35",
   "metadata": {},
   "source": [
    "La suma de dos matrices simétricas es una matriz simétrica, pero el producto no siempre es simétrico. el producto de dos matrices es simétrico si y solo si dichas matrices cumplen la propiedad conmutativa de la multiplicación, es decir, si $AB = BA$."
   ]
  },
  {
   "cell_type": "code",
   "execution_count": 10,
   "id": "141d22c7",
   "metadata": {},
   "outputs": [
    {
     "name": "stdout",
     "output_type": "stream",
     "text": [
      "A=\n",
      " [[2 3 6]\n",
      " [3 4 5]\n",
      " [6 5 9]]\n",
      "B=\n",
      " [[ 1  2 -1]\n",
      " [ 2  1  3]\n",
      " [-1  3  0]]\n",
      "A+B=\n",
      " [[3 5 5]\n",
      " [5 5 8]\n",
      " [5 8 9]]\n"
     ]
    }
   ],
   "source": [
    "A = np.array([[2,3,6],[3,4,5],[6,5,9]])\n",
    "B = np.array([[1,2,-1],[2,1,3],[-1,3,0]])\n",
    "print('A=\\n', A)\n",
    "print('B=\\n', B)\n",
    "print('A+B=\\n', A+B)"
   ]
  },
  {
   "cell_type": "code",
   "execution_count": 11,
   "id": "708e5276",
   "metadata": {},
   "outputs": [
    {
     "name": "stdout",
     "output_type": "stream",
     "text": [
      "A*B=\n",
      " [[ 2 25  7]\n",
      " [ 6 25  9]\n",
      " [ 7 44  9]]\n"
     ]
    }
   ],
   "source": [
    "# Sin embargo, la matriz producto no es simétrica en este caso.\n",
    "\n",
    "print('A*B=\\n', np.matmul(A,B))"
   ]
  },
  {
   "cell_type": "code",
   "execution_count": 12,
   "id": "93e953e1",
   "metadata": {},
   "outputs": [
    {
     "name": "stdout",
     "output_type": "stream",
     "text": [
      "A@B=\n",
      " [[ 2 25  7]\n",
      " [ 6 25  9]\n",
      " [ 7 44  9]]\n"
     ]
    }
   ],
   "source": [
    "# El operador '@' se puede utilizar también para la multiplicación matricial\n",
    "print('A@B=\\n', A@B)"
   ]
  },
  {
   "cell_type": "markdown",
   "id": "0227a362",
   "metadata": {},
   "source": [
    "**Matriz Triangular**\n",
    "\n",
    "Una matriz triangular es un tipo especial de matriz cuadrada cuyos elementos por encima o por debajo de su diagonal principal o su diagonal secundaria son cero. \n",
    "\n",
    "Debido a que los sistemas de ecuaciones lineales con matrices triangulares son mucho más fáciles de resolver, las matrices triangulares son utilizadas en análisis numérico para resolver sistemas de ecuaciones lineales, calcular inversas y determinantes de matrices."
   ]
  },
  {
   "cell_type": "markdown",
   "id": "dd068fab",
   "metadata": {},
   "source": [
    "Una matriz cuadrada de orden n se dice que es triangular superior si es de la forma:\n",
    "\n",
    "$${\\displaystyle U=\\left[{\\begin{array}{ccccccc}u_{11}&u_{12}&u_{13}&.&.&.&u_{1n}\\\\0&u_{22}&u_{23}&.&.&.&u_{2n}\\\\0&0&u_{33}&.&.&.&u_{3n}\\\\.&.&..&.&.&.&.\\\\.&.&.&.&.&.&.\\\\.&.&.&.&.&.&.\\\\0&0&0&.&.&.&u_{nn}\\\\\\end{array}}\\right]}$$"
   ]
  },
  {
   "cell_type": "markdown",
   "id": "05d49b46",
   "metadata": {},
   "source": [
    "Por otra parte, se dice que es una matriz triangular inferior si es de la forma:\n",
    "\n",
    "$${\\displaystyle L=\\left[{\\begin{array}{ccccccc}l_{11}&0&0&.&.&.&0\\\\l_{21}&l_{22}&0&.&.&.&0\\\\l_{31}&l_{32}&l_{33}&.&.&.&0\\\\.&.&.&.&.&.&.\\\\.&.&.&.&.&.&.\\\\.&.&.&.&.&.&.\\\\l_{n1}&l_{n2}&l_{n3}&.&.&.&l_{nn}\\\\\\end{array}}\\right]}$$"
   ]
  },
  {
   "cell_type": "markdown",
   "id": "1643ab52",
   "metadata": {},
   "source": [
    "Se suelen emplear las letras $U$ y $L$, respectivamente, ya que $U$ es la inicial de upper triangular matrix y $L$ de lower triangular matrix, los nombres que reciben estas matrices en inglés."
   ]
  },
  {
   "cell_type": "markdown",
   "id": "18f79075",
   "metadata": {},
   "source": [
    "Ejemplo: esta matriz es triangular superior:\n",
    "\n",
    "$$ {\\displaystyle \\left[{\\begin{array}{ccc}1&4&2\\\\0&3&4\\\\0&0&1\\end{array}}\\right]}$$"
   ]
  },
  {
   "cell_type": "markdown",
   "id": "410f2646",
   "metadata": {},
   "source": [
    "Y esta es triangular inferior:\n",
    "\n",
    "$${\\displaystyle \\left[{\\begin{array}{ccc}1&0&0\\\\2&8&0\\\\4&9&7\\end{array}}\\right]}$$"
   ]
  },
  {
   "cell_type": "markdown",
   "id": "1cec9e0d",
   "metadata": {},
   "source": [
    "Y esta es triangular superior unitaria, ya que los elementos en su diagonal son 1:\n",
    "\n",
    "\n",
    "$${\\displaystyle \\left[{\\begin{array}{ccc}1&4&2&5&6\\\\0&1&4&8&-1\\\\0&0&1&4&3\\\\0&0&0&1&3\\\\0&0&0&0&1\\\\\\end{array}}\\right]}$$\n",
    "\n",
    "La matriz triangular inferior unitaria es análoga."
   ]
  },
  {
   "cell_type": "markdown",
   "id": "410ea4b7",
   "metadata": {},
   "source": [
    "**Propiedades**\n",
    "\n",
    "El determinante de una matriz triangular es el producto de los elementos de la diagonal.\n",
    "\n",
    "Los valores propios de una matriz triangular son los elementos de la diagonal principal.\n",
    "\n",
    "La transpuesta de una matriz triangular superior es una matriz triangular inferior y viceversa."
   ]
  },
  {
   "cell_type": "code",
   "execution_count": 13,
   "id": "216bf753",
   "metadata": {},
   "outputs": [
    {
     "data": {
      "text/plain": [
       "array([[1, 0, 0, 0],\n",
       "       [3, 4, 0, 0],\n",
       "       [5, 6, 2, 0],\n",
       "       [3, 2, 5, 6]])"
      ]
     },
     "execution_count": 13,
     "metadata": {},
     "output_type": "execute_result"
    }
   ],
   "source": [
    "M = np.array([[1, 3, 5, 3],  \n",
    "     [0, 4, 6, 2],\n",
    "     [0, 0, 2, 5],\n",
    "     [0, 0, 0, 6]])\n",
    "M.T"
   ]
  },
  {
   "cell_type": "markdown",
   "id": "9095d66e",
   "metadata": {},
   "source": [
    "El producto de dos matrices triangulares superiores (inferiores) es una matriz triangular superior (inferior)."
   ]
  },
  {
   "cell_type": "code",
   "execution_count": 14,
   "id": "886200b0",
   "metadata": {},
   "outputs": [
    {
     "data": {
      "text/plain": [
       "array([[1, 7, 5, 8],\n",
       "       [0, 4, 6, 4],\n",
       "       [0, 0, 2, 5],\n",
       "       [0, 0, 0, 6]])"
      ]
     },
     "execution_count": 14,
     "metadata": {},
     "output_type": "execute_result"
    }
   ],
   "source": [
    "P = np.array([[1, 7, 5, 8],  \n",
    "              [0, 4, 6, 4],\n",
    "              [0, 0, 2, 5],\n",
    "              [0, 0, 0, 6]])\n",
    "P"
   ]
  },
  {
   "cell_type": "code",
   "execution_count": 15,
   "id": "e3287977",
   "metadata": {},
   "outputs": [
    {
     "data": {
      "text/plain": [
       "array([[ 1, 19, 33, 63],\n",
       "       [ 0, 16, 36, 58],\n",
       "       [ 0,  0,  4, 40],\n",
       "       [ 0,  0,  0, 36]])"
      ]
     },
     "execution_count": 15,
     "metadata": {},
     "output_type": "execute_result"
    }
   ],
   "source": [
    "M@P"
   ]
  },
  {
   "cell_type": "markdown",
   "id": "39348e31",
   "metadata": {},
   "source": [
    "Una matriz triangular es invertible si y solo si todos los elementos de la diagonal son no nulos. "
   ]
  },
  {
   "cell_type": "code",
   "execution_count": 16,
   "id": "d9947e6a",
   "metadata": {},
   "outputs": [
    {
     "data": {
      "text/plain": [
       "array([[ 1.        , -0.75      , -0.25      , -0.04166667],\n",
       "       [ 0.        ,  0.25      , -0.75      ,  0.54166667],\n",
       "       [ 0.        ,  0.        ,  0.5       , -0.41666667],\n",
       "       [ 0.        ,  0.        ,  0.        ,  0.16666667]])"
      ]
     },
     "execution_count": 16,
     "metadata": {},
     "output_type": "execute_result"
    }
   ],
   "source": [
    "np.linalg.inv(M)"
   ]
  },
  {
   "cell_type": "markdown",
   "id": "9828c429",
   "metadata": {},
   "source": [
    "En este caso, la inversa de una matriz triangular superior (inferior) es otra matriz triangular superior (inferior)."
   ]
  },
  {
   "cell_type": "code",
   "execution_count": 17,
   "id": "bb0eadd5",
   "metadata": {},
   "outputs": [
    {
     "ename": "LinAlgError",
     "evalue": "Singular matrix",
     "output_type": "error",
     "traceback": [
      "\u001b[1;31m---------------------------------------------------------------------------\u001b[0m",
      "\u001b[1;31mLinAlgError\u001b[0m                               Traceback (most recent call last)",
      "Input \u001b[1;32mIn [17]\u001b[0m, in \u001b[0;36m<cell line: 8>\u001b[1;34m()\u001b[0m\n\u001b[0;32m      1\u001b[0m \u001b[38;5;66;03m# Si alguno de los elementos de la diagonal es nulo, la matriz es singular y \u001b[39;00m\n\u001b[0;32m      2\u001b[0m \u001b[38;5;66;03m# no es invertible\u001b[39;00m\n\u001b[0;32m      4\u001b[0m Q \u001b[38;5;241m=\u001b[39m np\u001b[38;5;241m.\u001b[39marray([[\u001b[38;5;241m1\u001b[39m, \u001b[38;5;241m7\u001b[39m, \u001b[38;5;241m5\u001b[39m, \u001b[38;5;241m8\u001b[39m],  \n\u001b[0;32m      5\u001b[0m               [\u001b[38;5;241m0\u001b[39m, \u001b[38;5;241m0\u001b[39m, \u001b[38;5;241m6\u001b[39m, \u001b[38;5;241m4\u001b[39m],\n\u001b[0;32m      6\u001b[0m               [\u001b[38;5;241m0\u001b[39m, \u001b[38;5;241m0\u001b[39m, \u001b[38;5;241m2\u001b[39m, \u001b[38;5;241m5\u001b[39m],\n\u001b[0;32m      7\u001b[0m               [\u001b[38;5;241m0\u001b[39m, \u001b[38;5;241m0\u001b[39m, \u001b[38;5;241m0\u001b[39m, \u001b[38;5;241m6\u001b[39m]])\n\u001b[1;32m----> 8\u001b[0m \u001b[43mnp\u001b[49m\u001b[38;5;241;43m.\u001b[39;49m\u001b[43mlinalg\u001b[49m\u001b[38;5;241;43m.\u001b[39;49m\u001b[43minv\u001b[49m\u001b[43m(\u001b[49m\u001b[43mQ\u001b[49m\u001b[43m)\u001b[49m\n",
      "File \u001b[1;32m<__array_function__ internals>:180\u001b[0m, in \u001b[0;36minv\u001b[1;34m(*args, **kwargs)\u001b[0m\n",
      "File \u001b[1;32m~\\anaconda3\\envs\\py39_1\\lib\\site-packages\\numpy\\linalg\\linalg.py:552\u001b[0m, in \u001b[0;36minv\u001b[1;34m(a)\u001b[0m\n\u001b[0;32m    550\u001b[0m signature \u001b[38;5;241m=\u001b[39m \u001b[38;5;124m'\u001b[39m\u001b[38;5;124mD->D\u001b[39m\u001b[38;5;124m'\u001b[39m \u001b[38;5;28;01mif\u001b[39;00m isComplexType(t) \u001b[38;5;28;01melse\u001b[39;00m \u001b[38;5;124m'\u001b[39m\u001b[38;5;124md->d\u001b[39m\u001b[38;5;124m'\u001b[39m\n\u001b[0;32m    551\u001b[0m extobj \u001b[38;5;241m=\u001b[39m get_linalg_error_extobj(_raise_linalgerror_singular)\n\u001b[1;32m--> 552\u001b[0m ainv \u001b[38;5;241m=\u001b[39m \u001b[43m_umath_linalg\u001b[49m\u001b[38;5;241;43m.\u001b[39;49m\u001b[43minv\u001b[49m\u001b[43m(\u001b[49m\u001b[43ma\u001b[49m\u001b[43m,\u001b[49m\u001b[43m \u001b[49m\u001b[43msignature\u001b[49m\u001b[38;5;241;43m=\u001b[39;49m\u001b[43msignature\u001b[49m\u001b[43m,\u001b[49m\u001b[43m \u001b[49m\u001b[43mextobj\u001b[49m\u001b[38;5;241;43m=\u001b[39;49m\u001b[43mextobj\u001b[49m\u001b[43m)\u001b[49m\n\u001b[0;32m    553\u001b[0m \u001b[38;5;28;01mreturn\u001b[39;00m wrap(ainv\u001b[38;5;241m.\u001b[39mastype(result_t, copy\u001b[38;5;241m=\u001b[39m\u001b[38;5;28;01mFalse\u001b[39;00m))\n",
      "File \u001b[1;32m~\\anaconda3\\envs\\py39_1\\lib\\site-packages\\numpy\\linalg\\linalg.py:89\u001b[0m, in \u001b[0;36m_raise_linalgerror_singular\u001b[1;34m(err, flag)\u001b[0m\n\u001b[0;32m     88\u001b[0m \u001b[38;5;28;01mdef\u001b[39;00m \u001b[38;5;21m_raise_linalgerror_singular\u001b[39m(err, flag):\n\u001b[1;32m---> 89\u001b[0m     \u001b[38;5;28;01mraise\u001b[39;00m LinAlgError(\u001b[38;5;124m\"\u001b[39m\u001b[38;5;124mSingular matrix\u001b[39m\u001b[38;5;124m\"\u001b[39m)\n",
      "\u001b[1;31mLinAlgError\u001b[0m: Singular matrix"
     ]
    }
   ],
   "source": [
    "# Si alguno de los elementos de la diagonal es nulo, la matriz es singular y \n",
    "# no es invertible\n",
    "\n",
    "Q = np.array([[1, 7, 5, 8],  \n",
    "              [0, 0, 6, 4],\n",
    "              [0, 0, 2, 5],\n",
    "              [0, 0, 0, 6]])\n",
    "np.linalg.inv(Q)"
   ]
  },
  {
   "cell_type": "markdown",
   "id": "4bd2aef8",
   "metadata": {},
   "source": [
    "Una matriz singular es una matriz cuadrada cuyo determinante es nulo (i.e., igual a cero). Una matriz singular no tiene matriz inversa. Por tanto, para evitar el error anterior debemos verificar previamente si el determinante de la matriz es diferente de cero, lo cual no se cumple en este caso."
   ]
  },
  {
   "cell_type": "code",
   "execution_count": null,
   "id": "7aa29c57",
   "metadata": {},
   "outputs": [],
   "source": [
    "np.linalg.det(Q)"
   ]
  },
  {
   "cell_type": "markdown",
   "id": "4e7e75b3",
   "metadata": {},
   "source": [
    "Una matriz es invertible si y sólo si su determinante es distinto de cero, es decir si no es una matriz singular. También se conocen como regulares, no degeneradas o no singulares. \n",
    "\n",
    "Si $A$ es una matriz invertible de orden $n$, entonces existe una matriz B de orden $n$ tal que: $A.B = B.A = I$. En este caso, $B$ es la matriz inversa de $A$, identificada por $A^{-1}$.\n",
    "\n"
   ]
  },
  {
   "cell_type": "markdown",
   "id": "fe032be0",
   "metadata": {},
   "source": []
  },
  {
   "cell_type": "markdown",
   "id": "f0413356",
   "metadata": {},
   "source": [
    "Una matriz diagonal es una matriz cuyos elementos fuera de la diagonal principal son todos cero; el término usualmente hace referencia a matrices cuadradas."
   ]
  },
  {
   "cell_type": "code",
   "execution_count": null,
   "id": "aeb1a21d",
   "metadata": {},
   "outputs": [],
   "source": [
    "Q = np.array([[1, 0, 0, 0],  \n",
    "                 [0, 4, 0, 0],\n",
    "                 [0, 0, 2, 0],\n",
    "                 [0, 0, 0, 6]])\n",
    "Q"
   ]
  },
  {
   "cell_type": "code",
   "execution_count": null,
   "id": "aa55c305",
   "metadata": {},
   "outputs": [],
   "source": [
    "R = np.array([[6, 0, 0, 0],  \n",
    "                 [0, 3, 0, 0],\n",
    "                 [0, 0, 4, 0],\n",
    "                 [0, 0, 0, 8]])\n",
    "R"
   ]
  },
  {
   "cell_type": "markdown",
   "id": "ff40a5f0",
   "metadata": {},
   "source": [
    "La suma de dos matrices diagonales $A$ y $B$ es otra matriz diagonal $C$ tal que $c_{i,i}=a_{i,i} + b_{i,i}$"
   ]
  },
  {
   "cell_type": "code",
   "execution_count": null,
   "id": "e907c37e",
   "metadata": {},
   "outputs": [],
   "source": [
    "Q + R"
   ]
  },
  {
   "cell_type": "markdown",
   "id": "fdd8efae",
   "metadata": {},
   "source": [
    "El producto de dos matrices diagonales $A$ y $B$ es otra matriz diagonal $C$ tal que $c_{i,i}=a_{i,i} * b_{i,i}$"
   ]
  },
  {
   "cell_type": "code",
   "execution_count": null,
   "id": "28db25ff",
   "metadata": {},
   "outputs": [],
   "source": [
    "Q * R"
   ]
  },
  {
   "cell_type": "markdown",
   "id": "0c3bea22",
   "metadata": {},
   "source": [
    "El determinante de una matriz diagonal es el producto de los elementos de su diagonal.\n",
    "\n",
    "Los valores propios de una matriz diagonal los elementos de su diagonal."
   ]
  },
  {
   "cell_type": "markdown",
   "id": "4e48bd69",
   "metadata": {},
   "source": [
    "La matriz identidad es una matriz cuadrada de orden $n$ en la cual todos los elementos de la diagonal principal son iguales a 1 y todos los demás elementos son iguales a 0. Se trata de un caso particular de matriz diagonal, y se representa por $I$.\n",
    "\n",
    "También se puede escribir usando la notación delta de Kronecker:\n",
    "\n",
    "$${\\displaystyle I_{ij}=\\delta _{ij}\\,}$$\n",
    "\n",
    "La matriz identidad cumple la propiedad de ser el elemento neutro del producto de matrices, por lo que, dado una matriz cualquiera $A_n$ se cumple que $A_n.I_n = A_n$ "
   ]
  },
  {
   "cell_type": "markdown",
   "id": "4c852e0e",
   "metadata": {},
   "source": [
    "Una matriz ortogonal es una matriz cuadrada cuya matriz inversa coincide con su matriz traspuesta.\n",
    "\n",
    "Sea $A$ una matriz cuadrada de orden $n$ por con entradas reales. Se dice que la matriz es ortogonal si:\n",
    "\n",
    "$${\\displaystyle A\\cdot A^{\\mathrm {T} }=I}$$\n",
    "\n",
    "donde ${\\displaystyle A^{\\mathrm {T} }}$ representa la matriz traspuesta de $A$ e $I$ representa la matriz identidad."
   ]
  },
  {
   "cell_type": "markdown",
   "id": "35618a56",
   "metadata": {},
   "source": [
    "**Matrices semejantes**\n",
    "\n",
    "Dos matrices $A$ y $B$ de orden $n$ son semejantes si existe una matriz invertible $P$ de orden $n$ tal que:\n",
    "\n",
    "$$P^{-1}AP = B$$\n",
    "\n",
    "Con lo cual, la matriz $A$ se puede transformar en la matriz $B$ mediante $P$."
   ]
  },
  {
   "cell_type": "code",
   "execution_count": null,
   "id": "738c54a6",
   "metadata": {},
   "outputs": [],
   "source": [
    "# Consideremos las siguientes matrices:\n",
    "\n",
    "B = np.array([[2, 1], [0, 1]])\n",
    "A = np.array([[1, 3], [0, 2]])\n",
    "P = np.array([[3, 0], [1, 1]])\n"
   ]
  },
  {
   "cell_type": "code",
   "execution_count": null,
   "id": "5b823058",
   "metadata": {},
   "outputs": [],
   "source": [
    "B"
   ]
  },
  {
   "cell_type": "code",
   "execution_count": null,
   "id": "1fd1d8fe",
   "metadata": {},
   "outputs": [],
   "source": [
    "P1 = np.linalg.inv(P)\n",
    "P1@A@P"
   ]
  },
  {
   "cell_type": "markdown",
   "id": "9bdb9af2",
   "metadata": {},
   "source": [
    "Las matrices semejantes comparten varias propiedades:\n",
    "\n",
    "*\tposeen el mismo rango,\n",
    "\n",
    "*\tel mismo determinante,\n",
    "\n",
    "*\tla misma traza,\n",
    "\n",
    "*\tlos mismos valores propios (aunque los vectores propios, en general, serán distintos),\n",
    "\n",
    "*\tel mismo polinomio característico.\n",
    "\n"
   ]
  },
  {
   "cell_type": "markdown",
   "id": "24e64797",
   "metadata": {},
   "source": [
    "El **rango de una matriz** es el número máximo de columnas (ídem para filas) que son linealmente independientes. El rango fila y el rango columna siempre son iguales y es llamado simplemente rango de $A$. Comúnmente se expresa como $rg(A)$.\n",
    "\n",
    "Si la matriz $A$ no depende de parámetros, puede resultar muy cómodo utilizar operaciones elementales de fila para conseguir una matriz equivalente $E$ escalonada (triangular superior). El rango de la matriz $A$ será simplemente el número de entradas principales de la matriz escalonada $E$, o lo que es lo mismo, el número de filas no nulas de la matriz escalonada $E$. \n"
   ]
  },
  {
   "cell_type": "code",
   "execution_count": null,
   "id": "b7e17da9",
   "metadata": {},
   "outputs": [],
   "source": [
    "\n",
    "R = np.array([ [1, 3, -2, 0, 2, 0],\n",
    "                [2, 6, -5, -2, 4, -3],\n",
    "                [0, 0, 5, 10, 0, 15],\n",
    "                [2, 6, 0, 8, 4, 8]])\n",
    "R"
   ]
  },
  {
   "cell_type": "code",
   "execution_count": null,
   "id": "414b39bb",
   "metadata": {},
   "outputs": [],
   "source": [
    "np.linalg.matrix_rank(R)"
   ]
  },
  {
   "cell_type": "markdown",
   "id": "9d6b47ec",
   "metadata": {},
   "source": [
    "Observe que, aunque la matriz es de tamaño $4\\times6$, el rango es 3 debido a que la fila 4 se puede obtener como combinación de las restantes."
   ]
  },
  {
   "cell_type": "markdown",
   "id": "25bafc11",
   "metadata": {},
   "source": [
    "La **traza de una matriz** $A$ de orden $n$ está definida como la suma de los elementos de la diagonal principal de $A$. Es decir,\n",
    "\n",
    "$${\\displaystyle \\operatorname {tr} (A)=a_{11}+a_{22}+\\dots +a_{nn}}$$\n",
    "\n",
    "donde $a_{i,j}$ representa el elemento que está en la fila $i$-ésima y en la columna $j$-ésima de $A$. Para cualquier otra matriz, la traza es la suma de sus valores propios."
   ]
  },
  {
   "cell_type": "code",
   "execution_count": null,
   "id": "55d744db",
   "metadata": {},
   "outputs": [],
   "source": [
    "A = np.array([[2, 25, 7], [6, 25, 9], [7, 44, 9]])\n",
    "A"
   ]
  },
  {
   "cell_type": "code",
   "execution_count": null,
   "id": "d3842636",
   "metadata": {},
   "outputs": [],
   "source": [
    "np.trace(A)"
   ]
  },
  {
   "cell_type": "markdown",
   "id": "8f985ed9",
   "metadata": {},
   "source": [
    "**Valores y vectores propios**\n",
    "\n",
    "Si $\\lambda$ es un número y $v$ es un vector no nulo tal que $A.v = \\lambda.v$, entonces se dice que $v$ es un vector propio de $A$ y que $\\lambda$ es su valor propio asociado. El número $\\lambda$ es un valor propio de $A$ si y sólo si $A − \\lambda.I$ no es invertible, lo que sucede si y sólo si el polinomio característico de $A$, $p_A(\\lambda) = 0$. $p_A(x)$ es un polinomio de grado $n$ con $n$ raíces complejas. Cada matriz cuadrada tiene exactamente $n$ valores propios complejos.\n",
    "La ecuación \n",
    "\n",
    "$$A.v = \\lambda.v $$\n",
    "\n",
    "se denomina problema de valores propios, el cual produce una ecuación polinómica de orden $N_\\lambda$ denominada polinomio característico de la matriz\n",
    "\n",
    "$$p(\\lambda)=det(A- \\lambda.I)=0.$$\n",
    "\n",
    "Esta ecuación tendrá distintas soluciones para $N_λ$, donde $1 ≤ N_λ ≤ N$. Se denomina espectro de $A$ al conjunto de soluciones formado por los valores propios.\n"
   ]
  },
  {
   "cell_type": "markdown",
   "id": "484bfae0",
   "metadata": {},
   "source": [
    "Ejemplo: consideremos la matriz\n",
    "\n",
    "$$A={\\begin{bmatrix}\\;0&1&-1\\\\\\;1&1&\\;0\\\\-1&0&\\;1\\end{bmatrix}}$$\n",
    "\n",
    "Para computar los valores propios de $A$, se determina el polinomio característico:\n",
    "\n",
    "$$p(x)=\\det(A-xI)=\\det {\\begin{vmatrix}-x&1&-1\\;\\;\\\\\\;\\;1&1\\!-\\!x&0\\\\-1&0&1\\!-\\!x\\end{vmatrix}}$$\n",
    "\n",
    "$$=-x^{3}+2x^{2}+x-2 = - (x - 2)(x - 1)(x + 1)$$\n",
    "\n",
    "por lo que, los valores propios de $A$ son 2, 1 y -1. "
   ]
  },
  {
   "cell_type": "markdown",
   "id": "7a8c88b2",
   "metadata": {},
   "source": [
    "## Bibliografía ##\n",
    "\n",
    "* [Matriz cuadrada](https://es.wikipedia.org/wiki/Matriz_cuadrada)\n",
    "\n",
    "* [Matriz transpuesta](https://es.wikipedia.org/wiki/Matriz_transpuesta)\n",
    "\n",
    "* [Matriz triangular](https://es.wikipedia.org/wiki/Matriz_triangular)\n",
    "\n",
    "* [Matriz simétrica](https://www.matricesydeterminantes.com/matrices/tipos-de-matrices/matriz-simetrica-ejemplos-y-propiedades/)\n",
    "\n",
    "* [Multiplicación de matrices](https://es.wikipedia.org/wiki/Multiplicaci%C3%B3n_de_matrices#:~:text=El%20producto%20de%20dos%20matrices,es%20decir%2C%20AB%20%E2%89%A0%20BA.&text=La%20divisi%C3%B3n%20entre%20matrices%2C%20es,aplicable%20a%20las%20matrices%20invertibles.)\n",
    "\n",
    "* [Symmetric Matrix](https://www.cuemath.com/algebra/symmetric-matrix/)\n",
    "\n",
    "* [Numpy.linalg.inv](https://numpy.org/doc/stable/reference/generated/numpy.linalg.inv.html)\n",
    "\n",
    "* [Matriz diagonal](https://es.wikipedia.org/wiki/Matriz_diagonal)\n",
    "\n",
    "* [Delta de Kronecker](https://es.wikipedia.org/wiki/Delta_de_Kronecker)\n",
    "\n",
    "* [Matriz invertible](https://es.wikipedia.org/wiki/Matriz_invertible)\n",
    "\n",
    "* [Matriz semejante](https://es.wikipedia.org/wiki/Matriz_semejante)\n",
    "\n",
    "* [Rango de una matriz](https://es.wikipedia.org/wiki/Rango_(%C3%A1lgebra_lineal)#Rango_de_una_matriz)\n",
    "\n",
    "* [Traza (álgebra lineal)](https://es.wikipedia.org/wiki/Traza_(%C3%A1lgebra_lineal))\n",
    "\n",
    "* [Descomposición en valores propios de una matriz](https://es.wikipedia.org/wiki/Descomposici%C3%B3n_en_valores_propios_de_una_matriz)\n",
    "\n",
    "* [Vector, valor y espacio propios](https://es.wikipedia.org/wiki/Vector,_valor_y_espacio_propios)\n",
    "\n",
    "* [Polinomio característico ](https://es.wikipedia.org/wiki/Polinomio_caracter%C3%ADstico)\n",
    "\n"
   ]
  },
  {
   "cell_type": "code",
   "execution_count": null,
   "id": "f1495078",
   "metadata": {},
   "outputs": [],
   "source": []
  }
 ],
 "metadata": {
  "kernelspec": {
   "display_name": "Python 3 (ipykernel)",
   "language": "python",
   "name": "python3"
  },
  "language_info": {
   "codemirror_mode": {
    "name": "ipython",
    "version": 3
   },
   "file_extension": ".py",
   "mimetype": "text/x-python",
   "name": "python",
   "nbconvert_exporter": "python",
   "pygments_lexer": "ipython3",
   "version": "3.10.8"
  }
 },
 "nbformat": 4,
 "nbformat_minor": 5
}
