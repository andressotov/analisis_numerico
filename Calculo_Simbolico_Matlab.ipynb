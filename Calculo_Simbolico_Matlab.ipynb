{
 "cells": [
  {
   "cell_type": "markdown",
   "id": "961a9c4e",
   "metadata": {},
   "source": [
    "<center> <h1>Cálculo Simbólico con MATLAB</h1> </center>"
   ]
  },
  {
   "cell_type": "markdown",
   "id": "dd7574cd",
   "metadata": {},
   "source": [
    "A continuación vamos a explicar cómo se puede utilizar la herramienta Symbolic Math Toolbox de MATLAB para realizar transformaciones de expresiones matemáticas, es decir, cálculos símbólicos.\n",
    "\n",
    "Esta herramienta permite realizar: \n",
    "\n",
    "* integración definida e indefinida, \n",
    "\n",
    "* diferenciación, \n",
    "\n",
    "* resolución de ecuaciones diferenciales, \n",
    "\n",
    "* series, \n",
    "\n",
    "* límites, \n",
    "\n",
    "* cálculo matricial, \n",
    "\n",
    "* operaciones con polinomios, \n",
    "\n",
    "* simplificación de expresiones algebraicas. \n",
    "\n",
    "Además, las expresiones algebraicas se pueden convertir en valores numéricos con precisión variable."
   ]
  },
  {
   "cell_type": "markdown",
   "id": "c30d51d9",
   "metadata": {},
   "source": [
    "**Declaración de Variables Simbólicas**\n",
    "\n",
    "La herramienta permite definir un nuevo tipo de dato denominado objeto simbólico, con el cual podemos representar variables, expresiones y matrices.\n",
    "\n",
    "El comando *sym* se usa para crear objetos simbólicos en MATLAB. El argumento de *sym* es una cadena de caracteres (string) entre comillas simples. Por ejemplo,"
   ]
  },
  {
   "cell_type": "code",
   "execution_count": null,
   "id": "88214310",
   "metadata": {},
   "outputs": [],
   "source": [
    "sym('x')\n",
    "sym('2')\n",
    "sym('1/3')"
   ]
  },
  {
   "cell_type": "markdown",
   "id": "e1ae1a72",
   "metadata": {},
   "source": [
    "De esta manera, hemos creado tres objetos simbólicos, x es una variable, 2 es un número y 1/3 es una fracción. Vamos a apreciar la diferencia entre operar con números a operar con objetos simbólicos."
   ]
  },
  {
   "cell_type": "code",
   "execution_count": null,
   "id": "443acb12",
   "metadata": {},
   "outputs": [],
   "source": [
    "sqrt(2)"
   ]
  },
  {
   "cell_type": "code",
   "execution_count": null,
   "id": "c2bde4f0",
   "metadata": {},
   "outputs": [],
   "source": [
    "sqrt(sym('2'))"
   ]
  },
  {
   "cell_type": "code",
   "execution_count": null,
   "id": "3a50246f",
   "metadata": {},
   "outputs": [],
   "source": [
    "2/3+1/2"
   ]
  },
  {
   "cell_type": "code",
   "execution_count": null,
   "id": "b36b08e6",
   "metadata": {},
   "outputs": [],
   "source": [
    "sym('2/3')+sym('1/2')"
   ]
  },
  {
   "cell_type": "code",
   "execution_count": null,
   "id": "aad2faea",
   "metadata": {},
   "outputs": [],
   "source": [
    "sin(pi)"
   ]
  },
  {
   "cell_type": "code",
   "execution_count": null,
   "id": "35a72513",
   "metadata": {},
   "outputs": [],
   "source": [
    "sin(sym('pi'))"
   ]
  },
  {
   "cell_type": "markdown",
   "id": "68201585",
   "metadata": {},
   "source": [
    "En la última línea, vemos claramente la diferencia entre los valores que devuelve el seno de $\\pi$.\n",
    "\n",
    "Supongamos que queremos evaluar una función $f(x)$ para un determinado valor de $x$.\n",
    "\n",
    "$y=x^2-2x$\n",
    "\n",
    "$x=1-\\sqrt{2}$\n",
    "\n",
    "$y=(1-\\sqrt{2})^2-2(1-\\sqrt{2})$\n"
   ]
  },
  {
   "cell_type": "code",
   "execution_count": null,
   "id": "4e94283d",
   "metadata": {},
   "outputs": [],
   "source": [
    "x=sym('1-sqrt(2)');\n",
    "y=x^2-2*x"
   ]
  },
  {
   "cell_type": "code",
   "execution_count": null,
   "id": "813f3e4d",
   "metadata": {},
   "outputs": [],
   "source": [
    "simplify(y)"
   ]
  },
  {
   "cell_type": "code",
   "execution_count": null,
   "id": "e3e43523",
   "metadata": {},
   "outputs": [],
   "source": []
  }
 ],
 "metadata": {
  "kernelspec": {
   "display_name": "Octave",
   "language": "octave",
   "name": "octave"
  }
 },
 "nbformat": 4,
 "nbformat_minor": 5
}
