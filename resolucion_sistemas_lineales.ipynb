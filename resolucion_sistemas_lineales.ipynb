{
 "cells": [
  {
   "cell_type": "markdown",
   "id": "79fd7d25",
   "metadata": {},
   "source": [
    "<center> <h1>Resolución de Sistemas de Ecuaciones Lineales</h1> </center>"
   ]
  },
  {
   "cell_type": "markdown",
   "id": "ea46b53a",
   "metadata": {},
   "source": [
    "En matemáticas, un sistema de ecuaciones lineales está formado por una o más ecuaciones lineales que involucran las mismas variables. Una solución a un sistema lineal es una asignación de valores a dichas variables de forma que todas las ecuaciones se satisfagan simultáneamente. La palabra \"sistema\" indica que las ecuaciones deben considerarse colectivamente, en lugar de individualmente.\n",
    "\n",
    "En matemáticas, la teoría de los sistemas lineales es la base y una parte fundamental del álgebra lineal, materia que se utiliza en la mayor parte de las matemáticas modernas. Los algoritmos computacionales para resolver dichos sistemas son una parte importante del álgebra lineal numérica y juegan un papel destacado en la ingeniería, la física, la química, la informática y la economía. Por otra parte, un sistema de ecuaciones no lineales a menudo se puede aproximar mediante un sistema lineal, una técnica útil al hacer un modelo matemático o una simulación por computadora de un sistema relativamente complejo.\n"
   ]
  },
  {
   "cell_type": "markdown",
   "id": "ab40fe33",
   "metadata": {},
   "source": [
    "Ejemplo: a continuación podemos ver un sistema de tres ecuaciones con tres variables $x, y, z$.\n",
    "\n",
    "$${\\displaystyle {\\begin{cases}3x+2y-z=1\\\\2x-2y+4z=-2\\\\-x+{\\frac {1}{2}}y-z=0\\end{cases}}}$$\n",
    "\n",
    "Una solución a dicho sistema viene dada por el siguiente conjunto ordenado, que hace que las tres ecuaciones sean válidas.\n",
    "\n",
    "$${\\displaystyle (x,y,z)=(1,-2,-2),}$$\n"
   ]
  },
  {
   "cell_type": "markdown",
   "id": "d8475ead",
   "metadata": {},
   "source": [
    "A continuación se exponen los siguientes tópicos:\n",
    "\n",
    "* Revisión de Conceptos sobre matrices \n",
    "\n",
    "* Método de Gauss.\n",
    "\n",
    "* Descomposición LU.\n",
    "\n",
    "* Descomposición QR.\n",
    "\n",
    "* Descomposición Cholesky.\n",
    "\n",
    "* Descomposición en valores singulares SVD.\n"
   ]
  },
  {
   "cell_type": "markdown",
   "id": "47c8ca5d",
   "metadata": {},
   "source": [
    "<center> <h3>Bibliografía</h3> </center>\n",
    "\n",
    "* [System of linear equations](https://en.wikipedia.org/wiki/System_of_linear_equations)\n",
    "\n",
    "* [Sistema de ecuaciones lineales](https://es.wikipedia.org/wiki/Sistema_de_ecuaciones_lineales)"
   ]
  },
  {
   "cell_type": "code",
   "execution_count": null,
   "id": "2ff70a5a",
   "metadata": {},
   "outputs": [],
   "source": []
  }
 ],
 "metadata": {
  "kernelspec": {
   "display_name": "Python 3 (ipykernel)",
   "language": "python",
   "name": "python3"
  },
  "language_info": {
   "codemirror_mode": {
    "name": "ipython",
    "version": 3
   },
   "file_extension": ".py",
   "mimetype": "text/x-python",
   "name": "python",
   "nbconvert_exporter": "python",
   "pygments_lexer": "ipython3",
   "version": "3.10.8"
  }
 },
 "nbformat": 4,
 "nbformat_minor": 5
}
