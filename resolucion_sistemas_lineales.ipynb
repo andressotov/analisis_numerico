{
 "cells": [
  {
   "cell_type": "markdown",
   "id": "1740c4e2",
   "metadata": {},
   "source": [
    "<center> <h1>Resolución de Sistemas de Ecuaciones Lineales</h1> </center>"
   ]
  },
  {
   "cell_type": "markdown",
   "id": "9c87dea6",
   "metadata": {},
   "source": [
    "En matemáticas, un sistema de ecuaciones lineales está formado por una o más ecuaciones lineales que involucran las mismas variables. Una solución a un sistema lineal es una asignación de valores a dichas variables de forma que todas las ecuaciones se satisfagan simultáneamente. La palabra \"sistema\" indica que las ecuaciones deben considerarse colectivamente, en lugar de individualmente.\n",
    "\n",
    "En matemáticas, la teoría de los sistemas lineales es la base y una parte fundamental del álgebra lineal, materia que se utiliza en la mayor parte de las matemáticas modernas. Los algoritmos computacionales para resolver dichos sistemas son una parte importante del álgebra lineal numérica y juegan un papel destacado en la ingeniería, la física, la química, la informática y la economía. Por otra parte, un sistema de ecuaciones no lineales a menudo se puede aproximar mediante un sistema lineal, una técnica útil al hacer un modelo matemático o una simulación por computadora de un sistema relativamente complejo.\n"
   ]
  },
  {
   "cell_type": "markdown",
   "id": "57001991",
   "metadata": {},
   "source": [
    "Ejemplo: a continuación podemos ver un sistema de tres ecuaciones con tres variables $x, y, z$.\n",
    "\n",
    "$${\\displaystyle {\\begin{cases}3x+2y-z=1\\\\2x-2y+4z=-2\\\\-x+{\\frac {1}{2}}y-z=0\\end{cases}}}$$\n",
    "\n",
    "Una solución a dicho sistema viene dada por el siguiente conjunto ordenado, que hace que las tres ecuaciones sean válidas.\n",
    "\n",
    "$${\\displaystyle (x,y,z)=(1,-2,-2),}$$\n"
   ]
  },
  {
   "cell_type": "markdown",
   "id": "84048b01",
   "metadata": {},
   "source": [
    "Los sistemas de ecuaciones lineales se pueden clasificar según el número de soluciones de los mismos: \n",
    "\n",
    "* Compatible determinado: cuando tiene una única solución, por lo que cada variable solo puede tomar un único valor.\n",
    "\n",
    "* Compatible indeterminado: cuando tiene infinitas soluciones.\n",
    "\n",
    "* Incompatible: cuando no existe solución.\n",
    "\n",
    "\n"
   ]
  },
  {
   "cell_type": "markdown",
   "id": "81863d11",
   "metadata": {},
   "source": [
    "En general, un sistema con $m$ ecuaciones lineales y $n$ incógnitas se puede escribir como:\n",
    "\n",
    "$${\\displaystyle \\left\\{{\\begin{matrix}a_{11}x_{1}&+a_{12}x_{2}&+\\dots &+a_{1n}x_{n}&=b_{1}\\\\a_{21}x_{1}&+a_{22}x_{2}&+\\dots &+a_{2n}x_{n}&=b_{2}\\\\\\dots &\\dots &\\dots &\\dots &\\dots \\\\a_{m1}x_{1}&+a_{m2}x_{2}&+\\dots &+a_{mn}x_{n}&=b_{m}\\end{matrix}}\\right.}$$\n",
    "\n",
    "Donde ${\\displaystyle x_{1},\\dots ,x_{n}}$ representan las incógnitas a determinar, los valores $a_{{ij}}$ son los coeficientes del sistema y \n",
    "${\\displaystyle b_{1},\\dots ,b_{m}}$ son los términos independientes. \n",
    "\n",
    "Dicho sistema se acostumbra representar como:\n",
    "\n",
    "$${\\displaystyle \\mathbf {Ax} =\\mathbf {b} }$$\n",
    "\n",
    "donde $A$ es la matriz de los coeficientes, $x$ es el vector de las incognitas y $b$ es el vector correspondiente a los términos independientes."
   ]
  },
  {
   "cell_type": "markdown",
   "id": "a9d3164b",
   "metadata": {},
   "source": [
    "Dado un sistema de ecuaciones lineales:\n",
    "\n",
    "$${\\displaystyle \\left\\{{\\begin{array}{rcrcrcr}3\\,x_{1}&+&2\\,x_{2}&+&\\,x_{3}&=&1\\\\2\\,x_{1}&+&2\\,x_{2}&+&4\\,x_{3}&=&-2\\\\-\\,x_{1}&+&{\\frac {1}{2}}\\,x_{2}&-&\\,x_{3}&=&0\\end{array}}\\right.}$$"
   ]
  },
  {
   "cell_type": "markdown",
   "id": "129041e6",
   "metadata": {},
   "source": [
    "Es posible reescribir el sistema separando los coeficientes con notación matricial:\n",
    "\n",
    "$${\\displaystyle {\\begin{pmatrix}3&2&1\\\\2&2&4\\\\-1&\\frac{1}{2}&-1\\end{pmatrix}}{\\begin{pmatrix}x_{1}\\\\x_{2}\\\\x_{3}\\end{pmatrix}}={\\begin{pmatrix}1\\\\-2\\\\0\\end{pmatrix}}}$$\n",
    "\n"
   ]
  },
  {
   "cell_type": "markdown",
   "id": "c0b609f7",
   "metadata": {},
   "source": [
    "La matriz ampliada o aumentada del sistema anterior se forma adjuntando el vector independiente como una columna más de la matriz de los coeficientes.\n",
    "\n",
    "$${\\displaystyle (A|B)=\\left[{\\begin{array}{ccc|c}3&2&1&1\\\\2&2&4&-2\\\\-1&\\frac{1}{2}&-1&0\\end{array}}\\right].}$$"
   ]
  },
  {
   "cell_type": "code",
   "execution_count": 2,
   "id": "186de1be",
   "metadata": {},
   "outputs": [
    {
     "data": {
      "text/plain": [
       "array([[ 3. ,  2. ,  1. ],\n",
       "       [ 2. ,  2. ,  4. ],\n",
       "       [-1. ,  0.5, -1. ]])"
      ]
     },
     "execution_count": 2,
     "metadata": {},
     "output_type": "execute_result"
    }
   ],
   "source": [
    "import numpy as np\n",
    "\n",
    "A = np.array([[3,2,1],[2,2,4],[-1,0.5,-1]])\n",
    "A"
   ]
  },
  {
   "cell_type": "code",
   "execution_count": 3,
   "id": "4e83d5bb",
   "metadata": {},
   "outputs": [
    {
     "data": {
      "text/plain": [
       "array([ 1, -2,  0])"
      ]
     },
     "execution_count": 3,
     "metadata": {},
     "output_type": "execute_result"
    }
   ],
   "source": [
    "B = np.array([1,-2,0])\n",
    "B"
   ]
  },
  {
   "cell_type": "code",
   "execution_count": 5,
   "id": "7989a2d0",
   "metadata": {},
   "outputs": [
    {
     "data": {
      "text/plain": [
       "array([[ 3. ,  2. ,  1. ,  1. ],\n",
       "       [ 2. ,  2. ,  4. , -2. ],\n",
       "       [-1. ,  0.5, -1. ,  0. ]])"
      ]
     },
     "execution_count": 5,
     "metadata": {},
     "output_type": "execute_result"
    }
   ],
   "source": [
    "# para denotar columna se usa uno (1) axis = 1\n",
    "\n",
    "C = np.insert(A, A.shape[1], B, 1)\n",
    "C"
   ]
  },
  {
   "cell_type": "markdown",
   "id": "5388f865",
   "metadata": {},
   "source": [
    "Si el rango de la matriz de coeficientes es igual al rango de la matriz ampliada y además igual al número de incógnitas, el sistema es compatible determinado (SCD).\n",
    "\n",
    "$$Rango(A) = Rango(A^*) = n.º incógnita → SCD$$\n",
    "\n",
    "Si el rango de la matriz de coeficientes es igual al rango de la matriz ampliada pero menor que el número de incógnitas, el sistema es compatible indeterminado (SCI).\n",
    "\n",
    "$$Rango(A) = Rango(A^*) < n.º incógnita → SCI$$\n",
    "\n",
    "Por último, si los rangos de las matrices de coeficientes y ampliada son distintos, el sistema es compatible indeterminado (SI).\n",
    "\n",
    "$$Rang(A) < Rang(A^*)  → SI$$"
   ]
  },
  {
   "cell_type": "code",
   "execution_count": 7,
   "id": "4d79fc33",
   "metadata": {},
   "outputs": [
    {
     "data": {
      "text/plain": [
       "3"
      ]
     },
     "execution_count": 7,
     "metadata": {},
     "output_type": "execute_result"
    }
   ],
   "source": [
    "np.linalg.matrix_rank(A)"
   ]
  },
  {
   "cell_type": "code",
   "execution_count": 8,
   "id": "f3a9d18a",
   "metadata": {},
   "outputs": [
    {
     "data": {
      "text/plain": [
       "3"
      ]
     },
     "execution_count": 8,
     "metadata": {},
     "output_type": "execute_result"
    }
   ],
   "source": [
    "np.linalg.matrix_rank(C)"
   ]
  },
  {
   "cell_type": "markdown",
   "id": "7ff6a66e",
   "metadata": {},
   "source": [
    "En este ejemplo, el sistema es compatible determinado"
   ]
  },
  {
   "cell_type": "markdown",
   "id": "7168dd7c",
   "metadata": {},
   "source": [
    "A continuación se exponen los siguientes tópicos:\n",
    "\n",
    "* [Revisión de Conceptos sobre matrices ](https://github.com/andressotov/analisis_numerico/blob/main/Conceptos%20sobre%20matrices.ipynb).\n",
    "\n",
    "* [Método de Gauss](https://github.com/andressotov/analisis_numerico/blob/main/Metodo_Eliminacion_Gauss.ipynb).\n",
    "\n",
    "* [Descomposición LU](https://github.com/andressotov/analisis_numerico/blob/main/Factorizaci%C3%B3n%20LU.ipynb).\n",
    "\n",
    "* [Descomposición QR](https://github.com/andressotov/analisis_numerico/blob/main/Factorizaci%C3%B3n%20QR.ipynb).\n",
    "\n",
    "* [Descomposición Cholesky](https://github.com/andressotov/analisis_numerico/blob/main/Factorizaci%C3%B3n%20de%20Cholesky.ipynb).\n",
    "\n",
    "* [Descomposición en valores singulares SVD](https://github.com/andressotov/analisis_numerico/blob/main/Factorizaci%C3%B3n%20en%20Valores%20Singulares.ipynb).\n"
   ]
  },
  {
   "cell_type": "markdown",
   "id": "cc435363",
   "metadata": {},
   "source": [
    "<center> <h3>Bibliografía</h3> </center>\n",
    "\n",
    "* [System of linear equations](https://en.wikipedia.org/wiki/System_of_linear_equations)\n",
    "\n",
    "* [Sistema de ecuaciones lineales](https://es.wikipedia.org/wiki/Sistema_de_ecuaciones_lineales)\n",
    "\n",
    "* [Augmented matrix](https://en.wikipedia.org/wiki/Augmented_matrix)\n",
    "\n",
    "* [Matriz aumentada](https://es.wikipedia.org/wiki/Matriz_aumentada)\n",
    "\n",
    "* [Teorema de Rouché Frobenius](https://www.problemasyecuaciones.com/matrices/teorema-Rouche-Frobenius-enunciado-ejemplos-aplicacion-sistemas-ecuaciones-lineales-matrices.html)\n",
    "\n",
    "* [Indeterminate system](https://en.wikipedia.org/wiki/Indeterminate_system#:~:text=In%20linear%20systems%2C%20indeterminacy%20occurs,rank%20of%20the%20coefficient%20matrix.)\n",
    "\n",
    "* [Teorema de Rouché–Frobenius](https://es.wikipedia.org/wiki/Teorema_de_Rouch%C3%A9%E2%80%93Frobenius)\n",
    "\n",
    "* [Rouché–Capelli theorem](https://en.wikipedia.org/wiki/Rouch%C3%A9%E2%80%93Capelli_theorem)\n",
    "\n",
    "* [Sistemas de ecuaciones lineales](https://www.ieszaframagon.com/matematicas/matematicas2/algebra/6_sistemas_de_ecuaciones_lineales.html)"
   ]
  },
  {
   "cell_type": "code",
   "execution_count": null,
   "id": "29123e14",
   "metadata": {},
   "outputs": [],
   "source": []
  }
 ],
 "metadata": {
  "kernelspec": {
   "display_name": "Python 3 (ipykernel)",
   "language": "python",
   "name": "python3"
  },
  "language_info": {
   "codemirror_mode": {
    "name": "ipython",
    "version": 3
   },
   "file_extension": ".py",
   "mimetype": "text/x-python",
   "name": "python",
   "nbconvert_exporter": "python",
   "pygments_lexer": "ipython3",
   "version": "3.10.8"
  }
 },
 "nbformat": 4,
 "nbformat_minor": 5
}
