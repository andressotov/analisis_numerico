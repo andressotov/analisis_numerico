{
 "cells": [
  {
   "cell_type": "markdown",
   "id": "54dc1822",
   "metadata": {},
   "source": [
    "<center> <h1>Método de la Secante</h1> </center>"
   ]
  },
  {
   "cell_type": "markdown",
   "id": "b48e748c",
   "metadata": {},
   "source": [
    "El método de la secante es un algoritmo para buscar las raíces o zeros de una función de forma iterativa. El método se basa en el uso de la secante, una línea que corta una curva en un mínimo de dos puntos distintos. A partir de dos estimaciones iniciales de la raíz de la función que buscamos, se calcula la secante que une a dichos dos puntos y la intersección de dicha recta secante con el eje de las x. Dicha intersección se toma como aproximación de la raíz buscada. Si la aproximación no es suficientemente buena, se repite el proceso de calcular la secante utilizando uno de los puntos anteriores y la aproximación recién calculada. \n",
    "\n",
    "El método de la secante se puede considerar como una variación del método de Newton-Raphson donde en vez de calcular la derivada de la función en el punto de estudio, se aproxima dicha derivada (i.e., la pendiente a la recta) mediante la secante. Hay que aclarar que el método de la secante es anterior al método de Newton en más de 3000 años.\n",
    "\n",
    "El principal inconveniente del método de Newton es que requiere conocer el valor de la primera derivada de la función en el punto. Sin embargo, la forma funcional de f(x) dificulta en ocasiones el cálculo de la derivada. En estos casos es más útil emplear el método de la secante. Este método es de especial interés cuando el coste computacional de derivar la función de estudio y evaluarla es demasiado elevado, por lo que el método de Newton no resulta atractivo."
   ]
  },
  {
   "cell_type": "markdown",
   "id": "d6c231af",
   "metadata": {},
   "source": [
    "Comenzando con los valores iniciales $x_0$ y $x_1$, construimos una línea a través de los puntos $(x_0, f(x_0))$ y $(x_1, f(x_1))$, como se muestra en la imagen siguiente. "
   ]
  },
  {
   "cell_type": "markdown",
   "id": "a7b82fcc",
   "metadata": {},
   "source": [
    "<img src=\"./images/Secant_method.png\">"
   ]
  },
  {
   "cell_type": "markdown",
   "id": "7b864376",
   "metadata": {},
   "source": [
    "En forma de pendiente-intersección, la ecuación de esta recta es\n",
    "\n",
    "$${\\displaystyle y={\\frac {f(x_{1})-f(x_{0})}{x_{1}-x_{0}}}(x-x_{1})+f(x_{1}).}$$"
   ]
  },
  {
   "cell_type": "markdown",
   "id": "3ac219d1",
   "metadata": {},
   "source": [
    "La raíz de esta función lineal es el valor de x para el cual y = 0 está dado por:\n",
    "\n",
    "$$ {\\displaystyle x=x_{1}-f(x_{1}){\\frac {x_{1}-x_{0}}{f(x_{1})-f(x_{0})}}.} $$ "
   ]
  },
  {
   "cell_type": "markdown",
   "id": "9cb2b761",
   "metadata": {},
   "source": [
    "El método se define mediante la siguiente fórmula recurrente:\n",
    "\n",
    "$${\\displaystyle x_{n}=x_{n-1}-f(x_{n-1}){\\frac {x_{n-1}-x_{n-2}}{f(x_{n-1})-f(x_{n-2})}}}$$\n"
   ]
  },
  {
   "cell_type": "markdown",
   "id": "c4491cb1",
   "metadata": {},
   "source": [
    "Los elementos $x_{n}$ de la sucesión obtenida mediante el método convergen a una raíz de $f$ si los valores iniciales $x_{0}$ y $x_{1}$ están suficientemente cerca de la raíz. \n",
    "\n",
    "El orden de convergencia es $\\varphi$, donde\n",
    "\n",
    "$${\\displaystyle \\varphi ={\\frac {1+{\\sqrt {5}}}{2}}\\approx 1.618}$$"
   ]
  },
  {
   "cell_type": "markdown",
   "id": "946baefa",
   "metadata": {},
   "source": [
    "es el número áureo. En particular, la convergencia es súper lineal, pero no llega a ser cuadrática como en el caso del método de Newton-Raphson."
   ]
  },
  {
   "cell_type": "markdown",
   "id": "37235b7c",
   "metadata": {},
   "source": [
    "En análisis numérico, el orden de convergencia mide la velocidad con la cual una sucesión converge a su límite. Desde el punto de vista práctico, este concepto es muy importante para trabajar con métodos iterativos. \n",
    "\n",
    "Se dice que una sucesión $(x_{n})$ que converge a $x^{*}$ tiene orden de convergencia $q \\geq 1$ y tasa de convergencia $\\mu$ si\n",
    "\n",
    "$${\\displaystyle \\lim _{n\\rightarrow \\infty }{\\frac {\\left|x_{n+1}-x^{*}\\right|}{\\left|x_{n}-x^{*}\\right|^{q}}}=\\mu .}$$"
   ]
  },
  {
   "cell_type": "markdown",
   "id": "f630c5fd",
   "metadata": {},
   "source": [
    "La tasa de convergencia $\\mu$ también se denomina constante de error asintótico. Esta terminología no está estandarizada, por lo que el uso de uno u otro término depende del autor. Mientras mayor sea el orden de convergencia, se necesitarán menos iteraciones para obtener una aproximación útil."
   ]
  },
  {
   "cell_type": "markdown",
   "id": "d012939a",
   "metadata": {},
   "source": [
    "Para que el método converja se requiere que la función sea dos veces continuamente diferenciable y la raíz sea simple (i.e., con multiplicidad 1).\n",
    "\n",
    "Si los valores iniciales no están lo suficientemente cerca de la raíz, entonces no hay garantía de que el método converja. No existe una definición general de \"lo suficientemente cerca\", pero el criterio tiene que ver con cuán \"ondulada\" es la función en el intervalo $[x_{0},x_{1}]$. Por ejemplo, si $f$ es diferenciable en ese intervalo y hay un punto donde $f^´=0$ en el intervalo, entonces el algoritmo puede no converger."
   ]
  },
  {
   "cell_type": "code",
   "execution_count": 1,
   "id": "dcdad227",
   "metadata": {},
   "outputs": [],
   "source": [
    "%matplotlib inline\n",
    "\n",
    "import matplotlib.pyplot as plt\n",
    "import numpy as np\n",
    "import math\n",
    "from math import cos, sin"
   ]
  },
  {
   "cell_type": "code",
   "execution_count": 2,
   "id": "8064f153",
   "metadata": {},
   "outputs": [
    {
     "data": {
      "image/png": "[encoded data removed]",
      "text/plain": [
       "<Figure size 432x288 with 1 Axes>"
      ]
     },
     "metadata": {
      "needs_background": "light"
     },
     "output_type": "display_data"
    }
   ],
   "source": [
    "def f(x):\n",
    "    return cos(x) - x**3\n",
    "\n",
    "x_low = -5\n",
    "x_high = 5\n",
    "\n",
    "def graf0():\n",
    "    x = np.linspace(x_low, x_high, num = 100)\n",
    "    f_x = [f(x[i]) for i in range(len(x))]\n",
    "\n",
    "    plt.plot(x, f_x)\n",
    "    plt.grid()\n",
    "    plt.axvline(x_low, color = 'r')\n",
    "    plt.axvline(x_high, color = 'r')\n",
    "    plt.axhline(color = 'k')\n",
    "    \n",
    "graf0()\n",
    "plt.show()"
   ]
  },
  {
   "cell_type": "code",
   "execution_count": 3,
   "id": "b517b3e4",
   "metadata": {},
   "outputs": [
    {
     "name": "stdout",
     "output_type": "stream",
     "text": [
      "f(x0)= 0.9940041652780258\n",
      "f(x1)= 0.9720665778412416\n",
      "Iteración\tAproximación\tFunción\n",
      "\t 0 \t 0.2 \t 0.9720665778412416\n",
      "\t 1 \t 4.631055058549025 \t -99.4019582946752\n",
      "\t 2 \t 0.24291230258486252 \t 0.9563082173835941\n",
      "\t 3 \t 0.2847266654911468 \t 0.9366558827696188\n",
      "\t 4 \t 2.277653702901914 \t -12.465245979545383\n",
      "\t 5 \t 0.42401188431299075 \t 0.8352142750412466\n",
      "\t 6 \t 0.5404129770620177 \t 0.6996707331620458\n",
      "\t 7 \t 1.1412710981900474 \t -1.0700660808136147\n",
      "\t 8 \t 0.7779640291823584 \t 0.24149828262766693\n",
      "\t 9 \t 0.8448597421778238 \t 0.06078545266527258\n"
     ]
    },
    {
     "data": {
      "image/png": "[encoded data removed]",
      "text/plain": [
       "<Figure size 432x288 with 1 Axes>"
      ]
     },
     "metadata": {
      "needs_background": "light"
     },
     "output_type": "display_data"
    }
   ],
   "source": [
    "x0 = 0.1\n",
    "x1 = 0.2\n",
    "n = 10\n",
    "eps = 0.000000001\n",
    "print('f(x0)=', f(x0))\n",
    "print('f(x1)=', f(x1))\n",
    "\n",
    "\n",
    "def secante():\n",
    "    global x0, x1\n",
    "    print('Iteración\\tAproximación\\tFunción')\n",
    "    for i in range(n):\n",
    "        print('\\t', i, '\\t', x1, '\\t', f(x1))\n",
    "        plt.plot(x1, f(x1), 'mo')\n",
    "        if abs(f(x1)-f(x0)) < eps:\n",
    "            print('Cociente muy pequeño')\n",
    "            return x1\n",
    "        x2 = x1 - f(x1)*( (x1-x0) / (f(x1)-f(x0)) )\n",
    "        x0 = x1\n",
    "        x1 = x2        \n",
    "    return x1\n",
    "\n",
    "graf0()\n",
    "secante()\n",
    "plt.show()"
   ]
  },
  {
   "cell_type": "code",
   "execution_count": 4,
   "id": "b960fc5c",
   "metadata": {},
   "outputs": [
    {
     "name": "stdout",
     "output_type": "stream",
     "text": [
      "Iteración\tAproximación\tFunción\n",
      "\t 0 \t 0.2 \t 0.9720665778412416\n",
      "\t 1 \t 4.631055058549025 \t -99.4019582946752\n",
      "\t 2 \t 0.24291230258486252 \t 0.9563082173835941\n",
      "\t 3 \t 0.2847266654911468 \t 0.9366558827696188\n",
      "\t 4 \t 2.277653702901914 \t -12.465245979545383\n",
      "\t 5 \t 0.42401188431299075 \t 0.8352142750412466\n",
      "\t 6 \t 0.5404129770620177 \t 0.6996707331620458\n",
      "\t 7 \t 1.1412710981900474 \t -1.0700660808136147\n",
      "\t 8 \t 0.7779640291823584 \t 0.24149828262766693\n",
      "\t 9 \t 0.8448597421778238 \t 0.06078545266527258\n",
      "\t 10 \t 0.8673611118738309 \t -0.005687755434518826\n",
      "\t 11 \t 0.8654357905085607 \t 0.00011505004461076496\n",
      "\t 12 \t 0.8654739631320892 \t 2.105060002977055e-07\n",
      "\t 13 \t 0.865474033104212 \t -7.814859870336477e-12\n",
      "\t 14 \t 0.8654740331016144 \t 1.1102230246251565e-16\n",
      "\t 15 \t 0.8654740331016144 \t 1.1102230246251565e-16\n",
      "Cociente muy pequeño\n"
     ]
    },
    {
     "data": {
      "image/png": "[encoded data removed]",
      "text/plain": [
       "<Figure size 432x288 with 1 Axes>"
      ]
     },
     "metadata": {
      "needs_background": "light"
     },
     "output_type": "display_data"
    }
   ],
   "source": [
    "x0 = 0.1\n",
    "x1 = 0.2\n",
    "n = 20\n",
    "eps = 1.0e-20\n",
    "graf0()\n",
    "secante()\n",
    "plt.show()"
   ]
  },
  {
   "cell_type": "markdown",
   "id": "32da7c76",
   "metadata": {},
   "source": [
    "<center> <h3>Bibliografía</h3> </center>\n",
    "\n",
    "* [Método de la secante](https://es.wikipedia.org/wiki/M%C3%A9todo_de_la_secante)\n",
    "\n",
    "* [4.4 Método de la secante](https://www.uv.es/~diaz/mn/node21.html#eqn:sec-2)\n",
    "\n",
    "* [Secant line](https://en.wikipedia.org/wiki/Secant_line)\n",
    "\n",
    "* [Número áureo](https://es.wikipedia.org/wiki/N%C3%BAmero_%C3%A1ureo)\n",
    "\n",
    "* [Rate of convergence](https://en.wikipedia.org/wiki/Rate_of_convergence)"
   ]
  }
 ],
 "metadata": {
  "kernelspec": {
   "display_name": "Python 3 (ipykernel)",
   "language": "python",
   "name": "python3"
  },
  "language_info": {
   "codemirror_mode": {
    "name": "ipython",
    "version": 3
   },
   "file_extension": ".py",
   "mimetype": "text/x-python",
   "name": "python",
   "nbconvert_exporter": "python",
   "pygments_lexer": "ipython3",
   "version": "3.10.8"
  }
 },
 "nbformat": 4,
 "nbformat_minor": 5
}
