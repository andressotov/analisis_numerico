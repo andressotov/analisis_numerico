{
 "cells": [
  {
   "cell_type": "markdown",
   "id": "c149d97f",
   "metadata": {},
   "source": [
    "# Análisis Numérico #\n",
    "\n",
    "El análisis numérico es una rama de las matemáticas que estudia métodos numéricos para encontrar soluciones aproximadas de problemas matemáticos en lugar de aplicar soluciones exactas. El análisis numérico implica diseñar métodos que den soluciones numéricas aproximadas pero precisas, lo cual es útil en los casos en que la solución exacta es imposible o prohibitivamente costosa de calcular. El análisis numérico también implica caracterizar la convergencia, la precisión, la estabilidad y la complejidad computacional de estos métodos. Está compuesto por algoritmos que utilizan la aproximación numérica, en lugar de manipulaciones simbólicas, para resolver problemas del análisis matemático. \n",
    "\n",
    "El análisis numérico se aplica en campos de la ingeniería y las ciencias, en las ciencias sociales y de la vida, la medicina, los negocios e incluso las artes. El crecimiento de las capacidades de los equipos de cómputo y otros ha permitido el uso de métodos más complejos, proporcionando modelos matemáticos detallados y realistas en ciencia e ingeniería."
   ]
  },
  {
   "cell_type": "markdown",
   "id": "246b017b",
   "metadata": {},
   "source": [
    "El campo del análisis numérico es anterior a la invención de los ordenadores modernos en muchos siglos. La interpolación lineal ya se utilizaba hace más de 2000 años.\n",
    "\n",
    "![Tablilla de arcilla babilónica YBC 7289](./images/Tablilla_de_arcilla_babilónica.jpg)\n",
    "\n",
    "<center> Tablilla de arcilla babilónica YBC 7289 (c. 1800-1600 a. C.) </center>\n",
    "\n",
    "YBC 7289 es una tablilla de arcilla babilónica que se destaca por contener una aproximación sexagesimal precisa a la raíz cuadrada de 2, la longitud de la diagonal de un cuadrado de lado = 1, con seis dígitos decimales. La aproximación de la raíz cuadrada de 2 es con cuatro cifras sexagesimales, que son unas seis cifras decimales. 1 + 24/60 + 51/602 + 10/603 = 1,41421296..., \"la mayor precisión computacional conocida... en el mundo antiguo\". Se cree que la tablilla es obra de un estudiante del sur de Mesopotamia en algún momento entre 1800 y 1600 a."
   ]
  },
  {
   "cell_type": "markdown",
   "id": "9bb82b0b",
   "metadata": {},
   "source": [
    "La raíz cuadrada de 2 es un número real positivo tal que, multiplicado por sí mismo, es igual a 2. No es un número periódico. Un número periódico es un número con parte fraccionaria caracterizado por tener un período (cifras que se repiten infinitamente, sin ser todas 0) en su expansión decimal. La raíz cuadrada de 2 fue posiblemente el primer número irracional conocido, ya que no puede expresarse como una fracción de dos números enteros $m$ y $n$.\n",
    "\n",
    "La raíz cuadrada de 2 equivale geométricamente a la longitud de la diagonal de un cuadrado cuyo lado es igual a la unidad, lo cual se comprueba aplicando el teorema de Pitágoras\n",
    "\n",
    "![raíz cuadrada de 2](./images/Square_root_of_2_triangle.png \"raíz cuadrada de 2\")"
   ]
  },
  {
   "cell_type": "markdown",
   "id": "b131b683",
   "metadata": {},
   "source": [
    "La tabla babilónica YBC 7289 proporciona una aproximación de 2 con cuatro dígitos sexagesimales, que equivale a seis cifras decimales:\n",
    "\n",
    "$${\\displaystyle 1+{\\frac {24}{60}}+{\\frac {51}{60^{2}}}+{\\frac {10}{60^{3}}}=1,41421296}.$$"
   ]
  },
  {
   "cell_type": "markdown",
   "id": "6d99e78f",
   "metadata": {},
   "source": [
    "Existen muchos algoritmos para aproximar la raíz de cuadrada de 2. El más común de los algoritmos es el denominado método babilónico, el cual funciona de la siguiente manera:\n",
    "\n",
    "1. Se toma un valor arbitrario ${\\displaystyle F_{0}}$ como un punto de comienzo del algoritmo \n",
    "\n",
    "2. Empleando esta suposición inicial, se repite el siguiente cálculo tantas veces como se desee:\n",
    "\n",
    "$${\\displaystyle F_{n+1}={\\frac {F_{n}+{\\frac {2}{F_{n}}}}{2}}}.$$"
   ]
  },
  {
   "cell_type": "code",
   "execution_count": 6,
   "id": "3f4b8613",
   "metadata": {},
   "outputs": [],
   "source": [
    "F0 = 1\n",
    "F1 = (F0+(2/F0))/2"
   ]
  },
  {
   "cell_type": "code",
   "execution_count": 7,
   "id": "3ea70d7e",
   "metadata": {},
   "outputs": [
    {
     "data": {
      "text/plain": [
       "1.5"
      ]
     },
     "execution_count": 7,
     "metadata": {},
     "output_type": "execute_result"
    }
   ],
   "source": [
    "F1"
   ]
  },
  {
   "cell_type": "code",
   "execution_count": 2,
   "id": "f85d14fe",
   "metadata": {},
   "outputs": [
    {
     "data": {
      "text/plain": [
       "1.4166666666666665"
      ]
     },
     "execution_count": 2,
     "metadata": {},
     "output_type": "execute_result"
    }
   ],
   "source": [
    "F2 = (F1+(2/F1))/2\n",
    "F2"
   ]
  },
  {
   "cell_type": "code",
   "execution_count": 4,
   "id": "a6e1bdee",
   "metadata": {},
   "outputs": [
    {
     "data": {
      "text/plain": [
       "1.4142156862745097"
      ]
     },
     "execution_count": 4,
     "metadata": {},
     "output_type": "execute_result"
    }
   ],
   "source": [
    "F3 = (F2+(2/F2))/2\n",
    "F3"
   ]
  },
  {
   "cell_type": "code",
   "execution_count": 5,
   "id": "9ea9f23a",
   "metadata": {},
   "outputs": [
    {
     "data": {
      "text/plain": [
       "1.4142135623746899"
      ]
     },
     "execution_count": 5,
     "metadata": {},
     "output_type": "execute_result"
    }
   ],
   "source": [
    "F4 = (F3+(2/F3))/2\n",
    "F4"
   ]
  },
  {
   "cell_type": "code",
   "execution_count": 8,
   "id": "1ec852e7",
   "metadata": {},
   "outputs": [
    {
     "data": {
      "text/plain": [
       "1.414213562373095"
      ]
     },
     "execution_count": 8,
     "metadata": {},
     "output_type": "execute_result"
    }
   ],
   "source": [
    "F5 = (F4+(2/F4))/2\n",
    "F5"
   ]
  },
  {
   "cell_type": "markdown",
   "id": "516cb778",
   "metadata": {},
   "source": [
    "Como se puede apreciar, luego de unas pocas iteraciones, ya tenemos 5 cifras decimales calculadas."
   ]
  },
  {
   "cell_type": "markdown",
   "id": "1dea3df0",
   "metadata": {},
   "source": [
    "Muchos grandes matemáticos del pasado estaban preocupados por el análisis numérico como se desprende de los nombres de importantes algoritmos como el método de Newton, el polinomio de interpolación de Lagrange, el método de  eliminación de Gauss o el método de Euler. \n",
    "\n",
    "Los orígenes del análisis numérico moderno a menudo se relacionan con un artículo de 1947 de John von Neumann y Herman Goldstine, pero otros consideran que el análisis numérico moderno se remonta al trabajo de E. T. Whittaker en 1912."
   ]
  },
  {
   "cell_type": "markdown",
   "id": "d582a5dd",
   "metadata": {},
   "source": [
    "Entre otras cabe mencionar las siguientes aplicaciones del análisis numérico en la vida real:\n",
    "\n",
    "* Estimación de corrientes oceánicas\n",
    "\n",
    "* Modelado del flujo de combustión en una central eléctrica de carbón\n",
    "\n",
    "* Patrones de flujo de aire en el tracto respiratorio\n",
    "\n",
    "* Captación regional de materiales inhalados por las vías respiratorias\n",
    "\n",
    "* Transporte y eliminación de sustancias químicas a través del cuerpo.\n",
    "\n",
    "* Mecanismos moleculares y celulares de toxicidad.\n",
    "\n",
    "* Simulaciones de reentrada para el transbordador espacial\n",
    "\n",
    "* Control de trayectoria prescrito por trayectoria y problemas de control óptimo"
   ]
  },
  {
   "cell_type": "markdown",
   "id": "1d74b64f",
   "metadata": {},
   "source": [
    "Los métodos numéricos ofrecen soluciones aproximadas a problemas matemáticos donde: i) pueden no existir soluciones analíticas, ii) los datos disponibles no permiten el uso directo de los métodos analíticos existentes. Cuando los métodos analíticos existentes resultan lentos debido al gran tamaño de los datos o a la complejidad de las funciones involucradas se usan métodos numéricos, los cuales generalmente son técnicas iterativas que mediante  operaciones aritméticas simples generan soluciones numéricas aproximadas."
   ]
  },
  {
   "cell_type": "markdown",
   "id": "3203a458",
   "metadata": {},
   "source": [
    "Entre las áreas de estudio de análisis numérico podemos mencionar:\n",
    "\n",
    "* Cálculo de los valores de una función\n",
    "\n",
    "* Resolución de ecuaciones y sistemas de ecuaciones\n",
    "\n",
    "* Descomposición espectral y en valores singulares\n",
    "\n",
    "* Optimización\n",
    "\n",
    "* Evaluación de integrales\n",
    "\n",
    "* Resolución de ecuaciones diferenciales"
   ]
  },
  {
   "cell_type": "markdown",
   "id": "59389f51",
   "metadata": {},
   "source": [
    "\n",
    "\n",
    "Los lenguajes de programación como Fortran, Basic, Pascal y C han sido utilizados ampliamente por científicos e ingenieros, pero a menudo son difíciles de programar y depurar. El software moderno comúnmente disponible ha recorrido un largo camino para superar tales dificultades. Matlab, Maple, Mathematica y MathCAD, por ejemplo, son bastante más fáciles de usar, ya que muchas operaciones se han modularizado, de modo que el programador puede comprender mejor lo que está haciendo el programa en términos matemáticos más comprensibles. Los programas de hojas de cálculo también brindan a los ingenieros y científicos herramientas muy poderosas."
   ]
  },
  {
   "cell_type": "markdown",
   "id": "2d59eccf",
   "metadata": {},
   "source": [
    "**Bibliografía**\n",
    "\n",
    "* [Análisis numérico](https://es.wikipedia.org/wiki/An%C3%A1lisis_num%C3%A9rico)\n",
    "\n",
    "* [Numerical analysis](https://en.wikipedia.org/wiki/Numerical_analysis)\n",
    "\n",
    "* [What Is Numerical Analysis?](https://es.mathworks.com/discovery/numerical-analysis.html)\n",
    "\n",
    "* [Real-Life Applications of Mathematics](https://www2.unbc.ca/math-statistics/real-life-applications-mathematics#numerical-analysis)\n",
    "\n",
    "* [Raíz cuadrada de dos](https://es.wikipedia.org/wiki/Ra%C3%ADz_cuadrada_de_dos)\n"
   ]
  }
 ],
 "metadata": {
  "kernelspec": {
   "display_name": "Python 3 (ipykernel)",
   "language": "python",
   "name": "python3"
  },
  "language_info": {
   "codemirror_mode": {
    "name": "ipython",
    "version": 3
   },
   "file_extension": ".py",
   "mimetype": "text/x-python",
   "name": "python",
   "nbconvert_exporter": "python",
   "pygments_lexer": "ipython3",
   "version": "3.10.8"
  }
 },
 "nbformat": 4,
 "nbformat_minor": 5
}
