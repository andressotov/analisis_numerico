{
 "cells": [
  {
   "cell_type": "markdown",
   "id": "c149d97f",
   "metadata": {},
   "source": [
    "# Análisis Numérico #\n",
    "\n",
    "El análisis numérico es una rama de las matemáticas que estudia métodos numéricos para encontrar soluciones aproximadas de problemas matemáticos en lugar de aplicar soluciones exactas. El análisis numérico implica diseñar métodos que den soluciones numéricas aproximadas pero precisas, lo cual es útil en los casos en que la solución exacta es imposible o prohibitivamente costosa de calcular. El análisis numérico también implica caracterizar la convergencia, la precisión, la estabilidad y la complejidad computacional de estos métodos. Está compuesto por algoritmos que utilizan la aproximación numérica, en lugar de manipulaciones simbólicas, para resolver problemas del análisis matemático. \n",
    "\n",
    "El análisis numérico se aplica en campos de la ingeniería y las ciencias, en las ciencias sociales y de la vida, la medicina, los negocios e incluso las artes. El crecimiento de las capacidades de los equipos de cómputo y otros ha permitido el uso de métodos más complejos, proporcionando modelos matemáticos detallados y realistas en ciencia e ingeniería."
   ]
  },
  {
   "cell_type": "markdown",
   "id": "246b017b",
   "metadata": {},
   "source": [
    "El campo del análisis numérico es anterior a la invención de los ordenadores modernos en muchos siglos. La interpolación lineal ya se utilizaba hace más de 2000 años.\n",
    "\n",
    "![Tablilla de arcilla babilónica YBC 7289](./images/Tablilla_de_arcilla_babilónica.jpg)\n",
    "\n",
    "<center> Tablilla de arcilla babilónica YBC 7289 (c. 1800-1600 a. C.) </center>\n",
    "\n",
    "YBC 7289 es una tablilla de arcilla babilónica que se destaca por contener una aproximación sexagesimal precisa a la raíz cuadrada de 2, la longitud de la diagonal de un cuadrado de lado = 1, con seis dígitos decimales. La aproximación de la raíz cuadrada de 2 es con cuatro cifras sexagesimales, que son unas seis cifras decimales. 1 + 24/60 + 51/602 + 10/603 = 1,41421296..., \"la mayor precisión computacional conocida... en el mundo antiguo\". Se cree que la tablilla es obra de un estudiante del sur de Mesopotamia en algún momento entre 1800 y 1600 a."
   ]
  },
  {
   "cell_type": "markdown",
   "id": "1dea3df0",
   "metadata": {},
   "source": [
    "Muchos grandes matemáticos del pasado estaban preocupados por el análisis numérico como se desprende de los nombres de importantes algoritmos como el método de Newton, el polinomio de interpolación de Lagrange, el método de  eliminación de Gauss o el método de Euler. \n",
    "\n",
    "Los orígenes del análisis numérico moderno a menudo se relacionan con un artículo de 1947 de John von Neumann y Herman Goldstine, pero otros consideran que el análisis numérico moderno se remonta al trabajo de E. T. Whittaker en 1912."
   ]
  },
  {
   "cell_type": "markdown",
   "id": "d582a5dd",
   "metadata": {},
   "source": [
    "Entre otras cabe mencionar las siguientes aplicaciones del análisis numérico en la vida real:\n",
    "\n",
    "* Estimación de corrientes oceánicas\n",
    "\n",
    "* Modelado del flujo de combustión en una central eléctrica de carbón\n",
    "\n",
    "* Patrones de flujo de aire en el tracto respiratorio\n",
    "\n",
    "* Captación regional de materiales inhalados por las vías respiratorias\n",
    "\n",
    "* Transporte y eliminación de sustancias químicas a través del cuerpo.\n",
    "\n",
    "* Mecanismos moleculares y celulares de toxicidad.\n",
    "\n",
    "* Simulaciones de reentrada para el transbordador espacial\n",
    "\n",
    "* Control de trayectoria prescrito por trayectoria y problemas de control óptimo"
   ]
  },
  {
   "cell_type": "markdown",
   "id": "1d74b64f",
   "metadata": {},
   "source": [
    "Los métodos numéricos ofrecen soluciones aproximadas a problemas matemáticos donde: i) pueden no existir soluciones analíticas, ii) los datos disponibles no permiten el uso directo de los métodos analíticos existentes. Cuando los métodos analíticos existentes resultan lentos debido al gran tamaño de los datos o a la complejidad de las funciones involucradas se usan métodos numéricos, los cuales generalmente son técnicas iterativas que mediante  operaciones aritméticas simples generan soluciones numéricas aproximadas."
   ]
  },
  {
   "cell_type": "markdown",
   "id": "3203a458",
   "metadata": {},
   "source": [
    "Entre las áreas de estudio de análisis numérico podemos mencionar:\n",
    "\n",
    "* Cálculo de los valores de una función\n",
    "\n",
    "* Resolución de ecuaciones y sistemas de ecuaciones\n",
    "\n",
    "* Descomposición espectral y en valores singulares\n",
    "\n",
    "* Optimización\n",
    "\n",
    "* Evaluación de integrales\n",
    "\n",
    "* Resolución de ecuaciones diferenciales"
   ]
  },
  {
   "cell_type": "markdown",
   "id": "59389f51",
   "metadata": {},
   "source": [
    "\n",
    "\n",
    "Los lenguajes de programación como Fortran, Basic, Pascal y C han sido utilizados ampliamente por científicos e ingenieros, pero a menudo son difíciles de programar y depurar. El software moderno comúnmente disponible ha recorrido un largo camino para superar tales dificultades. Matlab, Maple, Mathematica y MathCAD, por ejemplo, son bastante más fáciles de usar, ya que muchas operaciones se han modularizado, de modo que el programador puede comprender mejor lo que está haciendo el programa en términos matemáticos más comprensibles. Los programas de hojas de cálculo también brindan a los ingenieros y científicos herramientas muy poderosas."
   ]
  },
  {
   "cell_type": "markdown",
   "id": "2d59eccf",
   "metadata": {},
   "source": [
    "**Bibliografía**\n",
    "\n",
    "* [Análisis numérico](https://es.wikipedia.org/wiki/An%C3%A1lisis_num%C3%A9rico)\n",
    "\n",
    "* [Numerical analysis](https://en.wikipedia.org/wiki/Numerical_analysis)\n",
    "\n",
    "* [What Is Numerical Analysis?](https://es.mathworks.com/discovery/numerical-analysis.html)\n",
    "\n",
    "* [Real-Life Applications of Mathematics](https://www2.unbc.ca/math-statistics/real-life-applications-mathematics#numerical-analysis)\n"
   ]
  },
  {
   "cell_type": "code",
   "execution_count": null,
   "id": "37efe889",
   "metadata": {},
   "outputs": [],
   "source": []
  }
 ],
 "metadata": {
  "kernelspec": {
   "display_name": "Python 3 (ipykernel)",
   "language": "python",
   "name": "python3"
  },
  "language_info": {
   "codemirror_mode": {
    "name": "ipython",
    "version": 3
   },
   "file_extension": ".py",
   "mimetype": "text/x-python",
   "name": "python",
   "nbconvert_exporter": "python",
   "pygments_lexer": "ipython3",
   "version": "3.10.8"
  }
 },
 "nbformat": 4,
 "nbformat_minor": 5
}
