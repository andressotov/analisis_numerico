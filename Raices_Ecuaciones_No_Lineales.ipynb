{
 "cells": [
  {
   "cell_type": "markdown",
   "id": "9ddee8aa",
   "metadata": {},
   "source": [
    "<center> <h1>Búsqueda de Raíces de Ecuaciones no Lineales</h1> </center>"
   ]
  },
  {
   "cell_type": "markdown",
   "id": "0005e982",
   "metadata": {},
   "source": [
    "Un algoritmo de búsqueda de raíces se utiliza para encontrar los ceros, también llamados \"raíces\", de funciones continuas. Un cero de una función $f$ es un número $x$ tal que $f(x) = 0$. \n",
    "\n",
    "Generalmente los ceros de una función no se pueden calcular de manera exacta, los algoritmos que buscan dichos ceros proporcionan una solución aproximada a estos valores expresadas como valores en punto flotante o a través de intervalos o regiones que contienen dichos valores. La amplitud del intervalo o región indica el grado de error en que se incurre al utilizar estos valores aproximados en lugar de la raíz correspondiente."
   ]
  },
  {
   "cell_type": "markdown",
   "id": "651bdfe8",
   "metadata": {},
   "source": [
    "Resolver una ecuación $f(x) = g(x)$ es lo mismo que encontrar las raíces de la función $h(x) = f(x) – g(x)$. De esta forma, los algoritmos de búsqueda de raíces permiten resolver cualquier ecuación definida por funciones continuas. Sin embargo, la mayoría de los algoritmos de búsqueda de raíces no garantizan que encuentren todas las raíces. Por ello, si el algoritmo no encuentra ninguna raíz, eso no significa que no exista ninguna raíz."
   ]
  },
  {
   "cell_type": "markdown",
   "id": "a929cb92",
   "metadata": {},
   "source": [
    "La mayoría de los métodos numéricos de búsqueda de raíces son iterativos, produciendo una secuencia de números que, con suerte, convergen hacia la raíz en el límite. Estos métodos asumen una o más hipótesis iniciales acerca de la raíz. Luego, cada iteración del algoritmo produce una aproximación más precisa a la raíz. Dado que la iteración debe detenerse en algún momento, estos métodos producen una aproximación a la raíz, no una solución exacta. Muchos de estos métodos calculan los valores subsiguientes evaluando una función auxiliar sobre los valores precedentes. El límite es, pues, un punto fijo de la función auxiliar, que se elige por tener las raíces de la ecuación original como puntos fijos y por converger rápidamente a estos puntos fijos.\n",
    "\n",
    "Un punto fijo, también conocido como punto invariante, es un valor que no cambia bajo una transformación dada. Específicamente, en matemáticas, un punto fijo de una función es un valor que la función asocia a sí mismo. Formalmente, $c$ es un punto fijo de una función $f$ si $c$ pertenece tanto al dominio como al codominio de $f$, y $f(c) = c$."
   ]
  },
  {
   "cell_type": "markdown",
   "id": "36f1e7e7",
   "metadata": {},
   "source": [
    "Por ejemplo, dado\n",
    "\n",
    "$${\\displaystyle f(x)=x^{2}-3x+4,}$$\n",
    "\n",
    "entonces $2$ es un punto fijo de $f$, ya que $f(2) = 2$.\n",
    "\n",
    "No todas las funciones tienen puntos fijos: por ejemplo, $f(x) = x + 1$, no tiene puntos fijos, ya que $x$ nunca es igual a $x + 1$."
   ]
  },
  {
   "cell_type": "markdown",
   "id": "b64fe765",
   "metadata": {},
   "source": [
    "<center> <h2>Métodos cerrados</h2> </center>\n",
    "\n",
    "Los métodos cerrados se basan en que la raíz está contenida en un intervalo cerrado y determinan intervalos cada vez más pequeños que contienen la raíz. El método se detiene cuando el intervalo es lo suficientemente pequeño, i.e., el error de aproximación a la raíz es suficientemente pequeño. \n",
    "\n",
    "Por lo general, estos métodos utilizan el teorema del valor intermedio, que afirma que si una función continua tiene valores de signos opuestos en los extremos de un intervalo, entonces la función tiene al menos una raíz en el intervalo. Por lo tanto, requieren comenzar con un intervalo tal que la función tome signos opuestos en los extremos del intervalo. \n",
    "\n",
    "En el caso de los polinomios existen otros métodos ([regla de los signos de Descartes](https://en.wikipedia.org/wiki/Descartes%27_rule_of_signs), [teorema de Budan](https://en.wikipedia.org/wiki/Budan%27s_theorem) y [teorema de Sturm](https://en.wikipedia.org/wiki/Sturm%27s_theorem)) para obtener información sobre el número de raíces en un intervalo, los cuáles brindan soluciones eficientes para aislar las raíces reales de polinomios, lo que asegura encontrarlas todas con una precisión garantizada.\n",
    "\n",
    "Entre los métodos cerrados cabe mencionar el de bisección y el de regula falsi o falsa posición."
   ]
  },
  {
   "cell_type": "markdown",
   "id": "08f38e12",
   "metadata": {},
   "source": [
    "<center> <h2>Métodos abiertos</h2> </center>\n",
    "\n",
    "Los Métodos abiertos se basan en fórmulas que requieren únicamente de un solo valor inicial o un par de ellos, los cuales no necesariamente tienen que formar un intervalo que contenga a la raíz. Aunque algunas veces se alejan de la raíz, cuando convergen, lo hacen de manera más rápida que los métodos cerrados.\n",
    "\n",
    "Entre los métodos abiertos podemos mencionar a los métodos de punto fijo, Newton-Raphson y secante.\n"
   ]
  },
  {
   "cell_type": "markdown",
   "id": "0326660d",
   "metadata": {},
   "source": [
    "<center> <h3>Bibliografía</h3> </center>\n",
    "\n",
    "* [Resolución numérica de ecuaciones no lineales](https://es.wikipedia.org/wiki/Resoluci%C3%B3n_num%C3%A9rica_de_ecuaciones_no_lineales)\n",
    "\n",
    "* [Root-finding algorithms](https://en.wikipedia.org/wiki/Root-finding_algorithms)\n",
    "\n",
    "* [Fixed point (mathematics)](https://en.wikipedia.org/wiki/Fixed_point_(mathematics))\n",
    "\n",
    "* [Raíces de Ecuaciones](https://academicos.azc.uam.mx/jfg/diapositivas/metodos/Unidad_2.pdf)\n"
   ]
  },
  {
   "cell_type": "code",
   "execution_count": null,
   "id": "cc539c87",
   "metadata": {},
   "outputs": [],
   "source": []
  }
 ],
 "metadata": {
  "kernelspec": {
   "display_name": "Python 3 (ipykernel)",
   "language": "python",
   "name": "python3"
  },
  "language_info": {
   "codemirror_mode": {
    "name": "ipython",
    "version": 3
   },
   "file_extension": ".py",
   "mimetype": "text/x-python",
   "name": "python",
   "nbconvert_exporter": "python",
   "pygments_lexer": "ipython3",
   "version": "3.10.8"
  }
 },
 "nbformat": 4,
 "nbformat_minor": 5
}
