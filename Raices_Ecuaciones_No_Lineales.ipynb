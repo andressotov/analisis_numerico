{
 "cells": [
  {
   "cell_type": "markdown",
   "id": "9ddee8aa",
   "metadata": {},
   "source": [
    "<center> <h1>Búsqueda de Raíces de Ecuaciones no Lineales</h1> </center>"
   ]
  },
  {
   "cell_type": "markdown",
   "id": "0005e982",
   "metadata": {},
   "source": [
    "Un algoritmo de búsqueda de raíces se utiliza para encontrar los ceros, también llamados \"raíces\", de funciones continuas. Un cero de una función $f$ es un número $x$ tal que $f(x) = 0$. \n",
    "\n",
    "Generalmente los ceros de una función no se pueden calcular de manera exacta, los algoritmos que buscan dichos ceros proporcionan una solución aproximada a estos valores expresadas como valores en punto flotante o a través de intervalos o regiones que contienen dichos valores. La amplitud del intervalo o región indica el grado de error en que se incurre al utilizar estos valores aproximados en lugar de la raíz correspondiente."
   ]
  },
  {
   "cell_type": "markdown",
   "id": "651bdfe8",
   "metadata": {},
   "source": [
    "Resolver una ecuación $f(x) = g(x)$ es lo mismo que encontrar las raíces de la función $h(x) = f(x) – g(x)$. De esta forma, los algoritmos de búsqueda de raíces permiten resolver cualquier ecuación definida por funciones continuas. Sin embargo, la mayoría de los algoritmos de búsqueda de raíces no garantizan que encuentren todas las raíces. Por ello, si el algoritmo no encuentra ninguna raíz, eso no significa que no exista ninguna raíz."
   ]
  },
  {
   "cell_type": "markdown",
   "id": "a929cb92",
   "metadata": {},
   "source": [
    "La mayoría de los métodos numéricos de búsqueda de raíces son iterativos, produciendo una secuencia de números que, con suerte, convergen hacia la raíz en el límite. Estos métodos asumen una o más hipótesis iniciales acerca de la raíz. Luego, cada iteración del algoritmo produce una aproximación más precisa a la raíz. Dado que la iteración debe detenerse en algún momento, estos métodos producen una aproximación a la raíz, no una solución exacta. Muchos de estos métodos calculan los valores subsiguientes evaluando una función auxiliar sobre los valores precedentes. "
   ]
  },
  {
   "cell_type": "markdown",
   "id": "b64fe765",
   "metadata": {},
   "source": [
    "<center> <h2>Métodos cerrados</h2> </center>\n",
    "\n",
    "Los métodos cerrados se basan en que la raíz está contenida en un intervalo cerrado y determinan intervalos cada vez más pequeños que contienen la raíz. El método se detiene cuando el intervalo es lo suficientemente pequeño, i.e., el error de aproximación a la raíz es suficientemente pequeño. \n",
    "\n",
    "Por lo general, estos métodos utilizan el teorema del valor intermedio, que afirma que si una función continua tiene valores de signos opuestos en los extremos de un intervalo, entonces la función tiene al menos una raíz en el intervalo. Por lo tanto, requieren comenzar con un intervalo tal que la función tome signos opuestos en los extremos del intervalo. \n",
    "\n",
    "En el caso de los polinomios existen otros métodos ([regla de los signos de Descartes](https://en.wikipedia.org/wiki/Descartes%27_rule_of_signs), [teorema de Budan](https://en.wikipedia.org/wiki/Budan%27s_theorem) y [teorema de Sturm](https://en.wikipedia.org/wiki/Sturm%27s_theorem)) para obtener información sobre el número de raíces en un intervalo, los cuáles brindan soluciones eficientes para aislar las raíces reales de polinomios, lo que asegura encontrarlas todas con una precisión garantizada.\n",
    "\n",
    "Entre los métodos cerrados cabe mencionar el de bisección y el de regula falsi o falsa posición."
   ]
  },
  {
   "cell_type": "markdown",
   "id": "08f38e12",
   "metadata": {},
   "source": [
    "<center> <h2>Métodos abiertos</h2> </center>\n",
    "\n",
    "Los Métodos abiertos se basan en fórmulas que requieren únicamente de un solo valor inicial o un par de ellos, los cuales no necesariamente tienen que formar un intervalo que contenga a la raíz. Aunque algunas veces se alejan de la raíz, cuando convergen, lo hacen de manera más rápida que los métodos cerrados.\n",
    "\n",
    "Entre los métodos abiertos podemos mencionar a los métodos de punto fijo, Newton-Raphson y secante.\n"
   ]
  },
  {
   "cell_type": "markdown",
   "id": "91f346ee",
   "metadata": {},
   "source": [
    "En análisis numérico, el orden de convergencia mide la velocidad con la cual una sucesión converge a su límite. Desde el punto de vista práctico, este concepto es muy importante para trabajar con métodos iterativos. \n",
    "\n",
    "Se dice que una sucesión $(x_{n})$ que converge a $x^{*}$ tiene orden de convergencia $q \\geq 1$ y tasa de convergencia $\\mu$ si\n",
    "\n",
    "$${\\displaystyle \\lim _{n\\rightarrow \\infty }{\\frac {\\left|x_{n+1}-x^{*}\\right|}{\\left|x_{n}-x^{*}\\right|^{q}}}=\\mu .}$$"
   ]
  },
  {
   "cell_type": "markdown",
   "id": "4e34fb62",
   "metadata": {},
   "source": [
    "La tasa de convergencia $\\mu$ también se denomina constante de error asintótico. Esta terminología no está estandarizada, por lo que el uso de uno u otro término depende del autor. Mientras mayor sea el orden de convergencia, se necesitarán menos iteraciones para obtener una aproximación útil."
   ]
  },
  {
   "cell_type": "markdown",
   "id": "a3d7c2e0",
   "metadata": {},
   "source": [
    "Cuando el orden de convergencia $q=1$ se habla de convergencia lineal si $\\mu \\in (0,1)$, y se dice que la secuencia converge linealmente a $x^*$. Si $q=2$ se considera convergencia cuadrática, $q=3$ convergencia cúbica, etc."
   ]
  },
  {
   "cell_type": "markdown",
   "id": "bb67e7a5",
   "metadata": {},
   "source": [
    "Un método práctico para calcular el orden de convergencia de una sucesión es calcular la siguiente sucesión, que converge a $q$:\n",
    "\n",
    "$${\\displaystyle q\\approx {\\frac {\\log \\left|{\\frac {x_{k+1}-x_{k}}{x_{k}-x_{k-1}}}\\right|}{\\log \\left|{\\frac {x_{k}-x_{k-1}}{x_{k-1}-x_{k-2}}}\\right|}}.}$$"
   ]
  },
  {
   "cell_type": "markdown",
   "id": "4bbe677e",
   "metadata": {},
   "source": [
    "Por ejemplo, dada la sucesión\n",
    "\n",
    "$${\\displaystyle (a_{k})=\\left\\{1,{\\frac {1}{2}},{\\frac {1}{4}},{\\frac {1}{8}},{\\frac {1}{16}},{\\frac {1}{32}},\\ldots ,{\\frac {1}{2^{k}}},...\\right\\}.}$$"
   ]
  },
  {
   "cell_type": "markdown",
   "id": "1bec6c84",
   "metadata": {},
   "source": [
    "Se puede demostrar que esta secuencia converge a $x^* = 0$. Para determinar el tipo de convergencia, reemplazamos la secuencia en la definición de convergencia Q-lineal,\n",
    "\n",
    "$$ {\\displaystyle \\lim _{k\\to \\infty }{\\frac {\\left|1/2^{k+1}-0\\right|}{\\left|1/2^{k}-0\\right|}}=\\lim _{k\\to \\infty }{\\frac {2^{k}}{2^{k+1}}}={\\frac {1}{2}}.}$$"
   ]
  },
  {
   "cell_type": "markdown",
   "id": "ab96ddaf",
   "metadata": {},
   "source": [
    "Por lo que, $(a_{k})$ converge linealmente y tiene una tasa de convergencia $\\mu =1/2$."
   ]
  },
  {
   "cell_type": "markdown",
   "id": "0326660d",
   "metadata": {},
   "source": [
    "<center> <h3>Bibliografía</h3> </center>\n",
    "\n",
    "* [Resolución numérica de ecuaciones no lineales](https://es.wikipedia.org/wiki/Resoluci%C3%B3n_num%C3%A9rica_de_ecuaciones_no_lineales)\n",
    "\n",
    "* [Root-finding algorithms](https://en.wikipedia.org/wiki/Root-finding_algorithms)\n",
    "\n",
    "* [Fixed point (mathematics)](https://en.wikipedia.org/wiki/Fixed_point_(mathematics))\n",
    "\n",
    "* [Raíces de Ecuaciones](https://academicos.azc.uam.mx/jfg/diapositivas/metodos/Unidad_2.pdf)\n",
    "\n",
    "* [Rate of convergence](https://en.wikipedia.org/wiki/Rate_of_convergence)\n"
   ]
  }
 ],
 "metadata": {
  "kernelspec": {
   "display_name": "Python 3 (ipykernel)",
   "language": "python",
   "name": "python3"
  },
  "language_info": {
   "codemirror_mode": {
    "name": "ipython",
    "version": 3
   },
   "file_extension": ".py",
   "mimetype": "text/x-python",
   "name": "python",
   "nbconvert_exporter": "python",
   "pygments_lexer": "ipython3",
   "version": "3.10.8"
  }
 },
 "nbformat": 4,
 "nbformat_minor": 5
}
