{
 "cells": [
  {
   "cell_type": "markdown",
   "id": "6ec6b1b8",
   "metadata": {},
   "source": [
    "<center> <h1>Método de Regula Falsi o Falsa Posición</h1> </center>"
   ]
  },
  {
   "cell_type": "markdown",
   "id": "9e2f7110",
   "metadata": {},
   "source": [
    "El método de falsa posición parte de dos puntos que rodean a la raíz $f(x) = 0$, es decir, un intervalo inicial $[a_0,b_0]$ con $f(a_0)$ y $f(b_0)$ de signos opuestos, lo que garantiza que en su interior hay al menos una raíz. \n",
    "\n",
    "El algoritmo va obteniendo sucesivamente en cada paso un intervalo más pequeño $[a_k, b_k]$ que sigue incluyendo una raíz de la función $f$. A partir de un intervalo $[a_k, b_k]$ se calcula un punto interior $c_k$ tal que:\n",
    "\n",
    "$${\\displaystyle c_{k}={\\frac {f(b_{k})a_{k}-f(a_{k})b_{k}}{f(b_{k})-f(a_{k})}}}$$"
   ]
  },
  {
   "cell_type": "markdown",
   "id": "5f2cef91",
   "metadata": {},
   "source": [
    "Dicho punto es la intersección de la recta que pasa por $(a_k,f(a_k))$ y $(b_k,f(b_k))$ con el eje de abscisas.\n",
    "\n",
    "Se evalúa entonces $f(c_k)$. Si es suficientemente pequeño, $c_k$ es la raíz buscada. Si no, el próximo intervalo $[a_{k+1}, b_{k+1}]$ será:\n",
    "\n",
    "* $[a_k, c_k]$ si $f(a_k)$ y $f(c_k)$ tienen signos opuestos;\n",
    "\n",
    "* $[c_k, b_k]$ en caso contrario."
   ]
  },
  {
   "cell_type": "markdown",
   "id": "13cccaba",
   "metadata": {},
   "source": [
    "A continuación se muestra un gráfico con las primeras dos iteraciones de regula falsi. La curva roja muestra la función $f$; las líneas azules, las secantes.\n",
    "\n",
    "![Falsa posicion](./images/falsa_posicion1.jpg \"Falsa posicion\")"
   ]
  },
  {
   "cell_type": "markdown",
   "id": "8a5eb898",
   "metadata": {},
   "source": [
    "La elección del intervalo utilizando dicha fórmula representa una mejora con respecto al método de bisección, ya que no se limita a partir el intervalo por la mitad, con lo que mejora notablemente la elección del intervalo. Por otra parte, inhibe la posibilidad de una divergencia del método, lo cual representa una ventaja respecto al método de la secante. \n",
    "\n",
    "Se puede demostrar que bajo ciertas condiciones el método de falsa posición tiene orden de convergencia lineal, por lo que suele converger más lentamente a la solución de la ecuación que el método de la secante, aunque el método de falsa posición siempre converge a una solución de la ecuación."
   ]
  },
  {
   "cell_type": "markdown",
   "id": "5d8affb6",
   "metadata": {},
   "source": [
    "A continuación presentamos un programa en Python para hallar una raíz de la función \n",
    "\n",
    "$$f(x) = \\frac{667.38}{x}(1 - e^{-0.146843.x})-40$$\n",
    "\n",
    "donde $x_{low} = 12, x_{high} = 16$ y el criterio de parada es $e_a=0.01%$"
   ]
  },
  {
   "cell_type": "code",
   "execution_count": 1,
   "id": "104fba35",
   "metadata": {},
   "outputs": [
    {
     "name": "stdout",
     "output_type": "stream",
     "text": [
      "Iteration \t x_low \t x_high \t true_error \t relative_error\n",
      "\t 0 \t 12.0 \t 14.91131 \t 0.8543 \t nan\n",
      "\t 1 \t 12.0 \t 14.7942 \t 0.06221 \t 0.7916\n",
      "\t 2 \t 12.0 \t 14.7817 \t 0.02232 \t 0.08455\n",
      "\t 3 \t 12.0 \t 14.78037 \t 0.03133 \t 0.00902\n",
      "\n",
      "x = 14.78036760579795 whit relative_error = (+/-) 0.01 %\n"
     ]
    },
    {
     "data": {
      "image/png": "[encoded data removed]",
      "text/plain": [
       "<Figure size 432x288 with 1 Axes>"
      ]
     },
     "metadata": {
      "needs_background": "light"
     },
     "output_type": "display_data"
    }
   ],
   "source": [
    "%matplotlib inline\n",
    "\n",
    "import matplotlib.pyplot as plt\n",
    "import numpy as np\n",
    "import math\n",
    "\n",
    "def equation(x):\n",
    "    return 667.38/x*(1-math.pow(np.e, -0.146843*x))-40\n",
    "\n",
    "x_low = 12.0\n",
    "x_high = 16.0\n",
    "error_a = 0.01\n",
    "analytical_result = 14.785\n",
    "\n",
    "iterations = 0\n",
    "error_a_iterations = math.nan\n",
    "x_c_previous = 0\n",
    "\n",
    "plt.plot(x_high,equation(x_high),'mo')\n",
    "plt.plot(x_low,equation(x_low),'mo')\n",
    "print(\"Iteration \\t x_low \\t x_high \\t true_error \\t relative_error\")\n",
    "while((error_a_iterations > error_a) or (math.isnan(error_a_iterations))):\n",
    "    x_c_current = x_high - ((equation(x_high)*(x_low - x_high))/(equation(x_low) - equation(x_high)))\n",
    "    f_x_low = equation(x_low)\n",
    "    f_x_c = equation(x_c_current)\n",
    "    plt.plot(x_c_current,f_x_c,'mo')\n",
    "    if (f_x_low*f_x_c < 0):\n",
    "        x_high = x_c_current\n",
    "    else:\n",
    "        x_low = x_c_current\n",
    "    error_true = np.abs((analytical_result - x_c_current)/analytical_result)*100\n",
    "    if (iterations > 0):\n",
    "        error_a_iterations = np.abs((x_c_current - x_c_previous)/x_c_current)*100\n",
    "    print(\"\\t\", iterations, \"\\t\", round(x_low, 5), \"\\t\", round(x_high, 5), \\\n",
    "          \"\\t\", round(error_true, 5), \"\\t\", round(error_a_iterations, 5))\n",
    "    x_c_previous = x_c_current\n",
    "    iterations += 1\n",
    "\n",
    "print(\"\\nx =\", x_c_current, \"whit relative_error = (+/-)\", error_a, \"%\")\n",
    "\n",
    "#*************************************************************************\n",
    "x = np.linspace(12, 16, num = 100)\n",
    "f_x = []\n",
    "\n",
    "for i in range(len(x)):\n",
    "    f_x.append(667.38/x[i]*(1-math.pow(np.e, -0.146843*x[i]))-40)\n",
    "\n",
    "plt.plot(x, f_x)\n",
    "plt.scatter(x_c_current, 0, color = 'r')\n",
    "plt.grid()\n",
    "plt.axvline(12, color = 'r')\n",
    "plt.axvline(16, color = 'r')\n",
    "plt.axhline(color = 'k')\n",
    "plt.show()"
   ]
  },
  {
   "cell_type": "markdown",
   "id": "f59f499a",
   "metadata": {},
   "source": [
    "<center> <h3>Bibliografía</h3> </center>\n",
    "\n",
    "* [Método de la regla falsa](https://es.wikipedia.org/wiki/M%C3%A9todo_de_la_regla_falsa)\n",
    "\n",
    "* [Regula falsi](https://en.wikipedia.org/wiki/Regula_falsi#The_regula_falsi_(false_position)_method)\n",
    "\n",
    "* [Método_falsa_posición](https://github.com/ASantosMorales/Numerical_Analysis/blob/master/M%C3%A9todo_falsa_posici%C3%B3n.ipynb)\n"
   ]
  },
  {
   "cell_type": "code",
   "execution_count": null,
   "id": "a74bd947",
   "metadata": {},
   "outputs": [],
   "source": []
  }
 ],
 "metadata": {
  "kernelspec": {
   "display_name": "Python 3 (ipykernel)",
   "language": "python",
   "name": "python3"
  },
  "language_info": {
   "codemirror_mode": {
    "name": "ipython",
    "version": 3
   },
   "file_extension": ".py",
   "mimetype": "text/x-python",
   "name": "python",
   "nbconvert_exporter": "python",
   "pygments_lexer": "ipython3",
   "version": "3.10.8"
  }
 },
 "nbformat": 4,
 "nbformat_minor": 5
}
