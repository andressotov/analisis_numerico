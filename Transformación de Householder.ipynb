{
 "cells": [
  {
   "cell_type": "markdown",
   "id": "a68d0fef",
   "metadata": {},
   "source": [
    "# Transformación de Householder #\n",
    "\n",
    "En álgebra lineal, una transformación de Householder (también conocida como reflexión de Householder) es una transformación lineal que describe una reflexión sobre un plano o hiperplano que contiene el origen.\n",
    "\n",
    "Viene definida por una matriz $H$ de dimensión ($N x N$) tal que para cualquier vector $x$ de dimensión $N$ se cumple que $y=Hx$ es la reflexión de $x$ respecto a un plano $\\mathbf {\\pi } $."
   ]
  },
  {
   "cell_type": "markdown",
   "id": "d47a5592",
   "metadata": {},
   "source": [
    "Las matrices de Householder son ortogonales y simétricas. Como consecuencia son iguales a su propia inversa.\n",
    "\n",
    "$$ H H = I$$\n",
    "\n",
    "$$ H H x=x$$\n"
   ]
  },
  {
   "cell_type": "markdown",
   "id": "9ba1b922",
   "metadata": {},
   "source": [
    "Esta propiedad es fácil de comprender si consideramos que el reflejo del reflejo es el espacio original aplicando el sentido geométrico de la transformación. \n",
    "\n",
    "El cálculo de la matriz $H$ asociada a un plano de reflexión $\\mathbf {\\pi } $ se hace a partir del vector $v$ normal al plano según:\n",
    "\n",
    "$$ H=I-\\frac{2vv^T}{v^Tv} $$"
   ]
  },
  {
   "cell_type": "markdown",
   "id": "0c52e2ad",
   "metadata": {},
   "source": [
    "Se puede comprobar que multiplicar un vector $x$ por la expresión anterior equivale a restarle el doble de su proyección sobre el vector $v$ de donde resulta la reflexión."
   ]
  },
  {
   "cell_type": "markdown",
   "id": "a5bae2ac",
   "metadata": {},
   "source": [
    "Las matrices de transformación de Householder al ser iguales a su propia inversa ahorran numerosos cálculos por no tener que invertirlas. Por otra parte, el ser ortogonales las hace muy convenientes para el cálculo de matrices semejantes. Por último, al tener un único autovalor (de multiplicidad $N$) hace que tengan buena estabilidad numérica.\n",
    "\n",
    "Estas propiedades hacen que la transformación de Householder sea una de las herramientas más sencillas y utilizadas en la descomposición $QR$ de una matriz de gran uso e importancia en el cálculo de autovalores."
   ]
  },
  {
   "cell_type": "markdown",
   "id": "48361aa3",
   "metadata": {},
   "source": [
    "## Transformación mediante el uso de reflexiones de Householder ##\n",
    "\n",
    "La manera de elegir el plano de reflexión y formar la matriz de Householder asociada es el siguiente:\n",
    "\n",
    "Sea $x$ un vector columna de dimensión $m$ tal que $||x|| = |\\alpha|$, donde $\\alpha$ es un escalar. Si el algoritmo se implementa utilizando aritmética de punto flotante, entonces $\\alpha$ debe tener el signo opuesto de la coordenada $k$-ésima de $x$, donde $x_k$ es la coordenada pivote después de la cual todas las entradas son 0 en la forma triangular superior final de la matriz $A$, para evitar la pérdida de precisión. "
   ]
  },
  {
   "cell_type": "markdown",
   "id": "2cdee0eb",
   "metadata": {},
   "source": [
    "Entonces, siendo $e_1$ el vector $(1,0,...,0)^T$, y $||·||$ la norma euclídeana, se define:\n",
    "\n",
    "$$ u = x-\\alpha e_1, $$\n",
    "\n",
    "$$ v = \\frac {u} {||u||}, $$\n",
    "\n",
    "$$ Q=I-2vv^T $$\n",
    "\n",
    "donde $v$ es un vector unitario perpendicular al plano de reflexión elegido y $Q$ es una matriz de Householder asociada a dicho plano.\n",
    "\n",
    "$$ Qx=(\\alpha ,0,\\cdots ,0)^{T}.$$"
   ]
  },
  {
   "cell_type": "markdown",
   "id": "3fa82072",
   "metadata": {},
   "source": [
    "Esta propiedad se puede usar para transformar gradualmente los vectores columna de una matriz $A$ de dimensión $m \\times n$ en una matriz triangular superior. En primer lugar se multiplica $A$ con la matriz de Householder $Q_1$ que obtenemos al elegir como vector $x$ la primera columna de la matriz. Esto proporciona una matriz $QA$ con ceros en la primera columna (excepto el elemento de la primera fila)."
   ]
  },
  {
   "cell_type": "markdown",
   "id": "643dbae0",
   "metadata": {},
   "source": [
    "$$ Q_1 A = \\left[\\begin{array}{cc}\n",
    "\\alpha_1 & \\star & \\dots & \\star\\\\\n",
    "0 & & & \\\\ \\vdots & & A' & \\\\ 0 & & & \n",
    "\\end{array}\\right]\n",
    "$$"
   ]
  },
  {
   "cell_type": "markdown",
   "id": "aee03c07",
   "metadata": {},
   "source": [
    "El procedimiento se puede repetir para $A′$ (que se obtiene de $A$ eliminando la primera fila y columna), obteniendo así una matriz de Householder $Q′_2$. Hay que tener en cuenta que $Q′_2$ es menor que $Q_1$."
   ]
  },
  {
   "cell_type": "markdown",
   "id": "bf9b02b3",
   "metadata": {},
   "source": [
    "Tras repetir el proceso $t$ veces, donde $t=\\min(m-1,n)$, se obtiene una matriz triangular superior\n",
    "\n",
    "$$ R=Q_{t}\\cdots Q_{2}Q_{1}A $$\n",
    "\n",
    "De forma que tomando\n",
    "\n",
    "$$ Q=Q_{1}Q_{2}\\cdots Q_{t} $$\n",
    "\n",
    "$ A=Q^{T}R $ es una descomposición $QR$ de la matriz $A$."
   ]
  },
  {
   "cell_type": "markdown",
   "id": "94520afd",
   "metadata": {},
   "source": [
    "## Bibliografía ##\n",
    "\n",
    "* [Transformación de Householder](https://es.wikipedia.org/wiki/Transformaci%C3%B3n_de_Householder)\n",
    "* [Householder transformation](https://en.wikipedia.org/wiki/Householder_transformation)\n",
    "* [CAPITULO XX. LOS METODOS DE TRANSFORMACION ORTOGONAL](https://ocw.ehu.eus/file.php/81/capitulo-20.pd)\n",
    "* [Clase 14: Triangularización de Householder](https://www.inf.utfsm.cl/~parce/cc1/clase14-RP.html)"
   ]
  },
  {
   "cell_type": "code",
   "execution_count": null,
   "id": "9bfa2c9e",
   "metadata": {},
   "outputs": [],
   "source": []
  }
 ],
 "metadata": {
  "kernelspec": {
   "display_name": "Python 3 (ipykernel)",
   "language": "python",
   "name": "python3"
  },
  "language_info": {
   "codemirror_mode": {
    "name": "ipython",
    "version": 3
   },
   "file_extension": ".py",
   "mimetype": "text/x-python",
   "name": "python",
   "nbconvert_exporter": "python",
   "pygments_lexer": "ipython3",
   "version": "3.10.8"
  }
 },
 "nbformat": 4,
 "nbformat_minor": 5
}
