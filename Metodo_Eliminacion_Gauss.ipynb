{
 "cells": [
  {
   "cell_type": "markdown",
   "id": "560bb7b2",
   "metadata": {},
   "source": [
    "<center> <h1>Método de Eliminación de Gauss</h1> </center>\n",
    "\n",
    "El método de eliminación de Gauss es un algoritmo que se usa para determinar la inversa de una matriz y las soluciones de un sistema de ecuaciones lineales. Un sistema de ecuaciones se resuelve por el método de Gauss cuando se obtienen sus soluciones mediante la reducción del sistema dado a otro equivalente en el que cada ecuación tiene una incógnita menos que la anterior. El método de Gauss transforma la matriz de coeficientes en una matriz triangular superior. El método de Gauss-Jordan continúa el proceso de transformación hasta obtener una matriz diagonal, llamado así en honor de [Carl Friedrich Gauss](https://es.wikipedia.org/wiki/Carl_Friedrich_Gauss) y [Wilhelm Jordan](https://es.wikipedia.org/wiki/Wilhelm_Jordan).   "
   ]
  },
  {
   "cell_type": "markdown",
   "id": "520e5b21",
   "metadata": {},
   "source": [
    "Para realizar la reducción de la matriz, se utiliza una secuencia de operaciones elementales por fila para modificar la matriz hasta que la esquina inferior izquierda de la matriz se llene de ceros, tanto como sea posible. Hay tres tipos de operaciones elementales por fila:\n",
    "\n",
    "* Intercambiar dos filas,\n",
    "\n",
    "* Multiplicar una fila por un número distinto de cero,\n",
    "\n",
    "* Sumar un múltiplo de una fila a otra fila. (La resta puede realizarse multiplicando una fila por -1 y sumando el resultado a otra fila).\n",
    "\n",
    "Utilizando estas operaciones, una matriz siempre se puede transformar en una matriz triangular superior. Una vez que todos los coeficientes principales (la entrada más a la izquierda distinta de cero en cada fila) son 1, y cada columna que contiene un coeficiente principal tiene ceros en otros lugares, se dice que la matriz está en forma escalonada reducida. Esta forma final es única; en otras palabras, es independiente de la secuencia de operaciones de fila utilizadas."
   ]
  },
  {
   "cell_type": "markdown",
   "id": "3bcfa2b9",
   "metadata": {},
   "source": [
    "Ejemplo:\n",
    "\n",
    "$$ {\\displaystyle {\\begin{bmatrix}1&3&1&9\\\\1&1&-1&1\\\\3&11&5&35\\end{bmatrix}}\\to {\\begin{bmatrix}1&3&1&9\\\\0&-2&-2&-8\\\\0&2&2&8\\end{bmatrix}}\\to }$$\n",
    "\n",
    "$$ {\\displaystyle {\\begin{bmatrix}1&3&1&9\\\\0&-2&-2&-8\\\\0&0&0&0\\end{bmatrix}}\\to {\\begin{bmatrix}1&0&-2&-3\\\\0&1&1&4\\\\0&0&0&0\\end{bmatrix}}}$$\n"
   ]
  },
  {
   "cell_type": "markdown",
   "id": "d9a5bacb",
   "metadata": {},
   "source": [
    "El uso de operaciones por fila para convertir una matriz en forma escalonada reducida se denomina a veces eliminación de Gauss-Jordan. En este caso, el término eliminación de Gauss se refiere al proceso hasta que se ha alcanzado la forma triangular superior, o forma escalonada (no reducida). Por razones computacionales, cuando se resuelven sistemas de ecuaciones lineales, a veces es preferible detener las operaciones antes de que la matriz esté completamente reducida."
   ]
  },
  {
   "cell_type": "markdown",
   "id": "99d9803e",
   "metadata": {},
   "source": [
    "**Algoritmo de eliminación de Gauss**\n",
    "\n",
    "&ensp; for $i = 0, ... , N-1 $\n",
    "\n",
    "&ensp; &ensp; if  $ A[i][i] == 0$, continue\n",
    "\n",
    "&ensp; &ensp; for $ j=i, ... , N $\n",
    "\n",
    "&ensp; &ensp; &ensp; $ratio = A[j][i]/A[i][i];$\n",
    "\n",
    "&ensp; &ensp; &ensp; for $k = i, ... ,N$\n",
    "\n",
    "&ensp; &ensp; &ensp; &ensp; $ A[j][k] -= (ratio*A[i][k])$\n",
    "\n",
    "&ensp; &ensp; &ensp; &ensp; $ b[j] -= (ratio*b[i])$\n"
   ]
  },
  {
   "cell_type": "markdown",
   "id": "ac0dc2b4",
   "metadata": {},
   "source": [
    "Ejemplo: Supongamos que se desea encontrar los números $x, y, z$ que satisfacen simultáneamente las siguientes ecuaciones:\n",
    "\n",
    "$${\\displaystyle \\left\\{{\\begin{array}{rrrcr}2x&+y&-z&=&8\\\\-3x&-y&+2z&=&-11\\\\-2x&+y&+2z&=&-3\\\\\\end{array}}\\right.}$$"
   ]
  },
  {
   "cell_type": "markdown",
   "id": "5f6cb2ce",
   "metadata": {},
   "source": [
    "Podemos eliminar $x$ de la segunda ecuación multiplicando 3/2 por la primera ecuación y sumando el resultado a la segunda. Después sumamos la primera ecuación a la tercera. El resultado es:\n",
    "\n",
    "\n",
    "$${\\displaystyle \\left\\{{\\begin{array}{rrrcr}2x&+y&-z&=&8\\\\&{\\frac {1}{2}}y&+{\\frac {1}{2}}z&=&1\\\\&2y&+z&=&5\\end{array}}\\right.}$$"
   ]
  },
  {
   "cell_type": "markdown",
   "id": "f1023d8a",
   "metadata": {},
   "source": [
    "A continuación, eliminamos $y$ de la primera ecuación sumando la segunda ecuación multiplicada por 2 a la primera, y sumamos la segunda ecuación multiplicada por -4 a la tercera para eliminar $y$.\n",
    "\n",
    "$${\\displaystyle \\left\\{{\\begin{array}{rrrcr}2x&&-2z&=&6\\\\&{\\frac {1}{2}}y&+{\\frac {1}{2}}z&=&1\\\\&&-z&=&1\\end{array}}\\right.}$$"
   ]
  },
  {
   "cell_type": "markdown",
   "id": "bf6aed4a",
   "metadata": {},
   "source": [
    "Se denominan **métodos directos** de resolución de Sistemas de Ecuaciones Lineales, a aquellos que permiten transformar al sistema original en otro de aspecto triangular (Método de Gauss), o diagonal (Método de Gauss - Jordan) en un número finito de operaciones elementales, obtienendo así la solución exacta. "
   ]
  },
  {
   "cell_type": "markdown",
   "id": "d78899b0",
   "metadata": {},
   "source": [
    "<center> <h3>Bibliografía</h3> </center>\n",
    "\n",
    "* [Eliminación de Gauss-Jordan](https://es.wikipedia.org/wiki/Eliminaci%C3%B3n_de_Gauss-Jordan)\n",
    "\n",
    "* [Linear Algebra: Gaussian Elimination](https://people.cs.rutgers.edu/~venugopa/parallel_summer2012/ge.html#:~:text=CUDA%20Implementation-,Algorithm,%2C%20back%2Dsubstitution%20is%20applied.)\n",
    "\n",
    "* [Eliminación gaussiana básica](https://www.uv.es/diaz/mn/node29.html)\n",
    "\n",
    "* [Resolución de Sistemas de\n",
    "Ecuaciones Lineales](https://www.ugr.es/~mpasadas/ftp/Tema3_apuntes.pdf)\n",
    "\n",
    "* [Direct Methods for Solving Linear Systems of Equations](https://johnfoster.pge.utexas.edu/numerical-methods-book/LinearAlgebra_DirectSolvers.html)"
   ]
  },
  {
   "cell_type": "code",
   "execution_count": null,
   "id": "e7624745",
   "metadata": {},
   "outputs": [],
   "source": []
  }
 ],
 "metadata": {
  "kernelspec": {
   "display_name": "Python 3 (ipykernel)",
   "language": "python",
   "name": "python3"
  },
  "language_info": {
   "codemirror_mode": {
    "name": "ipython",
    "version": 3
   },
   "file_extension": ".py",
   "mimetype": "text/x-python",
   "name": "python",
   "nbconvert_exporter": "python",
   "pygments_lexer": "ipython3",
   "version": "3.10.8"
  }
 },
 "nbformat": 4,
 "nbformat_minor": 5
}
